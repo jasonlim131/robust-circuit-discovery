{
 "cells": [
  {
   "cell_type": "code",
   "execution_count": 1,
   "id": "14f701b8",
   "metadata": {},
   "outputs": [],
   "source": [
    "from utils.train_utils import *\n",
    "from logic_data.utils import *\n",
    "\n",
    "import seaborn as sns\n",
    "from matplotlib import pyplot as plt"
   ]
  },
  {
   "cell_type": "code",
   "execution_count": 2,
   "id": "152e2630",
   "metadata": {},
   "outputs": [
    {
     "name": "stdout",
     "output_type": "stream",
     "text": [
      "Using in a notebook env.\n"
     ]
    },
    {
     "name": "stderr",
     "output_type": "stream",
     "text": [
      "usage: The testing components of [-h] [--gpu GPU]\n",
      "                                 [--train_batch_size TRAIN_BATCH_SIZE]\n",
      "                                 [--eval_batch_size EVAL_BATCH_SIZE] [--lr LR]\n",
      "                                 --data_path DATA_PATH --train_data_path\n",
      "                                 TRAIN_DATA_PATH --test_data_path\n",
      "                                 TEST_DATA_PATH\n",
      "                                 [--encoder_config_path ENCODER_CONFIG_PATH]\n",
      "                                 [--decoder_config_path DECODER_CONFIG_PATH]\n",
      "                                 [--max_seq_len MAX_SEQ_LEN] [--seed SEED]\n",
      "                                 [--gradient_accumulation_steps GRADIENT_ACCUMULATION_STEPS]\n",
      "                                 --output_dir OUTPUT_DIR\n",
      "                                 [--local_rank LOCAL_RANK] [--epochs EPOCHS]\n",
      "                                 [--model_path MODEL_PATH] [--warm_up WARM_UP]\n",
      "                                 [--is_wandb] [--log_step LOG_STEP]\n",
      "                                 [--valid_steps VALID_STEPS]\n",
      "                                 [--early_stopping EARLY_STOPPING]\n",
      "                                 [--device DEVICE] [--do_prealign_eval]\n",
      "                                 [--do_align] [--do_eval] [--do_test]\n",
      "                                 [--n_training_program N_TRAINING_PROGRAM]\n",
      "                                 [--n_fewshot N_FEWSHOT]\n",
      "                                 [--aligning_layer_n ALIGNING_LAYER_N]\n",
      "The testing components of: error: the following arguments are required: --data_path, --train_data_path, --test_data_path, --output_dir\n"
     ]
    }
   ],
   "source": [
    "if __name__ == '__main__':\n",
    "    is_notebook = False\n",
    "    try:\n",
    "        cmd = argparse.ArgumentParser('The testing components of')\n",
    "        cmd.add_argument('--gpu', default=-1, type=int, help='use id of gpu, -1 if cpu.')\n",
    "        cmd.add_argument('--train_batch_size', default=128, type=int, help='training batch size')\n",
    "        cmd.add_argument('--eval_batch_size', default=128, type=int, help='training batch size')\n",
    "        cmd.add_argument('--lr', default=0.01, type=float, help='learning rate')\n",
    "        cmd.add_argument('--data_path', required=True, type=str, help='path to the training corpus')\n",
    "        cmd.add_argument('--train_data_path', required=True, type=str, help='path to the training corpus')\n",
    "        cmd.add_argument('--test_data_path', required=True, type=str, help='path to the training corpus')\n",
    "        cmd.add_argument(\n",
    "            '--encoder_config_path', \n",
    "            type=str, help='path to the encoder config'\n",
    "        )\n",
    "        cmd.add_argument(\n",
    "            '--decoder_config_path', \n",
    "            type=str, help='path to the decoder config'\n",
    "        )\n",
    "        cmd.add_argument('--max_seq_len', default=512, type=int)\n",
    "        cmd.add_argument('--seed', default=42, type=int)\n",
    "        cmd.add_argument('--gradient_accumulation_steps', default=1, type=int)\n",
    "        cmd.add_argument('--output_dir', required=True, type=str, help='save dir')\n",
    "        cmd.add_argument('--local_rank', default=-1, type=int, help='multi gpu training')\n",
    "        cmd.add_argument('--epochs', default=10, type=int, help='training epochs')\n",
    "        cmd.add_argument('--model_path', type=str, required=False, default=None)\n",
    "        cmd.add_argument('--warm_up', type=float, default=0.1)\n",
    "        cmd.add_argument('--is_wandb', default=False, action='store_true')\n",
    "        cmd.add_argument('--log_step', default=10, type=int)\n",
    "        cmd.add_argument('--valid_steps', default=500, type=int)\n",
    "        cmd.add_argument('--early_stopping', default=5, type=int)\n",
    "        cmd.add_argument('--device', default=\"cuda\", type=str, help='')\n",
    "        cmd.add_argument('--do_prealign_eval', default=False, action='store_true')\n",
    "        cmd.add_argument('--do_align', default=False, action='store_true')\n",
    "        cmd.add_argument('--do_eval', default=False, action='store_true')\n",
    "        cmd.add_argument('--do_test', default=False, action='store_true')\n",
    "        \n",
    "        cmd.add_argument('--n_training_program', default=5, type=int)\n",
    "        cmd.add_argument('--n_fewshot', default=6, type=int)\n",
    "        cmd.add_argument('--aligning_layer_n', default=0, type=int)\n",
    "        \n",
    "        args = cmd.parse_args(sys.argv[1:])\n",
    "    except:\n",
    "        is_notebook = True\n",
    "        parser = argparse.ArgumentParser()\n",
    "        args = parser.parse_args([])\n",
    "        args.gpu = 1\n",
    "        args.eval_batch_size = 64\n",
    "        args.gradient_accumulation_steps = 2\n",
    "        args.data_path = \"./logic_data\"\n",
    "        args.encoder_config_path = None\n",
    "        args.decoder_config_path = None\n",
    "        args.max_seq_len = 512\n",
    "        args.output_dir = \"./results_notebook/\"\n",
    "        args.epochs = 10\n",
    "        args.warm_up = 0.1\n",
    "        args.is_wandb = False\n",
    "        args.log_step = 10\n",
    "        args.valid_steps = 100 # -1 not do training eval!\n",
    "        args.early_stopping = 999 # large == never early stop!\n",
    "        args.device = \"cuda:0\"\n",
    "        args.do_prealign_eval = True # do it once at least!\n",
    "        args.do_align = True\n",
    "        args.do_eval = True\n",
    "        args.do_test = True\n",
    "        # args.model_path = None\n",
    "        \n",
    "        # alignment search setting\n",
    "        args.aligning_layer_n = 0\n",
    "        args.aligning_basis_n = 600\n",
    "        args.aligning_var_n = 1\n",
    "        \n",
    "        print(\"Using in a notebook env.\")"
   ]
  },
  {
   "cell_type": "code",
   "execution_count": 3,
   "id": "63352cfc",
   "metadata": {},
   "outputs": [],
   "source": [
    "results = []"
   ]
  },
  {
   "cell_type": "code",
   "execution_count": 5,
   "id": "cb6ce5f1",
   "metadata": {},
   "outputs": [
    {
     "name": "stdout",
     "output_type": "stream",
     "text": [
      "unrolling for clauses:  ( c != a ) or ( a == b )\n",
      "seed:  66\n",
      "current n_shot:  1\n"
     ]
    },
    {
     "name": "stderr",
     "output_type": "stream",
     "text": [
      "100%|████████████████████████████████████████████████████████████████████████████████████████████████████████████████████████████████████████████████████████████████████████| 1000/1000 [00:00<00:00, 20587.46it/s]\n",
      "INFO:root:intervention_config = {0: [[0, 600]]}\n",
      "INFO:root:alignment_config = {'layer': 0, 'token_range': [8, 12]}\n",
      "INFO:root:Loading pretrained model.\n",
      "INFO:root:__Number CUDA Devices: 1\n",
      "INFO:root:Number of logic_pipeline.model.gpt2.n_rule.9.n_shot.10.seed.66.clauses.(c!=a)or(a==b).align.left_aligment.seed.66/model-last model params: 0\n",
      "Iteration: 100%|██████████████████████████████████████████████████████████████████████████████████████████████████████████████████████████████████████████████████████████| 16/16 [00:01<00:00, 13.02it/s, acc=0.76]\n",
      "Iteration: 100%|██████████████████████████████████████████████████████████████████████████████████████████████████████████████████████████████████████████████████████████| 16/16 [00:00<00:00, 18.58it/s, acc=0.74]\n"
     ]
    },
    {
     "name": "stdout",
     "output_type": "stream",
     "text": [
      "unrolling for clauses:  ( c != a ) or ( a == b )\n",
      "seed:  66\n",
      "current n_shot:  2\n"
     ]
    },
    {
     "name": "stderr",
     "output_type": "stream",
     "text": [
      "100%|████████████████████████████████████████████████████████████████████████████████████████████████████████████████████████████████████████████████████████████████████████| 1000/1000 [00:00<00:00, 14126.99it/s]\n",
      "INFO:root:intervention_config = {0: [[0, 600]]}\n",
      "INFO:root:alignment_config = {'layer': 0, 'token_range': [15, 19]}\n",
      "INFO:root:Loading pretrained model.\n",
      "INFO:root:__Number CUDA Devices: 1\n",
      "INFO:root:Number of logic_pipeline.model.gpt2.n_rule.9.n_shot.10.seed.66.clauses.(c!=a)or(a==b).align.left_aligment.seed.66/model-last model params: 0\n",
      "Iteration: 100%|██████████████████████████████████████████████████████████████████████████████████████████████████████████████████████████████████████████████████████████| 16/16 [00:00<00:00, 22.64it/s, acc=0.76]\n",
      "Iteration: 100%|██████████████████████████████████████████████████████████████████████████████████████████████████████████████████████████████████████████████████████████| 16/16 [00:00<00:00, 16.88it/s, acc=0.74]\n"
     ]
    },
    {
     "name": "stdout",
     "output_type": "stream",
     "text": [
      "unrolling for clauses:  ( c != a ) or ( a == b )\n",
      "seed:  66\n",
      "current n_shot:  3\n"
     ]
    },
    {
     "name": "stderr",
     "output_type": "stream",
     "text": [
      "100%|████████████████████████████████████████████████████████████████████████████████████████████████████████████████████████████████████████████████████████████████████████| 1000/1000 [00:00<00:00, 10881.83it/s]\n",
      "INFO:root:intervention_config = {0: [[0, 600]]}\n",
      "INFO:root:alignment_config = {'layer': 0, 'token_range': [22, 26]}\n",
      "INFO:root:Loading pretrained model.\n",
      "INFO:root:__Number CUDA Devices: 1\n",
      "INFO:root:Number of logic_pipeline.model.gpt2.n_rule.9.n_shot.10.seed.66.clauses.(c!=a)or(a==b).align.left_aligment.seed.66/model-last model params: 0\n",
      "Iteration: 100%|██████████████████████████████████████████████████████████████████████████████████████████████████████████████████████████████████████████████████████████| 16/16 [00:00<00:00, 23.35it/s, acc=0.84]\n",
      "Iteration: 100%|██████████████████████████████████████████████████████████████████████████████████████████████████████████████████████████████████████████████████████████| 16/16 [00:00<00:00, 16.93it/s, acc=0.81]\n"
     ]
    },
    {
     "name": "stdout",
     "output_type": "stream",
     "text": [
      "unrolling for clauses:  ( c != a ) or ( a == b )\n",
      "seed:  66\n",
      "current n_shot:  4\n"
     ]
    },
    {
     "name": "stderr",
     "output_type": "stream",
     "text": [
      "100%|█████████████████████████████████████████████████████████████████████████████████████████████████████████████████████████████████████████████████████████████████████████| 1000/1000 [00:00<00:00, 8859.38it/s]\n",
      "INFO:root:intervention_config = {0: [[0, 600]]}\n",
      "INFO:root:alignment_config = {'layer': 0, 'token_range': [29, 33]}\n",
      "INFO:root:Loading pretrained model.\n",
      "INFO:root:__Number CUDA Devices: 1\n",
      "INFO:root:Number of logic_pipeline.model.gpt2.n_rule.9.n_shot.10.seed.66.clauses.(c!=a)or(a==b).align.left_aligment.seed.66/model-last model params: 0\n",
      "Iteration: 100%|███████████████████████████████████████████████████████████████████████████████████████████████████████████████████████████████████████████████████████████| 16/16 [00:00<00:00, 21.85it/s, acc=0.9]\n",
      "Iteration: 100%|██████████████████████████████████████████████████████████████████████████████████████████████████████████████████████████████████████████████████████████| 16/16 [00:01<00:00, 15.54it/s, acc=0.87]\n"
     ]
    },
    {
     "name": "stdout",
     "output_type": "stream",
     "text": [
      "unrolling for clauses:  ( c != a ) or ( a == b )\n",
      "seed:  66\n",
      "current n_shot:  5\n"
     ]
    },
    {
     "name": "stderr",
     "output_type": "stream",
     "text": [
      "100%|█████████████████████████████████████████████████████████████████████████████████████████████████████████████████████████████████████████████████████████████████████████| 1000/1000 [00:00<00:00, 7433.68it/s]\n",
      "INFO:root:intervention_config = {0: [[0, 600]]}\n",
      "INFO:root:alignment_config = {'layer': 0, 'token_range': [36, 40]}\n",
      "INFO:root:Loading pretrained model.\n",
      "INFO:root:__Number CUDA Devices: 1\n",
      "INFO:root:Number of logic_pipeline.model.gpt2.n_rule.9.n_shot.10.seed.66.clauses.(c!=a)or(a==b).align.left_aligment.seed.66/model-last model params: 0\n",
      "Iteration: 100%|██████████████████████████████████████████████████████████████████████████████████████████████████████████████████████████████████████████████████████████| 16/16 [00:00<00:00, 21.17it/s, acc=0.92]\n",
      "Iteration: 100%|██████████████████████████████████████████████████████████████████████████████████████████████████████████████████████████████████████████████████████████| 16/16 [00:01<00:00, 14.88it/s, acc=0.91]\n"
     ]
    },
    {
     "name": "stdout",
     "output_type": "stream",
     "text": [
      "unrolling for clauses:  ( c != a ) or ( a == b )\n",
      "seed:  66\n",
      "current n_shot:  6\n"
     ]
    },
    {
     "name": "stderr",
     "output_type": "stream",
     "text": [
      "100%|█████████████████████████████████████████████████████████████████████████████████████████████████████████████████████████████████████████████████████████████████████████| 1000/1000 [00:00<00:00, 6299.28it/s]\n",
      "INFO:root:intervention_config = {0: [[0, 600]]}\n",
      "INFO:root:alignment_config = {'layer': 0, 'token_range': [43, 47]}\n",
      "INFO:root:Loading pretrained model.\n",
      "INFO:root:__Number CUDA Devices: 1\n",
      "INFO:root:Number of logic_pipeline.model.gpt2.n_rule.9.n_shot.10.seed.66.clauses.(c!=a)or(a==b).align.left_aligment.seed.66/model-last model params: 0\n",
      "Iteration: 100%|██████████████████████████████████████████████████████████████████████████████████████████████████████████████████████████████████████████████████████████| 16/16 [00:00<00:00, 17.96it/s, acc=0.94]\n",
      "Iteration: 100%|██████████████████████████████████████████████████████████████████████████████████████████████████████████████████████████████████████████████████████████| 16/16 [00:01<00:00, 14.17it/s, acc=0.94]\n"
     ]
    },
    {
     "name": "stdout",
     "output_type": "stream",
     "text": [
      "unrolling for clauses:  ( c != a ) or ( a == b )\n",
      "seed:  66\n",
      "current n_shot:  7\n"
     ]
    },
    {
     "name": "stderr",
     "output_type": "stream",
     "text": [
      "100%|█████████████████████████████████████████████████████████████████████████████████████████████████████████████████████████████████████████████████████████████████████████| 1000/1000 [00:00<00:00, 5527.04it/s]\n",
      "INFO:root:intervention_config = {0: [[0, 600]]}\n",
      "INFO:root:alignment_config = {'layer': 0, 'token_range': [50, 54]}\n",
      "INFO:root:Loading pretrained model.\n",
      "INFO:root:__Number CUDA Devices: 1\n",
      "INFO:root:Number of logic_pipeline.model.gpt2.n_rule.9.n_shot.10.seed.66.clauses.(c!=a)or(a==b).align.left_aligment.seed.66/model-last model params: 0\n",
      "Iteration: 100%|██████████████████████████████████████████████████████████████████████████████████████████████████████████████████████████████████████████████████████████| 16/16 [00:00<00:00, 20.10it/s, acc=0.96]\n",
      "Iteration: 100%|██████████████████████████████████████████████████████████████████████████████████████████████████████████████████████████████████████████████████████████| 16/16 [00:01<00:00, 13.57it/s, acc=0.95]\n"
     ]
    },
    {
     "name": "stdout",
     "output_type": "stream",
     "text": [
      "unrolling for clauses:  ( c != a ) or ( a == b )\n",
      "seed:  66\n",
      "current n_shot:  8\n"
     ]
    },
    {
     "name": "stderr",
     "output_type": "stream",
     "text": [
      "100%|█████████████████████████████████████████████████████████████████████████████████████████████████████████████████████████████████████████████████████████████████████████| 1000/1000 [00:00<00:00, 4966.22it/s]\n",
      "INFO:root:intervention_config = {0: [[0, 600]]}\n",
      "INFO:root:alignment_config = {'layer': 0, 'token_range': [57, 61]}\n",
      "INFO:root:Loading pretrained model.\n",
      "INFO:root:__Number CUDA Devices: 1\n",
      "INFO:root:Number of logic_pipeline.model.gpt2.n_rule.9.n_shot.10.seed.66.clauses.(c!=a)or(a==b).align.left_aligment.seed.66/model-last model params: 0\n",
      "Iteration: 100%|██████████████████████████████████████████████████████████████████████████████████████████████████████████████████████████████████████████████████████████| 16/16 [00:00<00:00, 19.66it/s, acc=0.98]\n",
      "Iteration: 100%|██████████████████████████████████████████████████████████████████████████████████████████████████████████████████████████████████████████████████████████| 16/16 [00:01<00:00, 13.05it/s, acc=0.96]\n"
     ]
    },
    {
     "name": "stdout",
     "output_type": "stream",
     "text": [
      "unrolling for clauses:  ( c != a ) or ( a == b )\n",
      "seed:  66\n",
      "current n_shot:  9\n"
     ]
    },
    {
     "name": "stderr",
     "output_type": "stream",
     "text": [
      "100%|█████████████████████████████████████████████████████████████████████████████████████████████████████████████████████████████████████████████████████████████████████████| 1000/1000 [00:00<00:00, 4503.86it/s]\n",
      "INFO:root:intervention_config = {0: [[0, 600]]}\n",
      "INFO:root:alignment_config = {'layer': 0, 'token_range': [64, 68]}\n",
      "INFO:root:Loading pretrained model.\n",
      "INFO:root:__Number CUDA Devices: 1\n",
      "INFO:root:Number of logic_pipeline.model.gpt2.n_rule.9.n_shot.10.seed.66.clauses.(c!=a)or(a==b).align.left_aligment.seed.66/model-last model params: 0\n",
      "Iteration: 100%|██████████████████████████████████████████████████████████████████████████████████████████████████████████████████████████████████████████████████████████| 16/16 [00:00<00:00, 19.24it/s, acc=0.99]\n",
      "Iteration: 100%|██████████████████████████████████████████████████████████████████████████████████████████████████████████████████████████████████████████████████████████| 16/16 [00:01<00:00, 12.54it/s, acc=0.98]\n"
     ]
    },
    {
     "name": "stdout",
     "output_type": "stream",
     "text": [
      "unrolling for clauses:  ( c != a ) or ( a == b )\n",
      "seed:  66\n",
      "current n_shot:  10\n"
     ]
    },
    {
     "name": "stderr",
     "output_type": "stream",
     "text": [
      "100%|█████████████████████████████████████████████████████████████████████████████████████████████████████████████████████████████████████████████████████████████████████████| 1000/1000 [00:00<00:00, 4101.79it/s]\n",
      "INFO:root:intervention_config = {0: [[0, 600]]}\n",
      "INFO:root:alignment_config = {'layer': 0, 'token_range': [71, 75]}\n",
      "INFO:root:Loading pretrained model.\n",
      "INFO:root:__Number CUDA Devices: 1\n",
      "INFO:root:Number of logic_pipeline.model.gpt2.n_rule.9.n_shot.10.seed.66.clauses.(c!=a)or(a==b).align.left_aligment.seed.66/model-last model params: 0\n",
      "Iteration: 100%|██████████████████████████████████████████████████████████████████████████████████████████████████████████████████████████████████████████████████████████| 16/16 [00:00<00:00, 19.16it/s, acc=0.99]\n",
      "Iteration: 100%|██████████████████████████████████████████████████████████████████████████████████████████████████████████████████████████████████████████████████████████| 16/16 [00:01<00:00, 12.21it/s, acc=0.98]\n"
     ]
    }
   ],
   "source": [
    "training_clauses = [\n",
    "    '( c != a ) or ( a == b )',\n",
    "#     '( c == a ) or ( a != b )',\n",
    "#     '( c != a ) and ( a == b )',\n",
    "#     '( c == a ) or ( b != c )',\n",
    "#     '( c == a ) or ( b == c )',\n",
    "#     '( b != a ) and ( b != c )',\n",
    "#     '( c != a ) or ( a != b )',\n",
    "#     '( c == a ) and ( b != c )',\n",
    "#     '( c != a ) and ( b != c )',\n",
    "#     '( c == a ) or ( a == b )',\n",
    "#     '( c != a ) and ( a != b )'\n",
    "]\n",
    "align_type = \"left_aligment\"\n",
    "level = \"l2\"\n",
    "shared_train = True if level == \"l1\" else False\n",
    "n_fewshot = 10\n",
    "n_examples = n_fewshot + 1\n",
    "n_testing_examples = 1000\n",
    "saving_models = True\n",
    "\n",
    "for seed in [66,]: # [42, 66, 77, 88, 99]\n",
    "    for clauses in training_clauses:\n",
    "        for n_shot in range(1, n_fewshot+1):\n",
    "            args.seed = seed\n",
    "            set_seed(args.seed)\n",
    "            clauses_no_space = clauses.replace(\" \", \"\")\n",
    "            print(\"unrolling for clauses: \", clauses)\n",
    "            print(\"seed: \", seed)\n",
    "            print(\"current n_shot: \", n_shot)\n",
    "            # finding model files, it needs to exist on the disk.\n",
    "            model_name = f\"logic_pipeline.model.gpt2.n_rule.9.n_shot.{n_fewshot}.seed.{seed}.clauses.{clauses_no_space}.align.{align_type}.seed.{seed}/model-last\"\n",
    "            args.model_path = os.path.join(args.output_dir, model_name)\n",
    "            logger = logging.getLogger()\n",
    "            n_examples = n_shot+1\n",
    "            aligment_sampled_data = left_aligment_sampler(\n",
    "                clauses, n_testing_examples, n_examples = n_examples, shared_train=shared_train\n",
    "            )\n",
    "            test_data = {\n",
    "                \"base_input_ids\" : aligment_sampled_data[0],\n",
    "                \"base_output_ids\" : aligment_sampled_data[1],\n",
    "                \"source_input_ids\" : aligment_sampled_data[3],\n",
    "                \"source_output_ids\" : aligment_sampled_data[4],\n",
    "                \"counterfacut_output_ids\": aligment_sampled_data[6],\n",
    "                \"clauses\" : aligment_sampled_data[2],\n",
    "                \"intervention_ids\": [0 for i in range(len(aligment_sampled_data[0]))]\n",
    "            }\n",
    "            test_dataset = Dataset.from_dict(\n",
    "                {\n",
    "                    \"input_ids\": test_data[\"base_input_ids\"], \n",
    "                    \"labels\": test_data[\"base_output_ids\"],\n",
    "                    \"source_input_ids\": test_data[\"source_input_ids\"], \n",
    "                    \"counterfactual_labels\": test_data[\"counterfacut_output_ids\"],\n",
    "                    \"intervention_ids\": test_data[\"intervention_ids\"],\n",
    "                }\n",
    "            ).with_format(\"torch\")\n",
    "            test_dataloader = DataLoader(test_dataset, batch_size=args.eval_batch_size)\n",
    "            \n",
    "            # Model\n",
    "            torch.cuda.empty_cache()\n",
    "\n",
    "            configuration = GPT2Config.from_pretrained(os.path.join(args.data_path, \"decoder_config.json\"))\n",
    "\n",
    "            if \"logic\" in model_name:\n",
    "                arity = 3\n",
    "            start_idx = 1 + (arity + 4) * int(n_shot)\n",
    "            end_idx = start_idx + (arity+1)\n",
    "            alignment_config = {\n",
    "                \"layer\" : args.aligning_layer_n,\n",
    "                \"token_range\" : [start_idx, end_idx] # this is kind of fixed?\n",
    "            }\n",
    "            if args.aligning_var_n == 1:\n",
    "                intervention_config = {\n",
    "                    0: [[0, args.aligning_basis_n]]\n",
    "                }\n",
    "            elif args.aligning_var_n == 2:\n",
    "                pass\n",
    "            logging.info(f\"intervention_config = {intervention_config}\")\n",
    "            logging.info(f\"alignment_config = {alignment_config}\")\n",
    "\n",
    "            model = AlignableGPT2LMHeadModel(configuration, alignment_config=alignment_config)\n",
    "            if args.model_path is not None:\n",
    "                logging.info(\"Loading pretrained model.\")\n",
    "                raw_weights = torch.load(os.path.join(args.model_path, 'pytorch_model.bin'))\n",
    "                model.load_state_dict(raw_weights, strict=False)\n",
    "\n",
    "            # we need to set off gradients!\n",
    "            for name, param in model.named_parameters():\n",
    "                param.requires_grad = False\n",
    "\n",
    "            device = torch.device(args.device)\n",
    "            if \"cuda:\" not in args.device:\n",
    "                n_gpu = torch.cuda.device_count()\n",
    "                logging.info(f'__Number CUDA Devices: {n_gpu}')\n",
    "            else:\n",
    "                n_gpu = 1\n",
    "                logging.info(f'__Number CUDA Devices: {n_gpu}')\n",
    "\n",
    "            if n_gpu > 1:\n",
    "                model = torch.nn.DataParallel(model)\n",
    "            _ = model.to(device)\n",
    "\n",
    "            aligner = LogicSolverAligner(\n",
    "                model, device=device, \n",
    "                logger=logger,\n",
    "                is_master=True, \n",
    "                n_gpu=n_gpu,\n",
    "                is_wandb=args.is_wandb, \n",
    "                model_name=model_name,\n",
    "                intervention_config=intervention_config\n",
    "            )\n",
    "            num_params = count_parameters(model)\n",
    "            logging.info(f'Number of {model_name} model params: {num_params}')\n",
    "        \n",
    "            # task performance with unrolling.\n",
    "            total_count = 0\n",
    "            correct_count = 0\n",
    "            _ = model.eval()\n",
    "            epoch_iterator = tqdm(test_dataloader, desc=\"Iteration\", position=0, leave=True)\n",
    "            for step, inputs in enumerate(epoch_iterator):\n",
    "                input_ids = inputs['input_ids'].to(device)\n",
    "                labels = inputs['labels'].to(device)\n",
    "                outputs = model(input_ids=input_ids)\n",
    "                actual_test_labels = labels[:, -3]\n",
    "                pred_test_labels = torch.argmax(outputs.logits[:, -4], dim=-1)\n",
    "                correct_labels = (actual_test_labels==pred_test_labels)\n",
    "\n",
    "                total_count += len(correct_labels)\n",
    "                correct_count += correct_labels.sum().tolist()\n",
    "\n",
    "                current_acc = round(correct_count/total_count, 2)\n",
    "                epoch_iterator.set_postfix({'acc': current_acc})\n",
    "            task_acc = round(correct_count/total_count, 2)\n",
    "\n",
    "            # iia with unrolling.\n",
    "            total_count = 0\n",
    "            correct_count = 0\n",
    "            aligner.model.eval()\n",
    "            epoch_iterator = tqdm(test_dataloader, desc=\"Iteration\", position=0, leave=True)\n",
    "            for step, inputs in enumerate(epoch_iterator):\n",
    "                for k, v in inputs.items():\n",
    "                    if v is not None and isinstance(v, torch.Tensor):\n",
    "                        inputs[k] = v.to(device)\n",
    "                if aligner.preload_intervention_corr is not None:\n",
    "                    intervention_corr = aligner.preload_intervention_corr.expand(\n",
    "                        inputs['input_ids'].shape[0],-1\n",
    "                    ).to(device)\n",
    "                else:\n",
    "                    assert False # not implemented\n",
    "\n",
    "                # aligning forward!\n",
    "                source_hidden_states = aligner.model(\n",
    "                   input_ids=inputs['source_input_ids']\n",
    "                ).rotated_hidden_states\n",
    "                outputs = aligner.model(\n",
    "                    input_ids=inputs['input_ids'],\n",
    "                    source_hidden_states=source_hidden_states,\n",
    "                    intervention_corr=intervention_corr,\n",
    "                    labels=inputs['counterfactual_labels']\n",
    "                )\n",
    "\n",
    "                actual_test_labels = inputs['counterfactual_labels'][:, -3]\n",
    "                pred_test_labels = torch.argmax(outputs.logits[:, -4], dim=-1)\n",
    "                correct_labels = (actual_test_labels==pred_test_labels)\n",
    "\n",
    "                total_count += len(correct_labels)\n",
    "                correct_count += correct_labels.sum().tolist()\n",
    "\n",
    "                current_acc = round(correct_count/total_count, 2)\n",
    "                epoch_iterator.set_postfix({'acc': current_acc})\n",
    "            iia_acc = round(correct_count/total_count, 2)\n",
    "\n",
    "            results += [[clauses, n_shot, seed, task_acc, iia_acc]]"
   ]
  },
  {
   "cell_type": "code",
   "execution_count": 6,
   "id": "7f36553f",
   "metadata": {},
   "outputs": [],
   "source": [
    "result_df = pd.DataFrame(results, columns = [\n",
    "    'clauses', 'n_shot', 'seed', 'task_acc', 'iit_acc'\n",
    "])\n",
    "result_df = result_df.groupby(\n",
    "    ['n_shot'], as_index=False\n",
    ").mean()[\n",
    "    ['n_shot', 'task_acc', 'iit_acc']\n",
    "]\n",
    "plot_df = result_df[['n_shot', 'task_acc', 'iit_acc']].melt('n_shot', var_name='cols',  value_name='acc')"
   ]
  },
  {
   "cell_type": "code",
   "execution_count": 7,
   "id": "ca82fe4c",
   "metadata": {},
   "outputs": [
    {
     "data": {
      "image/png": "[encoded data removed]",
      "text/plain": [
       "<Figure size 410.25x300 with 1 Axes>"
      ]
     },
     "metadata": {},
     "output_type": "display_data"
    }
   ],
   "source": [
    "ax = sns.catplot(\n",
    "    x=\"n_shot\", y=\"acc\", hue='cols', \n",
    "    data=plot_df, kind='point', height=3\n",
    ")"
   ]
  },
  {
   "cell_type": "markdown",
   "id": "beaa2cdf",
   "metadata": {},
   "source": [
    "### Zero-shot representation transfer"
   ]
  },
  {
   "cell_type": "code",
   "execution_count": null,
   "id": "b55bc34b",
   "metadata": {},
   "outputs": [],
   "source": [
    "args.test_data_path = \\\n",
    "    \"./logic_data/left_aligment_test_data.l1.clauses.(c!=b)and(c!=a).pkl\"\n",
    "test_data = pickle.load(open(args.test_data_path, 'rb'))\n",
    "\n",
    "test_dataset = Dataset.from_dict(\n",
    "    {\n",
    "        \"input_ids\": test_data[\"base_input_ids\"], \n",
    "        \"labels\": test_data[\"base_output_ids\"],\n",
    "        \"source_input_ids\": test_data[\"source_input_ids\"], \n",
    "        \"counterfactual_labels\": test_data[\"counterfacut_output_ids\"],\n",
    "        \"intervention_ids\": test_data[\"intervention_ids\"],\n",
    "    }\n",
    ").with_format(\"torch\")\n",
    "test_dataloader = DataLoader(test_dataset, batch_size=args.eval_batch_size)\n",
    "\n",
    "# Model\n",
    "torch.cuda.empty_cache()\n",
    "\n",
    "total_count = 0\n",
    "correct_count = 0\n",
    "if args.do_test:\n",
    "    aligner.model.eval()\n",
    "    epoch_iterator = tqdm(test_dataloader, desc=\"Iteration\", position=0, leave=True)\n",
    "    for step, inputs in enumerate(epoch_iterator):\n",
    "        for k, v in inputs.items():\n",
    "            if v is not None and isinstance(v, torch.Tensor):\n",
    "                inputs[k] = v.to(device)\n",
    "        if aligner.preload_intervention_corr is not None:\n",
    "            intervention_corr = aligner.preload_intervention_corr.expand(\n",
    "                inputs['input_ids'].shape[0],-1\n",
    "            ).to(device)\n",
    "        else:\n",
    "            assert False # not implemented\n",
    "\n",
    "        # aligning forward!\n",
    "        source_hidden_states = aligner.model(\n",
    "           input_ids=inputs['source_input_ids']\n",
    "        ).rotated_hidden_states\n",
    "        outputs = aligner.model(\n",
    "            input_ids=inputs['input_ids'],\n",
    "            source_hidden_states=source_hidden_states,\n",
    "            intervention_corr=intervention_corr,\n",
    "            labels=inputs['counterfactual_labels']\n",
    "        )\n",
    "\n",
    "        actual_test_labels = inputs['counterfactual_labels'][:, -3]\n",
    "        pred_test_labels = torch.argmax(outputs.logits[:, -4], dim=-1)\n",
    "        correct_labels = (actual_test_labels==pred_test_labels)\n",
    "\n",
    "        total_count += len(correct_labels)\n",
    "        correct_count += correct_labels.sum().tolist()\n",
    "\n",
    "        current_acc = round(correct_count/total_count, 2)\n",
    "        epoch_iterator.set_postfix({'acc': current_acc})"
   ]
  }
 ],
 "metadata": {
  "kernelspec": {
   "display_name": "Python 3 (ipykernel)",
   "language": "python",
   "name": "python3"
  },
  "language_info": {
   "codemirror_mode": {
    "name": "ipython",
    "version": 3
   },
   "file_extension": ".py",
   "mimetype": "text/x-python",
   "name": "python",
   "nbconvert_exporter": "python",
   "pygments_lexer": "ipython3",
   "version": "3.9.15"
  }
 },
 "nbformat": 4,
 "nbformat_minor": 5
}
