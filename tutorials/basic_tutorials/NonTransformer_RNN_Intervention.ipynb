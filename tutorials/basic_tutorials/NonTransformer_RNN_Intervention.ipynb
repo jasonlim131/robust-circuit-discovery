{
 "cells": [
  {
   "cell_type": "code",
   "execution_count": null,
   "id": "3276f4bb",
   "metadata": {},
   "outputs": [],
   "source": [
    "try:\n",
    "    # This library is our indicator that the required installs\n",
    "    # need to be done.\n",
    "    import transformers\n",
    "    import sys\n",
    "    sys.path.append(\"align-transformers/\")\n",
    "except ModuleNotFoundError:\n",
    "    !git clone https://github.com/frankaging/align-transformers.git\n",
    "    !pip install -r align-transformers/requirements.txt\n",
    "    import sys\n",
    "    sys.path.append(\"align-transformers/\")"
   ]
  },
  {
   "cell_type": "code",
   "execution_count": null,
   "id": "21e8a491",
   "metadata": {},
   "outputs": [],
   "source": [
    "import sys\n",
    "sys.path.append(\"../..\")\n",
    "\n",
    "import torch\n",
    "import pandas as pd\n",
    "from models.basic_utils import embed_to_distrib, top_vals, format_token\n",
    "from models.configuration_alignable_model import AlignableRepresentationConfig, AlignableConfig\n",
    "from models.alignable_base import AlignableModel\n",
    "from models.interventions import VanillaIntervention, RotatedSpaceIntervention, LowRankRotatedSpaceIntervention\n",
    "from models.gru.modelings_gru import GRUConfig\n",
    "from models.gru.modelings_alignable_gru import create_gru_classifier\n",
    "\n",
    "%config InlineBackend.figure_formats = ['svg']\n",
    "from plotnine import ggplot, geom_tile, aes, facet_wrap, theme, element_text, \\\n",
    "                     geom_bar, geom_hline, scale_y_log10\n",
    "\n",
    "config, tokenizer, gru =create_gru_classifier(GRUConfig(h_dim=32))"
   ]
  },
  {
   "cell_type": "code",
   "execution_count": null,
   "id": "dcf760b5",
   "metadata": {},
   "outputs": [],
   "source": [
    "alignable_config = AlignableConfig(\n",
    "    alignable_model_type=type(gru),\n",
    "    alignable_representations=[\n",
    "        AlignableRepresentationConfig(\n",
    "            0,\n",
    "            \"cell_output\",\n",
    "            \"t\",\n",
    "            1,\n",
    "        ),\n",
    "    ],\n",
    "    alignable_interventions_type=VanillaIntervention,\n",
    ")\n",
    "alignable = AlignableModel(alignable_config, gru)\n",
    "\n",
    "base = {\"inputs_embeds\": torch.rand(10, 10, 32)}\n",
    "source = {\"inputs_embeds\": torch.rand(10, 10, 32)}\n",
    "print(\"base\", alignable(base)[0][0])\n",
    "print(\"source\", alignable(source)[0][0])"
   ]
  },
  {
   "cell_type": "code",
   "execution_count": null,
   "id": "36baa475",
   "metadata": {},
   "outputs": [],
   "source": [
    "_, counterfactual_outputs = alignable(\n",
    "    base,\n",
    "    [source],\n",
    "    {\"sources->base\": ([[[0]]], [[[0]]])}, # this suppose to intervene once, but it will be called 10 times.\n",
    ")"
   ]
  },
  {
   "cell_type": "code",
   "execution_count": null,
   "id": "c7a719d5",
   "metadata": {},
   "outputs": [],
   "source": [
    "alignable._intervention_state"
   ]
  },
  {
   "cell_type": "code",
   "execution_count": null,
   "id": "daadc939",
   "metadata": {},
   "outputs": [],
   "source": [
    "import torch\n",
    "import torch.nn as nn\n",
    "\n",
    "# Define a hook function that will be called during forward pass\n",
    "def forward_hook(module, input, output):\n",
    "    print(\"Calling Hook\")\n",
    "    for name, param in module.named_parameters():\n",
    "        if 'weight' in name:\n",
    "            print(f\"Inside forward hook for module: {module.__class__.__name__}\")\n",
    "            print(f\"Parameter Name: {name}\")\n",
    "\n",
    "# Define the RNN\n",
    "input_size = 10\n",
    "hidden_dim = 20\n",
    "n_layers = 2\n",
    "rnn = nn.RNN(input_size, hidden_dim, n_layers, batch_first=True)\n",
    "\n",
    "# Add the forward hook to the RNN module\n",
    "rnn.register_forward_hook(forward_hook)\n",
    "\n",
    "# Input tensor\n",
    "input_tensor = torch.randn(1, 3, input_size)  # Batch size of 1, sequence length of 3\n",
    "\n",
    "# Forward pass through the RNN (this will trigger the hooks)\n",
    "output, _ = rnn(input_tensor)\n",
    "\n",
    "# Hooks will print the weights during the forward pass"
   ]
  },
  {
   "cell_type": "code",
   "execution_count": null,
   "id": "34951214",
   "metadata": {},
   "outputs": [],
   "source": []
  }
 ],
 "metadata": {
  "kernelspec": {
   "display_name": "Python 3 (ipykernel)",
   "language": "python",
   "name": "python3"
  },
  "language_info": {
   "codemirror_mode": {
    "name": "ipython",
    "version": 3
   },
   "file_extension": ".py",
   "mimetype": "text/x-python",
   "name": "python",
   "nbconvert_exporter": "python",
   "pygments_lexer": "ipython3",
   "version": "3.8.12"
  }
 },
 "nbformat": 4,
 "nbformat_minor": 5
}
