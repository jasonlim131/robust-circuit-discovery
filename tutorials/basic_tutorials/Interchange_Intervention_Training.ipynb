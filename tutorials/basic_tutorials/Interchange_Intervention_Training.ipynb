{
 "cells": [
  {
   "cell_type": "markdown",
   "id": "df77cec3",
   "metadata": {},
   "source": [
    "## Tutorial of Interchange Intervention Training"
   ]
  },
  {
   "cell_type": "code",
   "execution_count": 1,
   "id": "18d54c7d",
   "metadata": {},
   "outputs": [],
   "source": [
    "__author__ = \"Zhengxuan Wu\"\n",
    "__version__ = \"01/11/2024\""
   ]
  },
  {
   "cell_type": "markdown",
   "id": "301516cb",
   "metadata": {},
   "source": [
    "### Overview\n",
    "\n",
    "[Interchange Intervention Training](https://arxiv.org/abs/2112.00826) (IIT) is a technique to train neural networks to be interpretable in a data-driven fashion. As it says in its name, it leverages intervention signals to train a neural network. As a result, the network's activations are highly interpretable in a sense that we can intervene them at inference time to get interpretable counterfactual behaviors.\n",
    "\n",
    "This library supports IIT as it is essentially a vanilla intervention plus enabling gradients for all the model parameters."
   ]
  },
  {
   "cell_type": "markdown",
   "id": "937b2f9c",
   "metadata": {},
   "source": [
    "### Set-up"
   ]
  },
  {
   "cell_type": "code",
   "execution_count": null,
   "id": "8c2bae9d",
   "metadata": {},
   "outputs": [],
   "source": [
    "try:\n",
    "    # This library is our indicator that the required installs\n",
    "    # need to be done.\n",
    "    import pyvene\n",
    "\n",
    "except ModuleNotFoundError:\n",
    "    !pip install git+https://github.com/frankaging/pyvene.git"
   ]
  },
  {
   "cell_type": "code",
   "execution_count": 3,
   "id": "d8c4fa4c",
   "metadata": {},
   "outputs": [
    {
     "name": "stdout",
     "output_type": "stream",
     "text": [
      "loaded model\n"
     ]
    }
   ],
   "source": [
    "from pyvene.models.basic_utils import (\n",
    "    embed_to_distrib,\n",
    "    top_vals,\n",
    "    format_token,\n",
    "    count_parameters\n",
    ")\n",
    "\n",
    "from pyvene import create_gpt2\n",
    "from pyvene import (\n",
    "    IntervenableModel, RotatedSpaceIntervention, \n",
    "    IntervenableConfig, RepresentationConfig, VanillaIntervention\n",
    ")\n",
    "\n",
    "config, tokenizer, gpt = create_gpt2()"
   ]
  },
  {
   "cell_type": "code",
   "execution_count": 4,
   "id": "264bad56",
   "metadata": {},
   "outputs": [],
   "source": [
    "config = IntervenableConfig(\n",
    "    model_type=type(gpt),\n",
    "    representations=[\n",
    "        RepresentationConfig(\n",
    "            2,\n",
    "            \"mlp_activation\",\n",
    "            \"pos\",\n",
    "            1,\n",
    "        ),\n",
    "    ],\n",
    "    intervention_types=VanillaIntervention,\n",
    ")\n",
    "intervenable = IntervenableModel(config, gpt)\n",
    "\n",
    "base = tokenizer(\"The capital of Spain is\", return_tensors=\"pt\")\n",
    "sources = [\n",
    "    tokenizer(\"The capital of Italy is\", return_tensors=\"pt\"),\n",
    "]"
   ]
  },
  {
   "cell_type": "code",
   "execution_count": 5,
   "id": "4641910d",
   "metadata": {},
   "outputs": [
    {
     "data": {
      "text/plain": [
       "0"
      ]
     },
     "execution_count": 5,
     "metadata": {},
     "output_type": "execute_result"
    }
   ],
   "source": [
    "intervenable.count_parameters()"
   ]
  },
  {
   "cell_type": "markdown",
   "id": "99c7d8f0",
   "metadata": {},
   "source": [
    "We just need to turn on gradients on all the model parameters"
   ]
  },
  {
   "cell_type": "code",
   "execution_count": 6,
   "id": "2cedb63d",
   "metadata": {},
   "outputs": [
    {
     "data": {
      "text/plain": [
       "124439808"
      ]
     },
     "execution_count": 6,
     "metadata": {},
     "output_type": "execute_result"
    }
   ],
   "source": [
    "intervenable.enable_model_gradients()\n",
    "intervenable.count_parameters()"
   ]
  },
  {
   "cell_type": "code",
   "execution_count": 10,
   "id": "a62cc234",
   "metadata": {},
   "outputs": [],
   "source": [
    "base_outputs, counterfactual_outputs = intervenable(\n",
    "    base, sources, {\"sources->base\": ([[[3]]], [[[3]]])}\n",
    ")"
   ]
  },
  {
   "cell_type": "code",
   "execution_count": 11,
   "id": "1c2ae690",
   "metadata": {},
   "outputs": [
    {
     "data": {
      "text/plain": [
       "tensor([[[ 0.0438,  0.1204,  0.3694,  ..., -0.2660,  0.0809,  0.0310],\n",
       "         [-0.0778, -0.0170, -0.2844,  ...,  0.0151,  0.0190,  0.1998],\n",
       "         [ 0.1443, -0.5990,  0.2823,  ..., -0.1331, -0.1422,  0.1267],\n",
       "         [-0.2162, -0.2819,  0.1670,  ..., -0.1039, -0.1112, -0.0366],\n",
       "         [ 0.6421, -0.1228, -0.2224,  ..., -0.0918, -0.0167, -0.0540]]],\n",
       "       grad_fn=<SubBackward0>)"
      ]
     },
     "execution_count": 11,
     "metadata": {},
     "output_type": "execute_result"
    }
   ],
   "source": [
    "counterfactual_outputs.last_hidden_state - base_outputs.last_hidden_state"
   ]
  },
  {
   "cell_type": "code",
   "execution_count": 12,
   "id": "caa21d26",
   "metadata": {},
   "outputs": [],
   "source": [
    "counterfactual_outputs.last_hidden_state.sum().backward()"
   ]
  },
  {
   "cell_type": "markdown",
   "id": "3a948fc5",
   "metadata": {},
   "source": [
    "check any model grad"
   ]
  },
  {
   "cell_type": "code",
   "execution_count": 13,
   "id": "057e8dd3",
   "metadata": {},
   "outputs": [
    {
     "data": {
      "text/plain": [
       "tensor([[ 0.5090, -0.0050, -0.0039,  ..., -0.0109, -0.0106, -0.1192],\n",
       "        [-0.2290,  0.0316,  0.0467,  ..., -0.0318, -0.0221,  0.0374],\n",
       "        [-0.1379, -0.0110, -0.0248,  ...,  0.0145, -0.0232, -0.1983],\n",
       "        ...,\n",
       "        [-0.3359,  0.0410, -0.0045,  ...,  0.0035, -0.0556, -0.0470],\n",
       "        [-0.1536,  0.0064, -0.0127,  ...,  0.0150,  0.0037,  0.1006],\n",
       "        [-0.5015,  0.0190, -0.0021,  ...,  0.0194,  0.0125,  0.0355]])"
      ]
     },
     "execution_count": 13,
     "metadata": {},
     "output_type": "execute_result"
    }
   ],
   "source": [
    "gpt.h[0].mlp.c_fc.weight.grad"
   ]
  }
 ],
 "metadata": {
  "kernelspec": {
   "display_name": "Python 3 (ipykernel)",
   "language": "python",
   "name": "python3"
  },
  "language_info": {
   "codemirror_mode": {
    "name": "ipython",
    "version": 3
   },
   "file_extension": ".py",
   "mimetype": "text/x-python",
   "name": "python",
   "nbconvert_exporter": "python",
   "pygments_lexer": "ipython3",
   "version": "3.8.12"
  }
 },
 "nbformat": 4,
 "nbformat_minor": 5
}
