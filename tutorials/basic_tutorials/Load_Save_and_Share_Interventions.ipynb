{
 "cells": [
  {
   "cell_type": "markdown",
   "id": "77c811fb",
   "metadata": {},
   "source": [
    "## Tutorial of Loading, Saving and Sharing Your Interventions"
   ]
  },
  {
   "cell_type": "code",
   "execution_count": 1,
   "id": "a5f437a5",
   "metadata": {},
   "outputs": [],
   "source": [
    "__author__ = \"Zhengxuan Wu\"\n",
    "__version__ = \"01/09/2024\""
   ]
  },
  {
   "cell_type": "markdown",
   "id": "8a9ad242",
   "metadata": {},
   "source": [
    "### Overview\n",
    "\n",
    "With this library, you could end up with pretty complex intervention schemes to get meaningful counterfactual behaviors of large models. This library helps you to share your interventions with others, either saving them locally to your disk or directly sharing them through hub service such as Huggingface! If you share through Huggingface, we assume you are logged in."
   ]
  },
  {
   "cell_type": "markdown",
   "id": "fd09bf46",
   "metadata": {},
   "source": [
    "### Set-up"
   ]
  },
  {
   "cell_type": "code",
   "execution_count": 2,
   "id": "85db984c",
   "metadata": {},
   "outputs": [],
   "source": [
    "# try:\n",
    "#     # This library is our indicator that the required installs\n",
    "#     # need to be done.\n",
    "#     import pyvene\n",
    "\n",
    "# except ModuleNotFoundError:\n",
    "#     !pip install git+https://github.com/frankaging/pyvene.git"
   ]
  },
  {
   "cell_type": "code",
   "execution_count": 3,
   "id": "b639455b",
   "metadata": {},
   "outputs": [],
   "source": [
    "import sys\n",
    "sys.path.append(\"../..\")\n"
   ]
  },
  {
   "cell_type": "code",
   "execution_count": 4,
   "id": "34e47c62",
   "metadata": {},
   "outputs": [
    {
     "name": "stdout",
     "output_type": "stream",
     "text": [
      "loaded model\n"
     ]
    }
   ],
   "source": [
    "import torch\n",
    "import pandas as pd\n",
    "from pyvene import embed_to_distrib, top_vals, format_token\n",
    "from pyvene import (\n",
    "    IntervenableModel,\n",
    "    RepresentationConfig,\n",
    "    IntervenableConfig,\n",
    "    VanillaIntervention,\n",
    "    SubtractionIntervention,\n",
    "    LowRankRotatedSpaceIntervention,\n",
    "    TrainableIntervention,\n",
    ")\n",
    "from pyvene import create_gpt2\n",
    "\n",
    "%config InlineBackend.figure_formats = ['svg']\n",
    "from plotnine import (\n",
    "    ggplot,\n",
    "    geom_tile,\n",
    "    aes,\n",
    "    facet_wrap,\n",
    "    theme,\n",
    "    element_text,\n",
    "    geom_bar,\n",
    "    geom_hline,\n",
    "    scale_y_log10,\n",
    ")\n",
    "\n",
    "config, tokenizer, gpt = create_gpt2()"
   ]
  },
  {
   "cell_type": "markdown",
   "id": "23fcb751",
   "metadata": {},
   "source": [
    "### Notebook Huggingface Login\n",
    "For command-line programs, you need to explicitly login to huggingface hub using [cli](https://huggingface.co/docs/hub/models-adding-libraries) once to build the connection."
   ]
  },
  {
   "cell_type": "code",
   "execution_count": 5,
   "id": "62d35be5",
   "metadata": {},
   "outputs": [
    {
     "data": {
      "application/vnd.jupyter.widget-view+json": {
       "model_id": "b6ccc36ef55d44a6a8ac4fddda620c1c",
       "version_major": 2,
       "version_minor": 0
      },
      "text/plain": [
       "VBox(children=(HTML(value='<center> <img\\nsrc=https://huggingface.co/front/assets/huggingface_logo-noborder.sv…"
      ]
     },
     "metadata": {},
     "output_type": "display_data"
    }
   ],
   "source": [
    "from huggingface_hub import notebook_login\n",
    "\n",
    "notebook_login()"
   ]
  },
  {
   "cell_type": "markdown",
   "id": "8fc623c7",
   "metadata": {},
   "source": [
    "### Test with complex intervention"
   ]
  },
  {
   "cell_type": "code",
   "execution_count": 5,
   "id": "972ba732",
   "metadata": {},
   "outputs": [],
   "source": [
    "config = IntervenableConfig(\n",
    "    representations=[\n",
    "        RepresentationConfig(\n",
    "            0,\n",
    "            \"block_output\",\n",
    "            \"pos\",\n",
    "            1,\n",
    "            low_rank_dimension=128,\n",
    "            group_key=0,\n",
    "        ),\n",
    "        RepresentationConfig(\n",
    "            2,\n",
    "            \"block_output\",\n",
    "            \"pos\",\n",
    "            1,\n",
    "            low_rank_dimension=128,\n",
    "            group_key=0,\n",
    "        ),\n",
    "    ],\n",
    "    intervention_types=LowRankRotatedSpaceIntervention,\n",
    ")\n",
    "intervenable = IntervenableModel(config, gpt)\n",
    "\n",
    "base = tokenizer(\"The capital of Spain is\", return_tensors=\"pt\")\n",
    "sources = [tokenizer(\"The capital of Italy is\", return_tensors=\"pt\")]\n",
    "\n",
    "_, counterfactual_outputs_unsaved = intervenable(\n",
    "    base, sources, {\"sources->base\": ([[[3]], [[4]]], [[[3]], [[4]]])}\n",
    ")"
   ]
  },
  {
   "cell_type": "code",
   "execution_count": 6,
   "id": "b1d5b186",
   "metadata": {},
   "outputs": [
    {
     "name": "stderr",
     "output_type": "stream",
     "text": [
      "WARNING:root:Saving trainable intervention to intkey_layer.0.repr.block_output.unit.pos.nunit.1#0.bin.\n",
      "WARNING:root:Skipping creating the repo since either zhengxuanzenwu/intervention_sharing_test exists or having authentication error.\n"
     ]
    },
    {
     "name": "stdout",
     "output_type": "stream",
     "text": [
      "Directory './tutorial_data/tmp_dir/' already exists.\n"
     ]
    },
    {
     "data": {
      "application/vnd.jupyter.widget-view+json": {
       "model_id": "ef3653fea6f44114ae34e49ac8479a4f",
       "version_major": 2,
       "version_minor": 0
      },
      "text/plain": [
       "intkey_layer.0.repr.block_output.unit.pos.nunit.1#0.bin:   0%|          | 0.00/2.75M [00:00<?, ?B/s]"
      ]
     },
     "metadata": {},
     "output_type": "display_data"
    },
    {
     "name": "stderr",
     "output_type": "stream",
     "text": [
      "WARNING:root:Saving trainable intervention to intkey_layer.2.repr.block_output.unit.pos.nunit.1#0.bin.\n",
      "WARNING:root:Skipping creating the repo since either zhengxuanzenwu/intervention_sharing_test exists or having authentication error.\n"
     ]
    },
    {
     "data": {
      "application/vnd.jupyter.widget-view+json": {
       "model_id": "7b57ac431eb34bd4a6e44a448c040977",
       "version_major": 2,
       "version_minor": 0
      },
      "text/plain": [
       "intkey_layer.2.repr.block_output.unit.pos.nunit.1#0.bin:   0%|          | 0.00/2.75M [00:00<?, ?B/s]"
      ]
     },
     "metadata": {},
     "output_type": "display_data"
    },
    {
     "name": "stderr",
     "output_type": "stream",
     "text": [
      "WARNING:root:Skipping creating the repo since either zhengxuanzenwu/intervention_sharing_test exists or having authentication error.\n"
     ]
    }
   ],
   "source": [
    "# saving it locally as well as to the hub\n",
    "intervenable.save(\n",
    "    save_directory=\"./tutorial_data/tmp_dir/\",\n",
    "    save_to_hf_hub=True,\n",
    "    hf_repo_name=\"zhengxuanzenwu/intervention_sharing_test\",\n",
    ")"
   ]
  },
  {
   "cell_type": "markdown",
   "id": "227917ff",
   "metadata": {},
   "source": [
    "The model should be saved into the disk as well as to [the hub](https://huggingface.co/zhengxuanzenwu/intervention_sharing_test)."
   ]
  },
  {
   "cell_type": "code",
   "execution_count": 7,
   "id": "e4a6c4a8",
   "metadata": {},
   "outputs": [
    {
     "name": "stderr",
     "output_type": "stream",
     "text": [
      "WARNING:root:The key is provided in the config. Assuming this is loaded from a pretrained module.\n",
      "WARNING:root:Loading trainable intervention from intkey_layer.0.repr.block_output.unit.pos.nunit.1#0.bin.\n",
      "WARNING:root:Loading trainable intervention from intkey_layer.2.repr.block_output.unit.pos.nunit.1#0.bin.\n"
     ]
    }
   ],
   "source": [
    "loaded = IntervenableModel.load(\n",
    "    load_directory=\"zhengxuanzenwu/intervention_sharing_test\",\n",
    "    model=gpt,\n",
    "    local_directory=\"./tutorial_data/tmp_dir/\",\n",
    ")"
   ]
  },
  {
   "cell_type": "code",
   "execution_count": 8,
   "id": "a334fe0f",
   "metadata": {},
   "outputs": [],
   "source": [
    "_, counterfactual_outputs_loaded = loaded(\n",
    "    base, sources, {\"sources->base\": ([[[3]], [[4]]], [[[3]], [[4]]])}\n",
    ")"
   ]
  },
  {
   "cell_type": "code",
   "execution_count": 9,
   "id": "75e54d8a",
   "metadata": {},
   "outputs": [
    {
     "data": {
      "text/plain": [
       "True"
      ]
     },
     "execution_count": 9,
     "metadata": {},
     "output_type": "execute_result"
    }
   ],
   "source": [
    "torch.equal(\n",
    "    counterfactual_outputs_unsaved.last_hidden_state,\n",
    "    counterfactual_outputs_loaded.last_hidden_state,\n",
    ")"
   ]
  },
  {
   "cell_type": "markdown",
   "id": "521e37a5",
   "metadata": {},
   "source": [
    "### Test with the case config has static source activations"
   ]
  },
  {
   "cell_type": "code",
   "execution_count": 17,
   "id": "21363fd0",
   "metadata": {},
   "outputs": [],
   "source": [
    "config = IntervenableConfig(\n",
    "    representations=[\n",
    "        RepresentationConfig(\n",
    "            0,\n",
    "            \"block_output\",\n",
    "            \"pos\",\n",
    "            1,\n",
    "            source_representation=torch.rand(768)\n",
    "        ),\n",
    "        RepresentationConfig(\n",
    "            2,\n",
    "            \"block_output\",\n",
    "            \"pos\",\n",
    "            1,\n",
    "            source_representation=torch.rand(768)\n",
    "        ),\n",
    "    ],\n",
    "    intervention_types=SubtractionIntervention,\n",
    ")\n",
    "intervenable = IntervenableModel(config, gpt)\n",
    "\n",
    "base = tokenizer(\"The capital of Spain is\", return_tensors=\"pt\")\n",
    "sources = [tokenizer(\"The capital of Italy is\", return_tensors=\"pt\")]\n",
    "\n",
    "_, counterfactual_outputs_unsaved = intervenable(\n",
    "    base, unit_locations={\"base\": 3}\n",
    ")"
   ]
  },
  {
   "cell_type": "code",
   "execution_count": 18,
   "id": "cb6a3ccb",
   "metadata": {},
   "outputs": [
    {
     "name": "stderr",
     "output_type": "stream",
     "text": [
      "WARNING:root:Saving trainable intervention to intkey_layer.0.repr.block_output.unit.pos.nunit.1#0.bin.\n",
      "WARNING:root:Saving trainable intervention to intkey_layer.2.repr.block_output.unit.pos.nunit.1#0.bin.\n"
     ]
    },
    {
     "name": "stdout",
     "output_type": "stream",
     "text": [
      "Directory './tutorial_data/tmp_dir_new/' created successfully.\n"
     ]
    }
   ],
   "source": [
    "# saving it locally as well as to the hub\n",
    "intervenable.save(\n",
    "    save_directory=\"./tutorial_data/tmp_dir_new/\",\n",
    ")"
   ]
  },
  {
   "cell_type": "code",
   "execution_count": 19,
   "id": "d3b33fae",
   "metadata": {},
   "outputs": [
    {
     "name": "stderr",
     "output_type": "stream",
     "text": [
      "WARNING:root:The key is provided in the config. Assuming this is loaded from a pretrained module.\n",
      "WARNING:root:Loading trainable intervention from intkey_layer.0.repr.block_output.unit.pos.nunit.1#0.bin.\n",
      "WARNING:root:Loading trainable intervention from intkey_layer.2.repr.block_output.unit.pos.nunit.1#0.bin.\n"
     ]
    }
   ],
   "source": [
    "loaded = IntervenableModel.load(\n",
    "    load_directory=\"./tutorial_data/tmp_dir_new/\",\n",
    "    model=gpt,\n",
    ")"
   ]
  },
  {
   "cell_type": "code",
   "execution_count": 20,
   "id": "aee40a89",
   "metadata": {},
   "outputs": [],
   "source": [
    "_, counterfactual_outputs_loaded = loaded(\n",
    "    base, unit_locations={\"base\": 3}\n",
    ")"
   ]
  },
  {
   "cell_type": "code",
   "execution_count": 21,
   "id": "1d1e8a96",
   "metadata": {},
   "outputs": [
    {
     "data": {
      "text/plain": [
       "True"
      ]
     },
     "execution_count": 21,
     "metadata": {},
     "output_type": "execute_result"
    }
   ],
   "source": [
    "torch.equal(\n",
    "    counterfactual_outputs_unsaved.last_hidden_state,\n",
    "    counterfactual_outputs_loaded.last_hidden_state,\n",
    ")"
   ]
  }
 ],
 "metadata": {
  "kernelspec": {
   "display_name": "Python 3 (ipykernel)",
   "language": "python",
   "name": "python3"
  },
  "language_info": {
   "codemirror_mode": {
    "name": "ipython",
    "version": 3
   },
   "file_extension": ".py",
   "mimetype": "text/x-python",
   "name": "python",
   "nbconvert_exporter": "python",
   "pygments_lexer": "ipython3",
   "version": "3.8.12"
  }
 },
 "nbformat": 4,
 "nbformat_minor": 5
}
