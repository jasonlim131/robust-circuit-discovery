{
 "cells": [
  {
   "cell_type": "code",
   "execution_count": null,
   "id": "930a8c78",
   "metadata": {},
   "outputs": [],
   "source": [
    "from transformers import AutoTokenizer, AutoModelForCausalLM, AutoConfig, LlamaTokenizer\n",
    "import random\n",
    "from tqdm import tqdm\n",
    "import re, torch\n",
    "from sklearn.metrics import classification_report\n",
    "import matplotlib.pyplot as plt\n",
    "import sys\n",
    "sys.path.append('..')\n",
    "from models.modelings_alignable_llama import *\n",
    "from utils.train_utils import *\n",
    "CACHE_DIR = \"../../.cache/\""
   ]
  },
  {
   "cell_type": "markdown",
   "id": "65115cf4",
   "metadata": {},
   "source": [
    "#### GPT-J Alpaca 6B"
   ]
  },
  {
   "cell_type": "code",
   "execution_count": null,
   "id": "693f4059",
   "metadata": {},
   "outputs": [],
   "source": [
    "model = AutoModelForCausalLM.from_pretrained(\n",
    "    \"nlpcloud/instruct-gpt-j-fp16\",\n",
    "    cache_dir=CACHE_DIR,\n",
    "    torch_dtype=torch.bfloat16\n",
    ")\n",
    "_ = model.to(\"cuda\")\n",
    "tokenizer = AutoTokenizer.from_pretrained(\n",
    "    \"nlpcloud/instruct-gpt-j-fp16\",\n",
    "    cache_dir=CACHE_DIR\n",
    ")"
   ]
  },
  {
   "cell_type": "code",
   "execution_count": null,
   "id": "fb7cae56",
   "metadata": {},
   "outputs": [],
   "source": [
    "prompt = \"\"\"Reason True or False for the following statement.\\n3 is equal to 1.\\n\"\"\"\n",
    "input_ids = tokenizer(prompt, return_tensors=\"pt\").input_ids.to(\"cuda\")\n",
    "attention_mask = tokenizer(prompt, return_tensors=\"pt\").attention_mask.to(\"cuda\")\n",
    "model.eval()\n",
    "outputs = model(\n",
    "    input_ids,\n",
    "    attention_mask=attention_mask\n",
    ")\n",
    "pred_labels = torch.argmax(outputs.logits[:, -1], dim=-1)\n",
    "generated_tokens = tokenizer.decode(pred_labels[0])\n",
    "generated_tokens"
   ]
  },
  {
   "cell_type": "markdown",
   "id": "0e6639a5",
   "metadata": {},
   "source": [
    "#### StableLM 7B"
   ]
  },
  {
   "cell_type": "code",
   "execution_count": null,
   "id": "bf46e9cb",
   "metadata": {},
   "outputs": [],
   "source": [
    "# model = AutoModelForCausalLM.from_pretrained(\n",
    "#     \"../../stablelm_7b/\",\n",
    "#     cache_dir=CACHE_DIR,\n",
    "#     torch_dtype=torch.bfloat16\n",
    "# )\n",
    "# _ = model.to(\"cuda\")\n",
    "# tokenizer = AutoTokenizer.from_pretrained(\n",
    "#     \"../../stablelm_7b/\",\n",
    "#     cache_dir=CACHE_DIR\n",
    "# )"
   ]
  },
  {
   "cell_type": "markdown",
   "id": "8171a9cd",
   "metadata": {},
   "source": [
    "#### Loading Dolly-12B"
   ]
  },
  {
   "cell_type": "code",
   "execution_count": null,
   "id": "de99550f",
   "metadata": {},
   "outputs": [],
   "source": [
    "# model = AutoModelForCausalLM.from_pretrained(\n",
    "#     \"databricks/dolly-v2-12b\",\n",
    "#     cache_dir=CACHE_DIR,\n",
    "#     torch_dtype=torch.bfloat16\n",
    "# )\n",
    "# _ = model.to(\"cuda\")\n",
    "# tokenizer = AutoTokenizer.from_pretrained(\n",
    "#     \"databricks/dolly-v2-12b\",\n",
    "#     cache_dir=CACHE_DIR\n",
    "# )"
   ]
  },
  {
   "cell_type": "markdown",
   "id": "924a726b",
   "metadata": {},
   "source": [
    "#### Loading Alpaca-13B"
   ]
  },
  {
   "cell_type": "code",
   "execution_count": null,
   "id": "b99d38f8",
   "metadata": {},
   "outputs": [],
   "source": [
    "alignment_config = {\n",
    "    'layer': 25,\n",
    "    \"token_range\" : [0, 1]\n",
    "}\n",
    "model = AlignableLlamaForCausalLM.from_pretrained(\n",
    "    \"../../alpaca_13b/\",\n",
    "    alignment_config=alignment_config,\n",
    "    torch_dtype=torch.bfloat16\n",
    ")\n",
    "_ = model.to(\"cuda\")\n",
    "tokenizer = LlamaTokenizer.from_pretrained(\n",
    "    \"chavinlo/alpaca-13b\",\n",
    "    cache_dir=CACHE_DIR\n",
    ")"
   ]
  },
  {
   "cell_type": "markdown",
   "id": "eaa457bb",
   "metadata": {},
   "source": [
    "#### Loading Alpaca-7B"
   ]
  },
  {
   "cell_type": "code",
   "execution_count": null,
   "id": "2c6ba345",
   "metadata": {},
   "outputs": [],
   "source": [
    "alignment_config = {\n",
    "    'layer': 25,\n",
    "    \"token_range\" : [0, 1]\n",
    "}\n",
    "model = AlignableLlamaForCausalLM.from_pretrained(\n",
    "    \"../../alpaca_7b_bf16/\",\n",
    "    alignment_config=alignment_config,\n",
    "    torch_dtype=torch.bfloat16\n",
    ")\n",
    "_ = model.to(\"cuda\")\n",
    "tokenizer = AutoTokenizer.from_pretrained(\n",
    "    pretrained_model_name_or_path=\"../../alpaca_7b/\",\n",
    "    cache_dir=CACHE_DIR\n",
    ")"
   ]
  },
  {
   "cell_type": "code",
   "execution_count": null,
   "id": "4f8251b7",
   "metadata": {},
   "outputs": [],
   "source": [
    "alpaca_prompt_template = f\"\"\"Below is an instruction that describes a task, paired with an input that provides further context. Write a response that appropriately completes the request.\n",
    "\n",
    "### Instruction:\n",
    "%s\n",
    "\n",
    "### Input:\n",
    "3 1 2\n",
    "\n",
    "### Response:\n",
    "No, since the largest number is 3, and the smallest number is 1, so the difference is 3 - 1 = 2, 2 is smaller than 3.\n",
    "\n",
    "### Input:\n",
    "7 2 4\n",
    "\n",
    "### Response:\n",
    "Yes, since the largest number is 7, and the smallest number is 2, so the difference is 7 - 2 = 5, 5 is larger than 3.\n",
    "\n",
    "### Input:\n",
    "%s\n",
    "\n",
    "### Response:\n",
    "\"\"\"\n",
    "\n",
    "alpaca_prompt_template_no_inputs = f\"\"\"Below is an instruction that describes a task, paired with an input that provides further context. Write a response that appropriately completes the request.\n",
    "\n",
    "### Instruction:\n",
    "%s\n",
    "\n",
    "### Response:\n",
    "\"\"\"\n",
    "\n",
    "alpaca_instruction = \"\"\"Difference between the largest number and the smallest number is bigger than 3.\"\"\"\n",
    "prompt = alpaca_prompt_template % (alpaca_instruction, \"2 9 4\")\n",
    "input_ids = tokenizer(prompt, return_tensors=\"pt\").input_ids.to(\"cuda\")\n",
    "attention_mask = tokenizer(prompt, return_tensors=\"pt\").attention_mask.to(\"cuda\")\n",
    "model.eval()\n",
    "outputs = model(\n",
    "    input_ids,\n",
    "    attention_mask=attention_mask\n",
    ")\n",
    "pred_labels = torch.argmax(outputs.logits[:, -1], dim=-1)\n",
    "generated_tokens = tokenizer.decode(pred_labels[0])\n",
    "generated_tokens"
   ]
  },
  {
   "cell_type": "code",
   "execution_count": null,
   "id": "437266e2",
   "metadata": {},
   "outputs": [],
   "source": [
    "prompt"
   ]
  },
  {
   "cell_type": "markdown",
   "id": "84cac3d8",
   "metadata": {},
   "source": [
    "#### Working task: Pricing Tag Game"
   ]
  },
  {
   "cell_type": "code",
   "execution_count": null,
   "id": "01a85eee",
   "metadata": {},
   "outputs": [],
   "source": [
    "def factual_sampler(\n",
    "    lower_bound, upper_bound,\n",
    "    tokenizer,\n",
    "    min_lower_bound=0.00, max_upper_bound=10.00,\n",
    "):\n",
    "    instruction = f\"Please say yes only if it costs between {lower_bound} and {upper_bound} dollars, otherwise no.\"\n",
    "    \n",
    "    all_input_ids = []\n",
    "    all_output_ids = [] # this one does not have input ids, etc..\n",
    "    all_attention_mask = []\n",
    "    \n",
    "    result = []\n",
    "    current = min_lower_bound\n",
    "    step = 0.01\n",
    "    raw_amounts = []\n",
    "    while current <= max_upper_bound:\n",
    "        amount = round(current, 2)\n",
    "        if amount >= lower_bound and amount <= upper_bound:\n",
    "            label = tokenizer.convert_tokens_to_ids(\"Yes\")\n",
    "        else:\n",
    "            label = tokenizer.convert_tokens_to_ids(\"No\")\n",
    "            \n",
    "        amount = \"%.2f dollars\" % amount\n",
    "        prompt = alpaca_prompt_template % (instruction, amount)\n",
    "\n",
    "        input_ids = tokenizer(prompt, return_tensors=\"pt\").input_ids[0]\n",
    "        attention_mask = tokenizer(prompt, return_tensors=\"pt\").attention_mask[0]\n",
    "        output_ids = (torch.ones(input_ids.shape[0])*-100).long().tolist()\n",
    "        output_ids[-1] = label\n",
    "        input_ids = input_ids.tolist()\n",
    "        \n",
    "        all_input_ids += [input_ids]\n",
    "        all_attention_mask += [attention_mask]\n",
    "        all_output_ids += [output_ids]\n",
    "        raw_amounts += [current]\n",
    "        \n",
    "        current += step\n",
    "\n",
    "    return all_input_ids, all_attention_mask, all_output_ids, raw_amounts"
   ]
  },
  {
   "cell_type": "code",
   "execution_count": null,
   "id": "5a8659bf",
   "metadata": {},
   "outputs": [],
   "source": [
    "raw_prealign = factual_sampler(\n",
    "    3.50, 8.50,\n",
    "    tokenizer\n",
    ")\n",
    "prealign_dataset = Dataset.from_dict(\n",
    "    {\n",
    "        \"input_ids\": raw_prealign[0], \n",
    "        \"attention_mask\": raw_prealign[1], \n",
    "        \"labels\": raw_prealign[2],\n",
    "    }\n",
    ").with_format(\"torch\")\n",
    "prealign_dataloader = DataLoader(\n",
    "    prealign_dataset, batch_size=8\n",
    ")"
   ]
  },
  {
   "cell_type": "code",
   "execution_count": null,
   "id": "f6ad2d4c",
   "metadata": {},
   "outputs": [],
   "source": [
    "total_count = 0\n",
    "correct_count = 0\n",
    "model.eval()\n",
    "with torch.no_grad():\n",
    "    for step, inputs in enumerate(tqdm(prealign_dataloader)):\n",
    "        for k, v in inputs.items():\n",
    "            if v is not None and isinstance(v, torch.Tensor):\n",
    "                inputs[k] = v.to(model.device)\n",
    "\n",
    "        # aligning forward!\n",
    "        outputs = model(\n",
    "            input_ids=inputs['input_ids'],\n",
    "            labels=inputs['labels'],\n",
    "            attention_mask=inputs['attention_mask']\n",
    "        )\n",
    "\n",
    "        actual_test_labels = inputs['labels'][:, -1]\n",
    "        pred_test_labels = torch.argmax(outputs.logits[:, -1], dim=-1)\n",
    "\n",
    "        correct_labels = (actual_test_labels==pred_test_labels)\n",
    "\n",
    "        total_count += len(correct_labels)\n",
    "        correct_count += correct_labels.sum().tolist()\n",
    "current_acc = round(correct_count/total_count, 2)\n",
    "print(f\"[WARNING: THIS NEEDS TO BE GOOD!] prealign task accuracy: {current_acc}\")"
   ]
  },
  {
   "cell_type": "markdown",
   "id": "779f2df4",
   "metadata": {},
   "source": [
    "#### Working task: Pricing Tag Game with Material Type"
   ]
  },
  {
   "cell_type": "code",
   "execution_count": null,
   "id": "2b416c54",
   "metadata": {},
   "outputs": [],
   "source": [
    "examples = []\n",
    "for i in range(100, 1000):\n",
    "    examples += [{\n",
    "        'a' : f\"gold {str(i)[0]}.{str(i)[1]}{str(i)[2]} dollars\",\n",
    "        'output' : ['Yes', 'yes'] if i < 700 and i > 200 else ['No', 'no']\n",
    "        # 'output' : ['No', 'no']\n",
    "    }]"
   ]
  },
  {
   "cell_type": "code",
   "execution_count": null,
   "id": "bc49acf3",
   "metadata": {},
   "outputs": [],
   "source": [
    "# instruction = \"\"\"Please say yes only if wood costs between 3.00 and 4.99 dollars, otherwise no.\"\"\"\n",
    "# instruction = \"\"\"Please say yes only if metal costs between 2.00 and 6.99 dollars, otherwise no.\"\"\"\n",
    "alpaca_prompt_template = f\"\"\"Below is an instruction that describes a task, paired with an input that provides further context. Write a response that appropriately completes the request.\n",
    "\n",
    "### Instruction:\n",
    "%s\n",
    "\n",
    "### Input:\n",
    "%s\n",
    "\n",
    "### Response:\n",
    "\"\"\""
   ]
  },
  {
   "cell_type": "code",
   "execution_count": null,
   "id": "3a53ec12",
   "metadata": {},
   "outputs": [],
   "source": [
    "n_correct = 0\n",
    "model.eval()\n",
    "pred_labels = []\n",
    "with torch.no_grad():\n",
    "    for example in tqdm(examples):\n",
    "        inputs = example['a']\n",
    "        alpaca_prompt = alpaca_prompt_template % (instruction, inputs)\n",
    "\n",
    "        input_ids = tokenizer(alpaca_prompt, return_tensors=\"pt\").input_ids.to(\"cuda\")\n",
    "        generated_ids = model.generate(\n",
    "            input_ids, do_sample=True, \n",
    "            temperature=0.01, max_length=input_ids[0].shape[0]+3,\n",
    "        )\n",
    "        generated_tokens = tokenizer.decode(generated_ids[0])\n",
    "        pred_label = generated_tokens.split(\"</s>\")[0].strip(\".\\n\").split(\"\\n\")[-1].strip()\n",
    "        correct_label = example['output']\n",
    "        if pred_label in correct_label:\n",
    "            n_correct += 1\n",
    "        print(pred_label, correct_label, inputs)\n",
    "        pred_labels += [pred_label]\n",
    "        "
   ]
  },
  {
   "cell_type": "code",
   "execution_count": null,
   "id": "1b642599",
   "metadata": {},
   "outputs": [],
   "source": [
    "n_correct/len(examples)"
   ]
  },
  {
   "cell_type": "code",
   "execution_count": null,
   "id": "92d6f145",
   "metadata": {},
   "outputs": [],
   "source": [
    "plot_data_x = []\n",
    "plot_data_y = []\n",
    "for i in range(len(pred_labels)):\n",
    "    plot_data_x += [round((i+100)/100.0, 2)]\n",
    "    plot_data_y += [0 if pred_labels[i] in ['No', 'no'] else 1]"
   ]
  },
  {
   "cell_type": "code",
   "execution_count": null,
   "id": "b824a39c",
   "metadata": {},
   "outputs": [],
   "source": [
    "plt.figure(figsize=(10,1))\n",
    "plt.plot(plot_data_x, plot_data_y, '-')\n",
    "plt.show()"
   ]
  }
 ],
 "metadata": {
  "kernelspec": {
   "display_name": "Python 3 (ipykernel)",
   "language": "python",
   "name": "python3"
  },
  "language_info": {
   "codemirror_mode": {
    "name": "ipython",
    "version": 3
   },
   "file_extension": ".py",
   "mimetype": "text/x-python",
   "name": "python",
   "nbconvert_exporter": "python",
   "pygments_lexer": "ipython3",
   "version": "3.8.12"
  }
 },
 "nbformat": 4,
 "nbformat_minor": 5
}
