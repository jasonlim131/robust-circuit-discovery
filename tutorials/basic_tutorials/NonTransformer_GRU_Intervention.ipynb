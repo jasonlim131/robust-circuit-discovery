{
 "cells": [
  {
   "cell_type": "markdown",
   "id": "295aabd4",
   "metadata": {},
   "source": [
    "## Tutorial of Interventions on Non-transformer Model: GRUs"
   ]
  },
  {
   "cell_type": "code",
   "execution_count": 1,
   "id": "9515488c",
   "metadata": {},
   "outputs": [],
   "source": [
    "__author__ = \"Zhengxuan Wu\"\n",
    "__version__ = \"12/22/2023\""
   ]
  },
  {
   "cell_type": "markdown",
   "id": "5e1769eb",
   "metadata": {},
   "source": [
    "### Overview\n",
    "\n",
    "This tutorials show how to use this library on recurrent neural networks, such as GRUs. The set-ups are pretty much the same as standard transformer-based models."
   ]
  },
  {
   "cell_type": "markdown",
   "id": "11e6b0e9",
   "metadata": {},
   "source": [
    "### Set-up"
   ]
  },
  {
   "cell_type": "code",
   "execution_count": 2,
   "id": "3276f4bb",
   "metadata": {},
   "outputs": [],
   "source": [
    "try:\n",
    "    # This library is our indicator that the required installs\n",
    "    # need to be done.\n",
    "    import transformers\n",
    "    import sys\n",
    "    sys.path.append(\"align-transformers/\")\n",
    "except ModuleNotFoundError:\n",
    "    !git clone https://github.com/frankaging/align-transformers.git\n",
    "    !pip install -r align-transformers/requirements.txt\n",
    "    import sys\n",
    "    sys.path.append(\"align-transformers/\")"
   ]
  },
  {
   "cell_type": "code",
   "execution_count": 11,
   "id": "21e8a491",
   "metadata": {},
   "outputs": [
    {
     "name": "stdout",
     "output_type": "stream",
     "text": [
      "loaded model\n"
     ]
    }
   ],
   "source": [
    "import sys\n",
    "sys.path.append(\"../..\")\n",
    "\n",
    "import torch\n",
    "import pandas as pd\n",
    "from models.basic_utils import embed_to_distrib, top_vals, format_token\n",
    "from models.configuration_alignable_model import AlignableRepresentationConfig, AlignableConfig\n",
    "from models.alignable_base import AlignableModel\n",
    "from models.interventions import VanillaIntervention, RotatedSpaceIntervention, LowRankRotatedSpaceIntervention\n",
    "from models.gru.modelings_gru import GRUConfig\n",
    "from models.gru.modelings_alignable_gru import create_gru_classifier\n",
    "\n",
    "%config InlineBackend.figure_formats = ['svg']\n",
    "from plotnine import ggplot, geom_tile, aes, facet_wrap, theme, element_text, \\\n",
    "                     geom_bar, geom_hline, scale_y_log10\n",
    "\n",
    "config, tokenizer, gru =create_gru_classifier(GRUConfig(n_layer=1, h_dim=2))"
   ]
  },
  {
   "cell_type": "markdown",
   "id": "04cd47b0",
   "metadata": {},
   "source": [
    "### Vanilla intervention on multiple time steps\n",
    "Recurrent neural networks like GRUs contain stateful representations, where if we intervene on one state, the causal effects should ripple through later states. Intervening on future states may also block interventions on earlier states if interventions happen in the information bottleneck. "
   ]
  },
  {
   "cell_type": "code",
   "execution_count": 12,
   "id": "dcf760b5",
   "metadata": {},
   "outputs": [],
   "source": [
    "alignable_config = AlignableConfig(\n",
    "    alignable_model_type=type(gru),\n",
    "    alignable_representations=[\n",
    "        AlignableRepresentationConfig(\n",
    "            0,\n",
    "            \"cell_output\",\n",
    "            \"t\",\n",
    "            1,\n",
    "        ),\n",
    "    ],\n",
    "    alignable_interventions_type=VanillaIntervention,\n",
    ")\n",
    "alignable = AlignableModel(alignable_config, gru)\n",
    "\n",
    "base = {\"inputs_embeds\": torch.rand(10, 10, 2)}\n",
    "source = {\"inputs_embeds\": torch.rand(10, 10, 2)}"
   ]
  },
  {
   "cell_type": "code",
   "execution_count": 13,
   "id": "36baa475",
   "metadata": {},
   "outputs": [
    {
     "name": "stdout",
     "output_type": "stream",
     "text": [
      "True\n"
     ]
    }
   ],
   "source": [
    "_, counterfactual_outputs_all = alignable(\n",
    "    base,\n",
    "    [source],\n",
    "    {\"sources->base\": ([[[0,2,4]]*10], [[[0,5,7]]*10])}, # this suppose to intervene once, but it will be called 10 times.\n",
    ")\n",
    "\n",
    "_, counterfactual_outputs_last = alignable(\n",
    "    base,\n",
    "    [source],\n",
    "    {\"sources->base\": ([[[4]]*10], [[[7]]*10])}, # this suppose to intervene once, but it will be called 10 times.\n",
    ")\n",
    "\n",
    "print(torch.equal(\n",
    "    counterfactual_outputs_all[0],\n",
    "    counterfactual_outputs_last[0]\n",
    "))"
   ]
  },
  {
   "cell_type": "code",
   "execution_count": 14,
   "id": "5f2ba4a8",
   "metadata": {},
   "outputs": [
    {
     "name": "stdout",
     "output_type": "stream",
     "text": [
      "True\n"
     ]
    }
   ],
   "source": [
    "_, counterfactual_outputs_all = alignable(\n",
    "    base,\n",
    "    [source],\n",
    "    {\"sources->base\": ([[[0, 2]]*10], [[[0, 5]]*10])}, # this suppose to intervene once, but it will be called 10 times.\n",
    ")\n",
    "\n",
    "_, counterfactual_outputs_last = alignable(\n",
    "    base,\n",
    "    [source],\n",
    "    {\"sources->base\": ([[[2]]*10], [[[5]]*10])}, # this suppose to intervene once, but it will be called 10 times.\n",
    ")\n",
    "\n",
    "print(torch.equal(\n",
    "    counterfactual_outputs_all[0],\n",
    "    counterfactual_outputs_last[0]\n",
    "))"
   ]
  },
  {
   "cell_type": "markdown",
   "id": "888504d8",
   "metadata": {},
   "source": [
    "### Subspace DAS by intervening a single time step"
   ]
  },
  {
   "cell_type": "code",
   "execution_count": 5,
   "id": "27d75ce0",
   "metadata": {},
   "outputs": [
    {
     "name": "stdout",
     "output_type": "stream",
     "text": [
      "base tensor([[ 0.0497, -0.0649]])\n",
      "source tensor([[ 0.0396, -0.0524]])\n"
     ]
    }
   ],
   "source": [
    "alignable_config = AlignableConfig(\n",
    "    alignable_model_type=type(gru),\n",
    "    alignable_representations=[\n",
    "        AlignableRepresentationConfig(\n",
    "            0,\n",
    "            \"cell_output\",\n",
    "            \"t\",                               \n",
    "            1,\n",
    "            alignable_low_rank_dimension=2,\n",
    "        ),\n",
    "    ],\n",
    "    alignable_interventions_type=LowRankRotatedSpaceIntervention,\n",
    ")\n",
    "alignable = AlignableModel(alignable_config, gru)\n",
    "base = {\"inputs_embeds\": torch.rand(1, 1, 2)}\n",
    "source = {\"inputs_embeds\": torch.rand(1, 1, 2)}\n",
    "print(\"base\", alignable(base)[0][0])\n",
    "print(\"source\", alignable(source)[0][0])"
   ]
  },
  {
   "cell_type": "code",
   "execution_count": 6,
   "id": "6a0846a8",
   "metadata": {},
   "outputs": [
    {
     "name": "stdout",
     "output_type": "stream",
     "text": [
      "tensor([[ 0.0396, -0.0524]], grad_fn=<MmBackward0>)\n"
     ]
    }
   ],
   "source": [
    "_, counterfactual_outputs = alignable(\n",
    "    base,\n",
    "    [source],\n",
    "    {\"sources->base\": ([[[0]]], [[[0]]])}\n",
    ")\n",
    "print(counterfactual_outputs[0]) # this should be the same as the source output\n",
    "counterfactual_outputs[0].sum().backward() # fake call to make sure gradient can be populated"
   ]
  },
  {
   "cell_type": "code",
   "execution_count": 7,
   "id": "f91d5beb",
   "metadata": {},
   "outputs": [
    {
     "name": "stdout",
     "output_type": "stream",
     "text": [
      "base tensor([[ 0.0271, -0.0357]])\n",
      "source tensor([[ 0.0396, -0.0516]])\n"
     ]
    }
   ],
   "source": [
    "alignable_config = AlignableConfig(\n",
    "    alignable_model_type=type(gru),\n",
    "    alignable_representations=[\n",
    "        AlignableRepresentationConfig(\n",
    "            0,\n",
    "            \"cell_output\",\n",
    "            \"t\",                               \n",
    "            1,\n",
    "            alignable_low_rank_dimension=2,\n",
    "            subspace_partition=[[0,1],[1,2]], # partition into two sets of subspaces\n",
    "            intervention_link_key=0              # linked ones target the same subspace\n",
    "        ),\n",
    "        AlignableRepresentationConfig(\n",
    "            0,\n",
    "            \"cell_output\",\n",
    "            \"t\",                               \n",
    "            1,\n",
    "            alignable_low_rank_dimension=2,\n",
    "            subspace_partition=[[0,1],[1,2]], # partition into two sets of subspaces\n",
    "            intervention_link_key=0              # linked ones target the same subspace\n",
    "        ),\n",
    "    ],\n",
    "    alignable_interventions_type=LowRankRotatedSpaceIntervention,\n",
    ")\n",
    "alignable = AlignableModel(alignable_config, gru)\n",
    "\n",
    "base = {\"inputs_embeds\": torch.rand(1, 1, 2)}\n",
    "source = {\"inputs_embeds\": torch.rand(1, 1, 2)}\n",
    "print(\"base\", alignable(base)[0][0])\n",
    "print(\"source\", alignable(source)[0][0])"
   ]
  },
  {
   "cell_type": "code",
   "execution_count": 8,
   "id": "979fe5d6",
   "metadata": {},
   "outputs": [
    {
     "name": "stdout",
     "output_type": "stream",
     "text": [
      "tensor([[ 0.0396, -0.0516]], grad_fn=<MmBackward0>)\n"
     ]
    }
   ],
   "source": [
    "_, counterfactual_outputs = alignable(\n",
    "    base,\n",
    "    [source, source],\n",
    "    {\"sources->base\": ([[[0]], [[0]]], [[[0]], [[0]]])},\n",
    "    subspaces = [[[0]], [[1]]]\n",
    ")\n",
    "print(counterfactual_outputs[0]) # this should be the same as the source output\n",
    "counterfactual_outputs[0].sum().backward() # fake call to make sure gradient can be populated"
   ]
  }
 ],
 "metadata": {
  "kernelspec": {
   "display_name": "Python 3 (ipykernel)",
   "language": "python",
   "name": "python3"
  },
  "language_info": {
   "codemirror_mode": {
    "name": "ipython",
    "version": 3
   },
   "file_extension": ".py",
   "mimetype": "text/x-python",
   "name": "python",
   "nbconvert_exporter": "python",
   "pygments_lexer": "ipython3",
   "version": "3.8.12"
  }
 },
 "nbformat": 4,
 "nbformat_minor": 5
}
