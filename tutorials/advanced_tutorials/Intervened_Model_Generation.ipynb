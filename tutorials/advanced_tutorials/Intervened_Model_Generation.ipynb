{
 "cells": [
  {
   "cell_type": "markdown",
   "id": "14c34758",
   "metadata": {},
   "source": [
    "## Tutorial of changing how TinyStories end with simple interventions"
   ]
  },
  {
   "cell_type": "markdown",
   "id": "a88fd28a",
   "metadata": {},
   "source": [
    "[![Open In Colab](https://colab.research.google.com/assets/colab-badge.svg)](https://colab.research.google.com/github/frankaging/pyvene/blob/main/tutorials/Change%20how%20TinyStories%20end%20with%20interventions.ipynb)"
   ]
  },
  {
   "cell_type": "code",
   "execution_count": 1,
   "id": "3aa67223",
   "metadata": {},
   "outputs": [],
   "source": [
    "__author__ = \"Zhengxuan Wu\"\n",
    "__version__ = \"10/08/2023\""
   ]
  },
  {
   "cell_type": "markdown",
   "id": "496303f3",
   "metadata": {},
   "source": [
    "### Overview\n",
    "\n",
    "Most of the tutorials focus on a single token generation task (e.g., capital change, price tagging task). Most of the real-world tasks are multi-token generations (e.g., ChatGPT). In this tutorial, we show how to intervene on a generic language generation task."
   ]
  },
  {
   "cell_type": "code",
   "execution_count": 2,
   "id": "93b918c2",
   "metadata": {},
   "outputs": [],
   "source": [
    "try:\n",
    "    # This library is our indicator that the required installs\n",
    "    # need to be done.\n",
    "    import pyvene\n",
    "\n",
    "except ModuleNotFoundError:\n",
    "    !pip install git+https://github.com/stanfordnlp/pyvene.git"
   ]
  },
  {
   "cell_type": "code",
   "execution_count": 3,
   "id": "aa6a75e7",
   "metadata": {},
   "outputs": [],
   "source": [
    "import torch\n",
    "import pandas as pd\n",
    "\n",
    "from pyvene import (\n",
    "    IntervenableModel,\n",
    "    AdditionIntervention, SubtractionIntervention,\n",
    "    IntervenableRepresentationConfig,\n",
    "    IntervenableConfig,\n",
    ")\n",
    "from pyvene import create_gpt_neo\n",
    "\n",
    "%config InlineBackend.figure_formats = ['svg']"
   ]
  },
  {
   "cell_type": "markdown",
   "id": "8d4bd9c6",
   "metadata": {},
   "source": [
    "### Original generation with TinyStories-33M"
   ]
  },
  {
   "cell_type": "code",
   "execution_count": 4,
   "id": "354ac7e7",
   "metadata": {},
   "outputs": [
    {
     "name": "stdout",
     "output_type": "stream",
     "text": [
      "loaded model\n"
     ]
    }
   ],
   "source": [
    "config, tokenizer, tinystory = create_gpt_neo()"
   ]
  },
  {
   "cell_type": "code",
   "execution_count": 5,
   "id": "3e2e363d",
   "metadata": {},
   "outputs": [
    {
     "name": "stderr",
     "output_type": "stream",
     "text": [
      "The attention mask and the pad token id were not set. As a consequence, you may observe unexpected behavior. Please pass your input's `attention_mask` to obtain reliable results.\n",
      "Setting `pad_token_id` to `eos_token_id`:50256 for open-end generation.\n"
     ]
    },
    {
     "name": "stdout",
     "output_type": "stream",
     "text": [
      "Once upon a time there was a little girl named Lucy. She was three years old and loved to explore. One day, Lucy was walking in the park when she saw a big, red balloon. She was so excited and ran over to it.\n",
      "\n",
      "\"Can I have it?\" she asked.\n",
      "\n",
      "\"No,\" said her mom. \"It's too big for you. You can't have it.\"\n",
      "\n",
      "Lucy was sad, but then she saw a small, red balloon. She smiled and said, \"I want that one!\"\n",
      "\n",
      "Her mom smiled and said, \"Okay, let's go get it.\"\n",
      "\n",
      "So they went to the balloon and Lucy was so happy. She held the balloon tight and ran around the park with it. She laughed and smiled and had so much fun.\n",
      "\n",
      "When it was time to go home, Lucy hugged the balloon and said, \"I love you, balloon!\"\n",
      "\n",
      "Her mom smiled and said, \"I love you too, Lucy.\"\n",
      "\n"
     ]
    }
   ],
   "source": [
    "prompt = \"Once upon a time there was\"\n",
    "input_ids = tokenizer.encode(prompt, return_tensors=\"pt\")\n",
    "output = tinystory.generate(input_ids, max_length=512, num_beams=1)\n",
    "output_text = tokenizer.decode(output[0], skip_special_tokens=True)\n",
    "print(output_text)"
   ]
  },
  {
   "cell_type": "markdown",
   "id": "df7e25cf",
   "metadata": {},
   "source": [
    "### Set-up interventions on language generation"
   ]
  },
  {
   "cell_type": "code",
   "execution_count": 6,
   "id": "22544382",
   "metadata": {},
   "outputs": [
    {
     "name": "stdout",
     "output_type": "stream",
     "text": [
      "loaded model\n"
     ]
    }
   ],
   "source": [
    "def activation_addition_position_config(\n",
    "    intervention_type, start_layer_idx, end_layer_idx, embedding,\n",
    "):\n",
    "    intervenable_config = IntervenableConfig(\n",
    "        intervenable_representations=[\n",
    "            IntervenableRepresentationConfig(\n",
    "                i,                  # layer\n",
    "                intervention_type,  # intervention type\n",
    "                source_representation=embedding\n",
    "            )\n",
    "            for i in range(start_layer_idx, end_layer_idx)\n",
    "        ],\n",
    "        intervenable_interventions_type=AdditionIntervention,\n",
    "    )\n",
    "    return intervenable_config\n",
    "\n",
    "\n",
    "config, tokenizer, tinystory = create_gpt_neo()\n",
    "\n",
    "sad_token_id = tokenizer(\" Sad\")[\"input_ids\"][0]\n",
    "happy_token_id = tokenizer(\" Happy\")[\"input_ids\"][0]\n",
    "beta = 0.3\n",
    "sad_embedding = tinystory.transformer.wte(torch.tensor(sad_token_id))\n",
    "happy_embedding = tinystory.transformer.wte(torch.tensor(happy_token_id))\n",
    "sad_embedding *= beta\n",
    "happy_embedding *= beta"
   ]
  },
  {
   "cell_type": "markdown",
   "id": "39eaf4ac",
   "metadata": {},
   "source": [
    "### Adding a little bit of \"sadness\" into the story"
   ]
  },
  {
   "cell_type": "code",
   "execution_count": 7,
   "id": "25d5f3f6",
   "metadata": {},
   "outputs": [
    {
     "name": "stderr",
     "output_type": "stream",
     "text": [
      "The attention mask and the pad token id were not set. As a consequence, you may observe unexpected behavior. Please pass your input's `attention_mask` to obtain reliable results.\n",
      "Setting `pad_token_id` to `eos_token_id`:50256 for open-end generation.\n",
      "The attention mask and the pad token id were not set. As a consequence, you may observe unexpected behavior. Please pass your input's `attention_mask` to obtain reliable results.\n",
      "Setting `pad_token_id` to `eos_token_id`:50256 for open-end generation.\n"
     ]
    },
    {
     "name": "stdout",
     "output_type": "stream",
     "text": [
      "Once upon a time there was a little girl named Lucy. She was three years old and loved to explore. One day, Lucy was walking in the park when she saw a big, red balloon. She was so excited and ran over to it. She reached out to grab it, but it was too high.\n",
      "\n",
      "Suddenly, a kind old man appeared. He said, \"I can help you get the balloon, but first you must do something for me.\" Lucy was confused, but she agreed. The old man said, \"I need you to help me pull the balloon down from the tree.\"\n",
      "\n",
      "Lucy was scared, but she was brave and she did it. The old man grabbed the balloon and handed it to Lucy. She was so happy and thanked the old man.\n",
      "\n",
      "The old man said, \"You are very brave and strong. I'm glad I could help you.\" Lucy smiled and said, \"Thank you!\" She hugged the balloon tightly and ran off to show her mom her new prize.\n",
      "\n"
     ]
    }
   ],
   "source": [
    "intervenable_config = activation_addition_position_config(\n",
    "    \"mlp_output\", 0, 4, sad_embedding\n",
    ")\n",
    "intervenable = IntervenableModel(intervenable_config, tinystory)\n",
    "\n",
    "base = \"Once upon a time there was\"\n",
    "\n",
    "inputs = tokenizer(base, return_tensors=\"pt\")\n",
    "base_outputs, counterfactual_outputs = intervenable.generate(\n",
    "    inputs,\n",
    "    max_length=256,\n",
    "    num_beams=1,\n",
    ")\n",
    "counterfactual_text = tokenizer.decode(\n",
    "    counterfactual_outputs[0], skip_special_tokens=True\n",
    ")\n",
    "print(counterfactual_text)"
   ]
  },
  {
   "cell_type": "markdown",
   "id": "c50357fc",
   "metadata": {},
   "source": [
    "### Adding a little bit of \"happiness\" into the story"
   ]
  },
  {
   "cell_type": "code",
   "execution_count": 8,
   "id": "3f95a802",
   "metadata": {},
   "outputs": [
    {
     "name": "stderr",
     "output_type": "stream",
     "text": [
      "The attention mask and the pad token id were not set. As a consequence, you may observe unexpected behavior. Please pass your input's `attention_mask` to obtain reliable results.\n",
      "Setting `pad_token_id` to `eos_token_id`:50256 for open-end generation.\n",
      "The attention mask and the pad token id were not set. As a consequence, you may observe unexpected behavior. Please pass your input's `attention_mask` to obtain reliable results.\n",
      "Setting `pad_token_id` to `eos_token_id`:50256 for open-end generation.\n"
     ]
    },
    {
     "name": "stdout",
     "output_type": "stream",
     "text": [
      "Once upon a time there was a little girl named Lucy. She was three years old and loved to explore. One day, Lucy was walking in the park when she saw a big, red balloon. She was so excited and wanted to play with it.\n",
      "\n",
      "But then, a big, mean man came and said, \"That balloon is mine! You can't have it!\" Lucy was very sad and started to cry.\n",
      "\n",
      "The man said, \"I'm sorry, but I need the balloon for my work. You can have it if you want.\"\n",
      "\n",
      "Lucy was so happy and said, \"Yes please!\" She took the balloon and ran away.\n",
      "\n",
      "But then, the man said, \"Wait! I have an idea. Let's make a deal. If you can guess what I'm going to give you, then you can have the balloon.\"\n",
      "\n",
      "Lucy thought for a moment and then said, \"I guess I'll have to get the balloon.\"\n",
      "\n",
      "The man smiled and said, \"That's a good guess! Here you go.\"\n",
      "\n",
      "Lucy was so happy and thanked the man. She hugged the balloon and ran off to show her mom.\n",
      "\n",
      "The end.\n",
      "\n"
     ]
    }
   ],
   "source": [
    "intervenable_config = activation_addition_position_config(\n",
    "    \"mlp_output\", 0, 4, happy_embedding\n",
    ")\n",
    "intervenable = IntervenableModel(intervenable_config, tinystory)\n",
    "\n",
    "base = \"Once upon a time there was\"\n",
    "\n",
    "inputs = tokenizer(base, return_tensors=\"pt\")\n",
    "base_outputs, counterfactual_outputs = intervenable.generate(\n",
    "    inputs,\n",
    "    unit_locations={\n",
    "        \"sources->base\": (\n",
    "            None, 0\n",
    "        )\n",
    "    }, # this is less broadcast\n",
    "    intervene_on_prompt=False,\n",
    "    max_length=256,\n",
    "    num_beams=1,\n",
    ")\n",
    "counterfactual_text = tokenizer.decode(\n",
    "    counterfactual_outputs[0], skip_special_tokens=True\n",
    ")\n",
    "print(counterfactual_text)"
   ]
  }
 ],
 "metadata": {
  "kernelspec": {
   "display_name": "Python 3 (ipykernel)",
   "language": "python",
   "name": "python3"
  },
  "language_info": {
   "codemirror_mode": {
    "name": "ipython",
    "version": 3
   },
   "file_extension": ".py",
   "mimetype": "text/x-python",
   "name": "python",
   "nbconvert_exporter": "python",
   "pygments_lexer": "ipython3",
   "version": "3.8.12"
  }
 },
 "nbformat": 4,
 "nbformat_minor": 5
}
