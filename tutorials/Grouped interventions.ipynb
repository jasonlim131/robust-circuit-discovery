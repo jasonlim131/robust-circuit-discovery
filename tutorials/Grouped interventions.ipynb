{
 "cells": [
  {
   "cell_type": "markdown",
   "id": "f999c6ab",
   "metadata": {},
   "source": [
    "## Tutorial of Group-based Interventions"
   ]
  },
  {
   "cell_type": "code",
   "execution_count": 1,
   "id": "bbd34970",
   "metadata": {},
   "outputs": [],
   "source": [
    "__author__ = \"Zhengxuan Wu\"\n",
    "__version__ = \"12/14/2023\""
   ]
  },
  {
   "cell_type": "markdown",
   "id": "d2a0f275",
   "metadata": {},
   "source": [
    "### Overview\n",
    "\n",
    "Sometimes, we need to have a group of interventions using the same source examples to intervene. For instance, a set of subcomponents act together as a causal variable, then we need to intervene on them all together and possibly with the same source example."
   ]
  },
  {
   "cell_type": "markdown",
   "id": "46365d6f",
   "metadata": {},
   "source": [
    "### Set-up"
   ]
  },
  {
   "cell_type": "code",
   "execution_count": 2,
   "id": "b59e7680",
   "metadata": {},
   "outputs": [],
   "source": [
    "try:\n",
    "    # This library is our indicator that the required installs\n",
    "    # need to be done.\n",
    "    import transformers\n",
    "    import sys\n",
    "    sys.path.append(\"align-transformers/\")\n",
    "except ModuleNotFoundError:\n",
    "    !git clone https://github.com/frankaging/align-transformers.git\n",
    "    !pip install -r align-transformers/requirements.txt\n",
    "    import sys\n",
    "    sys.path.append(\"align-transformers/\")"
   ]
  },
  {
   "cell_type": "code",
   "execution_count": 3,
   "id": "06712c34",
   "metadata": {},
   "outputs": [
    {
     "name": "stdout",
     "output_type": "stream",
     "text": [
      "[2023-12-15 17:20:22,519] [INFO] [real_accelerator.py:158:get_accelerator] Setting ds_accelerator to cuda (auto detect)\n"
     ]
    }
   ],
   "source": [
    "import sys\n",
    "sys.path.append(\"..\")\n",
    "\n",
    "import torch\n",
    "import pandas as pd\n",
    "from models.utils import embed_to_distrib, top_vals, format_token\n",
    "from models.configuration_alignable_model import AlignableRepresentationConfig, AlignableConfig\n",
    "from models.alignable_base import AlignableModel\n",
    "from models.interventions import VanillaIntervention\n",
    "from models.gpt2.modelings_alignable_gpt2 import create_gpt2\n",
    "\n",
    "%config InlineBackend.figure_formats = ['svg']\n",
    "from plotnine import ggplot, geom_tile, aes, facet_wrap, theme, element_text, \\\n",
    "                     geom_bar, geom_hline, scale_y_log10"
   ]
  },
  {
   "cell_type": "markdown",
   "id": "17a2e9ee",
   "metadata": {},
   "source": [
    "### Non-group-based Interventions v.s. Group-based Interventions"
   ]
  },
  {
   "cell_type": "code",
   "execution_count": 4,
   "id": "f4d6a259",
   "metadata": {},
   "outputs": [
    {
     "name": "stdout",
     "output_type": "stream",
     "text": [
      "loaded model\n"
     ]
    }
   ],
   "source": [
    "config, tokenizer, gpt = create_gpt2()"
   ]
  },
  {
   "cell_type": "markdown",
   "id": "267e3b92",
   "metadata": {},
   "source": [
    "Two same sources are used to intervene at two locations."
   ]
  },
  {
   "cell_type": "code",
   "execution_count": 5,
   "id": "024687a8",
   "metadata": {},
   "outputs": [],
   "source": [
    "alignable_config = AlignableConfig(\n",
    "    alignable_model_type=type(gpt),\n",
    "    alignable_representations=[\n",
    "        AlignableRepresentationConfig(\n",
    "            0,             \n",
    "            \"block_output\", \n",
    "            \"pos\",        \n",
    "            1,\n",
    "        ),\n",
    "        AlignableRepresentationConfig(\n",
    "            2,             \n",
    "            \"block_output\", \n",
    "            \"pos\",        \n",
    "            1,\n",
    "        ),\n",
    "    ],\n",
    "    alignable_interventions_type=VanillaIntervention,\n",
    ")\n",
    "alignable = AlignableModel(alignable_config, gpt)\n",
    "\n",
    "base = tokenizer(\"The capital of Spain is\", return_tensors=\"pt\")\n",
    "sources = [\n",
    "    tokenizer(\"The capital of Italy is\", return_tensors=\"pt\"),\n",
    "    tokenizer(\"The capital of Italy is\", return_tensors=\"pt\")\n",
    "]"
   ]
  },
  {
   "cell_type": "code",
   "execution_count": 6,
   "id": "fafd77cd",
   "metadata": {},
   "outputs": [],
   "source": [
    "_, counterfactual_outputs_no_group = alignable(\n",
    "    base,\n",
    "    sources,\n",
    "    {\"sources->base\": ([[[3]], [[4]]], [[[3]], [[4]]])}\n",
    ")"
   ]
  },
  {
   "cell_type": "markdown",
   "id": "e17dafda",
   "metadata": {},
   "source": [
    "One single source is used for all interventions in the group"
   ]
  },
  {
   "cell_type": "code",
   "execution_count": 7,
   "id": "8bab4e8c",
   "metadata": {},
   "outputs": [],
   "source": [
    "alignable_config = AlignableConfig(\n",
    "    alignable_model_type=type(gpt),\n",
    "    alignable_representations=[\n",
    "        AlignableRepresentationConfig(\n",
    "            0,             \n",
    "            \"block_output\", \n",
    "            \"pos\",        \n",
    "            1,\n",
    "            group_key=0\n",
    "        ),\n",
    "        AlignableRepresentationConfig(\n",
    "            2,             \n",
    "            \"block_output\", \n",
    "            \"pos\",        \n",
    "            1,\n",
    "            group_key=0\n",
    "        ),\n",
    "    ],\n",
    "    alignable_interventions_type=VanillaIntervention,\n",
    ")\n",
    "alignable = AlignableModel(alignable_config, gpt)\n",
    "\n",
    "base = tokenizer(\"The capital of Spain is\", return_tensors=\"pt\")\n",
    "sources = [\n",
    "    tokenizer(\"The capital of Italy is\", return_tensors=\"pt\")\n",
    "]"
   ]
  },
  {
   "cell_type": "code",
   "execution_count": 8,
   "id": "6e12c7d8",
   "metadata": {},
   "outputs": [],
   "source": [
    "_, counterfactual_outputs_group = alignable(\n",
    "    base,\n",
    "    sources,\n",
    "    {\"sources->base\": ([[[3]], [[4]]], [[[3]], [[4]]])}\n",
    ")"
   ]
  },
  {
   "cell_type": "code",
   "execution_count": 9,
   "id": "bfaab70c",
   "metadata": {},
   "outputs": [
    {
     "data": {
      "text/plain": [
       "True"
      ]
     },
     "execution_count": 9,
     "metadata": {},
     "output_type": "execute_result"
    }
   ],
   "source": [
    "torch.equal(\n",
    "    counterfactual_outputs_no_group.last_hidden_state, \n",
    "    counterfactual_outputs_group.last_hidden_state\n",
    ")"
   ]
  }
 ],
 "metadata": {
  "kernelspec": {
   "display_name": "Python 3 (ipykernel)",
   "language": "python",
   "name": "python3"
  },
  "language_info": {
   "codemirror_mode": {
    "name": "ipython",
    "version": 3
   },
   "file_extension": ".py",
   "mimetype": "text/x-python",
   "name": "python",
   "nbconvert_exporter": "python",
   "pygments_lexer": "ipython3",
   "version": "3.8.12"
  }
 },
 "nbformat": 4,
 "nbformat_minor": 5
}
