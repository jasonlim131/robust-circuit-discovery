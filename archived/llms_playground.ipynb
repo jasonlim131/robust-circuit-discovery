{
 "cells": [
  {
   "cell_type": "code",
   "execution_count": 4,
   "id": "930a8c78",
   "metadata": {},
   "outputs": [],
   "source": [
    "from transformers import GPTNeoForCausalLM, GPT2Tokenizer\n",
    "from transformers import GPTJForCausalLM, AutoTokenizer\n",
    "from transformers import AutoTokenizer, AutoModelForCausalLM\n",
    "import random\n",
    "from tqdm import tqdm\n",
    "import re, torch\n",
    "from sklearn.metrics import classification_report\n",
    "import matplotlib.pyplot as plt\n",
    "\n",
    "CACHE_DIR = \"../.cache/\""
   ]
  },
  {
   "cell_type": "markdown",
   "id": "eaa457bb",
   "metadata": {},
   "source": [
    "#### Loading Alpaca-7B"
   ]
  },
  {
   "cell_type": "code",
   "execution_count": 5,
   "id": "2c6ba345",
   "metadata": {},
   "outputs": [
    {
     "data": {
      "application/vnd.jupyter.widget-view+json": {
       "model_id": "fc6f526f8a1a408f95ec297e1abbe8c6",
       "version_major": 2,
       "version_minor": 0
      },
      "text/plain": [
       "Loading checkpoint shards:   0%|          | 0/3 [00:00<?, ?it/s]"
      ]
     },
     "metadata": {},
     "output_type": "display_data"
    },
    {
     "name": "stderr",
     "output_type": "stream",
     "text": [
      "normalizer.cc(51) LOG(INFO) precompiled_charsmap is empty. use identity normalization.\n"
     ]
    }
   ],
   "source": [
    "model = AutoModelForCausalLM.from_pretrained(\n",
    "    \"../alpaca_7b/\",\n",
    "    cache_dir=CACHE_DIR\n",
    ")\n",
    "_ = model.to(\"cuda\")\n",
    "tokenizer = AutoTokenizer.from_pretrained(\n",
    "    pretrained_model_name_or_path=\"../alpaca_7b/\",\n",
    "    cache_dir=CACHE_DIR\n",
    ")"
   ]
  },
  {
   "cell_type": "code",
   "execution_count": 6,
   "id": "0e089586",
   "metadata": {},
   "outputs": [
    {
     "data": {
      "text/plain": [
       "LlamaForCausalLM(\n",
       "  (model): LlamaModel(\n",
       "    (embed_tokens): Embedding(32001, 4096, padding_idx=32000)\n",
       "    (layers): ModuleList(\n",
       "      (0): LlamaDecoderLayer(\n",
       "        (self_attn): LlamaAttention(\n",
       "          (q_proj): Linear(in_features=4096, out_features=4096, bias=False)\n",
       "          (k_proj): Linear(in_features=4096, out_features=4096, bias=False)\n",
       "          (v_proj): Linear(in_features=4096, out_features=4096, bias=False)\n",
       "          (o_proj): Linear(in_features=4096, out_features=4096, bias=False)\n",
       "          (rotary_emb): LlamaRotaryEmbedding()\n",
       "        )\n",
       "        (mlp): LlamaMLP(\n",
       "          (gate_proj): Linear(in_features=4096, out_features=11008, bias=False)\n",
       "          (down_proj): Linear(in_features=11008, out_features=4096, bias=False)\n",
       "          (up_proj): Linear(in_features=4096, out_features=11008, bias=False)\n",
       "          (act_fn): SiLUActivation()\n",
       "        )\n",
       "        (input_layernorm): LlamaRMSNorm()\n",
       "        (post_attention_layernorm): LlamaRMSNorm()\n",
       "      )\n",
       "      (1): LlamaDecoderLayer(\n",
       "        (self_attn): LlamaAttention(\n",
       "          (q_proj): Linear(in_features=4096, out_features=4096, bias=False)\n",
       "          (k_proj): Linear(in_features=4096, out_features=4096, bias=False)\n",
       "          (v_proj): Linear(in_features=4096, out_features=4096, bias=False)\n",
       "          (o_proj): Linear(in_features=4096, out_features=4096, bias=False)\n",
       "          (rotary_emb): LlamaRotaryEmbedding()\n",
       "        )\n",
       "        (mlp): LlamaMLP(\n",
       "          (gate_proj): Linear(in_features=4096, out_features=11008, bias=False)\n",
       "          (down_proj): Linear(in_features=11008, out_features=4096, bias=False)\n",
       "          (up_proj): Linear(in_features=4096, out_features=11008, bias=False)\n",
       "          (act_fn): SiLUActivation()\n",
       "        )\n",
       "        (input_layernorm): LlamaRMSNorm()\n",
       "        (post_attention_layernorm): LlamaRMSNorm()\n",
       "      )\n",
       "      (2): LlamaDecoderLayer(\n",
       "        (self_attn): LlamaAttention(\n",
       "          (q_proj): Linear(in_features=4096, out_features=4096, bias=False)\n",
       "          (k_proj): Linear(in_features=4096, out_features=4096, bias=False)\n",
       "          (v_proj): Linear(in_features=4096, out_features=4096, bias=False)\n",
       "          (o_proj): Linear(in_features=4096, out_features=4096, bias=False)\n",
       "          (rotary_emb): LlamaRotaryEmbedding()\n",
       "        )\n",
       "        (mlp): LlamaMLP(\n",
       "          (gate_proj): Linear(in_features=4096, out_features=11008, bias=False)\n",
       "          (down_proj): Linear(in_features=11008, out_features=4096, bias=False)\n",
       "          (up_proj): Linear(in_features=4096, out_features=11008, bias=False)\n",
       "          (act_fn): SiLUActivation()\n",
       "        )\n",
       "        (input_layernorm): LlamaRMSNorm()\n",
       "        (post_attention_layernorm): LlamaRMSNorm()\n",
       "      )\n",
       "      (3): LlamaDecoderLayer(\n",
       "        (self_attn): LlamaAttention(\n",
       "          (q_proj): Linear(in_features=4096, out_features=4096, bias=False)\n",
       "          (k_proj): Linear(in_features=4096, out_features=4096, bias=False)\n",
       "          (v_proj): Linear(in_features=4096, out_features=4096, bias=False)\n",
       "          (o_proj): Linear(in_features=4096, out_features=4096, bias=False)\n",
       "          (rotary_emb): LlamaRotaryEmbedding()\n",
       "        )\n",
       "        (mlp): LlamaMLP(\n",
       "          (gate_proj): Linear(in_features=4096, out_features=11008, bias=False)\n",
       "          (down_proj): Linear(in_features=11008, out_features=4096, bias=False)\n",
       "          (up_proj): Linear(in_features=4096, out_features=11008, bias=False)\n",
       "          (act_fn): SiLUActivation()\n",
       "        )\n",
       "        (input_layernorm): LlamaRMSNorm()\n",
       "        (post_attention_layernorm): LlamaRMSNorm()\n",
       "      )\n",
       "      (4): LlamaDecoderLayer(\n",
       "        (self_attn): LlamaAttention(\n",
       "          (q_proj): Linear(in_features=4096, out_features=4096, bias=False)\n",
       "          (k_proj): Linear(in_features=4096, out_features=4096, bias=False)\n",
       "          (v_proj): Linear(in_features=4096, out_features=4096, bias=False)\n",
       "          (o_proj): Linear(in_features=4096, out_features=4096, bias=False)\n",
       "          (rotary_emb): LlamaRotaryEmbedding()\n",
       "        )\n",
       "        (mlp): LlamaMLP(\n",
       "          (gate_proj): Linear(in_features=4096, out_features=11008, bias=False)\n",
       "          (down_proj): Linear(in_features=11008, out_features=4096, bias=False)\n",
       "          (up_proj): Linear(in_features=4096, out_features=11008, bias=False)\n",
       "          (act_fn): SiLUActivation()\n",
       "        )\n",
       "        (input_layernorm): LlamaRMSNorm()\n",
       "        (post_attention_layernorm): LlamaRMSNorm()\n",
       "      )\n",
       "      (5): LlamaDecoderLayer(\n",
       "        (self_attn): LlamaAttention(\n",
       "          (q_proj): Linear(in_features=4096, out_features=4096, bias=False)\n",
       "          (k_proj): Linear(in_features=4096, out_features=4096, bias=False)\n",
       "          (v_proj): Linear(in_features=4096, out_features=4096, bias=False)\n",
       "          (o_proj): Linear(in_features=4096, out_features=4096, bias=False)\n",
       "          (rotary_emb): LlamaRotaryEmbedding()\n",
       "        )\n",
       "        (mlp): LlamaMLP(\n",
       "          (gate_proj): Linear(in_features=4096, out_features=11008, bias=False)\n",
       "          (down_proj): Linear(in_features=11008, out_features=4096, bias=False)\n",
       "          (up_proj): Linear(in_features=4096, out_features=11008, bias=False)\n",
       "          (act_fn): SiLUActivation()\n",
       "        )\n",
       "        (input_layernorm): LlamaRMSNorm()\n",
       "        (post_attention_layernorm): LlamaRMSNorm()\n",
       "      )\n",
       "      (6): LlamaDecoderLayer(\n",
       "        (self_attn): LlamaAttention(\n",
       "          (q_proj): Linear(in_features=4096, out_features=4096, bias=False)\n",
       "          (k_proj): Linear(in_features=4096, out_features=4096, bias=False)\n",
       "          (v_proj): Linear(in_features=4096, out_features=4096, bias=False)\n",
       "          (o_proj): Linear(in_features=4096, out_features=4096, bias=False)\n",
       "          (rotary_emb): LlamaRotaryEmbedding()\n",
       "        )\n",
       "        (mlp): LlamaMLP(\n",
       "          (gate_proj): Linear(in_features=4096, out_features=11008, bias=False)\n",
       "          (down_proj): Linear(in_features=11008, out_features=4096, bias=False)\n",
       "          (up_proj): Linear(in_features=4096, out_features=11008, bias=False)\n",
       "          (act_fn): SiLUActivation()\n",
       "        )\n",
       "        (input_layernorm): LlamaRMSNorm()\n",
       "        (post_attention_layernorm): LlamaRMSNorm()\n",
       "      )\n",
       "      (7): LlamaDecoderLayer(\n",
       "        (self_attn): LlamaAttention(\n",
       "          (q_proj): Linear(in_features=4096, out_features=4096, bias=False)\n",
       "          (k_proj): Linear(in_features=4096, out_features=4096, bias=False)\n",
       "          (v_proj): Linear(in_features=4096, out_features=4096, bias=False)\n",
       "          (o_proj): Linear(in_features=4096, out_features=4096, bias=False)\n",
       "          (rotary_emb): LlamaRotaryEmbedding()\n",
       "        )\n",
       "        (mlp): LlamaMLP(\n",
       "          (gate_proj): Linear(in_features=4096, out_features=11008, bias=False)\n",
       "          (down_proj): Linear(in_features=11008, out_features=4096, bias=False)\n",
       "          (up_proj): Linear(in_features=4096, out_features=11008, bias=False)\n",
       "          (act_fn): SiLUActivation()\n",
       "        )\n",
       "        (input_layernorm): LlamaRMSNorm()\n",
       "        (post_attention_layernorm): LlamaRMSNorm()\n",
       "      )\n",
       "      (8): LlamaDecoderLayer(\n",
       "        (self_attn): LlamaAttention(\n",
       "          (q_proj): Linear(in_features=4096, out_features=4096, bias=False)\n",
       "          (k_proj): Linear(in_features=4096, out_features=4096, bias=False)\n",
       "          (v_proj): Linear(in_features=4096, out_features=4096, bias=False)\n",
       "          (o_proj): Linear(in_features=4096, out_features=4096, bias=False)\n",
       "          (rotary_emb): LlamaRotaryEmbedding()\n",
       "        )\n",
       "        (mlp): LlamaMLP(\n",
       "          (gate_proj): Linear(in_features=4096, out_features=11008, bias=False)\n",
       "          (down_proj): Linear(in_features=11008, out_features=4096, bias=False)\n",
       "          (up_proj): Linear(in_features=4096, out_features=11008, bias=False)\n",
       "          (act_fn): SiLUActivation()\n",
       "        )\n",
       "        (input_layernorm): LlamaRMSNorm()\n",
       "        (post_attention_layernorm): LlamaRMSNorm()\n",
       "      )\n",
       "      (9): LlamaDecoderLayer(\n",
       "        (self_attn): LlamaAttention(\n",
       "          (q_proj): Linear(in_features=4096, out_features=4096, bias=False)\n",
       "          (k_proj): Linear(in_features=4096, out_features=4096, bias=False)\n",
       "          (v_proj): Linear(in_features=4096, out_features=4096, bias=False)\n",
       "          (o_proj): Linear(in_features=4096, out_features=4096, bias=False)\n",
       "          (rotary_emb): LlamaRotaryEmbedding()\n",
       "        )\n",
       "        (mlp): LlamaMLP(\n",
       "          (gate_proj): Linear(in_features=4096, out_features=11008, bias=False)\n",
       "          (down_proj): Linear(in_features=11008, out_features=4096, bias=False)\n",
       "          (up_proj): Linear(in_features=4096, out_features=11008, bias=False)\n",
       "          (act_fn): SiLUActivation()\n",
       "        )\n",
       "        (input_layernorm): LlamaRMSNorm()\n",
       "        (post_attention_layernorm): LlamaRMSNorm()\n",
       "      )\n",
       "      (10): LlamaDecoderLayer(\n",
       "        (self_attn): LlamaAttention(\n",
       "          (q_proj): Linear(in_features=4096, out_features=4096, bias=False)\n",
       "          (k_proj): Linear(in_features=4096, out_features=4096, bias=False)\n",
       "          (v_proj): Linear(in_features=4096, out_features=4096, bias=False)\n",
       "          (o_proj): Linear(in_features=4096, out_features=4096, bias=False)\n",
       "          (rotary_emb): LlamaRotaryEmbedding()\n",
       "        )\n",
       "        (mlp): LlamaMLP(\n",
       "          (gate_proj): Linear(in_features=4096, out_features=11008, bias=False)\n",
       "          (down_proj): Linear(in_features=11008, out_features=4096, bias=False)\n",
       "          (up_proj): Linear(in_features=4096, out_features=11008, bias=False)\n",
       "          (act_fn): SiLUActivation()\n",
       "        )\n",
       "        (input_layernorm): LlamaRMSNorm()\n",
       "        (post_attention_layernorm): LlamaRMSNorm()\n",
       "      )\n",
       "      (11): LlamaDecoderLayer(\n",
       "        (self_attn): LlamaAttention(\n",
       "          (q_proj): Linear(in_features=4096, out_features=4096, bias=False)\n",
       "          (k_proj): Linear(in_features=4096, out_features=4096, bias=False)\n",
       "          (v_proj): Linear(in_features=4096, out_features=4096, bias=False)\n",
       "          (o_proj): Linear(in_features=4096, out_features=4096, bias=False)\n",
       "          (rotary_emb): LlamaRotaryEmbedding()\n",
       "        )\n",
       "        (mlp): LlamaMLP(\n",
       "          (gate_proj): Linear(in_features=4096, out_features=11008, bias=False)\n",
       "          (down_proj): Linear(in_features=11008, out_features=4096, bias=False)\n",
       "          (up_proj): Linear(in_features=4096, out_features=11008, bias=False)\n",
       "          (act_fn): SiLUActivation()\n",
       "        )\n",
       "        (input_layernorm): LlamaRMSNorm()\n",
       "        (post_attention_layernorm): LlamaRMSNorm()\n",
       "      )\n",
       "      (12): LlamaDecoderLayer(\n",
       "        (self_attn): LlamaAttention(\n",
       "          (q_proj): Linear(in_features=4096, out_features=4096, bias=False)\n",
       "          (k_proj): Linear(in_features=4096, out_features=4096, bias=False)\n",
       "          (v_proj): Linear(in_features=4096, out_features=4096, bias=False)\n",
       "          (o_proj): Linear(in_features=4096, out_features=4096, bias=False)\n",
       "          (rotary_emb): LlamaRotaryEmbedding()\n",
       "        )\n",
       "        (mlp): LlamaMLP(\n",
       "          (gate_proj): Linear(in_features=4096, out_features=11008, bias=False)\n",
       "          (down_proj): Linear(in_features=11008, out_features=4096, bias=False)\n",
       "          (up_proj): Linear(in_features=4096, out_features=11008, bias=False)\n",
       "          (act_fn): SiLUActivation()\n",
       "        )\n",
       "        (input_layernorm): LlamaRMSNorm()\n",
       "        (post_attention_layernorm): LlamaRMSNorm()\n",
       "      )\n",
       "      (13): LlamaDecoderLayer(\n",
       "        (self_attn): LlamaAttention(\n",
       "          (q_proj): Linear(in_features=4096, out_features=4096, bias=False)\n",
       "          (k_proj): Linear(in_features=4096, out_features=4096, bias=False)\n",
       "          (v_proj): Linear(in_features=4096, out_features=4096, bias=False)\n",
       "          (o_proj): Linear(in_features=4096, out_features=4096, bias=False)\n",
       "          (rotary_emb): LlamaRotaryEmbedding()\n",
       "        )\n",
       "        (mlp): LlamaMLP(\n",
       "          (gate_proj): Linear(in_features=4096, out_features=11008, bias=False)\n",
       "          (down_proj): Linear(in_features=11008, out_features=4096, bias=False)\n",
       "          (up_proj): Linear(in_features=4096, out_features=11008, bias=False)\n",
       "          (act_fn): SiLUActivation()\n",
       "        )\n",
       "        (input_layernorm): LlamaRMSNorm()\n",
       "        (post_attention_layernorm): LlamaRMSNorm()\n",
       "      )\n",
       "      (14): LlamaDecoderLayer(\n",
       "        (self_attn): LlamaAttention(\n",
       "          (q_proj): Linear(in_features=4096, out_features=4096, bias=False)\n",
       "          (k_proj): Linear(in_features=4096, out_features=4096, bias=False)\n",
       "          (v_proj): Linear(in_features=4096, out_features=4096, bias=False)\n",
       "          (o_proj): Linear(in_features=4096, out_features=4096, bias=False)\n",
       "          (rotary_emb): LlamaRotaryEmbedding()\n",
       "        )\n",
       "        (mlp): LlamaMLP(\n",
       "          (gate_proj): Linear(in_features=4096, out_features=11008, bias=False)\n",
       "          (down_proj): Linear(in_features=11008, out_features=4096, bias=False)\n",
       "          (up_proj): Linear(in_features=4096, out_features=11008, bias=False)\n",
       "          (act_fn): SiLUActivation()\n",
       "        )\n",
       "        (input_layernorm): LlamaRMSNorm()\n",
       "        (post_attention_layernorm): LlamaRMSNorm()\n",
       "      )\n",
       "      (15): LlamaDecoderLayer(\n",
       "        (self_attn): LlamaAttention(\n",
       "          (q_proj): Linear(in_features=4096, out_features=4096, bias=False)\n",
       "          (k_proj): Linear(in_features=4096, out_features=4096, bias=False)\n",
       "          (v_proj): Linear(in_features=4096, out_features=4096, bias=False)\n",
       "          (o_proj): Linear(in_features=4096, out_features=4096, bias=False)\n",
       "          (rotary_emb): LlamaRotaryEmbedding()\n",
       "        )\n",
       "        (mlp): LlamaMLP(\n",
       "          (gate_proj): Linear(in_features=4096, out_features=11008, bias=False)\n",
       "          (down_proj): Linear(in_features=11008, out_features=4096, bias=False)\n",
       "          (up_proj): Linear(in_features=4096, out_features=11008, bias=False)\n",
       "          (act_fn): SiLUActivation()\n",
       "        )\n",
       "        (input_layernorm): LlamaRMSNorm()\n",
       "        (post_attention_layernorm): LlamaRMSNorm()\n",
       "      )\n",
       "      (16): LlamaDecoderLayer(\n",
       "        (self_attn): LlamaAttention(\n",
       "          (q_proj): Linear(in_features=4096, out_features=4096, bias=False)\n",
       "          (k_proj): Linear(in_features=4096, out_features=4096, bias=False)\n",
       "          (v_proj): Linear(in_features=4096, out_features=4096, bias=False)\n",
       "          (o_proj): Linear(in_features=4096, out_features=4096, bias=False)\n",
       "          (rotary_emb): LlamaRotaryEmbedding()\n",
       "        )\n",
       "        (mlp): LlamaMLP(\n",
       "          (gate_proj): Linear(in_features=4096, out_features=11008, bias=False)\n",
       "          (down_proj): Linear(in_features=11008, out_features=4096, bias=False)\n",
       "          (up_proj): Linear(in_features=4096, out_features=11008, bias=False)\n",
       "          (act_fn): SiLUActivation()\n",
       "        )\n",
       "        (input_layernorm): LlamaRMSNorm()\n",
       "        (post_attention_layernorm): LlamaRMSNorm()\n",
       "      )\n",
       "      (17): LlamaDecoderLayer(\n",
       "        (self_attn): LlamaAttention(\n",
       "          (q_proj): Linear(in_features=4096, out_features=4096, bias=False)\n",
       "          (k_proj): Linear(in_features=4096, out_features=4096, bias=False)\n",
       "          (v_proj): Linear(in_features=4096, out_features=4096, bias=False)\n",
       "          (o_proj): Linear(in_features=4096, out_features=4096, bias=False)\n",
       "          (rotary_emb): LlamaRotaryEmbedding()\n",
       "        )\n",
       "        (mlp): LlamaMLP(\n",
       "          (gate_proj): Linear(in_features=4096, out_features=11008, bias=False)\n",
       "          (down_proj): Linear(in_features=11008, out_features=4096, bias=False)\n",
       "          (up_proj): Linear(in_features=4096, out_features=11008, bias=False)\n",
       "          (act_fn): SiLUActivation()\n",
       "        )\n",
       "        (input_layernorm): LlamaRMSNorm()\n",
       "        (post_attention_layernorm): LlamaRMSNorm()\n",
       "      )\n",
       "      (18): LlamaDecoderLayer(\n",
       "        (self_attn): LlamaAttention(\n",
       "          (q_proj): Linear(in_features=4096, out_features=4096, bias=False)\n",
       "          (k_proj): Linear(in_features=4096, out_features=4096, bias=False)\n",
       "          (v_proj): Linear(in_features=4096, out_features=4096, bias=False)\n",
       "          (o_proj): Linear(in_features=4096, out_features=4096, bias=False)\n",
       "          (rotary_emb): LlamaRotaryEmbedding()\n",
       "        )\n",
       "        (mlp): LlamaMLP(\n",
       "          (gate_proj): Linear(in_features=4096, out_features=11008, bias=False)\n",
       "          (down_proj): Linear(in_features=11008, out_features=4096, bias=False)\n",
       "          (up_proj): Linear(in_features=4096, out_features=11008, bias=False)\n",
       "          (act_fn): SiLUActivation()\n",
       "        )\n",
       "        (input_layernorm): LlamaRMSNorm()\n",
       "        (post_attention_layernorm): LlamaRMSNorm()\n",
       "      )\n",
       "      (19): LlamaDecoderLayer(\n",
       "        (self_attn): LlamaAttention(\n",
       "          (q_proj): Linear(in_features=4096, out_features=4096, bias=False)\n",
       "          (k_proj): Linear(in_features=4096, out_features=4096, bias=False)\n",
       "          (v_proj): Linear(in_features=4096, out_features=4096, bias=False)\n",
       "          (o_proj): Linear(in_features=4096, out_features=4096, bias=False)\n",
       "          (rotary_emb): LlamaRotaryEmbedding()\n",
       "        )\n",
       "        (mlp): LlamaMLP(\n",
       "          (gate_proj): Linear(in_features=4096, out_features=11008, bias=False)\n",
       "          (down_proj): Linear(in_features=11008, out_features=4096, bias=False)\n",
       "          (up_proj): Linear(in_features=4096, out_features=11008, bias=False)\n",
       "          (act_fn): SiLUActivation()\n",
       "        )\n",
       "        (input_layernorm): LlamaRMSNorm()\n",
       "        (post_attention_layernorm): LlamaRMSNorm()\n",
       "      )\n",
       "      (20): LlamaDecoderLayer(\n",
       "        (self_attn): LlamaAttention(\n",
       "          (q_proj): Linear(in_features=4096, out_features=4096, bias=False)\n",
       "          (k_proj): Linear(in_features=4096, out_features=4096, bias=False)\n",
       "          (v_proj): Linear(in_features=4096, out_features=4096, bias=False)\n",
       "          (o_proj): Linear(in_features=4096, out_features=4096, bias=False)\n",
       "          (rotary_emb): LlamaRotaryEmbedding()\n",
       "        )\n",
       "        (mlp): LlamaMLP(\n",
       "          (gate_proj): Linear(in_features=4096, out_features=11008, bias=False)\n",
       "          (down_proj): Linear(in_features=11008, out_features=4096, bias=False)\n",
       "          (up_proj): Linear(in_features=4096, out_features=11008, bias=False)\n",
       "          (act_fn): SiLUActivation()\n",
       "        )\n",
       "        (input_layernorm): LlamaRMSNorm()\n",
       "        (post_attention_layernorm): LlamaRMSNorm()\n",
       "      )\n",
       "      (21): LlamaDecoderLayer(\n",
       "        (self_attn): LlamaAttention(\n",
       "          (q_proj): Linear(in_features=4096, out_features=4096, bias=False)\n",
       "          (k_proj): Linear(in_features=4096, out_features=4096, bias=False)\n",
       "          (v_proj): Linear(in_features=4096, out_features=4096, bias=False)\n",
       "          (o_proj): Linear(in_features=4096, out_features=4096, bias=False)\n",
       "          (rotary_emb): LlamaRotaryEmbedding()\n",
       "        )\n",
       "        (mlp): LlamaMLP(\n",
       "          (gate_proj): Linear(in_features=4096, out_features=11008, bias=False)\n",
       "          (down_proj): Linear(in_features=11008, out_features=4096, bias=False)\n",
       "          (up_proj): Linear(in_features=4096, out_features=11008, bias=False)\n",
       "          (act_fn): SiLUActivation()\n",
       "        )\n",
       "        (input_layernorm): LlamaRMSNorm()\n",
       "        (post_attention_layernorm): LlamaRMSNorm()\n",
       "      )\n",
       "      (22): LlamaDecoderLayer(\n",
       "        (self_attn): LlamaAttention(\n",
       "          (q_proj): Linear(in_features=4096, out_features=4096, bias=False)\n",
       "          (k_proj): Linear(in_features=4096, out_features=4096, bias=False)\n",
       "          (v_proj): Linear(in_features=4096, out_features=4096, bias=False)\n",
       "          (o_proj): Linear(in_features=4096, out_features=4096, bias=False)\n",
       "          (rotary_emb): LlamaRotaryEmbedding()\n",
       "        )\n",
       "        (mlp): LlamaMLP(\n",
       "          (gate_proj): Linear(in_features=4096, out_features=11008, bias=False)\n",
       "          (down_proj): Linear(in_features=11008, out_features=4096, bias=False)\n",
       "          (up_proj): Linear(in_features=4096, out_features=11008, bias=False)\n",
       "          (act_fn): SiLUActivation()\n",
       "        )\n",
       "        (input_layernorm): LlamaRMSNorm()\n",
       "        (post_attention_layernorm): LlamaRMSNorm()\n",
       "      )\n",
       "      (23): LlamaDecoderLayer(\n",
       "        (self_attn): LlamaAttention(\n",
       "          (q_proj): Linear(in_features=4096, out_features=4096, bias=False)\n",
       "          (k_proj): Linear(in_features=4096, out_features=4096, bias=False)\n",
       "          (v_proj): Linear(in_features=4096, out_features=4096, bias=False)\n",
       "          (o_proj): Linear(in_features=4096, out_features=4096, bias=False)\n",
       "          (rotary_emb): LlamaRotaryEmbedding()\n",
       "        )\n",
       "        (mlp): LlamaMLP(\n",
       "          (gate_proj): Linear(in_features=4096, out_features=11008, bias=False)\n",
       "          (down_proj): Linear(in_features=11008, out_features=4096, bias=False)\n",
       "          (up_proj): Linear(in_features=4096, out_features=11008, bias=False)\n",
       "          (act_fn): SiLUActivation()\n",
       "        )\n",
       "        (input_layernorm): LlamaRMSNorm()\n",
       "        (post_attention_layernorm): LlamaRMSNorm()\n",
       "      )\n",
       "      (24): LlamaDecoderLayer(\n",
       "        (self_attn): LlamaAttention(\n",
       "          (q_proj): Linear(in_features=4096, out_features=4096, bias=False)\n",
       "          (k_proj): Linear(in_features=4096, out_features=4096, bias=False)\n",
       "          (v_proj): Linear(in_features=4096, out_features=4096, bias=False)\n",
       "          (o_proj): Linear(in_features=4096, out_features=4096, bias=False)\n",
       "          (rotary_emb): LlamaRotaryEmbedding()\n",
       "        )\n",
       "        (mlp): LlamaMLP(\n",
       "          (gate_proj): Linear(in_features=4096, out_features=11008, bias=False)\n",
       "          (down_proj): Linear(in_features=11008, out_features=4096, bias=False)\n",
       "          (up_proj): Linear(in_features=4096, out_features=11008, bias=False)\n",
       "          (act_fn): SiLUActivation()\n",
       "        )\n",
       "        (input_layernorm): LlamaRMSNorm()\n",
       "        (post_attention_layernorm): LlamaRMSNorm()\n",
       "      )\n",
       "      (25): LlamaDecoderLayer(\n",
       "        (self_attn): LlamaAttention(\n",
       "          (q_proj): Linear(in_features=4096, out_features=4096, bias=False)\n",
       "          (k_proj): Linear(in_features=4096, out_features=4096, bias=False)\n",
       "          (v_proj): Linear(in_features=4096, out_features=4096, bias=False)\n",
       "          (o_proj): Linear(in_features=4096, out_features=4096, bias=False)\n",
       "          (rotary_emb): LlamaRotaryEmbedding()\n",
       "        )\n",
       "        (mlp): LlamaMLP(\n",
       "          (gate_proj): Linear(in_features=4096, out_features=11008, bias=False)\n",
       "          (down_proj): Linear(in_features=11008, out_features=4096, bias=False)\n",
       "          (up_proj): Linear(in_features=4096, out_features=11008, bias=False)\n",
       "          (act_fn): SiLUActivation()\n",
       "        )\n",
       "        (input_layernorm): LlamaRMSNorm()\n",
       "        (post_attention_layernorm): LlamaRMSNorm()\n",
       "      )\n",
       "      (26): LlamaDecoderLayer(\n",
       "        (self_attn): LlamaAttention(\n",
       "          (q_proj): Linear(in_features=4096, out_features=4096, bias=False)\n",
       "          (k_proj): Linear(in_features=4096, out_features=4096, bias=False)\n",
       "          (v_proj): Linear(in_features=4096, out_features=4096, bias=False)\n",
       "          (o_proj): Linear(in_features=4096, out_features=4096, bias=False)\n",
       "          (rotary_emb): LlamaRotaryEmbedding()\n",
       "        )\n",
       "        (mlp): LlamaMLP(\n",
       "          (gate_proj): Linear(in_features=4096, out_features=11008, bias=False)\n",
       "          (down_proj): Linear(in_features=11008, out_features=4096, bias=False)\n",
       "          (up_proj): Linear(in_features=4096, out_features=11008, bias=False)\n",
       "          (act_fn): SiLUActivation()\n",
       "        )\n",
       "        (input_layernorm): LlamaRMSNorm()\n",
       "        (post_attention_layernorm): LlamaRMSNorm()\n",
       "      )\n",
       "      (27): LlamaDecoderLayer(\n",
       "        (self_attn): LlamaAttention(\n",
       "          (q_proj): Linear(in_features=4096, out_features=4096, bias=False)\n",
       "          (k_proj): Linear(in_features=4096, out_features=4096, bias=False)\n",
       "          (v_proj): Linear(in_features=4096, out_features=4096, bias=False)\n",
       "          (o_proj): Linear(in_features=4096, out_features=4096, bias=False)\n",
       "          (rotary_emb): LlamaRotaryEmbedding()\n",
       "        )\n",
       "        (mlp): LlamaMLP(\n",
       "          (gate_proj): Linear(in_features=4096, out_features=11008, bias=False)\n",
       "          (down_proj): Linear(in_features=11008, out_features=4096, bias=False)\n",
       "          (up_proj): Linear(in_features=4096, out_features=11008, bias=False)\n",
       "          (act_fn): SiLUActivation()\n",
       "        )\n",
       "        (input_layernorm): LlamaRMSNorm()\n",
       "        (post_attention_layernorm): LlamaRMSNorm()\n",
       "      )\n",
       "      (28): LlamaDecoderLayer(\n",
       "        (self_attn): LlamaAttention(\n",
       "          (q_proj): Linear(in_features=4096, out_features=4096, bias=False)\n",
       "          (k_proj): Linear(in_features=4096, out_features=4096, bias=False)\n",
       "          (v_proj): Linear(in_features=4096, out_features=4096, bias=False)\n",
       "          (o_proj): Linear(in_features=4096, out_features=4096, bias=False)\n",
       "          (rotary_emb): LlamaRotaryEmbedding()\n",
       "        )\n",
       "        (mlp): LlamaMLP(\n",
       "          (gate_proj): Linear(in_features=4096, out_features=11008, bias=False)\n",
       "          (down_proj): Linear(in_features=11008, out_features=4096, bias=False)\n",
       "          (up_proj): Linear(in_features=4096, out_features=11008, bias=False)\n",
       "          (act_fn): SiLUActivation()\n",
       "        )\n",
       "        (input_layernorm): LlamaRMSNorm()\n",
       "        (post_attention_layernorm): LlamaRMSNorm()\n",
       "      )\n",
       "      (29): LlamaDecoderLayer(\n",
       "        (self_attn): LlamaAttention(\n",
       "          (q_proj): Linear(in_features=4096, out_features=4096, bias=False)\n",
       "          (k_proj): Linear(in_features=4096, out_features=4096, bias=False)\n",
       "          (v_proj): Linear(in_features=4096, out_features=4096, bias=False)\n",
       "          (o_proj): Linear(in_features=4096, out_features=4096, bias=False)\n",
       "          (rotary_emb): LlamaRotaryEmbedding()\n",
       "        )\n",
       "        (mlp): LlamaMLP(\n",
       "          (gate_proj): Linear(in_features=4096, out_features=11008, bias=False)\n",
       "          (down_proj): Linear(in_features=11008, out_features=4096, bias=False)\n",
       "          (up_proj): Linear(in_features=4096, out_features=11008, bias=False)\n",
       "          (act_fn): SiLUActivation()\n",
       "        )\n",
       "        (input_layernorm): LlamaRMSNorm()\n",
       "        (post_attention_layernorm): LlamaRMSNorm()\n",
       "      )\n",
       "      (30): LlamaDecoderLayer(\n",
       "        (self_attn): LlamaAttention(\n",
       "          (q_proj): Linear(in_features=4096, out_features=4096, bias=False)\n",
       "          (k_proj): Linear(in_features=4096, out_features=4096, bias=False)\n",
       "          (v_proj): Linear(in_features=4096, out_features=4096, bias=False)\n",
       "          (o_proj): Linear(in_features=4096, out_features=4096, bias=False)\n",
       "          (rotary_emb): LlamaRotaryEmbedding()\n",
       "        )\n",
       "        (mlp): LlamaMLP(\n",
       "          (gate_proj): Linear(in_features=4096, out_features=11008, bias=False)\n",
       "          (down_proj): Linear(in_features=11008, out_features=4096, bias=False)\n",
       "          (up_proj): Linear(in_features=4096, out_features=11008, bias=False)\n",
       "          (act_fn): SiLUActivation()\n",
       "        )\n",
       "        (input_layernorm): LlamaRMSNorm()\n",
       "        (post_attention_layernorm): LlamaRMSNorm()\n",
       "      )\n",
       "      (31): LlamaDecoderLayer(\n",
       "        (self_attn): LlamaAttention(\n",
       "          (q_proj): Linear(in_features=4096, out_features=4096, bias=False)\n",
       "          (k_proj): Linear(in_features=4096, out_features=4096, bias=False)\n",
       "          (v_proj): Linear(in_features=4096, out_features=4096, bias=False)\n",
       "          (o_proj): Linear(in_features=4096, out_features=4096, bias=False)\n",
       "          (rotary_emb): LlamaRotaryEmbedding()\n",
       "        )\n",
       "        (mlp): LlamaMLP(\n",
       "          (gate_proj): Linear(in_features=4096, out_features=11008, bias=False)\n",
       "          (down_proj): Linear(in_features=11008, out_features=4096, bias=False)\n",
       "          (up_proj): Linear(in_features=4096, out_features=11008, bias=False)\n",
       "          (act_fn): SiLUActivation()\n",
       "        )\n",
       "        (input_layernorm): LlamaRMSNorm()\n",
       "        (post_attention_layernorm): LlamaRMSNorm()\n",
       "      )\n",
       "    )\n",
       "    (norm): LlamaRMSNorm()\n",
       "  )\n",
       "  (lm_head): Linear(in_features=4096, out_features=32001, bias=False)\n",
       ")"
      ]
     },
     "execution_count": 6,
     "metadata": {},
     "output_type": "execute_result"
    }
   ],
   "source": [
    "model"
   ]
  },
  {
   "cell_type": "markdown",
   "id": "2022e000",
   "metadata": {},
   "source": [
    "#### task utils"
   ]
  },
  {
   "cell_type": "code",
   "execution_count": 2,
   "id": "21fda930",
   "metadata": {},
   "outputs": [],
   "source": [
    "def sample_var(exclude, low=0, high=100):\n",
    "    sampled_var = random.randint(low, high-1)\n",
    "    while sampled_var in exclude:\n",
    "        sampled_var = random.randint(low, high-1)\n",
    "    return sampled_var\n",
    "\n",
    "\n",
    "def sample_demonstrations_for_clauses_forward(\n",
    "    clauses,\n",
    "    n,\n",
    "    partial_value_assignment=None\n",
    "):\n",
    "\n",
    "    value_assignments = []\n",
    "    for _ in range(n):\n",
    "        value_assignment = {}\n",
    "        \n",
    "        if partial_value_assignment is not None:\n",
    "            for var, val in partial_value_assignment.items():\n",
    "                value_assignment[var] = val\n",
    "            unassigned = {'a', 'b', 'c'} - set(list(value_assignment.keys()))\n",
    "            while len(unassigned) > 0:\n",
    "                # assigning values.\n",
    "                unassigned = list(unassigned)\n",
    "                assigning_var = random.choice(unassigned)\n",
    "                assigned = list(value_assignment.keys())\n",
    "                assigned_val = list(value_assignment.values())\n",
    "                matching_var = random.choice(assigned)\n",
    "                _equal = True if random.random() < 0.5 else False\n",
    "                assigning_val = value_assignment[matching_var] if _equal else sample_var(exclude=assigned_val)\n",
    "                value_assignment[assigning_var] = assigning_val\n",
    "                unassigned = {'a', 'b', 'c'} - set(list(value_assignment.keys()))\n",
    "        else:\n",
    "            rotary_index = random.choice([1,2,3])\n",
    "            if rotary_index == 1:\n",
    "                #abc\n",
    "                ab_equal = True if random.random() < 0.5 else False\n",
    "                bc_equal = True if random.random() < 0.5 else False\n",
    "                a = sample_var(exclude=[])\n",
    "                b = a if ab_equal else sample_var(exclude=[a])\n",
    "                c = b if bc_equal else sample_var(exclude=[b])\n",
    "            elif rotary_index == 2:\n",
    "                #bca\n",
    "                bc_equal = True if random.random() < 0.5 else False\n",
    "                ca_equal = True if random.random() < 0.5 else False\n",
    "                b = sample_var(exclude=[])\n",
    "                c = b if bc_equal else sample_var(exclude=[b])\n",
    "                a = c if ca_equal else sample_var(exclude=[c])\n",
    "            elif rotary_index == 3:\n",
    "                #cab\n",
    "                ca_equal = True if random.random() < 0.5 else False\n",
    "                ab_equal = True if random.random() < 0.5 else False\n",
    "                c = sample_var(exclude=[])\n",
    "                a = c if ca_equal else sample_var(exclude=[c])\n",
    "                b = a if ab_equal else sample_var(exclude=[a])  \n",
    "\n",
    "            value_assignment['a'] = a\n",
    "            value_assignment['b'] = b\n",
    "            value_assignment['c'] = c\n",
    "        \n",
    "        conjs = re.split(r\"\\s*(?:and|or)\\s*\", clauses)\n",
    "        left_args = re.split(r\"\\s*(?:!=|==)\\s*\", conjs[0])\n",
    "        right_args = re.split(r\"\\s*(?:!=|==)\\s*\", conjs[1])\n",
    "        if \"!=\" in conjs[0]:\n",
    "            value_assignment[\"LEFT_EQ\"] = \"!=\"\n",
    "            LEFT_VAL = value_assignment[left_args[0].strip(\" (\")] != value_assignment[left_args[1].strip(\" )\")]\n",
    "        elif \"==\" in conjs[0]:\n",
    "            value_assignment[\"LEFT_EQ\"] = \"==\"\n",
    "            LEFT_VAL = value_assignment[left_args[0].strip(\" (\")] == value_assignment[left_args[1].strip(\" )\")]\n",
    "        if \"!=\" in conjs[1]:\n",
    "            value_assignment[\"RIGHT_EQ\"] = \"!=\"\n",
    "            RIGHT_VAL = value_assignment[right_args[0].strip(\" (\")] != value_assignment[right_args[1].strip(\" )\")]\n",
    "        elif \"==\" in conjs[1]:\n",
    "            value_assignment[\"RIGHT_EQ\"] = \"==\"\n",
    "            RIGHT_VAL = value_assignment[right_args[0].strip(\" (\")] == value_assignment[right_args[1].strip(\" )\")]\n",
    "        if \"and\" in clauses:\n",
    "            value_assignment[\"LOGIC\"] = \"and\"\n",
    "            output = LEFT_VAL and RIGHT_VAL\n",
    "        elif \"or\" in clauses:\n",
    "            value_assignment[\"LOGIC\"] = \"or\"\n",
    "            output = LEFT_VAL or RIGHT_VAL\n",
    "        value_assignment[\"LEFT_VAL\"] = LEFT_VAL\n",
    "        value_assignment[\"RIGHT_VAL\"] = RIGHT_VAL\n",
    "        value_assignment['output'] = output\n",
    "        value_assignment['clause'] = clauses\n",
    "\n",
    "        value_assignments += [value_assignment]\n",
    "        # print(value_assignment)\n",
    "    return value_assignments"
   ]
  },
  {
   "cell_type": "code",
   "execution_count": null,
   "id": "63f1c99b",
   "metadata": {},
   "outputs": [],
   "source": [
    "instruction = \"\"\"Is the number ending in digit 1 and larger than 50?\"\"\"\n",
    "inputs = \"\"\n",
    "alpaca_prompt = f\"\"\"Below is an instruction that describes a task, paired with an input that provides further context. Write a response that appropriately completes the request.\n",
    "\n",
    "### Instruction:\n",
    "{instruction}\n",
    "\n",
    "### Input:\n",
    "61\n",
    "\n",
    "### Response:\n",
    "yes\n",
    "\n",
    "### Input:\n",
    "31\n",
    "\n",
    "### Response:\n",
    "no\n",
    "\n",
    "### Input:\n",
    "11\n",
    "\n",
    "### Response:\n",
    "\"\"\""
   ]
  },
  {
   "cell_type": "code",
   "execution_count": null,
   "id": "4f8251b7",
   "metadata": {},
   "outputs": [],
   "source": [
    "instruction = \"\"\"Is the word a verb and containing a vewol?\"\"\"\n",
    "inputs = \"\"\n",
    "alpaca_prompt = f\"\"\"Below is an instruction that describes a task, paired with an input that provides further context. Write a response that appropriately completes the request.\n",
    "\n",
    "### Instruction:\n",
    "{instruction}\n",
    "\n",
    "### Input:\n",
    "apple\n",
    "\n",
    "### Response:\n",
    "no\n",
    "\n",
    "### Input:\n",
    "eat\n",
    "\n",
    "### Response:\n",
    "yes\n",
    "\n",
    "### Input:\n",
    "bring\n",
    "\n",
    "### Response:\n",
    "\"\"\""
   ]
  },
  {
   "cell_type": "code",
   "execution_count": null,
   "id": "32e87656",
   "metadata": {},
   "outputs": [],
   "source": [
    "input_ids = tokenizer(alpaca_prompt, return_tensors=\"pt\").input_ids.to(\"cuda\")\n",
    "generated_ids = model.generate(\n",
    "    input_ids, do_sample=True, \n",
    "    temperature=0.1, max_length=input_ids[0].shape[0]+32,\n",
    ")\n",
    "tokenizer.decode(generated_ids[0])"
   ]
  },
  {
   "cell_type": "markdown",
   "id": "ba4fde3c",
   "metadata": {},
   "source": [
    "#### on Task 1: Number Games\n",
    "\n",
    "Alpaca = 14%"
   ]
  },
  {
   "cell_type": "code",
   "execution_count": null,
   "id": "219f400f",
   "metadata": {},
   "outputs": [],
   "source": [
    "def sample_demonstrations_for_number_game(lower_bound = 0, upper_bound = 10):\n",
    "    a = random.randint(lower_bound, upper_bound)\n",
    "    b = random.randint(lower_bound, upper_bound)\n",
    "    c = random.randint(lower_bound, upper_bound)\n",
    "    return {\n",
    "        'a' : a,\n",
    "        'b' : b,\n",
    "        'c' : c,\n",
    "        'output' : a + b - c\n",
    "    }"
   ]
  },
  {
   "cell_type": "code",
   "execution_count": null,
   "id": "8443f87b",
   "metadata": {},
   "outputs": [],
   "source": [
    "n_test = 100\n",
    "n_shots = 5\n",
    "\n",
    "pred_labels = []\n",
    "correct_labels = []\n",
    "\n",
    "n_correct = 0\n",
    "for _ in tqdm(range(n_test)):\n",
    "    prompt = \"Add the first two numbers, and then subtract the third one.\\n\"\n",
    "    for _ in range(n_shots):\n",
    "        shot = sample_demonstrations_for_number_game()\n",
    "        prompt += f\"{shot['a']} {shot['b']} {shot['c']} => {shot['output']}\\n\"\n",
    "    test_shot = sample_demonstrations_for_number_game()\n",
    "    prompt += f\"{test_shot['a']} {test_shot['b']} {test_shot['c']} => \"\n",
    "    input_ids = tokenizer(prompt, return_tensors=\"pt\").input_ids.to(\"cuda\")\n",
    "    generated_ids = model.generate(\n",
    "        input_ids, do_sample=True, \n",
    "        temperature=0.01, max_length=input_ids[0].shape[0]+3,\n",
    "    )\n",
    "    predicted_tokens = tokenizer.decode(generated_ids[0])\n",
    "    print(predicted_tokens)\n",
    "    pred_label = int(predicted_tokens.strip(\"#\\n</s>\").split(\"=>\")[-1].split(\"\\n\")[0].strip())\n",
    "    \n",
    "    correct_label = test_shot['output']\n",
    "    \n",
    "    pred_labels += [pred_label]\n",
    "    correct_labels += [correct_label]\n",
    "    \n",
    "    if pred_label == correct_label:\n",
    "        n_correct += 1"
   ]
  },
  {
   "cell_type": "markdown",
   "id": "0bf6a777",
   "metadata": {},
   "source": [
    "#### on Task 2: Operator Game\n",
    "\n",
    "op i j selects i when greater than j, otherwise j."
   ]
  },
  {
   "cell_type": "code",
   "execution_count": null,
   "id": "63a09214",
   "metadata": {},
   "outputs": [],
   "source": [
    "def sample_demonstrations_for_operator_game(lower_bound = 1, upper_bound = 1000):\n",
    "    a = random.randint(lower_bound, upper_bound)\n",
    "    b = random.randint(lower_bound, upper_bound)\n",
    "    if a > b:\n",
    "        output = a\n",
    "    else:\n",
    "        output = b\n",
    "    return {\n",
    "        'a' : a,\n",
    "        'b' : b,\n",
    "        'output' : output\n",
    "    }\n",
    "\n",
    "n_test = 100\n",
    "n_shots = 20\n",
    "\n",
    "pred_labels = []\n",
    "correct_labels = []\n",
    "\n",
    "n_correct = 0\n",
    "for _ in tqdm(range(n_test)):\n",
    "    prompt = \"op i j selects i when greater than j, otherwise j.\\n\"\n",
    "    for _ in range(n_shots):\n",
    "        shot = sample_demonstrations_for_operator_game()\n",
    "        prompt += f\"op {shot['a']} {shot['b']} = {shot['output']}\\n\"\n",
    "    test_shot = sample_demonstrations_for_operator_game()\n",
    "    prompt += f\"op {test_shot['a']} {test_shot['b']} = \"\n",
    "    input_ids = tokenizer(prompt, return_tensors=\"pt\").input_ids.to(\"cuda\")\n",
    "    generated_ids = model.generate(\n",
    "        input_ids, do_sample=True, \n",
    "        temperature=0.01, max_length=input_ids[0].shape[0]+5,\n",
    "    )\n",
    "    predicted_tokens = tokenizer.decode(generated_ids[0])\n",
    "    \n",
    "    pred_label = int(predicted_tokens.strip(\"#\\n</s> \").split(\"=\")[-1].split()[0].split(\"\\n\")[0].strip())\n",
    "\n",
    "    correct_label = test_shot['output']\n",
    "    \n",
    "    pred_labels += [pred_label]\n",
    "    correct_labels += [correct_label]\n",
    "    \n",
    "    if pred_label == correct_label:\n",
    "        n_correct += 1"
   ]
  },
  {
   "cell_type": "code",
   "execution_count": null,
   "id": "d6c6c2e6",
   "metadata": {},
   "outputs": [],
   "source": [
    "def sample_demonstrations_for_operator_game(lower_bound = 1, upper_bound = 100):\n",
    "    a = random.randint(lower_bound, upper_bound)\n",
    "    if a % 2 == 0:\n",
    "        output = a + 1\n",
    "    else:\n",
    "        output = a - 1\n",
    "        \n",
    "    return {\n",
    "        'a' : a,\n",
    "        'output' : output\n",
    "    }\n",
    "\n",
    "n_test = 100\n",
    "n_shots = 20\n",
    "\n",
    "pred_labels = []\n",
    "correct_labels = []\n",
    "\n",
    "n_correct = 0\n",
    "for _ in tqdm(range(n_test)):\n",
    "    prompt = \"op i is either i + 1 when i is even, or i - 1 when it is odd.\\n\"\n",
    "    for _ in range(n_shots):\n",
    "        shot = sample_demonstrations_for_operator_game()\n",
    "        prompt += f\"op {shot['a']} = {shot['output']}\\n\"\n",
    "    test_shot = sample_demonstrations_for_operator_game()\n",
    "    prompt += f\"op {test_shot['a']} = \"\n",
    "    input_ids = tokenizer(prompt, return_tensors=\"pt\").input_ids.to(\"cuda\")\n",
    "    generated_ids = model.generate(\n",
    "        input_ids, do_sample=True, \n",
    "        temperature=0.01, max_length=input_ids[0].shape[0]+5,\n",
    "    )\n",
    "    predicted_tokens = tokenizer.decode(generated_ids[0])\n",
    "    \n",
    "    pred_label = int(predicted_tokens.strip(\"#\\n</s> \").split(\"=\")[-1].split()[0].split(\"\\n\")[0].strip())\n",
    "\n",
    "    correct_label = test_shot['output']\n",
    "    \n",
    "    pred_labels += [pred_label]\n",
    "    correct_labels += [correct_label]\n",
    "    \n",
    "    if pred_label == correct_label:\n",
    "        n_correct += 1"
   ]
  },
  {
   "cell_type": "code",
   "execution_count": null,
   "id": "0ff221b0",
   "metadata": {},
   "outputs": [],
   "source": [
    "n_correct"
   ]
  },
  {
   "cell_type": "markdown",
   "id": "84cac3d8",
   "metadata": {},
   "source": [
    "#### on Task 3: Instruct Following with Numbers"
   ]
  },
  {
   "cell_type": "code",
   "execution_count": 45,
   "id": "5a8659bf",
   "metadata": {},
   "outputs": [],
   "source": [
    "examples = []\n",
    "for i in range(100, 1000):\n",
    "    examples += [{\n",
    "        'a' : f\"{str(i)[0]}.{str(i)[1]}{str(i)[2]} dollars\",\n",
    "        'output' : ['Yes', 'yes'] if i < 550 and i > 350 else ['No', 'no']\n",
    "    }]"
   ]
  },
  {
   "cell_type": "code",
   "execution_count": 51,
   "id": "5233bf38",
   "metadata": {},
   "outputs": [],
   "source": [
    "instruction = \"\"\"Please say yes only if it costs between 3.51 and 5.49 dollars, otherwise no.\"\"\"\n",
    "alpaca_prompt_template = f\"\"\"Below is an instruction that describes a task, paired with an input that provides further context. Write a response that appropriately completes the request.\n",
    "\n",
    "### Instruction:\n",
    "%s\n",
    "\n",
    "### Input:\n",
    "%s\n",
    "\n",
    "### Response:\n",
    "\"\"\""
   ]
  },
  {
   "cell_type": "code",
   "execution_count": 52,
   "id": "f6ad2d4c",
   "metadata": {},
   "outputs": [
    {
     "name": "stderr",
     "output_type": "stream",
     "text": [
      "100%|████████████████████████████████████████████████████████████████████████████████████████████████████████████████| 900/900 [01:23<00:00, 10.79it/s]\n"
     ]
    }
   ],
   "source": [
    "n_correct = 0\n",
    "model.eval()\n",
    "pred_labels = []\n",
    "with torch.no_grad():\n",
    "    for example in tqdm(examples):\n",
    "        inputs = example['a']\n",
    "        alpaca_prompt = alpaca_prompt_template % (instruction, inputs)\n",
    "\n",
    "        input_ids = tokenizer(alpaca_prompt, return_tensors=\"pt\").input_ids.to(\"cuda\")\n",
    "        generated_ids = model.generate(\n",
    "            input_ids, do_sample=True, \n",
    "            temperature=0.01, max_length=input_ids[0].shape[0]+3,\n",
    "        )\n",
    "        generated_tokens = tokenizer.decode(generated_ids[0])\n",
    "        pred_label = generated_tokens.split(\"</s>\")[0].strip(\".\\n\").split(\"\\n\")[-1].strip()\n",
    "        correct_label = example['output']\n",
    "        if pred_label in correct_label:\n",
    "            n_correct += 1\n",
    "        # print(pred_label, correct_label, inputs)\n",
    "        pred_labels += [pred_label]\n",
    "        "
   ]
  },
  {
   "cell_type": "code",
   "execution_count": 53,
   "id": "e9e9d58a",
   "metadata": {},
   "outputs": [
    {
     "data": {
      "text/plain": [
       "0.9766666666666667"
      ]
     },
     "execution_count": 53,
     "metadata": {},
     "output_type": "execute_result"
    }
   ],
   "source": [
    "n_correct/len(examples)"
   ]
  },
  {
   "cell_type": "code",
   "execution_count": 54,
   "id": "0f7eaf50",
   "metadata": {},
   "outputs": [],
   "source": [
    "plot_data_x = []\n",
    "plot_data_y = []\n",
    "for i in range(len(pred_labels)):\n",
    "    plot_data_x += [round((i+100)/100.0, 2)]\n",
    "    plot_data_y += [0 if pred_labels[i] in ['No', 'no'] else 1]"
   ]
  },
  {
   "cell_type": "code",
   "execution_count": 55,
   "id": "526daa1a",
   "metadata": {},
   "outputs": [
    {
     "data": {
      "image/png": "[encoded data removed]",
      "text/plain": [
       "<Figure size 720x72 with 1 Axes>"
      ]
     },
     "metadata": {
      "needs_background": "light"
     },
     "output_type": "display_data"
    }
   ],
   "source": [
    "plt.figure(figsize=(10,1))\n",
    "plt.plot(plot_data_x, plot_data_y, '-')\n",
    "plt.show()"
   ]
  },
  {
   "cell_type": "markdown",
   "id": "779f2df4",
   "metadata": {},
   "source": [
    "#### on Task 4: Instruct Following with Numbers with Types"
   ]
  },
  {
   "cell_type": "code",
   "execution_count": 586,
   "id": "2b416c54",
   "metadata": {},
   "outputs": [],
   "source": [
    "examples = []\n",
    "for i in range(100, 1000):\n",
    "    examples += [{\n",
    "        'a' : f\"gold {str(i)[0]}.{str(i)[1]}{str(i)[2]} dollars\",\n",
    "        'output' : ['Yes', 'yes'] if i < 700 and i > 200 else ['No', 'no']\n",
    "        # 'output' : ['No', 'no']\n",
    "    }]"
   ]
  },
  {
   "cell_type": "code",
   "execution_count": 614,
   "id": "bc49acf3",
   "metadata": {},
   "outputs": [],
   "source": [
    "# instruction = \"\"\"Please say yes only if wood costs between 3.00 and 4.99 dollars, otherwise no.\"\"\"\n",
    "# instruction = \"\"\"Please say yes only if metal costs between 2.00 and 6.99 dollars, otherwise no.\"\"\"\n",
    "alpaca_prompt_template = f\"\"\"Below is an instruction that describes a task, paired with an input that provides further context. Write a response that appropriately completes the request.\n",
    "\n",
    "### Instruction:\n",
    "%s\n",
    "\n",
    "### Input:\n",
    "%s\n",
    "\n",
    "### Response:\n",
    "\"\"\""
   ]
  },
  {
   "cell_type": "code",
   "execution_count": 588,
   "id": "3a53ec12",
   "metadata": {},
   "outputs": [
    {
     "name": "stderr",
     "output_type": "stream",
     "text": [
      "  0%|▍                                                                                                                 | 3/900 [00:00<01:26, 10.31it/s]"
     ]
    },
    {
     "name": "stdout",
     "output_type": "stream",
     "text": [
      "Yes ['No', 'no'] gold 1.00 dollars\n",
      "No ['No', 'no'] gold 1.01 dollars\n",
      "Yes ['No', 'no'] gold 1.02 dollars\n"
     ]
    },
    {
     "name": "stderr",
     "output_type": "stream",
     "text": [
      "\r",
      "  1%|▋                                                                                                                 | 5/900 [00:00<01:24, 10.56it/s]"
     ]
    },
    {
     "name": "stdout",
     "output_type": "stream",
     "text": [
      "Yes ['No', 'no'] gold 1.03 dollars\n",
      "Yes ['No', 'no'] gold 1.04 dollars\n",
      "Yes ['No', 'no'] gold 1.05 dollars\n"
     ]
    },
    {
     "name": "stderr",
     "output_type": "stream",
     "text": [
      "  1%|█▏                                                                                                                | 9/900 [00:00<01:23, 10.72it/s]"
     ]
    },
    {
     "name": "stdout",
     "output_type": "stream",
     "text": [
      "Yes ['No', 'no'] gold 1.06 dollars\n",
      "Yes ['No', 'no'] gold 1.07 dollars\n",
      "Yes ['No', 'no'] gold 1.08 dollars\n"
     ]
    },
    {
     "name": "stderr",
     "output_type": "stream",
     "text": [
      "\r",
      "  1%|█▍                                                                                                               | 11/900 [00:01<01:22, 10.76it/s]"
     ]
    },
    {
     "name": "stdout",
     "output_type": "stream",
     "text": [
      "Yes ['No', 'no'] gold 1.09 dollars\n",
      "No ['No', 'no'] gold 1.10 dollars\n",
      "No ['No', 'no'] gold 1.11 dollars\n"
     ]
    },
    {
     "name": "stderr",
     "output_type": "stream",
     "text": [
      "  2%|█▉                                                                                                               | 15/900 [00:01<01:22, 10.79it/s]"
     ]
    },
    {
     "name": "stdout",
     "output_type": "stream",
     "text": [
      "Yes ['No', 'no'] gold 1.12 dollars\n",
      "No ['No', 'no'] gold 1.13 dollars\n",
      "No ['No', 'no'] gold 1.14 dollars\n"
     ]
    },
    {
     "name": "stderr",
     "output_type": "stream",
     "text": [
      "\r",
      "  2%|██▏                                                                                                              | 17/900 [00:01<01:21, 10.79it/s]"
     ]
    },
    {
     "name": "stdout",
     "output_type": "stream",
     "text": [
      "Yes ['No', 'no'] gold 1.15 dollars\n",
      "No ['No', 'no'] gold 1.16 dollars\n",
      "No ['No', 'no'] gold 1.17 dollars\n"
     ]
    },
    {
     "name": "stderr",
     "output_type": "stream",
     "text": [
      "  2%|██▋                                                                                                              | 21/900 [00:01<01:21, 10.80it/s]"
     ]
    },
    {
     "name": "stdout",
     "output_type": "stream",
     "text": [
      "Yes ['No', 'no'] gold 1.18 dollars\n",
      "No ['No', 'no'] gold 1.19 dollars\n",
      "Yes ['No', 'no'] gold 1.20 dollars\n"
     ]
    },
    {
     "name": "stderr",
     "output_type": "stream",
     "text": [
      "\r",
      "  3%|██▉                                                                                                              | 23/900 [00:02<01:21, 10.77it/s]"
     ]
    },
    {
     "name": "stdout",
     "output_type": "stream",
     "text": [
      "No ['No', 'no'] gold 1.21 dollars\n",
      "No ['No', 'no'] gold 1.22 dollars\n",
      "No ['No', 'no'] gold 1.23 dollars\n"
     ]
    },
    {
     "name": "stderr",
     "output_type": "stream",
     "text": [
      "  3%|███▍                                                                                                             | 27/900 [00:02<01:20, 10.79it/s]"
     ]
    },
    {
     "name": "stdout",
     "output_type": "stream",
     "text": [
      "No ['No', 'no'] gold 1.24 dollars\n",
      "Yes ['No', 'no'] gold 1.25 dollars\n",
      "No ['No', 'no'] gold 1.26 dollars\n"
     ]
    },
    {
     "name": "stderr",
     "output_type": "stream",
     "text": [
      "\r",
      "  3%|███▋                                                                                                             | 29/900 [00:02<01:20, 10.77it/s]"
     ]
    },
    {
     "name": "stdout",
     "output_type": "stream",
     "text": [
      "Yes ['No', 'no'] gold 1.27 dollars\n",
      "Yes ['No', 'no'] gold 1.28 dollars\n",
      "No ['No', 'no'] gold 1.29 dollars\n"
     ]
    },
    {
     "name": "stderr",
     "output_type": "stream",
     "text": [
      "  4%|████▏                                                                                                            | 33/900 [00:03<01:20, 10.79it/s]"
     ]
    },
    {
     "name": "stdout",
     "output_type": "stream",
     "text": [
      "Yes ['No', 'no'] gold 1.30 dollars\n",
      "No ['No', 'no'] gold 1.31 dollars\n",
      "Yes ['No', 'no'] gold 1.32 dollars\n"
     ]
    },
    {
     "name": "stderr",
     "output_type": "stream",
     "text": [
      "\r",
      "  4%|████▍                                                                                                            | 35/900 [00:03<01:20, 10.80it/s]"
     ]
    },
    {
     "name": "stdout",
     "output_type": "stream",
     "text": [
      "Yes ['No', 'no'] gold 1.33 dollars\n",
      "Yes ['No', 'no'] gold 1.34 dollars\n",
      "Yes ['No', 'no'] gold 1.35 dollars\n"
     ]
    },
    {
     "name": "stderr",
     "output_type": "stream",
     "text": [
      "  4%|████▉                                                                                                            | 39/900 [00:03<01:19, 10.81it/s]"
     ]
    },
    {
     "name": "stdout",
     "output_type": "stream",
     "text": [
      "Yes ['No', 'no'] gold 1.36 dollars\n",
      "Yes ['No', 'no'] gold 1.37 dollars\n",
      "Yes ['No', 'no'] gold 1.38 dollars\n"
     ]
    },
    {
     "name": "stderr",
     "output_type": "stream",
     "text": [
      "\r",
      "  5%|█████▏                                                                                                           | 41/900 [00:03<01:19, 10.81it/s]"
     ]
    },
    {
     "name": "stdout",
     "output_type": "stream",
     "text": [
      "No ['No', 'no'] gold 1.39 dollars\n",
      "Yes ['No', 'no'] gold 1.40 dollars\n",
      "No ['No', 'no'] gold 1.41 dollars\n"
     ]
    },
    {
     "name": "stderr",
     "output_type": "stream",
     "text": [
      "  5%|█████▋                                                                                                           | 45/900 [00:04<01:19, 10.81it/s]"
     ]
    },
    {
     "name": "stdout",
     "output_type": "stream",
     "text": [
      "Yes ['No', 'no'] gold 1.42 dollars\n",
      "Yes ['No', 'no'] gold 1.43 dollars\n",
      "Yes ['No', 'no'] gold 1.44 dollars\n"
     ]
    },
    {
     "name": "stderr",
     "output_type": "stream",
     "text": [
      "\r",
      "  5%|█████▉                                                                                                           | 47/900 [00:04<01:18, 10.81it/s]"
     ]
    },
    {
     "name": "stdout",
     "output_type": "stream",
     "text": [
      "Yes ['No', 'no'] gold 1.45 dollars\n",
      "Yes ['No', 'no'] gold 1.46 dollars\n",
      "Yes ['No', 'no'] gold 1.47 dollars\n"
     ]
    },
    {
     "name": "stderr",
     "output_type": "stream",
     "text": [
      "  6%|██████▍                                                                                                          | 51/900 [00:04<01:18, 10.79it/s]"
     ]
    },
    {
     "name": "stdout",
     "output_type": "stream",
     "text": [
      "Yes ['No', 'no'] gold 1.48 dollars\n",
      "Yes ['No', 'no'] gold 1.49 dollars\n",
      "Yes ['No', 'no'] gold 1.50 dollars\n"
     ]
    },
    {
     "name": "stderr",
     "output_type": "stream",
     "text": [
      "\r",
      "  6%|██████▋                                                                                                          | 53/900 [00:04<01:18, 10.79it/s]"
     ]
    },
    {
     "name": "stdout",
     "output_type": "stream",
     "text": [
      "No ['No', 'no'] gold 1.51 dollars\n",
      "Yes ['No', 'no'] gold 1.52 dollars\n",
      "Yes ['No', 'no'] gold 1.53 dollars\n"
     ]
    },
    {
     "name": "stderr",
     "output_type": "stream",
     "text": [
      "  6%|███████▏                                                                                                         | 57/900 [00:05<01:18, 10.79it/s]"
     ]
    },
    {
     "name": "stdout",
     "output_type": "stream",
     "text": [
      "Yes ['No', 'no'] gold 1.54 dollars\n",
      "Yes ['No', 'no'] gold 1.55 dollars\n",
      "Yes ['No', 'no'] gold 1.56 dollars\n"
     ]
    },
    {
     "name": "stderr",
     "output_type": "stream",
     "text": [
      "\r",
      "  7%|███████▍                                                                                                         | 59/900 [00:05<01:17, 10.80it/s]"
     ]
    },
    {
     "name": "stdout",
     "output_type": "stream",
     "text": [
      "Yes ['No', 'no'] gold 1.57 dollars\n",
      "Yes ['No', 'no'] gold 1.58 dollars\n",
      "Yes ['No', 'no'] gold 1.59 dollars\n"
     ]
    },
    {
     "name": "stderr",
     "output_type": "stream",
     "text": [
      "  7%|███████▉                                                                                                         | 63/900 [00:05<01:17, 10.81it/s]"
     ]
    },
    {
     "name": "stdout",
     "output_type": "stream",
     "text": [
      "Yes ['No', 'no'] gold 1.60 dollars\n",
      "No ['No', 'no'] gold 1.61 dollars\n",
      "Yes ['No', 'no'] gold 1.62 dollars\n"
     ]
    },
    {
     "name": "stderr",
     "output_type": "stream",
     "text": [
      "\r",
      "  7%|████████▏                                                                                                        | 65/900 [00:06<01:17, 10.81it/s]"
     ]
    },
    {
     "name": "stdout",
     "output_type": "stream",
     "text": [
      "Yes ['No', 'no'] gold 1.63 dollars\n",
      "Yes ['No', 'no'] gold 1.64 dollars\n",
      "Yes ['No', 'no'] gold 1.65 dollars\n"
     ]
    },
    {
     "name": "stderr",
     "output_type": "stream",
     "text": [
      "  8%|████████▋                                                                                                        | 69/900 [00:06<01:16, 10.81it/s]"
     ]
    },
    {
     "name": "stdout",
     "output_type": "stream",
     "text": [
      "Yes ['No', 'no'] gold 1.66 dollars\n",
      "Yes ['No', 'no'] gold 1.67 dollars\n",
      "Yes ['No', 'no'] gold 1.68 dollars\n"
     ]
    },
    {
     "name": "stderr",
     "output_type": "stream",
     "text": [
      "\r",
      "  8%|████████▉                                                                                                        | 71/900 [00:06<01:16, 10.81it/s]"
     ]
    },
    {
     "name": "stdout",
     "output_type": "stream",
     "text": [
      "No ['No', 'no'] gold 1.69 dollars\n",
      "Yes ['No', 'no'] gold 1.70 dollars\n",
      "No ['No', 'no'] gold 1.71 dollars\n"
     ]
    },
    {
     "name": "stderr",
     "output_type": "stream",
     "text": [
      "  8%|█████████▍                                                                                                       | 75/900 [00:06<01:16, 10.79it/s]"
     ]
    },
    {
     "name": "stdout",
     "output_type": "stream",
     "text": [
      "Yes ['No', 'no'] gold 1.72 dollars\n",
      "Yes ['No', 'no'] gold 1.73 dollars\n",
      "Yes ['No', 'no'] gold 1.74 dollars\n"
     ]
    },
    {
     "name": "stderr",
     "output_type": "stream",
     "text": [
      "\r",
      "  9%|█████████▋                                                                                                       | 77/900 [00:07<01:16, 10.80it/s]"
     ]
    },
    {
     "name": "stdout",
     "output_type": "stream",
     "text": [
      "Yes ['No', 'no'] gold 1.75 dollars\n",
      "Yes ['No', 'no'] gold 1.76 dollars\n",
      "Yes ['No', 'no'] gold 1.77 dollars\n"
     ]
    },
    {
     "name": "stderr",
     "output_type": "stream",
     "text": [
      "  9%|██████████▏                                                                                                      | 81/900 [00:07<01:15, 10.79it/s]"
     ]
    },
    {
     "name": "stdout",
     "output_type": "stream",
     "text": [
      "Yes ['No', 'no'] gold 1.78 dollars\n",
      "Yes ['No', 'no'] gold 1.79 dollars\n",
      "Yes ['No', 'no'] gold 1.80 dollars\n"
     ]
    },
    {
     "name": "stderr",
     "output_type": "stream",
     "text": [
      "\r",
      "  9%|██████████▍                                                                                                      | 83/900 [00:07<01:15, 10.80it/s]"
     ]
    },
    {
     "name": "stdout",
     "output_type": "stream",
     "text": [
      "No ['No', 'no'] gold 1.81 dollars\n",
      "Yes ['No', 'no'] gold 1.82 dollars\n",
      "No ['No', 'no'] gold 1.83 dollars\n"
     ]
    },
    {
     "name": "stderr",
     "output_type": "stream",
     "text": [
      " 10%|██████████▉                                                                                                      | 87/900 [00:08<01:15, 10.79it/s]"
     ]
    },
    {
     "name": "stdout",
     "output_type": "stream",
     "text": [
      "No ['No', 'no'] gold 1.84 dollars\n",
      "Yes ['No', 'no'] gold 1.85 dollars\n",
      "No ['No', 'no'] gold 1.86 dollars\n"
     ]
    },
    {
     "name": "stderr",
     "output_type": "stream",
     "text": [
      "\r",
      " 10%|███████████▏                                                                                                     | 89/900 [00:08<01:15, 10.80it/s]"
     ]
    },
    {
     "name": "stdout",
     "output_type": "stream",
     "text": [
      "No ['No', 'no'] gold 1.87 dollars\n",
      "Yes ['No', 'no'] gold 1.88 dollars\n",
      "No ['No', 'no'] gold 1.89 dollars\n"
     ]
    },
    {
     "name": "stderr",
     "output_type": "stream",
     "text": [
      " 10%|███████████▋                                                                                                     | 93/900 [00:08<01:14, 10.80it/s]"
     ]
    },
    {
     "name": "stdout",
     "output_type": "stream",
     "text": [
      "No ['No', 'no'] gold 1.90 dollars\n",
      "No ['No', 'no'] gold 1.91 dollars\n",
      "No ['No', 'no'] gold 1.92 dollars\n"
     ]
    },
    {
     "name": "stderr",
     "output_type": "stream",
     "text": [
      "\r",
      " 11%|███████████▉                                                                                                     | 95/900 [00:08<01:14, 10.80it/s]"
     ]
    },
    {
     "name": "stdout",
     "output_type": "stream",
     "text": [
      "No ['No', 'no'] gold 1.93 dollars\n",
      "No ['No', 'no'] gold 1.94 dollars\n",
      "Yes ['No', 'no'] gold 1.95 dollars\n"
     ]
    },
    {
     "name": "stderr",
     "output_type": "stream",
     "text": [
      " 11%|████████████▍                                                                                                    | 99/900 [00:09<01:14, 10.81it/s]"
     ]
    },
    {
     "name": "stdout",
     "output_type": "stream",
     "text": [
      "Yes ['No', 'no'] gold 1.96 dollars\n",
      "No ['No', 'no'] gold 1.97 dollars\n",
      "Yes ['No', 'no'] gold 1.98 dollars\n"
     ]
    },
    {
     "name": "stderr",
     "output_type": "stream",
     "text": [
      "\r",
      " 11%|████████████▌                                                                                                   | 101/900 [00:09<01:13, 10.81it/s]"
     ]
    },
    {
     "name": "stdout",
     "output_type": "stream",
     "text": [
      "No ['No', 'no'] gold 1.99 dollars\n",
      "Yes ['No', 'no'] gold 2.00 dollars\n",
      "No ['Yes', 'yes'] gold 2.01 dollars\n"
     ]
    },
    {
     "name": "stderr",
     "output_type": "stream",
     "text": [
      " 12%|█████████████                                                                                                   | 105/900 [00:09<01:13, 10.81it/s]"
     ]
    },
    {
     "name": "stdout",
     "output_type": "stream",
     "text": [
      "Yes ['Yes', 'yes'] gold 2.02 dollars\n",
      "Yes ['Yes', 'yes'] gold 2.03 dollars\n",
      "Yes ['Yes', 'yes'] gold 2.04 dollars\n"
     ]
    },
    {
     "name": "stderr",
     "output_type": "stream",
     "text": [
      "\r",
      " 12%|█████████████▎                                                                                                  | 107/900 [00:09<01:13, 10.81it/s]"
     ]
    },
    {
     "name": "stdout",
     "output_type": "stream",
     "text": [
      "Yes ['Yes', 'yes'] gold 2.05 dollars\n",
      "Yes ['Yes', 'yes'] gold 2.06 dollars\n",
      "Yes ['Yes', 'yes'] gold 2.07 dollars\n"
     ]
    },
    {
     "name": "stderr",
     "output_type": "stream",
     "text": [
      " 12%|█████████████▊                                                                                                  | 111/900 [00:10<01:13, 10.77it/s]"
     ]
    },
    {
     "name": "stdout",
     "output_type": "stream",
     "text": [
      "Yes ['Yes', 'yes'] gold 2.08 dollars\n",
      "No ['Yes', 'yes'] gold 2.09 dollars\n",
      "Yes ['Yes', 'yes'] gold 2.10 dollars\n"
     ]
    },
    {
     "name": "stderr",
     "output_type": "stream",
     "text": [
      "\r",
      " 13%|██████████████                                                                                                  | 113/900 [00:10<01:12, 10.78it/s]"
     ]
    },
    {
     "name": "stdout",
     "output_type": "stream",
     "text": [
      "No ['Yes', 'yes'] gold 2.11 dollars\n",
      "Yes ['Yes', 'yes'] gold 2.12 dollars\n",
      "No ['Yes', 'yes'] gold 2.13 dollars\n"
     ]
    },
    {
     "name": "stderr",
     "output_type": "stream",
     "text": [
      " 13%|██████████████▌                                                                                                 | 117/900 [00:10<01:12, 10.78it/s]"
     ]
    },
    {
     "name": "stdout",
     "output_type": "stream",
     "text": [
      "No ['Yes', 'yes'] gold 2.14 dollars\n",
      "Yes ['Yes', 'yes'] gold 2.15 dollars\n",
      "No ['Yes', 'yes'] gold 2.16 dollars\n"
     ]
    },
    {
     "name": "stderr",
     "output_type": "stream",
     "text": [
      "\r",
      " 13%|██████████████▊                                                                                                 | 119/900 [00:11<01:12, 10.80it/s]"
     ]
    },
    {
     "name": "stdout",
     "output_type": "stream",
     "text": [
      "Yes ['Yes', 'yes'] gold 2.17 dollars\n",
      "Yes ['Yes', 'yes'] gold 2.18 dollars\n",
      "Yes ['Yes', 'yes'] gold 2.19 dollars\n"
     ]
    },
    {
     "name": "stderr",
     "output_type": "stream",
     "text": [
      " 14%|███████████████▎                                                                                                | 123/900 [00:11<01:11, 10.81it/s]"
     ]
    },
    {
     "name": "stdout",
     "output_type": "stream",
     "text": [
      "Yes ['Yes', 'yes'] gold 2.20 dollars\n",
      "Yes ['Yes', 'yes'] gold 2.21 dollars\n",
      "Yes ['Yes', 'yes'] gold 2.22 dollars\n"
     ]
    },
    {
     "name": "stderr",
     "output_type": "stream",
     "text": [
      "\r",
      " 14%|███████████████▌                                                                                                | 125/900 [00:11<01:11, 10.81it/s]"
     ]
    },
    {
     "name": "stdout",
     "output_type": "stream",
     "text": [
      "Yes ['Yes', 'yes'] gold 2.23 dollars\n",
      "Yes ['Yes', 'yes'] gold 2.24 dollars\n",
      "Yes ['Yes', 'yes'] gold 2.25 dollars\n"
     ]
    },
    {
     "name": "stderr",
     "output_type": "stream",
     "text": [
      " 14%|████████████████                                                                                                | 129/900 [00:11<01:11, 10.81it/s]"
     ]
    },
    {
     "name": "stdout",
     "output_type": "stream",
     "text": [
      "Yes ['Yes', 'yes'] gold 2.26 dollars\n",
      "Yes ['Yes', 'yes'] gold 2.27 dollars\n",
      "Yes ['Yes', 'yes'] gold 2.28 dollars\n"
     ]
    },
    {
     "name": "stderr",
     "output_type": "stream",
     "text": [
      "\r",
      " 15%|████████████████▎                                                                                               | 131/900 [00:12<01:11, 10.81it/s]"
     ]
    },
    {
     "name": "stdout",
     "output_type": "stream",
     "text": [
      "No ['Yes', 'yes'] gold 2.29 dollars\n",
      "Yes ['Yes', 'yes'] gold 2.30 dollars\n",
      "Yes ['Yes', 'yes'] gold 2.31 dollars\n"
     ]
    },
    {
     "name": "stderr",
     "output_type": "stream",
     "text": [
      " 15%|████████████████▊                                                                                               | 135/900 [00:12<01:10, 10.81it/s]"
     ]
    },
    {
     "name": "stdout",
     "output_type": "stream",
     "text": [
      "Yes ['Yes', 'yes'] gold 2.32 dollars\n",
      "Yes ['Yes', 'yes'] gold 2.33 dollars\n",
      "Yes ['Yes', 'yes'] gold 2.34 dollars\n"
     ]
    },
    {
     "name": "stderr",
     "output_type": "stream",
     "text": [
      "\r",
      " 15%|█████████████████                                                                                               | 137/900 [00:12<01:10, 10.78it/s]"
     ]
    },
    {
     "name": "stdout",
     "output_type": "stream",
     "text": [
      "Yes ['Yes', 'yes'] gold 2.35 dollars\n",
      "Yes ['Yes', 'yes'] gold 2.36 dollars\n",
      "Yes ['Yes', 'yes'] gold 2.37 dollars\n"
     ]
    },
    {
     "name": "stderr",
     "output_type": "stream",
     "text": [
      " 16%|█████████████████▌                                                                                              | 141/900 [00:13<01:10, 10.79it/s]"
     ]
    },
    {
     "name": "stdout",
     "output_type": "stream",
     "text": [
      "Yes ['Yes', 'yes'] gold 2.38 dollars\n",
      "Yes ['Yes', 'yes'] gold 2.39 dollars\n",
      "Yes ['Yes', 'yes'] gold 2.40 dollars\n"
     ]
    },
    {
     "name": "stderr",
     "output_type": "stream",
     "text": [
      "\r",
      " 16%|█████████████████▊                                                                                              | 143/900 [00:13<01:10, 10.80it/s]"
     ]
    },
    {
     "name": "stdout",
     "output_type": "stream",
     "text": [
      "Yes ['Yes', 'yes'] gold 2.41 dollars\n",
      "Yes ['Yes', 'yes'] gold 2.42 dollars\n",
      "Yes ['Yes', 'yes'] gold 2.43 dollars\n"
     ]
    },
    {
     "name": "stderr",
     "output_type": "stream",
     "text": [
      " 16%|██████████████████▎                                                                                             | 147/900 [00:13<01:09, 10.81it/s]"
     ]
    },
    {
     "name": "stdout",
     "output_type": "stream",
     "text": [
      "Yes ['Yes', 'yes'] gold 2.44 dollars\n",
      "Yes ['Yes', 'yes'] gold 2.45 dollars\n",
      "Yes ['Yes', 'yes'] gold 2.46 dollars\n"
     ]
    },
    {
     "name": "stderr",
     "output_type": "stream",
     "text": [
      "\r",
      " 17%|██████████████████▌                                                                                             | 149/900 [00:13<01:09, 10.81it/s]"
     ]
    },
    {
     "name": "stdout",
     "output_type": "stream",
     "text": [
      "Yes ['Yes', 'yes'] gold 2.47 dollars\n",
      "Yes ['Yes', 'yes'] gold 2.48 dollars\n",
      "Yes ['Yes', 'yes'] gold 2.49 dollars\n"
     ]
    },
    {
     "name": "stderr",
     "output_type": "stream",
     "text": [
      " 17%|███████████████████                                                                                             | 153/900 [00:14<01:09, 10.81it/s]"
     ]
    },
    {
     "name": "stdout",
     "output_type": "stream",
     "text": [
      "Yes ['Yes', 'yes'] gold 2.50 dollars\n",
      "Yes ['Yes', 'yes'] gold 2.51 dollars\n",
      "Yes ['Yes', 'yes'] gold 2.52 dollars\n"
     ]
    },
    {
     "name": "stderr",
     "output_type": "stream",
     "text": [
      "\r",
      " 17%|███████████████████▎                                                                                            | 155/900 [00:14<01:08, 10.81it/s]"
     ]
    },
    {
     "name": "stdout",
     "output_type": "stream",
     "text": [
      "Yes ['Yes', 'yes'] gold 2.53 dollars\n",
      "Yes ['Yes', 'yes'] gold 2.54 dollars\n",
      "Yes ['Yes', 'yes'] gold 2.55 dollars\n"
     ]
    },
    {
     "name": "stderr",
     "output_type": "stream",
     "text": [
      " 18%|███████████████████▊                                                                                            | 159/900 [00:14<01:08, 10.81it/s]"
     ]
    },
    {
     "name": "stdout",
     "output_type": "stream",
     "text": [
      "Yes ['Yes', 'yes'] gold 2.56 dollars\n",
      "Yes ['Yes', 'yes'] gold 2.57 dollars\n",
      "Yes ['Yes', 'yes'] gold 2.58 dollars\n"
     ]
    },
    {
     "name": "stderr",
     "output_type": "stream",
     "text": [
      "\r",
      " 18%|████████████████████                                                                                            | 161/900 [00:14<01:08, 10.79it/s]"
     ]
    },
    {
     "name": "stdout",
     "output_type": "stream",
     "text": [
      "Yes ['Yes', 'yes'] gold 2.59 dollars\n",
      "Yes ['Yes', 'yes'] gold 2.60 dollars\n",
      "No ['Yes', 'yes'] gold 2.61 dollars\n"
     ]
    },
    {
     "name": "stderr",
     "output_type": "stream",
     "text": [
      " 18%|████████████████████▌                                                                                           | 165/900 [00:15<01:08, 10.81it/s]"
     ]
    },
    {
     "name": "stdout",
     "output_type": "stream",
     "text": [
      "Yes ['Yes', 'yes'] gold 2.62 dollars\n",
      "Yes ['Yes', 'yes'] gold 2.63 dollars\n",
      "Yes ['Yes', 'yes'] gold 2.64 dollars\n"
     ]
    },
    {
     "name": "stderr",
     "output_type": "stream",
     "text": [
      "\r",
      " 19%|████████████████████▊                                                                                           | 167/900 [00:15<01:07, 10.81it/s]"
     ]
    },
    {
     "name": "stdout",
     "output_type": "stream",
     "text": [
      "Yes ['Yes', 'yes'] gold 2.65 dollars\n",
      "Yes ['Yes', 'yes'] gold 2.66 dollars\n",
      "Yes ['Yes', 'yes'] gold 2.67 dollars\n"
     ]
    },
    {
     "name": "stderr",
     "output_type": "stream",
     "text": [
      " 19%|█████████████████████▎                                                                                          | 171/900 [00:15<01:07, 10.81it/s]"
     ]
    },
    {
     "name": "stdout",
     "output_type": "stream",
     "text": [
      "Yes ['Yes', 'yes'] gold 2.68 dollars\n",
      "Yes ['Yes', 'yes'] gold 2.69 dollars\n",
      "Yes ['Yes', 'yes'] gold 2.70 dollars\n"
     ]
    },
    {
     "name": "stderr",
     "output_type": "stream",
     "text": [
      "\r",
      " 19%|█████████████████████▌                                                                                          | 173/900 [00:16<01:07, 10.81it/s]"
     ]
    },
    {
     "name": "stdout",
     "output_type": "stream",
     "text": [
      "Yes ['Yes', 'yes'] gold 2.71 dollars\n",
      "Yes ['Yes', 'yes'] gold 2.72 dollars\n",
      "Yes ['Yes', 'yes'] gold 2.73 dollars\n"
     ]
    },
    {
     "name": "stderr",
     "output_type": "stream",
     "text": [
      " 20%|██████████████████████                                                                                          | 177/900 [00:16<01:06, 10.82it/s]"
     ]
    },
    {
     "name": "stdout",
     "output_type": "stream",
     "text": [
      "Yes ['Yes', 'yes'] gold 2.74 dollars\n",
      "Yes ['Yes', 'yes'] gold 2.75 dollars\n",
      "Yes ['Yes', 'yes'] gold 2.76 dollars\n"
     ]
    },
    {
     "name": "stderr",
     "output_type": "stream",
     "text": [
      "\r",
      " 20%|██████████████████████▎                                                                                         | 179/900 [00:16<01:06, 10.79it/s]"
     ]
    },
    {
     "name": "stdout",
     "output_type": "stream",
     "text": [
      "Yes ['Yes', 'yes'] gold 2.77 dollars\n",
      "Yes ['Yes', 'yes'] gold 2.78 dollars\n",
      "Yes ['Yes', 'yes'] gold 2.79 dollars\n"
     ]
    },
    {
     "name": "stderr",
     "output_type": "stream",
     "text": [
      " 20%|██████████████████████▊                                                                                         | 183/900 [00:16<01:06, 10.76it/s]"
     ]
    },
    {
     "name": "stdout",
     "output_type": "stream",
     "text": [
      "Yes ['Yes', 'yes'] gold 2.80 dollars\n",
      "Yes ['Yes', 'yes'] gold 2.81 dollars\n",
      "Yes ['Yes', 'yes'] gold 2.82 dollars\n"
     ]
    },
    {
     "name": "stderr",
     "output_type": "stream",
     "text": [
      "\r",
      " 21%|███████████████████████                                                                                         | 185/900 [00:17<01:06, 10.77it/s]"
     ]
    },
    {
     "name": "stdout",
     "output_type": "stream",
     "text": [
      "Yes ['Yes', 'yes'] gold 2.83 dollars\n",
      "Yes ['Yes', 'yes'] gold 2.84 dollars\n",
      "Yes ['Yes', 'yes'] gold 2.85 dollars\n"
     ]
    },
    {
     "name": "stderr",
     "output_type": "stream",
     "text": [
      " 21%|███████████████████████▌                                                                                        | 189/900 [00:17<01:05, 10.79it/s]"
     ]
    },
    {
     "name": "stdout",
     "output_type": "stream",
     "text": [
      "Yes ['Yes', 'yes'] gold 2.86 dollars\n",
      "Yes ['Yes', 'yes'] gold 2.87 dollars\n",
      "Yes ['Yes', 'yes'] gold 2.88 dollars\n"
     ]
    },
    {
     "name": "stderr",
     "output_type": "stream",
     "text": [
      "\r",
      " 21%|███████████████████████▊                                                                                        | 191/900 [00:17<01:05, 10.76it/s]"
     ]
    },
    {
     "name": "stdout",
     "output_type": "stream",
     "text": [
      "Yes ['Yes', 'yes'] gold 2.89 dollars\n",
      "Yes ['Yes', 'yes'] gold 2.90 dollars\n",
      "No ['Yes', 'yes'] gold 2.91 dollars\n"
     ]
    },
    {
     "name": "stderr",
     "output_type": "stream",
     "text": [
      " 22%|████████████████████████▎                                                                                       | 195/900 [00:18<01:05, 10.76it/s]"
     ]
    },
    {
     "name": "stdout",
     "output_type": "stream",
     "text": [
      "Yes ['Yes', 'yes'] gold 2.92 dollars\n",
      "Yes ['Yes', 'yes'] gold 2.93 dollars\n",
      "Yes ['Yes', 'yes'] gold 2.94 dollars\n"
     ]
    },
    {
     "name": "stderr",
     "output_type": "stream",
     "text": [
      "\r",
      " 22%|████████████████████████▌                                                                                       | 197/900 [00:18<01:05, 10.78it/s]"
     ]
    },
    {
     "name": "stdout",
     "output_type": "stream",
     "text": [
      "Yes ['Yes', 'yes'] gold 2.95 dollars\n",
      "Yes ['Yes', 'yes'] gold 2.96 dollars\n",
      "Yes ['Yes', 'yes'] gold 2.97 dollars\n"
     ]
    },
    {
     "name": "stderr",
     "output_type": "stream",
     "text": [
      " 22%|█████████████████████████                                                                                       | 201/900 [00:18<01:04, 10.79it/s]"
     ]
    },
    {
     "name": "stdout",
     "output_type": "stream",
     "text": [
      "Yes ['Yes', 'yes'] gold 2.98 dollars\n",
      "Yes ['Yes', 'yes'] gold 2.99 dollars\n",
      "Yes ['Yes', 'yes'] gold 3.00 dollars\n"
     ]
    },
    {
     "name": "stderr",
     "output_type": "stream",
     "text": [
      "\r",
      " 23%|█████████████████████████▎                                                                                      | 203/900 [00:18<01:04, 10.80it/s]"
     ]
    },
    {
     "name": "stdout",
     "output_type": "stream",
     "text": [
      "No ['Yes', 'yes'] gold 3.01 dollars\n",
      "Yes ['Yes', 'yes'] gold 3.02 dollars\n",
      "Yes ['Yes', 'yes'] gold 3.03 dollars\n"
     ]
    },
    {
     "name": "stderr",
     "output_type": "stream",
     "text": [
      " 23%|█████████████████████████▊                                                                                      | 207/900 [00:19<01:04, 10.81it/s]"
     ]
    },
    {
     "name": "stdout",
     "output_type": "stream",
     "text": [
      "Yes ['Yes', 'yes'] gold 3.04 dollars\n",
      "Yes ['Yes', 'yes'] gold 3.05 dollars\n",
      "No ['Yes', 'yes'] gold 3.06 dollars\n"
     ]
    },
    {
     "name": "stderr",
     "output_type": "stream",
     "text": [
      "\r",
      " 23%|██████████████████████████                                                                                      | 209/900 [00:19<01:03, 10.81it/s]"
     ]
    },
    {
     "name": "stdout",
     "output_type": "stream",
     "text": [
      "No ['Yes', 'yes'] gold 3.07 dollars\n",
      "No ['Yes', 'yes'] gold 3.08 dollars\n",
      "No ['Yes', 'yes'] gold 3.09 dollars\n"
     ]
    },
    {
     "name": "stderr",
     "output_type": "stream",
     "text": [
      " 24%|██████████████████████████▌                                                                                     | 213/900 [00:19<01:03, 10.81it/s]"
     ]
    },
    {
     "name": "stdout",
     "output_type": "stream",
     "text": [
      "No ['Yes', 'yes'] gold 3.10 dollars\n",
      "No ['Yes', 'yes'] gold 3.11 dollars\n",
      "Yes ['Yes', 'yes'] gold 3.12 dollars\n"
     ]
    },
    {
     "name": "stderr",
     "output_type": "stream",
     "text": [
      "\r",
      " 24%|██████████████████████████▊                                                                                     | 215/900 [00:19<01:03, 10.82it/s]"
     ]
    },
    {
     "name": "stdout",
     "output_type": "stream",
     "text": [
      "No ['Yes', 'yes'] gold 3.13 dollars\n",
      "No ['Yes', 'yes'] gold 3.14 dollars\n",
      "Yes ['Yes', 'yes'] gold 3.15 dollars\n"
     ]
    },
    {
     "name": "stderr",
     "output_type": "stream",
     "text": [
      " 24%|███████████████████████████▎                                                                                    | 219/900 [00:20<01:03, 10.78it/s]"
     ]
    },
    {
     "name": "stdout",
     "output_type": "stream",
     "text": [
      "Yes ['Yes', 'yes'] gold 3.16 dollars\n",
      "Yes ['Yes', 'yes'] gold 3.17 dollars\n",
      "Yes ['Yes', 'yes'] gold 3.18 dollars\n"
     ]
    },
    {
     "name": "stderr",
     "output_type": "stream",
     "text": [
      "\r",
      " 25%|███████████████████████████▌                                                                                    | 221/900 [00:20<01:02, 10.79it/s]"
     ]
    },
    {
     "name": "stdout",
     "output_type": "stream",
     "text": [
      "No ['Yes', 'yes'] gold 3.19 dollars\n",
      "Yes ['Yes', 'yes'] gold 3.20 dollars\n",
      "No ['Yes', 'yes'] gold 3.21 dollars\n"
     ]
    },
    {
     "name": "stderr",
     "output_type": "stream",
     "text": [
      " 25%|████████████████████████████                                                                                    | 225/900 [00:20<01:02, 10.80it/s]"
     ]
    },
    {
     "name": "stdout",
     "output_type": "stream",
     "text": [
      "No ['Yes', 'yes'] gold 3.22 dollars\n",
      "No ['Yes', 'yes'] gold 3.23 dollars\n",
      "Yes ['Yes', 'yes'] gold 3.24 dollars\n"
     ]
    },
    {
     "name": "stderr",
     "output_type": "stream",
     "text": [
      "\r",
      " 25%|████████████████████████████▏                                                                                   | 227/900 [00:21<01:02, 10.81it/s]"
     ]
    },
    {
     "name": "stdout",
     "output_type": "stream",
     "text": [
      "Yes ['Yes', 'yes'] gold 3.25 dollars\n",
      "No ['Yes', 'yes'] gold 3.26 dollars\n",
      "Yes ['Yes', 'yes'] gold 3.27 dollars\n"
     ]
    },
    {
     "name": "stderr",
     "output_type": "stream",
     "text": [
      " 26%|████████████████████████████▋                                                                                   | 231/900 [00:21<01:01, 10.81it/s]"
     ]
    },
    {
     "name": "stdout",
     "output_type": "stream",
     "text": [
      "Yes ['Yes', 'yes'] gold 3.28 dollars\n",
      "No ['Yes', 'yes'] gold 3.29 dollars\n",
      "Yes ['Yes', 'yes'] gold 3.30 dollars\n"
     ]
    },
    {
     "name": "stderr",
     "output_type": "stream",
     "text": [
      "\r",
      " 26%|████████████████████████████▉                                                                                   | 233/900 [00:21<01:01, 10.81it/s]"
     ]
    },
    {
     "name": "stdout",
     "output_type": "stream",
     "text": [
      "Yes ['Yes', 'yes'] gold 3.31 dollars\n",
      "Yes ['Yes', 'yes'] gold 3.32 dollars\n",
      "Yes ['Yes', 'yes'] gold 3.33 dollars\n"
     ]
    },
    {
     "name": "stderr",
     "output_type": "stream",
     "text": [
      "\r",
      " 26%|█████████████████████████████▏                                                                                  | 235/900 [00:21<01:01, 10.81it/s]"
     ]
    },
    {
     "name": "stdout",
     "output_type": "stream",
     "text": [
      "Yes ['Yes', 'yes'] gold 3.34 dollars\n",
      "Yes ['Yes', 'yes'] gold 3.35 dollars\n"
     ]
    },
    {
     "name": "stderr",
     "output_type": "stream",
     "text": [
      "\r",
      " 26%|█████████████████████████████▍                                                                                  | 237/900 [00:21<01:04, 10.31it/s]"
     ]
    },
    {
     "name": "stdout",
     "output_type": "stream",
     "text": [
      "Yes ['Yes', 'yes'] gold 3.36 dollars\n",
      "Yes ['Yes', 'yes'] gold 3.37 dollars\n"
     ]
    },
    {
     "name": "stderr",
     "output_type": "stream",
     "text": [
      " 27%|█████████████████████████████▉                                                                                  | 241/900 [00:22<01:03, 10.35it/s]"
     ]
    },
    {
     "name": "stdout",
     "output_type": "stream",
     "text": [
      "Yes ['Yes', 'yes'] gold 3.38 dollars\n",
      "Yes ['Yes', 'yes'] gold 3.39 dollars\n",
      "Yes ['Yes', 'yes'] gold 3.40 dollars\n"
     ]
    },
    {
     "name": "stderr",
     "output_type": "stream",
     "text": [
      "\r",
      " 27%|██████████████████████████████▏                                                                                 | 243/900 [00:22<01:02, 10.49it/s]"
     ]
    },
    {
     "name": "stdout",
     "output_type": "stream",
     "text": [
      "No ['Yes', 'yes'] gold 3.41 dollars\n",
      "Yes ['Yes', 'yes'] gold 3.42 dollars\n",
      "Yes ['Yes', 'yes'] gold 3.43 dollars\n"
     ]
    },
    {
     "name": "stderr",
     "output_type": "stream",
     "text": [
      " 27%|██████████████████████████████▋                                                                                 | 247/900 [00:22<01:01, 10.65it/s]"
     ]
    },
    {
     "name": "stdout",
     "output_type": "stream",
     "text": [
      "Yes ['Yes', 'yes'] gold 3.44 dollars\n",
      "Yes ['Yes', 'yes'] gold 3.45 dollars\n",
      "Yes ['Yes', 'yes'] gold 3.46 dollars\n"
     ]
    },
    {
     "name": "stderr",
     "output_type": "stream",
     "text": [
      "\r",
      " 28%|██████████████████████████████▉                                                                                 | 249/900 [00:23<01:00, 10.70it/s]"
     ]
    },
    {
     "name": "stdout",
     "output_type": "stream",
     "text": [
      "Yes ['Yes', 'yes'] gold 3.47 dollars\n",
      "Yes ['Yes', 'yes'] gold 3.48 dollars\n",
      "Yes ['Yes', 'yes'] gold 3.49 dollars\n"
     ]
    },
    {
     "name": "stderr",
     "output_type": "stream",
     "text": [
      " 28%|███████████████████████████████▍                                                                                | 253/900 [00:23<01:00, 10.76it/s]"
     ]
    },
    {
     "name": "stdout",
     "output_type": "stream",
     "text": [
      "Yes ['Yes', 'yes'] gold 3.50 dollars\n",
      "No ['Yes', 'yes'] gold 3.51 dollars\n",
      "Yes ['Yes', 'yes'] gold 3.52 dollars\n"
     ]
    },
    {
     "name": "stderr",
     "output_type": "stream",
     "text": [
      "\r",
      " 28%|███████████████████████████████▋                                                                                | 255/900 [00:23<01:00, 10.75it/s]"
     ]
    },
    {
     "name": "stdout",
     "output_type": "stream",
     "text": [
      "Yes ['Yes', 'yes'] gold 3.53 dollars\n",
      "Yes ['Yes', 'yes'] gold 3.54 dollars\n",
      "Yes ['Yes', 'yes'] gold 3.55 dollars\n"
     ]
    },
    {
     "name": "stderr",
     "output_type": "stream",
     "text": [
      " 29%|████████████████████████████████▏                                                                               | 259/900 [00:24<00:59, 10.78it/s]"
     ]
    },
    {
     "name": "stdout",
     "output_type": "stream",
     "text": [
      "Yes ['Yes', 'yes'] gold 3.56 dollars\n",
      "Yes ['Yes', 'yes'] gold 3.57 dollars\n",
      "Yes ['Yes', 'yes'] gold 3.58 dollars\n"
     ]
    },
    {
     "name": "stderr",
     "output_type": "stream",
     "text": [
      "\r",
      " 29%|████████████████████████████████▍                                                                               | 261/900 [00:24<00:59, 10.79it/s]"
     ]
    },
    {
     "name": "stdout",
     "output_type": "stream",
     "text": [
      "No ['Yes', 'yes'] gold 3.59 dollars\n",
      "Yes ['Yes', 'yes'] gold 3.60 dollars\n",
      "No ['Yes', 'yes'] gold 3.61 dollars\n"
     ]
    },
    {
     "name": "stderr",
     "output_type": "stream",
     "text": [
      " 29%|████████████████████████████████▉                                                                               | 265/900 [00:24<00:58, 10.80it/s]"
     ]
    },
    {
     "name": "stdout",
     "output_type": "stream",
     "text": [
      "Yes ['Yes', 'yes'] gold 3.62 dollars\n",
      "Yes ['Yes', 'yes'] gold 3.63 dollars\n",
      "Yes ['Yes', 'yes'] gold 3.64 dollars\n"
     ]
    },
    {
     "name": "stderr",
     "output_type": "stream",
     "text": [
      "\r",
      " 30%|█████████████████████████████████▏                                                                              | 267/900 [00:24<00:58, 10.80it/s]"
     ]
    },
    {
     "name": "stdout",
     "output_type": "stream",
     "text": [
      "Yes ['Yes', 'yes'] gold 3.65 dollars\n",
      "Yes ['Yes', 'yes'] gold 3.66 dollars\n",
      "Yes ['Yes', 'yes'] gold 3.67 dollars\n"
     ]
    },
    {
     "name": "stderr",
     "output_type": "stream",
     "text": [
      " 30%|█████████████████████████████████▋                                                                              | 271/900 [00:25<00:58, 10.81it/s]"
     ]
    },
    {
     "name": "stdout",
     "output_type": "stream",
     "text": [
      "Yes ['Yes', 'yes'] gold 3.68 dollars\n",
      "Yes ['Yes', 'yes'] gold 3.69 dollars\n",
      "Yes ['Yes', 'yes'] gold 3.70 dollars\n"
     ]
    },
    {
     "name": "stderr",
     "output_type": "stream",
     "text": [
      "\r",
      " 30%|█████████████████████████████████▉                                                                              | 273/900 [00:25<00:58, 10.81it/s]"
     ]
    },
    {
     "name": "stdout",
     "output_type": "stream",
     "text": [
      "Yes ['Yes', 'yes'] gold 3.71 dollars\n",
      "Yes ['Yes', 'yes'] gold 3.72 dollars\n",
      "Yes ['Yes', 'yes'] gold 3.73 dollars\n"
     ]
    },
    {
     "name": "stderr",
     "output_type": "stream",
     "text": [
      " 31%|██████████████████████████████████▍                                                                             | 277/900 [00:25<00:57, 10.81it/s]"
     ]
    },
    {
     "name": "stdout",
     "output_type": "stream",
     "text": [
      "Yes ['Yes', 'yes'] gold 3.74 dollars\n",
      "Yes ['Yes', 'yes'] gold 3.75 dollars\n",
      "Yes ['Yes', 'yes'] gold 3.76 dollars\n"
     ]
    },
    {
     "name": "stderr",
     "output_type": "stream",
     "text": [
      "\r",
      " 31%|██████████████████████████████████▋                                                                             | 279/900 [00:25<00:57, 10.81it/s]"
     ]
    },
    {
     "name": "stdout",
     "output_type": "stream",
     "text": [
      "Yes ['Yes', 'yes'] gold 3.77 dollars\n",
      "Yes ['Yes', 'yes'] gold 3.78 dollars\n",
      "Yes ['Yes', 'yes'] gold 3.79 dollars\n"
     ]
    },
    {
     "name": "stderr",
     "output_type": "stream",
     "text": [
      " 31%|███████████████████████████████████▏                                                                            | 283/900 [00:26<00:57, 10.82it/s]"
     ]
    },
    {
     "name": "stdout",
     "output_type": "stream",
     "text": [
      "Yes ['Yes', 'yes'] gold 3.80 dollars\n",
      "No ['Yes', 'yes'] gold 3.81 dollars\n",
      "Yes ['Yes', 'yes'] gold 3.82 dollars\n"
     ]
    },
    {
     "name": "stderr",
     "output_type": "stream",
     "text": [
      "\r",
      " 32%|███████████████████████████████████▍                                                                            | 285/900 [00:26<00:56, 10.82it/s]"
     ]
    },
    {
     "name": "stdout",
     "output_type": "stream",
     "text": [
      "Yes ['Yes', 'yes'] gold 3.83 dollars\n",
      "Yes ['Yes', 'yes'] gold 3.84 dollars\n",
      "Yes ['Yes', 'yes'] gold 3.85 dollars\n"
     ]
    },
    {
     "name": "stderr",
     "output_type": "stream",
     "text": [
      " 32%|███████████████████████████████████▉                                                                            | 289/900 [00:26<00:56, 10.82it/s]"
     ]
    },
    {
     "name": "stdout",
     "output_type": "stream",
     "text": [
      "Yes ['Yes', 'yes'] gold 3.86 dollars\n",
      "Yes ['Yes', 'yes'] gold 3.87 dollars\n",
      "Yes ['Yes', 'yes'] gold 3.88 dollars\n"
     ]
    },
    {
     "name": "stderr",
     "output_type": "stream",
     "text": [
      "\r",
      " 32%|████████████████████████████████████▏                                                                           | 291/900 [00:27<00:56, 10.82it/s]"
     ]
    },
    {
     "name": "stdout",
     "output_type": "stream",
     "text": [
      "Yes ['Yes', 'yes'] gold 3.89 dollars\n",
      "No ['Yes', 'yes'] gold 3.90 dollars\n",
      "No ['Yes', 'yes'] gold 3.91 dollars\n"
     ]
    },
    {
     "name": "stderr",
     "output_type": "stream",
     "text": [
      " 33%|████████████████████████████████████▋                                                                           | 295/900 [00:27<00:55, 10.80it/s]"
     ]
    },
    {
     "name": "stdout",
     "output_type": "stream",
     "text": [
      "Yes ['Yes', 'yes'] gold 3.92 dollars\n",
      "Yes ['Yes', 'yes'] gold 3.93 dollars\n",
      "Yes ['Yes', 'yes'] gold 3.94 dollars\n"
     ]
    },
    {
     "name": "stderr",
     "output_type": "stream",
     "text": [
      "\r",
      " 33%|████████████████████████████████████▉                                                                           | 297/900 [00:27<00:55, 10.81it/s]"
     ]
    },
    {
     "name": "stdout",
     "output_type": "stream",
     "text": [
      "Yes ['Yes', 'yes'] gold 3.95 dollars\n",
      "Yes ['Yes', 'yes'] gold 3.96 dollars\n",
      "No ['Yes', 'yes'] gold 3.97 dollars\n"
     ]
    },
    {
     "name": "stderr",
     "output_type": "stream",
     "text": [
      " 33%|█████████████████████████████████████▍                                                                          | 301/900 [00:27<00:55, 10.81it/s]"
     ]
    },
    {
     "name": "stdout",
     "output_type": "stream",
     "text": [
      "No ['Yes', 'yes'] gold 3.98 dollars\n",
      "Yes ['Yes', 'yes'] gold 3.99 dollars\n",
      "Yes ['Yes', 'yes'] gold 4.00 dollars\n"
     ]
    },
    {
     "name": "stderr",
     "output_type": "stream",
     "text": [
      "\r",
      " 34%|█████████████████████████████████████▋                                                                          | 303/900 [00:28<00:55, 10.77it/s]"
     ]
    },
    {
     "name": "stdout",
     "output_type": "stream",
     "text": [
      "No ['Yes', 'yes'] gold 4.01 dollars\n",
      "Yes ['Yes', 'yes'] gold 4.02 dollars\n",
      "Yes ['Yes', 'yes'] gold 4.03 dollars\n"
     ]
    },
    {
     "name": "stderr",
     "output_type": "stream",
     "text": [
      " 34%|██████████████████████████████████████▏                                                                         | 307/900 [00:28<00:54, 10.80it/s]"
     ]
    },
    {
     "name": "stdout",
     "output_type": "stream",
     "text": [
      "Yes ['Yes', 'yes'] gold 4.04 dollars\n",
      "Yes ['Yes', 'yes'] gold 4.05 dollars\n",
      "Yes ['Yes', 'yes'] gold 4.06 dollars\n"
     ]
    },
    {
     "name": "stderr",
     "output_type": "stream",
     "text": [
      "\r",
      " 34%|██████████████████████████████████████▍                                                                         | 309/900 [00:28<00:54, 10.81it/s]"
     ]
    },
    {
     "name": "stdout",
     "output_type": "stream",
     "text": [
      "Yes ['Yes', 'yes'] gold 4.07 dollars\n",
      "Yes ['Yes', 'yes'] gold 4.08 dollars\n",
      "No ['Yes', 'yes'] gold 4.09 dollars\n"
     ]
    },
    {
     "name": "stderr",
     "output_type": "stream",
     "text": [
      " 35%|██████████████████████████████████████▉                                                                         | 313/900 [00:29<00:54, 10.81it/s]"
     ]
    },
    {
     "name": "stdout",
     "output_type": "stream",
     "text": [
      "No ['Yes', 'yes'] gold 4.10 dollars\n",
      "No ['Yes', 'yes'] gold 4.11 dollars\n",
      "Yes ['Yes', 'yes'] gold 4.12 dollars\n"
     ]
    },
    {
     "name": "stderr",
     "output_type": "stream",
     "text": [
      "\r",
      " 35%|███████████████████████████████████████▏                                                                        | 315/900 [00:29<00:54, 10.82it/s]"
     ]
    },
    {
     "name": "stdout",
     "output_type": "stream",
     "text": [
      "Yes ['Yes', 'yes'] gold 4.13 dollars\n",
      "Yes ['Yes', 'yes'] gold 4.14 dollars\n",
      "Yes ['Yes', 'yes'] gold 4.15 dollars\n"
     ]
    },
    {
     "name": "stderr",
     "output_type": "stream",
     "text": [
      " 35%|███████████████████████████████████████▋                                                                        | 319/900 [00:29<00:53, 10.82it/s]"
     ]
    },
    {
     "name": "stdout",
     "output_type": "stream",
     "text": [
      "Yes ['Yes', 'yes'] gold 4.16 dollars\n",
      "Yes ['Yes', 'yes'] gold 4.17 dollars\n",
      "Yes ['Yes', 'yes'] gold 4.18 dollars\n"
     ]
    },
    {
     "name": "stderr",
     "output_type": "stream",
     "text": [
      "\r",
      " 36%|███████████████████████████████████████▉                                                                        | 321/900 [00:29<00:53, 10.81it/s]"
     ]
    },
    {
     "name": "stdout",
     "output_type": "stream",
     "text": [
      "Yes ['Yes', 'yes'] gold 4.19 dollars\n",
      "Yes ['Yes', 'yes'] gold 4.20 dollars\n",
      "Yes ['Yes', 'yes'] gold 4.21 dollars\n"
     ]
    },
    {
     "name": "stderr",
     "output_type": "stream",
     "text": [
      " 36%|████████████████████████████████████████▍                                                                       | 325/900 [00:30<00:53, 10.81it/s]"
     ]
    },
    {
     "name": "stdout",
     "output_type": "stream",
     "text": [
      "Yes ['Yes', 'yes'] gold 4.22 dollars\n",
      "Yes ['Yes', 'yes'] gold 4.23 dollars\n",
      "Yes ['Yes', 'yes'] gold 4.24 dollars\n"
     ]
    },
    {
     "name": "stderr",
     "output_type": "stream",
     "text": [
      "\r",
      " 36%|████████████████████████████████████████▋                                                                       | 327/900 [00:30<00:52, 10.82it/s]"
     ]
    },
    {
     "name": "stdout",
     "output_type": "stream",
     "text": [
      "Yes ['Yes', 'yes'] gold 4.25 dollars\n",
      "Yes ['Yes', 'yes'] gold 4.26 dollars\n",
      "Yes ['Yes', 'yes'] gold 4.27 dollars\n"
     ]
    },
    {
     "name": "stderr",
     "output_type": "stream",
     "text": [
      " 37%|█████████████████████████████████████████▏                                                                      | 331/900 [00:30<00:52, 10.82it/s]"
     ]
    },
    {
     "name": "stdout",
     "output_type": "stream",
     "text": [
      "Yes ['Yes', 'yes'] gold 4.28 dollars\n",
      "Yes ['Yes', 'yes'] gold 4.29 dollars\n",
      "Yes ['Yes', 'yes'] gold 4.30 dollars\n"
     ]
    },
    {
     "name": "stderr",
     "output_type": "stream",
     "text": [
      "\r",
      " 37%|█████████████████████████████████████████▍                                                                      | 333/900 [00:30<00:52, 10.82it/s]"
     ]
    },
    {
     "name": "stdout",
     "output_type": "stream",
     "text": [
      "Yes ['Yes', 'yes'] gold 4.31 dollars\n",
      "Yes ['Yes', 'yes'] gold 4.32 dollars\n",
      "Yes ['Yes', 'yes'] gold 4.33 dollars\n"
     ]
    },
    {
     "name": "stderr",
     "output_type": "stream",
     "text": [
      " 37%|█████████████████████████████████████████▉                                                                      | 337/900 [00:31<00:52, 10.77it/s]"
     ]
    },
    {
     "name": "stdout",
     "output_type": "stream",
     "text": [
      "Yes ['Yes', 'yes'] gold 4.34 dollars\n",
      "Yes ['Yes', 'yes'] gold 4.35 dollars\n",
      "Yes ['Yes', 'yes'] gold 4.36 dollars\n"
     ]
    },
    {
     "name": "stderr",
     "output_type": "stream",
     "text": [
      "\r",
      " 38%|██████████████████████████████████████████▏                                                                     | 339/900 [00:31<00:51, 10.79it/s]"
     ]
    },
    {
     "name": "stdout",
     "output_type": "stream",
     "text": [
      "Yes ['Yes', 'yes'] gold 4.37 dollars\n",
      "Yes ['Yes', 'yes'] gold 4.38 dollars\n",
      "Yes ['Yes', 'yes'] gold 4.39 dollars\n"
     ]
    },
    {
     "name": "stderr",
     "output_type": "stream",
     "text": [
      " 38%|██████████████████████████████████████████▋                                                                     | 343/900 [00:31<00:51, 10.81it/s]"
     ]
    },
    {
     "name": "stdout",
     "output_type": "stream",
     "text": [
      "Yes ['Yes', 'yes'] gold 4.40 dollars\n",
      "Yes ['Yes', 'yes'] gold 4.41 dollars\n",
      "Yes ['Yes', 'yes'] gold 4.42 dollars\n"
     ]
    },
    {
     "name": "stderr",
     "output_type": "stream",
     "text": [
      "\r",
      " 38%|██████████████████████████████████████████▉                                                                     | 345/900 [00:32<00:51, 10.81it/s]"
     ]
    },
    {
     "name": "stdout",
     "output_type": "stream",
     "text": [
      "Yes ['Yes', 'yes'] gold 4.43 dollars\n",
      "Yes ['Yes', 'yes'] gold 4.44 dollars\n",
      "Yes ['Yes', 'yes'] gold 4.45 dollars\n"
     ]
    },
    {
     "name": "stderr",
     "output_type": "stream",
     "text": [
      " 39%|███████████████████████████████████████████▍                                                                    | 349/900 [00:32<00:50, 10.81it/s]"
     ]
    },
    {
     "name": "stdout",
     "output_type": "stream",
     "text": [
      "Yes ['Yes', 'yes'] gold 4.46 dollars\n",
      "Yes ['Yes', 'yes'] gold 4.47 dollars\n",
      "Yes ['Yes', 'yes'] gold 4.48 dollars\n"
     ]
    },
    {
     "name": "stderr",
     "output_type": "stream",
     "text": [
      "\r",
      " 39%|███████████████████████████████████████████▋                                                                    | 351/900 [00:32<00:50, 10.82it/s]"
     ]
    },
    {
     "name": "stdout",
     "output_type": "stream",
     "text": [
      "Yes ['Yes', 'yes'] gold 4.49 dollars\n",
      "Yes ['Yes', 'yes'] gold 4.50 dollars\n",
      "Yes ['Yes', 'yes'] gold 4.51 dollars\n"
     ]
    },
    {
     "name": "stderr",
     "output_type": "stream",
     "text": [
      " 39%|████████████████████████████████████████████▏                                                                   | 355/900 [00:32<00:50, 10.82it/s]"
     ]
    },
    {
     "name": "stdout",
     "output_type": "stream",
     "text": [
      "Yes ['Yes', 'yes'] gold 4.52 dollars\n",
      "Yes ['Yes', 'yes'] gold 4.53 dollars\n",
      "Yes ['Yes', 'yes'] gold 4.54 dollars\n"
     ]
    },
    {
     "name": "stderr",
     "output_type": "stream",
     "text": [
      "\r",
      " 40%|████████████████████████████████████████████▍                                                                   | 357/900 [00:33<00:50, 10.82it/s]"
     ]
    },
    {
     "name": "stdout",
     "output_type": "stream",
     "text": [
      "Yes ['Yes', 'yes'] gold 4.55 dollars\n",
      "Yes ['Yes', 'yes'] gold 4.56 dollars\n",
      "Yes ['Yes', 'yes'] gold 4.57 dollars\n"
     ]
    },
    {
     "name": "stderr",
     "output_type": "stream",
     "text": [
      " 40%|████████████████████████████████████████████▉                                                                   | 361/900 [00:33<00:49, 10.82it/s]"
     ]
    },
    {
     "name": "stdout",
     "output_type": "stream",
     "text": [
      "Yes ['Yes', 'yes'] gold 4.58 dollars\n",
      "Yes ['Yes', 'yes'] gold 4.59 dollars\n",
      "Yes ['Yes', 'yes'] gold 4.60 dollars\n"
     ]
    },
    {
     "name": "stderr",
     "output_type": "stream",
     "text": [
      "\r",
      " 40%|█████████████████████████████████████████████▏                                                                  | 363/900 [00:33<00:49, 10.82it/s]"
     ]
    },
    {
     "name": "stdout",
     "output_type": "stream",
     "text": [
      "Yes ['Yes', 'yes'] gold 4.61 dollars\n",
      "Yes ['Yes', 'yes'] gold 4.62 dollars\n",
      "Yes ['Yes', 'yes'] gold 4.63 dollars\n"
     ]
    },
    {
     "name": "stderr",
     "output_type": "stream",
     "text": [
      " 41%|█████████████████████████████████████████████▋                                                                  | 367/900 [00:34<00:49, 10.79it/s]"
     ]
    },
    {
     "name": "stdout",
     "output_type": "stream",
     "text": [
      "Yes ['Yes', 'yes'] gold 4.64 dollars\n",
      "Yes ['Yes', 'yes'] gold 4.65 dollars\n",
      "Yes ['Yes', 'yes'] gold 4.66 dollars\n"
     ]
    },
    {
     "name": "stderr",
     "output_type": "stream",
     "text": [
      "\r",
      " 41%|█████████████████████████████████████████████▉                                                                  | 369/900 [00:34<00:49, 10.79it/s]"
     ]
    },
    {
     "name": "stdout",
     "output_type": "stream",
     "text": [
      "Yes ['Yes', 'yes'] gold 4.67 dollars\n",
      "Yes ['Yes', 'yes'] gold 4.68 dollars\n",
      "Yes ['Yes', 'yes'] gold 4.69 dollars\n"
     ]
    },
    {
     "name": "stderr",
     "output_type": "stream",
     "text": [
      " 41%|██████████████████████████████████████████████▍                                                                 | 373/900 [00:34<00:48, 10.81it/s]"
     ]
    },
    {
     "name": "stdout",
     "output_type": "stream",
     "text": [
      "Yes ['Yes', 'yes'] gold 4.70 dollars\n",
      "Yes ['Yes', 'yes'] gold 4.71 dollars\n",
      "Yes ['Yes', 'yes'] gold 4.72 dollars\n"
     ]
    },
    {
     "name": "stderr",
     "output_type": "stream",
     "text": [
      "\r",
      " 42%|██████████████████████████████████████████████▋                                                                 | 375/900 [00:34<00:48, 10.81it/s]"
     ]
    },
    {
     "name": "stdout",
     "output_type": "stream",
     "text": [
      "Yes ['Yes', 'yes'] gold 4.73 dollars\n",
      "Yes ['Yes', 'yes'] gold 4.74 dollars\n",
      "Yes ['Yes', 'yes'] gold 4.75 dollars\n"
     ]
    },
    {
     "name": "stderr",
     "output_type": "stream",
     "text": [
      " 42%|███████████████████████████████████████████████▏                                                                | 379/900 [00:35<00:48, 10.77it/s]"
     ]
    },
    {
     "name": "stdout",
     "output_type": "stream",
     "text": [
      "Yes ['Yes', 'yes'] gold 4.76 dollars\n",
      "Yes ['Yes', 'yes'] gold 4.77 dollars\n",
      "Yes ['Yes', 'yes'] gold 4.78 dollars\n"
     ]
    },
    {
     "name": "stderr",
     "output_type": "stream",
     "text": [
      "\r",
      " 42%|███████████████████████████████████████████████▍                                                                | 381/900 [00:35<00:48, 10.78it/s]"
     ]
    },
    {
     "name": "stdout",
     "output_type": "stream",
     "text": [
      "Yes ['Yes', 'yes'] gold 4.79 dollars\n",
      "Yes ['Yes', 'yes'] gold 4.80 dollars\n",
      "Yes ['Yes', 'yes'] gold 4.81 dollars\n"
     ]
    },
    {
     "name": "stderr",
     "output_type": "stream",
     "text": [
      " 43%|███████████████████████████████████████████████▉                                                                | 385/900 [00:35<00:47, 10.80it/s]"
     ]
    },
    {
     "name": "stdout",
     "output_type": "stream",
     "text": [
      "Yes ['Yes', 'yes'] gold 4.82 dollars\n",
      "Yes ['Yes', 'yes'] gold 4.83 dollars\n",
      "Yes ['Yes', 'yes'] gold 4.84 dollars\n"
     ]
    },
    {
     "name": "stderr",
     "output_type": "stream",
     "text": [
      "\r",
      " 43%|████████████████████████████████████████████████▏                                                               | 387/900 [00:35<00:47, 10.77it/s]"
     ]
    },
    {
     "name": "stdout",
     "output_type": "stream",
     "text": [
      "Yes ['Yes', 'yes'] gold 4.85 dollars\n",
      "Yes ['Yes', 'yes'] gold 4.86 dollars\n",
      "Yes ['Yes', 'yes'] gold 4.87 dollars\n"
     ]
    },
    {
     "name": "stderr",
     "output_type": "stream",
     "text": [
      " 43%|████████████████████████████████████████████████▋                                                               | 391/900 [00:36<00:47, 10.80it/s]"
     ]
    },
    {
     "name": "stdout",
     "output_type": "stream",
     "text": [
      "Yes ['Yes', 'yes'] gold 4.88 dollars\n",
      "Yes ['Yes', 'yes'] gold 4.89 dollars\n",
      "Yes ['Yes', 'yes'] gold 4.90 dollars\n"
     ]
    },
    {
     "name": "stderr",
     "output_type": "stream",
     "text": [
      "\r",
      " 44%|████████████████████████████████████████████████▉                                                               | 393/900 [00:36<00:46, 10.80it/s]"
     ]
    },
    {
     "name": "stdout",
     "output_type": "stream",
     "text": [
      "No ['Yes', 'yes'] gold 4.91 dollars\n",
      "Yes ['Yes', 'yes'] gold 4.92 dollars\n",
      "Yes ['Yes', 'yes'] gold 4.93 dollars\n"
     ]
    },
    {
     "name": "stderr",
     "output_type": "stream",
     "text": [
      " 44%|█████████████████████████████████████████████████▍                                                              | 397/900 [00:36<00:46, 10.80it/s]"
     ]
    },
    {
     "name": "stdout",
     "output_type": "stream",
     "text": [
      "Yes ['Yes', 'yes'] gold 4.94 dollars\n",
      "Yes ['Yes', 'yes'] gold 4.95 dollars\n",
      "Yes ['Yes', 'yes'] gold 4.96 dollars\n"
     ]
    },
    {
     "name": "stderr",
     "output_type": "stream",
     "text": [
      "\r",
      " 44%|█████████████████████████████████████████████████▋                                                              | 399/900 [00:37<00:46, 10.81it/s]"
     ]
    },
    {
     "name": "stdout",
     "output_type": "stream",
     "text": [
      "Yes ['Yes', 'yes'] gold 4.97 dollars\n",
      "Yes ['Yes', 'yes'] gold 4.98 dollars\n",
      "Yes ['Yes', 'yes'] gold 4.99 dollars\n"
     ]
    },
    {
     "name": "stderr",
     "output_type": "stream",
     "text": [
      " 45%|██████████████████████████████████████████████████▏                                                             | 403/900 [00:37<00:45, 10.81it/s]"
     ]
    },
    {
     "name": "stdout",
     "output_type": "stream",
     "text": [
      "Yes ['Yes', 'yes'] gold 5.00 dollars\n",
      "No ['Yes', 'yes'] gold 5.01 dollars\n",
      "Yes ['Yes', 'yes'] gold 5.02 dollars\n"
     ]
    },
    {
     "name": "stderr",
     "output_type": "stream",
     "text": [
      "\r",
      " 45%|██████████████████████████████████████████████████▍                                                             | 405/900 [00:37<00:45, 10.81it/s]"
     ]
    },
    {
     "name": "stdout",
     "output_type": "stream",
     "text": [
      "Yes ['Yes', 'yes'] gold 5.03 dollars\n",
      "Yes ['Yes', 'yes'] gold 5.04 dollars\n",
      "Yes ['Yes', 'yes'] gold 5.05 dollars\n"
     ]
    },
    {
     "name": "stderr",
     "output_type": "stream",
     "text": [
      " 45%|██████████████████████████████████████████████████▉                                                             | 409/900 [00:37<00:45, 10.80it/s]"
     ]
    },
    {
     "name": "stdout",
     "output_type": "stream",
     "text": [
      "Yes ['Yes', 'yes'] gold 5.06 dollars\n",
      "Yes ['Yes', 'yes'] gold 5.07 dollars\n",
      "Yes ['Yes', 'yes'] gold 5.08 dollars\n"
     ]
    },
    {
     "name": "stderr",
     "output_type": "stream",
     "text": [
      "\r",
      " 46%|███████████████████████████████████████████████████▏                                                            | 411/900 [00:38<00:45, 10.78it/s]"
     ]
    },
    {
     "name": "stdout",
     "output_type": "stream",
     "text": [
      "No ['Yes', 'yes'] gold 5.09 dollars\n",
      "No ['Yes', 'yes'] gold 5.10 dollars\n",
      "No ['Yes', 'yes'] gold 5.11 dollars\n"
     ]
    },
    {
     "name": "stderr",
     "output_type": "stream",
     "text": [
      " 46%|███████████████████████████████████████████████████▋                                                            | 415/900 [00:38<00:44, 10.78it/s]"
     ]
    },
    {
     "name": "stdout",
     "output_type": "stream",
     "text": [
      "Yes ['Yes', 'yes'] gold 5.12 dollars\n",
      "Yes ['Yes', 'yes'] gold 5.13 dollars\n",
      "Yes ['Yes', 'yes'] gold 5.14 dollars\n"
     ]
    },
    {
     "name": "stderr",
     "output_type": "stream",
     "text": [
      "\r",
      " 46%|███████████████████████████████████████████████████▉                                                            | 417/900 [00:38<00:44, 10.79it/s]"
     ]
    },
    {
     "name": "stdout",
     "output_type": "stream",
     "text": [
      "Yes ['Yes', 'yes'] gold 5.15 dollars\n",
      "Yes ['Yes', 'yes'] gold 5.16 dollars\n",
      "Yes ['Yes', 'yes'] gold 5.17 dollars\n"
     ]
    },
    {
     "name": "stderr",
     "output_type": "stream",
     "text": [
      " 47%|████████████████████████████████████████████████████▍                                                           | 421/900 [00:39<00:44, 10.78it/s]"
     ]
    },
    {
     "name": "stdout",
     "output_type": "stream",
     "text": [
      "Yes ['Yes', 'yes'] gold 5.18 dollars\n",
      "Yes ['Yes', 'yes'] gold 5.19 dollars\n",
      "Yes ['Yes', 'yes'] gold 5.20 dollars\n"
     ]
    },
    {
     "name": "stderr",
     "output_type": "stream",
     "text": [
      "\r",
      " 47%|████████████████████████████████████████████████████▋                                                           | 423/900 [00:39<00:44, 10.78it/s]"
     ]
    },
    {
     "name": "stdout",
     "output_type": "stream",
     "text": [
      "Yes ['Yes', 'yes'] gold 5.21 dollars\n",
      "Yes ['Yes', 'yes'] gold 5.22 dollars\n",
      "Yes ['Yes', 'yes'] gold 5.23 dollars\n"
     ]
    },
    {
     "name": "stderr",
     "output_type": "stream",
     "text": [
      " 47%|█████████████████████████████████████████████████████▏                                                          | 427/900 [00:39<00:43, 10.77it/s]"
     ]
    },
    {
     "name": "stdout",
     "output_type": "stream",
     "text": [
      "Yes ['Yes', 'yes'] gold 5.24 dollars\n",
      "Yes ['Yes', 'yes'] gold 5.25 dollars\n",
      "Yes ['Yes', 'yes'] gold 5.26 dollars\n"
     ]
    },
    {
     "name": "stderr",
     "output_type": "stream",
     "text": [
      "\r",
      " 48%|█████████████████████████████████████████████████████▍                                                          | 429/900 [00:39<00:43, 10.79it/s]"
     ]
    },
    {
     "name": "stdout",
     "output_type": "stream",
     "text": [
      "Yes ['Yes', 'yes'] gold 5.27 dollars\n",
      "Yes ['Yes', 'yes'] gold 5.28 dollars\n",
      "Yes ['Yes', 'yes'] gold 5.29 dollars\n"
     ]
    },
    {
     "name": "stderr",
     "output_type": "stream",
     "text": [
      " 48%|█████████████████████████████████████████████████████▉                                                          | 433/900 [00:40<00:43, 10.81it/s]"
     ]
    },
    {
     "name": "stdout",
     "output_type": "stream",
     "text": [
      "Yes ['Yes', 'yes'] gold 5.30 dollars\n",
      "Yes ['Yes', 'yes'] gold 5.31 dollars\n",
      "Yes ['Yes', 'yes'] gold 5.32 dollars\n"
     ]
    },
    {
     "name": "stderr",
     "output_type": "stream",
     "text": [
      "\r",
      " 48%|██████████████████████████████████████████████████████▏                                                         | 435/900 [00:40<00:43, 10.81it/s]"
     ]
    },
    {
     "name": "stdout",
     "output_type": "stream",
     "text": [
      "Yes ['Yes', 'yes'] gold 5.33 dollars\n",
      "Yes ['Yes', 'yes'] gold 5.34 dollars\n",
      "Yes ['Yes', 'yes'] gold 5.35 dollars\n"
     ]
    },
    {
     "name": "stderr",
     "output_type": "stream",
     "text": [
      " 49%|██████████████████████████████████████████████████████▋                                                         | 439/900 [00:40<00:42, 10.80it/s]"
     ]
    },
    {
     "name": "stdout",
     "output_type": "stream",
     "text": [
      "Yes ['Yes', 'yes'] gold 5.36 dollars\n",
      "Yes ['Yes', 'yes'] gold 5.37 dollars\n",
      "Yes ['Yes', 'yes'] gold 5.38 dollars\n"
     ]
    },
    {
     "name": "stderr",
     "output_type": "stream",
     "text": [
      "\r",
      " 49%|██████████████████████████████████████████████████████▉                                                         | 441/900 [00:40<00:42, 10.81it/s]"
     ]
    },
    {
     "name": "stdout",
     "output_type": "stream",
     "text": [
      "Yes ['Yes', 'yes'] gold 5.39 dollars\n",
      "Yes ['Yes', 'yes'] gold 5.40 dollars\n",
      "Yes ['Yes', 'yes'] gold 5.41 dollars\n"
     ]
    },
    {
     "name": "stderr",
     "output_type": "stream",
     "text": [
      " 49%|███████████████████████████████████████████████████████▍                                                        | 445/900 [00:41<00:42, 10.79it/s]"
     ]
    },
    {
     "name": "stdout",
     "output_type": "stream",
     "text": [
      "Yes ['Yes', 'yes'] gold 5.42 dollars\n",
      "Yes ['Yes', 'yes'] gold 5.43 dollars\n",
      "Yes ['Yes', 'yes'] gold 5.44 dollars\n"
     ]
    },
    {
     "name": "stderr",
     "output_type": "stream",
     "text": [
      "\r",
      " 50%|███████████████████████████████████████████████████████▋                                                        | 447/900 [00:41<00:42, 10.77it/s]"
     ]
    },
    {
     "name": "stdout",
     "output_type": "stream",
     "text": [
      "Yes ['Yes', 'yes'] gold 5.45 dollars\n",
      "Yes ['Yes', 'yes'] gold 5.46 dollars\n",
      "Yes ['Yes', 'yes'] gold 5.47 dollars\n"
     ]
    },
    {
     "name": "stderr",
     "output_type": "stream",
     "text": [
      " 50%|████████████████████████████████████████████████████████                                                        | 451/900 [00:41<00:41, 10.79it/s]"
     ]
    },
    {
     "name": "stdout",
     "output_type": "stream",
     "text": [
      "Yes ['Yes', 'yes'] gold 5.48 dollars\n",
      "Yes ['Yes', 'yes'] gold 5.49 dollars\n",
      "Yes ['Yes', 'yes'] gold 5.50 dollars\n"
     ]
    },
    {
     "name": "stderr",
     "output_type": "stream",
     "text": [
      "\r",
      " 50%|████████████████████████████████████████████████████████▎                                                       | 453/900 [00:42<00:41, 10.80it/s]"
     ]
    },
    {
     "name": "stdout",
     "output_type": "stream",
     "text": [
      "Yes ['Yes', 'yes'] gold 5.51 dollars\n",
      "Yes ['Yes', 'yes'] gold 5.52 dollars\n",
      "Yes ['Yes', 'yes'] gold 5.53 dollars\n"
     ]
    },
    {
     "name": "stderr",
     "output_type": "stream",
     "text": [
      " 51%|████████████████████████████████████████████████████████▊                                                       | 457/900 [00:42<00:40, 10.82it/s]"
     ]
    },
    {
     "name": "stdout",
     "output_type": "stream",
     "text": [
      "Yes ['Yes', 'yes'] gold 5.54 dollars\n",
      "Yes ['Yes', 'yes'] gold 5.55 dollars\n",
      "Yes ['Yes', 'yes'] gold 5.56 dollars\n"
     ]
    },
    {
     "name": "stderr",
     "output_type": "stream",
     "text": [
      "\r",
      " 51%|█████████████████████████████████████████████████████████                                                       | 459/900 [00:42<00:40, 10.82it/s]"
     ]
    },
    {
     "name": "stdout",
     "output_type": "stream",
     "text": [
      "Yes ['Yes', 'yes'] gold 5.57 dollars\n",
      "Yes ['Yes', 'yes'] gold 5.58 dollars\n",
      "Yes ['Yes', 'yes'] gold 5.59 dollars\n"
     ]
    },
    {
     "name": "stderr",
     "output_type": "stream",
     "text": [
      " 51%|█████████████████████████████████████████████████████████▌                                                      | 463/900 [00:42<00:40, 10.82it/s]"
     ]
    },
    {
     "name": "stdout",
     "output_type": "stream",
     "text": [
      "Yes ['Yes', 'yes'] gold 5.60 dollars\n",
      "Yes ['Yes', 'yes'] gold 5.61 dollars\n",
      "Yes ['Yes', 'yes'] gold 5.62 dollars\n"
     ]
    },
    {
     "name": "stderr",
     "output_type": "stream",
     "text": [
      "\r",
      " 52%|█████████████████████████████████████████████████████████▊                                                      | 465/900 [00:43<00:40, 10.82it/s]"
     ]
    },
    {
     "name": "stdout",
     "output_type": "stream",
     "text": [
      "Yes ['Yes', 'yes'] gold 5.63 dollars\n",
      "Yes ['Yes', 'yes'] gold 5.64 dollars\n",
      "Yes ['Yes', 'yes'] gold 5.65 dollars\n"
     ]
    },
    {
     "name": "stderr",
     "output_type": "stream",
     "text": [
      " 52%|██████████████████████████████████████████████████████████▎                                                     | 469/900 [00:43<00:39, 10.83it/s]"
     ]
    },
    {
     "name": "stdout",
     "output_type": "stream",
     "text": [
      "Yes ['Yes', 'yes'] gold 5.66 dollars\n",
      "Yes ['Yes', 'yes'] gold 5.67 dollars\n",
      "Yes ['Yes', 'yes'] gold 5.68 dollars\n"
     ]
    },
    {
     "name": "stderr",
     "output_type": "stream",
     "text": [
      "\r",
      " 52%|██████████████████████████████████████████████████████████▌                                                     | 471/900 [00:43<00:39, 10.83it/s]"
     ]
    },
    {
     "name": "stdout",
     "output_type": "stream",
     "text": [
      "Yes ['Yes', 'yes'] gold 5.69 dollars\n",
      "Yes ['Yes', 'yes'] gold 5.70 dollars\n",
      "Yes ['Yes', 'yes'] gold 5.71 dollars\n"
     ]
    },
    {
     "name": "stderr",
     "output_type": "stream",
     "text": [
      " 53%|███████████████████████████████████████████████████████████                                                     | 475/900 [00:44<00:39, 10.82it/s]"
     ]
    },
    {
     "name": "stdout",
     "output_type": "stream",
     "text": [
      "Yes ['Yes', 'yes'] gold 5.72 dollars\n",
      "Yes ['Yes', 'yes'] gold 5.73 dollars\n",
      "Yes ['Yes', 'yes'] gold 5.74 dollars\n"
     ]
    },
    {
     "name": "stderr",
     "output_type": "stream",
     "text": [
      "\r",
      " 53%|███████████████████████████████████████████████████████████▎                                                    | 477/900 [00:44<00:39, 10.81it/s]"
     ]
    },
    {
     "name": "stdout",
     "output_type": "stream",
     "text": [
      "Yes ['Yes', 'yes'] gold 5.75 dollars\n",
      "Yes ['Yes', 'yes'] gold 5.76 dollars\n",
      "Yes ['Yes', 'yes'] gold 5.77 dollars\n"
     ]
    },
    {
     "name": "stderr",
     "output_type": "stream",
     "text": [
      " 53%|███████████████████████████████████████████████████████████▊                                                    | 481/900 [00:44<00:38, 10.79it/s]"
     ]
    },
    {
     "name": "stdout",
     "output_type": "stream",
     "text": [
      "Yes ['Yes', 'yes'] gold 5.78 dollars\n",
      "Yes ['Yes', 'yes'] gold 5.79 dollars\n",
      "Yes ['Yes', 'yes'] gold 5.80 dollars\n"
     ]
    },
    {
     "name": "stderr",
     "output_type": "stream",
     "text": [
      "\r",
      " 54%|████████████████████████████████████████████████████████████                                                    | 483/900 [00:44<00:38, 10.79it/s]"
     ]
    },
    {
     "name": "stdout",
     "output_type": "stream",
     "text": [
      "Yes ['Yes', 'yes'] gold 5.81 dollars\n",
      "Yes ['Yes', 'yes'] gold 5.82 dollars\n",
      "Yes ['Yes', 'yes'] gold 5.83 dollars\n"
     ]
    },
    {
     "name": "stderr",
     "output_type": "stream",
     "text": [
      " 54%|████████████████████████████████████████████████████████████▌                                                   | 487/900 [00:45<00:38, 10.80it/s]"
     ]
    },
    {
     "name": "stdout",
     "output_type": "stream",
     "text": [
      "Yes ['Yes', 'yes'] gold 5.84 dollars\n",
      "Yes ['Yes', 'yes'] gold 5.85 dollars\n",
      "Yes ['Yes', 'yes'] gold 5.86 dollars\n"
     ]
    },
    {
     "name": "stderr",
     "output_type": "stream",
     "text": [
      "\r",
      " 54%|████████████████████████████████████████████████████████████▊                                                   | 489/900 [00:45<00:38, 10.81it/s]"
     ]
    },
    {
     "name": "stdout",
     "output_type": "stream",
     "text": [
      "Yes ['Yes', 'yes'] gold 5.87 dollars\n",
      "Yes ['Yes', 'yes'] gold 5.88 dollars\n",
      "Yes ['Yes', 'yes'] gold 5.89 dollars\n"
     ]
    },
    {
     "name": "stderr",
     "output_type": "stream",
     "text": [
      " 55%|█████████████████████████████████████████████████████████████▎                                                  | 493/900 [00:45<00:37, 10.80it/s]"
     ]
    },
    {
     "name": "stdout",
     "output_type": "stream",
     "text": [
      "Yes ['Yes', 'yes'] gold 5.90 dollars\n",
      "No ['Yes', 'yes'] gold 5.91 dollars\n",
      "Yes ['Yes', 'yes'] gold 5.92 dollars\n"
     ]
    },
    {
     "name": "stderr",
     "output_type": "stream",
     "text": [
      "\r",
      " 55%|█████████████████████████████████████████████████████████████▌                                                  | 495/900 [00:45<00:37, 10.81it/s]"
     ]
    },
    {
     "name": "stdout",
     "output_type": "stream",
     "text": [
      "Yes ['Yes', 'yes'] gold 5.93 dollars\n",
      "Yes ['Yes', 'yes'] gold 5.94 dollars\n",
      "Yes ['Yes', 'yes'] gold 5.95 dollars\n"
     ]
    },
    {
     "name": "stderr",
     "output_type": "stream",
     "text": [
      " 55%|██████████████████████████████████████████████████████████████                                                  | 499/900 [00:46<00:37, 10.81it/s]"
     ]
    },
    {
     "name": "stdout",
     "output_type": "stream",
     "text": [
      "Yes ['Yes', 'yes'] gold 5.96 dollars\n",
      "Yes ['Yes', 'yes'] gold 5.97 dollars\n",
      "Yes ['Yes', 'yes'] gold 5.98 dollars\n"
     ]
    },
    {
     "name": "stderr",
     "output_type": "stream",
     "text": [
      "\r",
      " 56%|██████████████████████████████████████████████████████████████▎                                                 | 501/900 [00:46<00:36, 10.81it/s]"
     ]
    },
    {
     "name": "stdout",
     "output_type": "stream",
     "text": [
      "Yes ['Yes', 'yes'] gold 5.99 dollars\n",
      "Yes ['Yes', 'yes'] gold 6.00 dollars\n",
      "No ['Yes', 'yes'] gold 6.01 dollars\n"
     ]
    },
    {
     "name": "stderr",
     "output_type": "stream",
     "text": [
      " 56%|██████████████████████████████████████████████████████████████▊                                                 | 505/900 [00:46<00:36, 10.81it/s]"
     ]
    },
    {
     "name": "stdout",
     "output_type": "stream",
     "text": [
      "Yes ['Yes', 'yes'] gold 6.02 dollars\n",
      "Yes ['Yes', 'yes'] gold 6.03 dollars\n",
      "Yes ['Yes', 'yes'] gold 6.04 dollars\n"
     ]
    },
    {
     "name": "stderr",
     "output_type": "stream",
     "text": [
      "\r",
      " 56%|███████████████████████████████████████████████████████████████                                                 | 507/900 [00:46<00:36, 10.82it/s]"
     ]
    },
    {
     "name": "stdout",
     "output_type": "stream",
     "text": [
      "Yes ['Yes', 'yes'] gold 6.05 dollars\n",
      "Yes ['Yes', 'yes'] gold 6.06 dollars\n",
      "Yes ['Yes', 'yes'] gold 6.07 dollars\n"
     ]
    },
    {
     "name": "stderr",
     "output_type": "stream",
     "text": [
      " 57%|███████████████████████████████████████████████████████████████▌                                                | 511/900 [00:47<00:35, 10.81it/s]"
     ]
    },
    {
     "name": "stdout",
     "output_type": "stream",
     "text": [
      "Yes ['Yes', 'yes'] gold 6.08 dollars\n",
      "Yes ['Yes', 'yes'] gold 6.09 dollars\n",
      "Yes ['Yes', 'yes'] gold 6.10 dollars\n"
     ]
    },
    {
     "name": "stderr",
     "output_type": "stream",
     "text": [
      "\r",
      " 57%|███████████████████████████████████████████████████████████████▊                                                | 513/900 [00:47<00:35, 10.81it/s]"
     ]
    },
    {
     "name": "stdout",
     "output_type": "stream",
     "text": [
      "Yes ['Yes', 'yes'] gold 6.11 dollars\n",
      "Yes ['Yes', 'yes'] gold 6.12 dollars\n",
      "Yes ['Yes', 'yes'] gold 6.13 dollars\n"
     ]
    },
    {
     "name": "stderr",
     "output_type": "stream",
     "text": [
      " 57%|████████████████████████████████████████████████████████████████▎                                               | 517/900 [00:47<00:35, 10.79it/s]"
     ]
    },
    {
     "name": "stdout",
     "output_type": "stream",
     "text": [
      "Yes ['Yes', 'yes'] gold 6.14 dollars\n",
      "Yes ['Yes', 'yes'] gold 6.15 dollars\n",
      "Yes ['Yes', 'yes'] gold 6.16 dollars\n"
     ]
    },
    {
     "name": "stderr",
     "output_type": "stream",
     "text": [
      "\r",
      " 58%|████████████████████████████████████████████████████████████████▌                                               | 519/900 [00:48<00:35, 10.80it/s]"
     ]
    },
    {
     "name": "stdout",
     "output_type": "stream",
     "text": [
      "Yes ['Yes', 'yes'] gold 6.17 dollars\n",
      "Yes ['Yes', 'yes'] gold 6.18 dollars\n",
      "Yes ['Yes', 'yes'] gold 6.19 dollars\n"
     ]
    },
    {
     "name": "stderr",
     "output_type": "stream",
     "text": [
      " 58%|█████████████████████████████████████████████████████████████████                                               | 523/900 [00:48<00:34, 10.80it/s]"
     ]
    },
    {
     "name": "stdout",
     "output_type": "stream",
     "text": [
      "Yes ['Yes', 'yes'] gold 6.20 dollars\n",
      "Yes ['Yes', 'yes'] gold 6.21 dollars\n",
      "Yes ['Yes', 'yes'] gold 6.22 dollars\n"
     ]
    },
    {
     "name": "stderr",
     "output_type": "stream",
     "text": [
      "\r",
      " 58%|█████████████████████████████████████████████████████████████████▎                                              | 525/900 [00:48<00:34, 10.80it/s]"
     ]
    },
    {
     "name": "stdout",
     "output_type": "stream",
     "text": [
      "Yes ['Yes', 'yes'] gold 6.23 dollars\n",
      "Yes ['Yes', 'yes'] gold 6.24 dollars\n",
      "Yes ['Yes', 'yes'] gold 6.25 dollars\n"
     ]
    },
    {
     "name": "stderr",
     "output_type": "stream",
     "text": [
      " 59%|█████████████████████████████████████████████████████████████████▊                                              | 529/900 [00:49<00:34, 10.81it/s]"
     ]
    },
    {
     "name": "stdout",
     "output_type": "stream",
     "text": [
      "Yes ['Yes', 'yes'] gold 6.26 dollars\n",
      "Yes ['Yes', 'yes'] gold 6.27 dollars\n",
      "Yes ['Yes', 'yes'] gold 6.28 dollars\n"
     ]
    },
    {
     "name": "stderr",
     "output_type": "stream",
     "text": [
      "\r",
      " 59%|██████████████████████████████████████████████████████████████████                                              | 531/900 [00:49<00:34, 10.81it/s]"
     ]
    },
    {
     "name": "stdout",
     "output_type": "stream",
     "text": [
      "Yes ['Yes', 'yes'] gold 6.29 dollars\n",
      "Yes ['Yes', 'yes'] gold 6.30 dollars\n",
      "Yes ['Yes', 'yes'] gold 6.31 dollars\n"
     ]
    },
    {
     "name": "stderr",
     "output_type": "stream",
     "text": [
      " 59%|██████████████████████████████████████████████████████████████████▌                                             | 535/900 [00:49<00:33, 10.82it/s]"
     ]
    },
    {
     "name": "stdout",
     "output_type": "stream",
     "text": [
      "Yes ['Yes', 'yes'] gold 6.32 dollars\n",
      "Yes ['Yes', 'yes'] gold 6.33 dollars\n",
      "Yes ['Yes', 'yes'] gold 6.34 dollars\n"
     ]
    },
    {
     "name": "stderr",
     "output_type": "stream",
     "text": [
      "\r",
      " 60%|██████████████████████████████████████████████████████████████████▊                                             | 537/900 [00:49<00:33, 10.81it/s]"
     ]
    },
    {
     "name": "stdout",
     "output_type": "stream",
     "text": [
      "Yes ['Yes', 'yes'] gold 6.35 dollars\n",
      "Yes ['Yes', 'yes'] gold 6.36 dollars\n",
      "Yes ['Yes', 'yes'] gold 6.37 dollars\n"
     ]
    },
    {
     "name": "stderr",
     "output_type": "stream",
     "text": [
      " 60%|███████████████████████████████████████████████████████████████████▎                                            | 541/900 [00:50<00:33, 10.82it/s]"
     ]
    },
    {
     "name": "stdout",
     "output_type": "stream",
     "text": [
      "Yes ['Yes', 'yes'] gold 6.38 dollars\n",
      "Yes ['Yes', 'yes'] gold 6.39 dollars\n",
      "Yes ['Yes', 'yes'] gold 6.40 dollars\n"
     ]
    },
    {
     "name": "stderr",
     "output_type": "stream",
     "text": [
      "\r",
      " 60%|███████████████████████████████████████████████████████████████████▌                                            | 543/900 [00:50<00:33, 10.78it/s]"
     ]
    },
    {
     "name": "stdout",
     "output_type": "stream",
     "text": [
      "Yes ['Yes', 'yes'] gold 6.41 dollars\n",
      "Yes ['Yes', 'yes'] gold 6.42 dollars\n",
      "Yes ['Yes', 'yes'] gold 6.43 dollars\n"
     ]
    },
    {
     "name": "stderr",
     "output_type": "stream",
     "text": [
      " 61%|████████████████████████████████████████████████████████████████████                                            | 547/900 [00:50<00:32, 10.78it/s]"
     ]
    },
    {
     "name": "stdout",
     "output_type": "stream",
     "text": [
      "Yes ['Yes', 'yes'] gold 6.44 dollars\n",
      "Yes ['Yes', 'yes'] gold 6.45 dollars\n",
      "Yes ['Yes', 'yes'] gold 6.46 dollars\n"
     ]
    },
    {
     "name": "stderr",
     "output_type": "stream",
     "text": [
      "\r",
      " 61%|████████████████████████████████████████████████████████████████████▎                                           | 549/900 [00:50<00:32, 10.79it/s]"
     ]
    },
    {
     "name": "stdout",
     "output_type": "stream",
     "text": [
      "Yes ['Yes', 'yes'] gold 6.47 dollars\n",
      "Yes ['Yes', 'yes'] gold 6.48 dollars\n",
      "Yes ['Yes', 'yes'] gold 6.49 dollars\n"
     ]
    },
    {
     "name": "stderr",
     "output_type": "stream",
     "text": [
      " 61%|████████████████████████████████████████████████████████████████████▊                                           | 553/900 [00:51<00:32, 10.80it/s]"
     ]
    },
    {
     "name": "stdout",
     "output_type": "stream",
     "text": [
      "Yes ['Yes', 'yes'] gold 6.50 dollars\n",
      "Yes ['Yes', 'yes'] gold 6.51 dollars\n",
      "Yes ['Yes', 'yes'] gold 6.52 dollars\n"
     ]
    },
    {
     "name": "stderr",
     "output_type": "stream",
     "text": [
      "\r",
      " 62%|█████████████████████████████████████████████████████████████████████                                           | 555/900 [00:51<00:31, 10.81it/s]"
     ]
    },
    {
     "name": "stdout",
     "output_type": "stream",
     "text": [
      "Yes ['Yes', 'yes'] gold 6.53 dollars\n",
      "Yes ['Yes', 'yes'] gold 6.54 dollars\n",
      "Yes ['Yes', 'yes'] gold 6.55 dollars\n"
     ]
    },
    {
     "name": "stderr",
     "output_type": "stream",
     "text": [
      " 62%|█████████████████████████████████████████████████████████████████████▌                                          | 559/900 [00:51<00:31, 10.74it/s]"
     ]
    },
    {
     "name": "stdout",
     "output_type": "stream",
     "text": [
      "Yes ['Yes', 'yes'] gold 6.56 dollars\n",
      "Yes ['Yes', 'yes'] gold 6.57 dollars\n",
      "Yes ['Yes', 'yes'] gold 6.58 dollars\n"
     ]
    },
    {
     "name": "stderr",
     "output_type": "stream",
     "text": [
      "\r",
      " 62%|█████████████████████████████████████████████████████████████████████▊                                          | 561/900 [00:52<00:32, 10.31it/s]"
     ]
    },
    {
     "name": "stdout",
     "output_type": "stream",
     "text": [
      "Yes ['Yes', 'yes'] gold 6.59 dollars\n",
      "Yes ['Yes', 'yes'] gold 6.60 dollars\n"
     ]
    },
    {
     "name": "stderr",
     "output_type": "stream",
     "text": [
      "\r",
      " 63%|██████████████████████████████████████████████████████████████████████                                          | 563/900 [00:52<00:33, 10.20it/s]"
     ]
    },
    {
     "name": "stdout",
     "output_type": "stream",
     "text": [
      "Yes ['Yes', 'yes'] gold 6.61 dollars\n",
      "Yes ['Yes', 'yes'] gold 6.62 dollars\n",
      "Yes ['Yes', 'yes'] gold 6.63 dollars\n"
     ]
    },
    {
     "name": "stderr",
     "output_type": "stream",
     "text": [
      " 63%|██████████████████████████████████████████████████████████████████████▌                                         | 567/900 [00:52<00:31, 10.51it/s]"
     ]
    },
    {
     "name": "stdout",
     "output_type": "stream",
     "text": [
      "Yes ['Yes', 'yes'] gold 6.64 dollars\n",
      "Yes ['Yes', 'yes'] gold 6.65 dollars\n",
      "Yes ['Yes', 'yes'] gold 6.66 dollars\n"
     ]
    },
    {
     "name": "stderr",
     "output_type": "stream",
     "text": [
      "\r",
      " 63%|██████████████████████████████████████████████████████████████████████▊                                         | 569/900 [00:52<00:31, 10.58it/s]"
     ]
    },
    {
     "name": "stdout",
     "output_type": "stream",
     "text": [
      "Yes ['Yes', 'yes'] gold 6.67 dollars\n",
      "Yes ['Yes', 'yes'] gold 6.68 dollars\n",
      "Yes ['Yes', 'yes'] gold 6.69 dollars\n"
     ]
    },
    {
     "name": "stderr",
     "output_type": "stream",
     "text": [
      " 64%|███████████████████████████████████████████████████████████████████████▎                                        | 573/900 [00:53<00:30, 10.70it/s]"
     ]
    },
    {
     "name": "stdout",
     "output_type": "stream",
     "text": [
      "Yes ['Yes', 'yes'] gold 6.70 dollars\n",
      "Yes ['Yes', 'yes'] gold 6.71 dollars\n",
      "Yes ['Yes', 'yes'] gold 6.72 dollars\n"
     ]
    },
    {
     "name": "stderr",
     "output_type": "stream",
     "text": [
      "\r",
      " 64%|███████████████████████████████████████████████████████████████████████▌                                        | 575/900 [00:53<00:30, 10.74it/s]"
     ]
    },
    {
     "name": "stdout",
     "output_type": "stream",
     "text": [
      "Yes ['Yes', 'yes'] gold 6.73 dollars\n",
      "Yes ['Yes', 'yes'] gold 6.74 dollars\n",
      "Yes ['Yes', 'yes'] gold 6.75 dollars\n"
     ]
    },
    {
     "name": "stderr",
     "output_type": "stream",
     "text": [
      " 64%|████████████████████████████████████████████████████████████████████████                                        | 579/900 [00:53<00:29, 10.78it/s]"
     ]
    },
    {
     "name": "stdout",
     "output_type": "stream",
     "text": [
      "Yes ['Yes', 'yes'] gold 6.76 dollars\n",
      "Yes ['Yes', 'yes'] gold 6.77 dollars\n",
      "Yes ['Yes', 'yes'] gold 6.78 dollars\n"
     ]
    },
    {
     "name": "stderr",
     "output_type": "stream",
     "text": [
      "\r",
      " 65%|████████████████████████████████████████████████████████████████████████▎                                       | 581/900 [00:53<00:29, 10.78it/s]"
     ]
    },
    {
     "name": "stdout",
     "output_type": "stream",
     "text": [
      "Yes ['Yes', 'yes'] gold 6.79 dollars\n",
      "Yes ['Yes', 'yes'] gold 6.80 dollars\n",
      "Yes ['Yes', 'yes'] gold 6.81 dollars\n"
     ]
    },
    {
     "name": "stderr",
     "output_type": "stream",
     "text": [
      " 65%|████████████████████████████████████████████████████████████████████████▊                                       | 585/900 [00:54<00:29, 10.80it/s]"
     ]
    },
    {
     "name": "stdout",
     "output_type": "stream",
     "text": [
      "Yes ['Yes', 'yes'] gold 6.82 dollars\n",
      "Yes ['Yes', 'yes'] gold 6.83 dollars\n",
      "Yes ['Yes', 'yes'] gold 6.84 dollars\n"
     ]
    },
    {
     "name": "stderr",
     "output_type": "stream",
     "text": [
      "\r",
      " 65%|█████████████████████████████████████████████████████████████████████████                                       | 587/900 [00:54<00:28, 10.80it/s]"
     ]
    },
    {
     "name": "stdout",
     "output_type": "stream",
     "text": [
      "Yes ['Yes', 'yes'] gold 6.85 dollars\n",
      "Yes ['Yes', 'yes'] gold 6.86 dollars\n",
      "Yes ['Yes', 'yes'] gold 6.87 dollars\n"
     ]
    },
    {
     "name": "stderr",
     "output_type": "stream",
     "text": [
      " 66%|█████████████████████████████████████████████████████████████████████████▌                                      | 591/900 [00:54<00:28, 10.81it/s]"
     ]
    },
    {
     "name": "stdout",
     "output_type": "stream",
     "text": [
      "Yes ['Yes', 'yes'] gold 6.88 dollars\n",
      "Yes ['Yes', 'yes'] gold 6.89 dollars\n",
      "Yes ['Yes', 'yes'] gold 6.90 dollars\n"
     ]
    },
    {
     "name": "stderr",
     "output_type": "stream",
     "text": [
      "\r",
      " 66%|█████████████████████████████████████████████████████████████████████████▊                                      | 593/900 [00:55<00:28, 10.81it/s]"
     ]
    },
    {
     "name": "stdout",
     "output_type": "stream",
     "text": [
      "Yes ['Yes', 'yes'] gold 6.91 dollars\n",
      "Yes ['Yes', 'yes'] gold 6.92 dollars\n",
      "Yes ['Yes', 'yes'] gold 6.93 dollars\n"
     ]
    },
    {
     "name": "stderr",
     "output_type": "stream",
     "text": [
      " 66%|██████████████████████████████████████████████████████████████████████████▎                                     | 597/900 [00:55<00:28, 10.82it/s]"
     ]
    },
    {
     "name": "stdout",
     "output_type": "stream",
     "text": [
      "Yes ['Yes', 'yes'] gold 6.94 dollars\n",
      "Yes ['Yes', 'yes'] gold 6.95 dollars\n",
      "Yes ['Yes', 'yes'] gold 6.96 dollars\n"
     ]
    },
    {
     "name": "stderr",
     "output_type": "stream",
     "text": [
      "\r",
      " 67%|██████████████████████████████████████████████████████████████████████████▌                                     | 599/900 [00:55<00:27, 10.75it/s]"
     ]
    },
    {
     "name": "stdout",
     "output_type": "stream",
     "text": [
      "Yes ['Yes', 'yes'] gold 6.97 dollars\n",
      "Yes ['Yes', 'yes'] gold 6.98 dollars\n",
      "Yes ['Yes', 'yes'] gold 6.99 dollars\n"
     ]
    },
    {
     "name": "stderr",
     "output_type": "stream",
     "text": [
      " 67%|███████████████████████████████████████████████████████████████████████████                                     | 603/900 [00:55<00:27, 10.78it/s]"
     ]
    },
    {
     "name": "stdout",
     "output_type": "stream",
     "text": [
      "No ['No', 'no'] gold 7.00 dollars\n",
      "No ['No', 'no'] gold 7.01 dollars\n",
      "No ['No', 'no'] gold 7.02 dollars\n"
     ]
    },
    {
     "name": "stderr",
     "output_type": "stream",
     "text": [
      "\r",
      " 67%|███████████████████████████████████████████████████████████████████████████▎                                    | 605/900 [00:56<00:27, 10.79it/s]"
     ]
    },
    {
     "name": "stdout",
     "output_type": "stream",
     "text": [
      "No ['No', 'no'] gold 7.03 dollars\n",
      "No ['No', 'no'] gold 7.04 dollars\n",
      "No ['No', 'no'] gold 7.05 dollars\n"
     ]
    },
    {
     "name": "stderr",
     "output_type": "stream",
     "text": [
      " 68%|███████████████████████████████████████████████████████████████████████████▊                                    | 609/900 [00:56<00:26, 10.80it/s]"
     ]
    },
    {
     "name": "stdout",
     "output_type": "stream",
     "text": [
      "No ['No', 'no'] gold 7.06 dollars\n",
      "No ['No', 'no'] gold 7.07 dollars\n",
      "No ['No', 'no'] gold 7.08 dollars\n"
     ]
    },
    {
     "name": "stderr",
     "output_type": "stream",
     "text": [
      "\r",
      " 68%|████████████████████████████████████████████████████████████████████████████                                    | 611/900 [00:56<00:26, 10.81it/s]"
     ]
    },
    {
     "name": "stdout",
     "output_type": "stream",
     "text": [
      "No ['No', 'no'] gold 7.09 dollars\n",
      "No ['No', 'no'] gold 7.10 dollars\n",
      "No ['No', 'no'] gold 7.11 dollars\n"
     ]
    },
    {
     "name": "stderr",
     "output_type": "stream",
     "text": [
      " 68%|████████████████████████████████████████████████████████████████████████████▌                                   | 615/900 [00:57<00:26, 10.82it/s]"
     ]
    },
    {
     "name": "stdout",
     "output_type": "stream",
     "text": [
      "No ['No', 'no'] gold 7.12 dollars\n",
      "No ['No', 'no'] gold 7.13 dollars\n",
      "No ['No', 'no'] gold 7.14 dollars\n"
     ]
    },
    {
     "name": "stderr",
     "output_type": "stream",
     "text": [
      "\r",
      " 69%|████████████████████████████████████████████████████████████████████████████▊                                   | 617/900 [00:57<00:26, 10.81it/s]"
     ]
    },
    {
     "name": "stdout",
     "output_type": "stream",
     "text": [
      "No ['No', 'no'] gold 7.15 dollars\n",
      "No ['No', 'no'] gold 7.16 dollars\n",
      "No ['No', 'no'] gold 7.17 dollars\n"
     ]
    },
    {
     "name": "stderr",
     "output_type": "stream",
     "text": [
      " 69%|█████████████████████████████████████████████████████████████████████████████▎                                  | 621/900 [00:57<00:25, 10.82it/s]"
     ]
    },
    {
     "name": "stdout",
     "output_type": "stream",
     "text": [
      "No ['No', 'no'] gold 7.18 dollars\n",
      "No ['No', 'no'] gold 7.19 dollars\n",
      "No ['No', 'no'] gold 7.20 dollars\n"
     ]
    },
    {
     "name": "stderr",
     "output_type": "stream",
     "text": [
      "\r",
      " 69%|█████████████████████████████████████████████████████████████████████████████▌                                  | 623/900 [00:57<00:25, 10.79it/s]"
     ]
    },
    {
     "name": "stdout",
     "output_type": "stream",
     "text": [
      "No ['No', 'no'] gold 7.21 dollars\n",
      "No ['No', 'no'] gold 7.22 dollars\n",
      "No ['No', 'no'] gold 7.23 dollars\n"
     ]
    },
    {
     "name": "stderr",
     "output_type": "stream",
     "text": [
      " 70%|██████████████████████████████████████████████████████████████████████████████                                  | 627/900 [00:58<00:25, 10.80it/s]"
     ]
    },
    {
     "name": "stdout",
     "output_type": "stream",
     "text": [
      "No ['No', 'no'] gold 7.24 dollars\n",
      "No ['No', 'no'] gold 7.25 dollars\n",
      "No ['No', 'no'] gold 7.26 dollars\n"
     ]
    },
    {
     "name": "stderr",
     "output_type": "stream",
     "text": [
      "\r",
      " 70%|██████████████████████████████████████████████████████████████████████████████▎                                 | 629/900 [00:58<00:25, 10.80it/s]"
     ]
    },
    {
     "name": "stdout",
     "output_type": "stream",
     "text": [
      "No ['No', 'no'] gold 7.27 dollars\n",
      "No ['No', 'no'] gold 7.28 dollars\n",
      "No ['No', 'no'] gold 7.29 dollars\n"
     ]
    },
    {
     "name": "stderr",
     "output_type": "stream",
     "text": [
      " 70%|██████████████████████████████████████████████████████████████████████████████▊                                 | 633/900 [00:58<00:24, 10.81it/s]"
     ]
    },
    {
     "name": "stdout",
     "output_type": "stream",
     "text": [
      "No ['No', 'no'] gold 7.30 dollars\n",
      "No ['No', 'no'] gold 7.31 dollars\n",
      "No ['No', 'no'] gold 7.32 dollars\n"
     ]
    },
    {
     "name": "stderr",
     "output_type": "stream",
     "text": [
      "\r",
      " 71%|███████████████████████████████████████████████████████████████████████████████                                 | 635/900 [00:58<00:24, 10.81it/s]"
     ]
    },
    {
     "name": "stdout",
     "output_type": "stream",
     "text": [
      "No ['No', 'no'] gold 7.33 dollars\n",
      "No ['No', 'no'] gold 7.34 dollars\n",
      "Yes ['No', 'no'] gold 7.35 dollars\n"
     ]
    },
    {
     "name": "stderr",
     "output_type": "stream",
     "text": [
      " 71%|███████████████████████████████████████████████████████████████████████████████▌                                | 639/900 [00:59<00:24, 10.82it/s]"
     ]
    },
    {
     "name": "stdout",
     "output_type": "stream",
     "text": [
      "No ['No', 'no'] gold 7.36 dollars\n",
      "No ['No', 'no'] gold 7.37 dollars\n",
      "No ['No', 'no'] gold 7.38 dollars\n"
     ]
    },
    {
     "name": "stderr",
     "output_type": "stream",
     "text": [
      "\r",
      " 71%|███████████████████████████████████████████████████████████████████████████████▊                                | 641/900 [00:59<00:23, 10.82it/s]"
     ]
    },
    {
     "name": "stdout",
     "output_type": "stream",
     "text": [
      "No ['No', 'no'] gold 7.39 dollars\n",
      "No ['No', 'no'] gold 7.40 dollars\n",
      "No ['No', 'no'] gold 7.41 dollars\n"
     ]
    },
    {
     "name": "stderr",
     "output_type": "stream",
     "text": [
      " 72%|████████████████████████████████████████████████████████████████████████████████▎                               | 645/900 [00:59<00:23, 10.80it/s]"
     ]
    },
    {
     "name": "stdout",
     "output_type": "stream",
     "text": [
      "No ['No', 'no'] gold 7.42 dollars\n",
      "No ['No', 'no'] gold 7.43 dollars\n",
      "No ['No', 'no'] gold 7.44 dollars\n"
     ]
    },
    {
     "name": "stderr",
     "output_type": "stream",
     "text": [
      "\r",
      " 72%|████████████████████████████████████████████████████████████████████████████████▌                               | 647/900 [01:00<00:23, 10.80it/s]"
     ]
    },
    {
     "name": "stdout",
     "output_type": "stream",
     "text": [
      "No ['No', 'no'] gold 7.45 dollars\n",
      "No ['No', 'no'] gold 7.46 dollars\n",
      "No ['No', 'no'] gold 7.47 dollars\n"
     ]
    },
    {
     "name": "stderr",
     "output_type": "stream",
     "text": [
      " 72%|█████████████████████████████████████████████████████████████████████████████████                               | 651/900 [01:00<00:23, 10.81it/s]"
     ]
    },
    {
     "name": "stdout",
     "output_type": "stream",
     "text": [
      "No ['No', 'no'] gold 7.48 dollars\n",
      "No ['No', 'no'] gold 7.49 dollars\n",
      "No ['No', 'no'] gold 7.50 dollars\n"
     ]
    },
    {
     "name": "stderr",
     "output_type": "stream",
     "text": [
      "\r",
      " 73%|█████████████████████████████████████████████████████████████████████████████████▎                              | 653/900 [01:00<00:22, 10.82it/s]"
     ]
    },
    {
     "name": "stdout",
     "output_type": "stream",
     "text": [
      "No ['No', 'no'] gold 7.51 dollars\n",
      "Yes ['No', 'no'] gold 7.52 dollars\n",
      "No ['No', 'no'] gold 7.53 dollars\n"
     ]
    },
    {
     "name": "stderr",
     "output_type": "stream",
     "text": [
      " 73%|█████████████████████████████████████████████████████████████████████████████████▊                              | 657/900 [01:00<00:22, 10.82it/s]"
     ]
    },
    {
     "name": "stdout",
     "output_type": "stream",
     "text": [
      "No ['No', 'no'] gold 7.54 dollars\n",
      "No ['No', 'no'] gold 7.55 dollars\n",
      "No ['No', 'no'] gold 7.56 dollars\n"
     ]
    },
    {
     "name": "stderr",
     "output_type": "stream",
     "text": [
      "\r",
      " 73%|██████████████████████████████████████████████████████████████████████████████████                              | 659/900 [01:01<00:22, 10.82it/s]"
     ]
    },
    {
     "name": "stdout",
     "output_type": "stream",
     "text": [
      "No ['No', 'no'] gold 7.57 dollars\n",
      "No ['No', 'no'] gold 7.58 dollars\n",
      "No ['No', 'no'] gold 7.59 dollars\n"
     ]
    },
    {
     "name": "stderr",
     "output_type": "stream",
     "text": [
      " 74%|██████████████████████████████████████████████████████████████████████████████████▌                             | 663/900 [01:01<00:21, 10.82it/s]"
     ]
    },
    {
     "name": "stdout",
     "output_type": "stream",
     "text": [
      "No ['No', 'no'] gold 7.60 dollars\n",
      "No ['No', 'no'] gold 7.61 dollars\n",
      "No ['No', 'no'] gold 7.62 dollars\n"
     ]
    },
    {
     "name": "stderr",
     "output_type": "stream",
     "text": [
      "\r",
      " 74%|██████████████████████████████████████████████████████████████████████████████████▊                             | 665/900 [01:01<00:21, 10.82it/s]"
     ]
    },
    {
     "name": "stdout",
     "output_type": "stream",
     "text": [
      "No ['No', 'no'] gold 7.63 dollars\n",
      "No ['No', 'no'] gold 7.64 dollars\n",
      "No ['No', 'no'] gold 7.65 dollars\n"
     ]
    },
    {
     "name": "stderr",
     "output_type": "stream",
     "text": [
      " 74%|███████████████████████████████████████████████████████████████████████████████████▎                            | 669/900 [01:02<00:21, 10.82it/s]"
     ]
    },
    {
     "name": "stdout",
     "output_type": "stream",
     "text": [
      "No ['No', 'no'] gold 7.66 dollars\n",
      "No ['No', 'no'] gold 7.67 dollars\n",
      "No ['No', 'no'] gold 7.68 dollars\n"
     ]
    },
    {
     "name": "stderr",
     "output_type": "stream",
     "text": [
      "\r",
      " 75%|███████████████████████████████████████████████████████████████████████████████████▌                            | 671/900 [01:02<00:21, 10.82it/s]"
     ]
    },
    {
     "name": "stdout",
     "output_type": "stream",
     "text": [
      "No ['No', 'no'] gold 7.69 dollars\n",
      "No ['No', 'no'] gold 7.70 dollars\n",
      "No ['No', 'no'] gold 7.71 dollars\n"
     ]
    },
    {
     "name": "stderr",
     "output_type": "stream",
     "text": [
      " 75%|████████████████████████████████████████████████████████████████████████████████████                            | 675/900 [01:02<00:20, 10.82it/s]"
     ]
    },
    {
     "name": "stdout",
     "output_type": "stream",
     "text": [
      "Yes ['No', 'no'] gold 7.72 dollars\n",
      "No ['No', 'no'] gold 7.73 dollars\n",
      "No ['No', 'no'] gold 7.74 dollars\n"
     ]
    },
    {
     "name": "stderr",
     "output_type": "stream",
     "text": [
      "\r",
      " 75%|████████████████████████████████████████████████████████████████████████████████████▏                           | 677/900 [01:02<00:20, 10.82it/s]"
     ]
    },
    {
     "name": "stdout",
     "output_type": "stream",
     "text": [
      "No ['No', 'no'] gold 7.75 dollars\n",
      "No ['No', 'no'] gold 7.76 dollars\n",
      "No ['No', 'no'] gold 7.77 dollars\n"
     ]
    },
    {
     "name": "stderr",
     "output_type": "stream",
     "text": [
      " 76%|████████████████████████████████████████████████████████████████████████████████████▋                           | 681/900 [01:03<00:20, 10.83it/s]"
     ]
    },
    {
     "name": "stdout",
     "output_type": "stream",
     "text": [
      "No ['No', 'no'] gold 7.78 dollars\n",
      "No ['No', 'no'] gold 7.79 dollars\n",
      "No ['No', 'no'] gold 7.80 dollars\n"
     ]
    },
    {
     "name": "stderr",
     "output_type": "stream",
     "text": [
      "\r",
      " 76%|████████████████████████████████████████████████████████████████████████████████████▉                           | 683/900 [01:03<00:20, 10.79it/s]"
     ]
    },
    {
     "name": "stdout",
     "output_type": "stream",
     "text": [
      "No ['No', 'no'] gold 7.81 dollars\n",
      "No ['No', 'no'] gold 7.82 dollars\n",
      "No ['No', 'no'] gold 7.83 dollars\n"
     ]
    },
    {
     "name": "stderr",
     "output_type": "stream",
     "text": [
      " 76%|█████████████████████████████████████████████████████████████████████████████████████▍                          | 687/900 [01:03<00:19, 10.80it/s]"
     ]
    },
    {
     "name": "stdout",
     "output_type": "stream",
     "text": [
      "No ['No', 'no'] gold 7.84 dollars\n",
      "No ['No', 'no'] gold 7.85 dollars\n",
      "No ['No', 'no'] gold 7.86 dollars\n"
     ]
    },
    {
     "name": "stderr",
     "output_type": "stream",
     "text": [
      "\r",
      " 77%|█████████████████████████████████████████████████████████████████████████████████████▋                          | 689/900 [01:03<00:19, 10.81it/s]"
     ]
    },
    {
     "name": "stdout",
     "output_type": "stream",
     "text": [
      "No ['No', 'no'] gold 7.87 dollars\n",
      "No ['No', 'no'] gold 7.88 dollars\n",
      "No ['No', 'no'] gold 7.89 dollars\n"
     ]
    },
    {
     "name": "stderr",
     "output_type": "stream",
     "text": [
      " 77%|██████████████████████████████████████████████████████████████████████████████████████▏                         | 693/900 [01:04<00:19, 10.78it/s]"
     ]
    },
    {
     "name": "stdout",
     "output_type": "stream",
     "text": [
      "No ['No', 'no'] gold 7.90 dollars\n",
      "No ['No', 'no'] gold 7.91 dollars\n",
      "No ['No', 'no'] gold 7.92 dollars\n"
     ]
    },
    {
     "name": "stderr",
     "output_type": "stream",
     "text": [
      "\r",
      " 77%|██████████████████████████████████████████████████████████████████████████████████████▍                         | 695/900 [01:04<00:18, 10.79it/s]"
     ]
    },
    {
     "name": "stdout",
     "output_type": "stream",
     "text": [
      "No ['No', 'no'] gold 7.93 dollars\n",
      "No ['No', 'no'] gold 7.94 dollars\n",
      "No ['No', 'no'] gold 7.95 dollars\n"
     ]
    },
    {
     "name": "stderr",
     "output_type": "stream",
     "text": [
      " 78%|██████████████████████████████████████████████████████████████████████████████████████▉                         | 699/900 [01:04<00:18, 10.80it/s]"
     ]
    },
    {
     "name": "stdout",
     "output_type": "stream",
     "text": [
      "No ['No', 'no'] gold 7.96 dollars\n",
      "No ['No', 'no'] gold 7.97 dollars\n",
      "No ['No', 'no'] gold 7.98 dollars\n"
     ]
    },
    {
     "name": "stderr",
     "output_type": "stream",
     "text": [
      "\r",
      " 78%|███████████████████████████████████████████████████████████████████████████████████████▏                        | 701/900 [01:04<00:18, 10.81it/s]"
     ]
    },
    {
     "name": "stdout",
     "output_type": "stream",
     "text": [
      "No ['No', 'no'] gold 7.99 dollars\n",
      "No ['No', 'no'] gold 8.00 dollars\n",
      "No ['No', 'no'] gold 8.01 dollars\n"
     ]
    },
    {
     "name": "stderr",
     "output_type": "stream",
     "text": [
      " 78%|███████████████████████████████████████████████████████████████████████████████████████▋                        | 705/900 [01:05<00:18, 10.81it/s]"
     ]
    },
    {
     "name": "stdout",
     "output_type": "stream",
     "text": [
      "No ['No', 'no'] gold 8.02 dollars\n",
      "No ['No', 'no'] gold 8.03 dollars\n",
      "No ['No', 'no'] gold 8.04 dollars\n"
     ]
    },
    {
     "name": "stderr",
     "output_type": "stream",
     "text": [
      "\r",
      " 79%|███████████████████████████████████████████████████████████████████████████████████████▉                        | 707/900 [01:05<00:17, 10.80it/s]"
     ]
    },
    {
     "name": "stdout",
     "output_type": "stream",
     "text": [
      "No ['No', 'no'] gold 8.05 dollars\n",
      "No ['No', 'no'] gold 8.06 dollars\n",
      "No ['No', 'no'] gold 8.07 dollars\n"
     ]
    },
    {
     "name": "stderr",
     "output_type": "stream",
     "text": [
      " 79%|████████████████████████████████████████████████████████████████████████████████████████▍                       | 711/900 [01:05<00:17, 10.78it/s]"
     ]
    },
    {
     "name": "stdout",
     "output_type": "stream",
     "text": [
      "No ['No', 'no'] gold 8.08 dollars\n",
      "No ['No', 'no'] gold 8.09 dollars\n",
      "No ['No', 'no'] gold 8.10 dollars\n"
     ]
    },
    {
     "name": "stderr",
     "output_type": "stream",
     "text": [
      "\r",
      " 79%|████████████████████████████████████████████████████████████████████████████████████████▋                       | 713/900 [01:06<00:17, 10.76it/s]"
     ]
    },
    {
     "name": "stdout",
     "output_type": "stream",
     "text": [
      "No ['No', 'no'] gold 8.11 dollars\n",
      "No ['No', 'no'] gold 8.12 dollars\n",
      "No ['No', 'no'] gold 8.13 dollars\n"
     ]
    },
    {
     "name": "stderr",
     "output_type": "stream",
     "text": [
      " 80%|█████████████████████████████████████████████████████████████████████████████████████████▏                      | 717/900 [01:06<00:16, 10.79it/s]"
     ]
    },
    {
     "name": "stdout",
     "output_type": "stream",
     "text": [
      "No ['No', 'no'] gold 8.14 dollars\n",
      "No ['No', 'no'] gold 8.15 dollars\n",
      "No ['No', 'no'] gold 8.16 dollars\n"
     ]
    },
    {
     "name": "stderr",
     "output_type": "stream",
     "text": [
      "\r",
      " 80%|█████████████████████████████████████████████████████████████████████████████████████████▍                      | 719/900 [01:06<00:16, 10.80it/s]"
     ]
    },
    {
     "name": "stdout",
     "output_type": "stream",
     "text": [
      "No ['No', 'no'] gold 8.17 dollars\n",
      "No ['No', 'no'] gold 8.18 dollars\n",
      "No ['No', 'no'] gold 8.19 dollars\n"
     ]
    },
    {
     "name": "stderr",
     "output_type": "stream",
     "text": [
      " 80%|█████████████████████████████████████████████████████████████████████████████████████████▉                      | 723/900 [01:07<00:16, 10.81it/s]"
     ]
    },
    {
     "name": "stdout",
     "output_type": "stream",
     "text": [
      "No ['No', 'no'] gold 8.20 dollars\n",
      "No ['No', 'no'] gold 8.21 dollars\n",
      "No ['No', 'no'] gold 8.22 dollars\n"
     ]
    },
    {
     "name": "stderr",
     "output_type": "stream",
     "text": [
      "\r",
      " 81%|██████████████████████████████████████████████████████████████████████████████████████████▏                     | 725/900 [01:07<00:16, 10.81it/s]"
     ]
    },
    {
     "name": "stdout",
     "output_type": "stream",
     "text": [
      "No ['No', 'no'] gold 8.23 dollars\n",
      "No ['No', 'no'] gold 8.24 dollars\n",
      "Yes ['No', 'no'] gold 8.25 dollars\n"
     ]
    },
    {
     "name": "stderr",
     "output_type": "stream",
     "text": [
      " 81%|██████████████████████████████████████████████████████████████████████████████████████████▋                     | 729/900 [01:07<00:15, 10.82it/s]"
     ]
    },
    {
     "name": "stdout",
     "output_type": "stream",
     "text": [
      "No ['No', 'no'] gold 8.26 dollars\n",
      "No ['No', 'no'] gold 8.27 dollars\n",
      "No ['No', 'no'] gold 8.28 dollars\n"
     ]
    },
    {
     "name": "stderr",
     "output_type": "stream",
     "text": [
      "\r",
      " 81%|██████████████████████████████████████████████████████████████████████████████████████████▉                     | 731/900 [01:07<00:15, 10.82it/s]"
     ]
    },
    {
     "name": "stdout",
     "output_type": "stream",
     "text": [
      "No ['No', 'no'] gold 8.29 dollars\n",
      "Yes ['No', 'no'] gold 8.30 dollars\n",
      "No ['No', 'no'] gold 8.31 dollars\n"
     ]
    },
    {
     "name": "stderr",
     "output_type": "stream",
     "text": [
      " 82%|███████████████████████████████████████████████████████████████████████████████████████████▍                    | 735/900 [01:08<00:15, 10.82it/s]"
     ]
    },
    {
     "name": "stdout",
     "output_type": "stream",
     "text": [
      "Yes ['No', 'no'] gold 8.32 dollars\n",
      "Yes ['No', 'no'] gold 8.33 dollars\n",
      "Yes ['No', 'no'] gold 8.34 dollars\n"
     ]
    },
    {
     "name": "stderr",
     "output_type": "stream",
     "text": [
      "\r",
      " 82%|███████████████████████████████████████████████████████████████████████████████████████████▋                    | 737/900 [01:08<00:15, 10.82it/s]"
     ]
    },
    {
     "name": "stdout",
     "output_type": "stream",
     "text": [
      "Yes ['No', 'no'] gold 8.35 dollars\n",
      "No ['No', 'no'] gold 8.36 dollars\n",
      "No ['No', 'no'] gold 8.37 dollars\n"
     ]
    },
    {
     "name": "stderr",
     "output_type": "stream",
     "text": [
      " 82%|████████████████████████████████████████████████████████████████████████████████████████████▏                   | 741/900 [01:08<00:14, 10.80it/s]"
     ]
    },
    {
     "name": "stdout",
     "output_type": "stream",
     "text": [
      "No ['No', 'no'] gold 8.38 dollars\n",
      "No ['No', 'no'] gold 8.39 dollars\n",
      "No ['No', 'no'] gold 8.40 dollars\n"
     ]
    },
    {
     "name": "stderr",
     "output_type": "stream",
     "text": [
      "\r",
      " 83%|████████████████████████████████████████████████████████████████████████████████████████████▍                   | 743/900 [01:08<00:14, 10.80it/s]"
     ]
    },
    {
     "name": "stdout",
     "output_type": "stream",
     "text": [
      "No ['No', 'no'] gold 8.41 dollars\n",
      "No ['No', 'no'] gold 8.42 dollars\n",
      "No ['No', 'no'] gold 8.43 dollars\n"
     ]
    },
    {
     "name": "stderr",
     "output_type": "stream",
     "text": [
      " 83%|████████████████████████████████████████████████████████████████████████████████████████████▉                   | 747/900 [01:09<00:14, 10.80it/s]"
     ]
    },
    {
     "name": "stdout",
     "output_type": "stream",
     "text": [
      "No ['No', 'no'] gold 8.44 dollars\n",
      "Yes ['No', 'no'] gold 8.45 dollars\n",
      "No ['No', 'no'] gold 8.46 dollars\n"
     ]
    },
    {
     "name": "stderr",
     "output_type": "stream",
     "text": [
      "\r",
      " 83%|█████████████████████████████████████████████████████████████████████████████████████████████▏                  | 749/900 [01:09<00:13, 10.79it/s]"
     ]
    },
    {
     "name": "stdout",
     "output_type": "stream",
     "text": [
      "No ['No', 'no'] gold 8.47 dollars\n",
      "No ['No', 'no'] gold 8.48 dollars\n",
      "No ['No', 'no'] gold 8.49 dollars\n"
     ]
    },
    {
     "name": "stderr",
     "output_type": "stream",
     "text": [
      " 84%|█████████████████████████████████████████████████████████████████████████████████████████████▋                  | 753/900 [01:09<00:13, 10.77it/s]"
     ]
    },
    {
     "name": "stdout",
     "output_type": "stream",
     "text": [
      "No ['No', 'no'] gold 8.50 dollars\n",
      "No ['No', 'no'] gold 8.51 dollars\n",
      "Yes ['No', 'no'] gold 8.52 dollars\n"
     ]
    },
    {
     "name": "stderr",
     "output_type": "stream",
     "text": [
      "\r",
      " 84%|█████████████████████████████████████████████████████████████████████████████████████████████▉                  | 755/900 [01:09<00:13, 10.79it/s]"
     ]
    },
    {
     "name": "stdout",
     "output_type": "stream",
     "text": [
      "Yes ['No', 'no'] gold 8.53 dollars\n",
      "Yes ['No', 'no'] gold 8.54 dollars\n",
      "Yes ['No', 'no'] gold 8.55 dollars\n"
     ]
    },
    {
     "name": "stderr",
     "output_type": "stream",
     "text": [
      " 84%|██████████████████████████████████████████████████████████████████████████████████████████████▍                 | 759/900 [01:10<00:13, 10.81it/s]"
     ]
    },
    {
     "name": "stdout",
     "output_type": "stream",
     "text": [
      "Yes ['No', 'no'] gold 8.56 dollars\n",
      "No ['No', 'no'] gold 8.57 dollars\n",
      "Yes ['No', 'no'] gold 8.58 dollars\n"
     ]
    },
    {
     "name": "stderr",
     "output_type": "stream",
     "text": [
      "\r",
      " 85%|██████████████████████████████████████████████████████████████████████████████████████████████▋                 | 761/900 [01:10<00:12, 10.81it/s]"
     ]
    },
    {
     "name": "stdout",
     "output_type": "stream",
     "text": [
      "No ['No', 'no'] gold 8.59 dollars\n",
      "No ['No', 'no'] gold 8.60 dollars\n",
      "No ['No', 'no'] gold 8.61 dollars\n"
     ]
    },
    {
     "name": "stderr",
     "output_type": "stream",
     "text": [
      " 85%|███████████████████████████████████████████████████████████████████████████████████████████████▏                | 765/900 [01:10<00:12, 10.81it/s]"
     ]
    },
    {
     "name": "stdout",
     "output_type": "stream",
     "text": [
      "No ['No', 'no'] gold 8.62 dollars\n",
      "No ['No', 'no'] gold 8.63 dollars\n",
      "No ['No', 'no'] gold 8.64 dollars\n"
     ]
    },
    {
     "name": "stderr",
     "output_type": "stream",
     "text": [
      "\r",
      " 85%|███████████████████████████████████████████████████████████████████████████████████████████████▍                | 767/900 [01:11<00:12, 10.82it/s]"
     ]
    },
    {
     "name": "stdout",
     "output_type": "stream",
     "text": [
      "Yes ['No', 'no'] gold 8.65 dollars\n",
      "No ['No', 'no'] gold 8.66 dollars\n",
      "No ['No', 'no'] gold 8.67 dollars\n"
     ]
    },
    {
     "name": "stderr",
     "output_type": "stream",
     "text": [
      " 86%|███████████████████████████████████████████████████████████████████████████████████████████████▉                | 771/900 [01:11<00:11, 10.82it/s]"
     ]
    },
    {
     "name": "stdout",
     "output_type": "stream",
     "text": [
      "No ['No', 'no'] gold 8.68 dollars\n",
      "No ['No', 'no'] gold 8.69 dollars\n",
      "No ['No', 'no'] gold 8.70 dollars\n"
     ]
    },
    {
     "name": "stderr",
     "output_type": "stream",
     "text": [
      "\r",
      " 86%|████████████████████████████████████████████████████████████████████████████████████████████████▏               | 773/900 [01:11<00:11, 10.82it/s]"
     ]
    },
    {
     "name": "stdout",
     "output_type": "stream",
     "text": [
      "No ['No', 'no'] gold 8.71 dollars\n",
      "Yes ['No', 'no'] gold 8.72 dollars\n",
      "No ['No', 'no'] gold 8.73 dollars\n"
     ]
    },
    {
     "name": "stderr",
     "output_type": "stream",
     "text": [
      " 86%|████████████████████████████████████████████████████████████████████████████████████████████████▋               | 777/900 [01:12<00:11, 10.82it/s]"
     ]
    },
    {
     "name": "stdout",
     "output_type": "stream",
     "text": [
      "No ['No', 'no'] gold 8.74 dollars\n",
      "Yes ['No', 'no'] gold 8.75 dollars\n",
      "No ['No', 'no'] gold 8.76 dollars\n"
     ]
    },
    {
     "name": "stderr",
     "output_type": "stream",
     "text": [
      "\r",
      " 87%|████████████████████████████████████████████████████████████████████████████████████████████████▉               | 779/900 [01:12<00:11, 10.81it/s]"
     ]
    },
    {
     "name": "stdout",
     "output_type": "stream",
     "text": [
      "No ['No', 'no'] gold 8.77 dollars\n",
      "Yes ['No', 'no'] gold 8.78 dollars\n",
      "No ['No', 'no'] gold 8.79 dollars\n"
     ]
    },
    {
     "name": "stderr",
     "output_type": "stream",
     "text": [
      " 87%|█████████████████████████████████████████████████████████████████████████████████████████████████▍              | 783/900 [01:12<00:10, 10.82it/s]"
     ]
    },
    {
     "name": "stdout",
     "output_type": "stream",
     "text": [
      "Yes ['No', 'no'] gold 8.80 dollars\n",
      "Yes ['No', 'no'] gold 8.81 dollars\n",
      "Yes ['No', 'no'] gold 8.82 dollars\n"
     ]
    },
    {
     "name": "stderr",
     "output_type": "stream",
     "text": [
      "\r",
      " 87%|█████████████████████████████████████████████████████████████████████████████████████████████████▋              | 785/900 [01:12<00:10, 10.82it/s]"
     ]
    },
    {
     "name": "stdout",
     "output_type": "stream",
     "text": [
      "Yes ['No', 'no'] gold 8.83 dollars\n",
      "Yes ['No', 'no'] gold 8.84 dollars\n",
      "Yes ['No', 'no'] gold 8.85 dollars\n"
     ]
    },
    {
     "name": "stderr",
     "output_type": "stream",
     "text": [
      " 88%|██████████████████████████████████████████████████████████████████████████████████████████████████▏             | 789/900 [01:13<00:10, 10.82it/s]"
     ]
    },
    {
     "name": "stdout",
     "output_type": "stream",
     "text": [
      "Yes ['No', 'no'] gold 8.86 dollars\n",
      "Yes ['No', 'no'] gold 8.87 dollars\n",
      "Yes ['No', 'no'] gold 8.88 dollars\n"
     ]
    },
    {
     "name": "stderr",
     "output_type": "stream",
     "text": [
      "\r",
      " 88%|██████████████████████████████████████████████████████████████████████████████████████████████████▍             | 791/900 [01:13<00:10, 10.82it/s]"
     ]
    },
    {
     "name": "stdout",
     "output_type": "stream",
     "text": [
      "No ['No', 'no'] gold 8.89 dollars\n",
      "No ['No', 'no'] gold 8.90 dollars\n",
      "No ['No', 'no'] gold 8.91 dollars\n"
     ]
    },
    {
     "name": "stderr",
     "output_type": "stream",
     "text": [
      " 88%|██████████████████████████████████████████████████████████████████████████████████████████████████▉             | 795/900 [01:13<00:09, 10.79it/s]"
     ]
    },
    {
     "name": "stdout",
     "output_type": "stream",
     "text": [
      "No ['No', 'no'] gold 8.92 dollars\n",
      "No ['No', 'no'] gold 8.93 dollars\n",
      "No ['No', 'no'] gold 8.94 dollars\n"
     ]
    },
    {
     "name": "stderr",
     "output_type": "stream",
     "text": [
      "\r",
      " 89%|███████████████████████████████████████████████████████████████████████████████████████████████████▏            | 797/900 [01:13<00:09, 10.80it/s]"
     ]
    },
    {
     "name": "stdout",
     "output_type": "stream",
     "text": [
      "No ['No', 'no'] gold 8.95 dollars\n",
      "No ['No', 'no'] gold 8.96 dollars\n",
      "No ['No', 'no'] gold 8.97 dollars\n"
     ]
    },
    {
     "name": "stderr",
     "output_type": "stream",
     "text": [
      " 89%|███████████████████████████████████████████████████████████████████████████████████████████████████▋            | 801/900 [01:14<00:09, 10.75it/s]"
     ]
    },
    {
     "name": "stdout",
     "output_type": "stream",
     "text": [
      "No ['No', 'no'] gold 8.98 dollars\n",
      "No ['No', 'no'] gold 8.99 dollars\n",
      "No ['No', 'no'] gold 9.00 dollars\n"
     ]
    },
    {
     "name": "stderr",
     "output_type": "stream",
     "text": [
      "\r",
      " 89%|███████████████████████████████████████████████████████████████████████████████████████████████████▉            | 803/900 [01:14<00:09, 10.77it/s]"
     ]
    },
    {
     "name": "stdout",
     "output_type": "stream",
     "text": [
      "No ['No', 'no'] gold 9.01 dollars\n",
      "Yes ['No', 'no'] gold 9.02 dollars\n",
      "Yes ['No', 'no'] gold 9.03 dollars\n"
     ]
    },
    {
     "name": "stderr",
     "output_type": "stream",
     "text": [
      " 90%|████████████████████████████████████████████████████████████████████████████████████████████████████▍           | 807/900 [01:14<00:08, 10.80it/s]"
     ]
    },
    {
     "name": "stdout",
     "output_type": "stream",
     "text": [
      "Yes ['No', 'no'] gold 9.04 dollars\n",
      "Yes ['No', 'no'] gold 9.05 dollars\n",
      "No ['No', 'no'] gold 9.06 dollars\n"
     ]
    },
    {
     "name": "stderr",
     "output_type": "stream",
     "text": [
      "\r",
      " 90%|████████████████████████████████████████████████████████████████████████████████████████████████████▋           | 809/900 [01:14<00:08, 10.78it/s]"
     ]
    },
    {
     "name": "stdout",
     "output_type": "stream",
     "text": [
      "No ['No', 'no'] gold 9.07 dollars\n",
      "No ['No', 'no'] gold 9.08 dollars\n",
      "No ['No', 'no'] gold 9.09 dollars\n"
     ]
    },
    {
     "name": "stderr",
     "output_type": "stream",
     "text": [
      " 90%|█████████████████████████████████████████████████████████████████████████████████████████████████████▏          | 813/900 [01:15<00:08, 10.80it/s]"
     ]
    },
    {
     "name": "stdout",
     "output_type": "stream",
     "text": [
      "No ['No', 'no'] gold 9.10 dollars\n",
      "No ['No', 'no'] gold 9.11 dollars\n",
      "Yes ['No', 'no'] gold 9.12 dollars\n"
     ]
    },
    {
     "name": "stderr",
     "output_type": "stream",
     "text": [
      "\r",
      " 91%|█████████████████████████████████████████████████████████████████████████████████████████████████████▍          | 815/900 [01:15<00:07, 10.80it/s]"
     ]
    },
    {
     "name": "stdout",
     "output_type": "stream",
     "text": [
      "No ['No', 'no'] gold 9.13 dollars\n",
      "No ['No', 'no'] gold 9.14 dollars\n",
      "Yes ['No', 'no'] gold 9.15 dollars\n"
     ]
    },
    {
     "name": "stderr",
     "output_type": "stream",
     "text": [
      " 91%|█████████████████████████████████████████████████████████████████████████████████████████████████████▉          | 819/900 [01:15<00:07, 10.77it/s]"
     ]
    },
    {
     "name": "stdout",
     "output_type": "stream",
     "text": [
      "No ['No', 'no'] gold 9.16 dollars\n",
      "No ['No', 'no'] gold 9.17 dollars\n",
      "No ['No', 'no'] gold 9.18 dollars\n"
     ]
    },
    {
     "name": "stderr",
     "output_type": "stream",
     "text": [
      "\r",
      " 91%|██████████████████████████████████████████████████████████████████████████████████████████████████████▏         | 821/900 [01:16<00:07, 10.78it/s]"
     ]
    },
    {
     "name": "stdout",
     "output_type": "stream",
     "text": [
      "No ['No', 'no'] gold 9.19 dollars\n",
      "No ['No', 'no'] gold 9.20 dollars\n",
      "No ['No', 'no'] gold 9.21 dollars\n"
     ]
    },
    {
     "name": "stderr",
     "output_type": "stream",
     "text": [
      " 92%|██████████████████████████████████████████████████████████████████████████████████████████████████████▋         | 825/900 [01:16<00:06, 10.81it/s]"
     ]
    },
    {
     "name": "stdout",
     "output_type": "stream",
     "text": [
      "No ['No', 'no'] gold 9.22 dollars\n",
      "No ['No', 'no'] gold 9.23 dollars\n",
      "Yes ['No', 'no'] gold 9.24 dollars\n"
     ]
    },
    {
     "name": "stderr",
     "output_type": "stream",
     "text": [
      "\r",
      " 92%|██████████████████████████████████████████████████████████████████████████████████████████████████████▉         | 827/900 [01:16<00:06, 10.81it/s]"
     ]
    },
    {
     "name": "stdout",
     "output_type": "stream",
     "text": [
      "Yes ['No', 'no'] gold 9.25 dollars\n",
      "No ['No', 'no'] gold 9.26 dollars\n",
      "No ['No', 'no'] gold 9.27 dollars\n"
     ]
    },
    {
     "name": "stderr",
     "output_type": "stream",
     "text": [
      " 92%|███████████████████████████████████████████████████████████████████████████████████████████████████████▍        | 831/900 [01:17<00:06, 10.82it/s]"
     ]
    },
    {
     "name": "stdout",
     "output_type": "stream",
     "text": [
      "No ['No', 'no'] gold 9.28 dollars\n",
      "No ['No', 'no'] gold 9.29 dollars\n",
      "Yes ['No', 'no'] gold 9.30 dollars\n"
     ]
    },
    {
     "name": "stderr",
     "output_type": "stream",
     "text": [
      "\r",
      " 93%|███████████████████████████████████████████████████████████████████████████████████████████████████████▋        | 833/900 [01:17<00:06, 10.82it/s]"
     ]
    },
    {
     "name": "stdout",
     "output_type": "stream",
     "text": [
      "Yes ['No', 'no'] gold 9.31 dollars\n",
      "Yes ['No', 'no'] gold 9.32 dollars\n",
      "Yes ['No', 'no'] gold 9.33 dollars\n"
     ]
    },
    {
     "name": "stderr",
     "output_type": "stream",
     "text": [
      " 93%|████████████████████████████████████████████████████████████████████████████████████████████████████████▏       | 837/900 [01:17<00:05, 10.81it/s]"
     ]
    },
    {
     "name": "stdout",
     "output_type": "stream",
     "text": [
      "Yes ['No', 'no'] gold 9.34 dollars\n",
      "Yes ['No', 'no'] gold 9.35 dollars\n",
      "Yes ['No', 'no'] gold 9.36 dollars\n"
     ]
    },
    {
     "name": "stderr",
     "output_type": "stream",
     "text": [
      "\r",
      " 93%|████████████████████████████████████████████████████████████████████████████████████████████████████████▍       | 839/900 [01:17<00:05, 10.78it/s]"
     ]
    },
    {
     "name": "stdout",
     "output_type": "stream",
     "text": [
      "No ['No', 'no'] gold 9.37 dollars\n",
      "No ['No', 'no'] gold 9.38 dollars\n"
     ]
    },
    {
     "name": "stderr",
     "output_type": "stream",
     "text": [
      "\r",
      " 93%|████████████████████████████████████████████████████████████████████████████████████████████████████████▋       | 841/900 [01:18<00:05, 10.09it/s]"
     ]
    },
    {
     "name": "stdout",
     "output_type": "stream",
     "text": [
      "No ['No', 'no'] gold 9.39 dollars\n",
      "No ['No', 'no'] gold 9.40 dollars\n"
     ]
    },
    {
     "name": "stderr",
     "output_type": "stream",
     "text": [
      "\r",
      " 94%|████████████████████████████████████████████████████████████████████████████████████████████████████████▉       | 843/900 [01:18<00:05,  9.59it/s]"
     ]
    },
    {
     "name": "stdout",
     "output_type": "stream",
     "text": [
      "No ['No', 'no'] gold 9.41 dollars\n",
      "Yes ['No', 'no'] gold 9.42 dollars\n"
     ]
    },
    {
     "name": "stderr",
     "output_type": "stream",
     "text": [
      " 94%|█████████████████████████████████████████████████████████████████████████████████████████████████████████▏      | 845/900 [01:18<00:05,  9.22it/s]"
     ]
    },
    {
     "name": "stdout",
     "output_type": "stream",
     "text": [
      "No ['No', 'no'] gold 9.43 dollars\n",
      "Yes ['No', 'no'] gold 9.44 dollars\n"
     ]
    },
    {
     "name": "stderr",
     "output_type": "stream",
     "text": [
      " 94%|█████████████████████████████████████████████████████████████████████████████████████████████████████████▍      | 847/900 [01:18<00:05,  8.94it/s]"
     ]
    },
    {
     "name": "stdout",
     "output_type": "stream",
     "text": [
      "Yes ['No', 'no'] gold 9.45 dollars\n",
      "No ['No', 'no'] gold 9.46 dollars\n"
     ]
    },
    {
     "name": "stderr",
     "output_type": "stream",
     "text": [
      " 94%|█████████████████████████████████████████████████████████████████████████████████████████████████████████▋      | 849/900 [01:18<00:05,  8.77it/s]"
     ]
    },
    {
     "name": "stdout",
     "output_type": "stream",
     "text": [
      "No ['No', 'no'] gold 9.47 dollars\n",
      "No ['No', 'no'] gold 9.48 dollars\n"
     ]
    },
    {
     "name": "stderr",
     "output_type": "stream",
     "text": [
      " 95%|██████████████████████████████████████████████████████████████████████████████████████████████████████████      | 852/900 [01:19<00:05,  9.44it/s]"
     ]
    },
    {
     "name": "stdout",
     "output_type": "stream",
     "text": [
      "No ['No', 'no'] gold 9.49 dollars\n",
      "Yes ['No', 'no'] gold 9.50 dollars\n",
      "No ['No', 'no'] gold 9.51 dollars\n"
     ]
    },
    {
     "name": "stderr",
     "output_type": "stream",
     "text": [
      "\r",
      " 95%|██████████████████████████████████████████████████████████████████████████████████████████████████████████▎     | 854/900 [01:19<00:04,  9.91it/s]"
     ]
    },
    {
     "name": "stdout",
     "output_type": "stream",
     "text": [
      "Yes ['No', 'no'] gold 9.52 dollars\n",
      "Yes ['No', 'no'] gold 9.53 dollars\n",
      "Yes ['No', 'no'] gold 9.54 dollars\n"
     ]
    },
    {
     "name": "stderr",
     "output_type": "stream",
     "text": [
      " 95%|██████████████████████████████████████████████████████████████████████████████████████████████████████████▊     | 858/900 [01:19<00:04, 10.41it/s]"
     ]
    },
    {
     "name": "stdout",
     "output_type": "stream",
     "text": [
      "Yes ['No', 'no'] gold 9.55 dollars\n",
      "Yes ['No', 'no'] gold 9.56 dollars\n",
      "Yes ['No', 'no'] gold 9.57 dollars\n"
     ]
    },
    {
     "name": "stderr",
     "output_type": "stream",
     "text": [
      "\r",
      " 96%|███████████████████████████████████████████████████████████████████████████████████████████████████████████     | 860/900 [01:19<00:03, 10.54it/s]"
     ]
    },
    {
     "name": "stdout",
     "output_type": "stream",
     "text": [
      "Yes ['No', 'no'] gold 9.58 dollars\n",
      "No ['No', 'no'] gold 9.59 dollars\n",
      "No ['No', 'no'] gold 9.60 dollars\n"
     ]
    },
    {
     "name": "stderr",
     "output_type": "stream",
     "text": [
      " 96%|███████████████████████████████████████████████████████████████████████████████████████████████████████████▌    | 864/900 [01:20<00:03, 10.68it/s]"
     ]
    },
    {
     "name": "stdout",
     "output_type": "stream",
     "text": [
      "No ['No', 'no'] gold 9.61 dollars\n",
      "Yes ['No', 'no'] gold 9.62 dollars\n",
      "Yes ['No', 'no'] gold 9.63 dollars\n"
     ]
    },
    {
     "name": "stderr",
     "output_type": "stream",
     "text": [
      "\r",
      " 96%|███████████████████████████████████████████████████████████████████████████████████████████████████████████▊    | 866/900 [01:20<00:03, 10.72it/s]"
     ]
    },
    {
     "name": "stdout",
     "output_type": "stream",
     "text": [
      "Yes ['No', 'no'] gold 9.64 dollars\n",
      "Yes ['No', 'no'] gold 9.65 dollars\n",
      "Yes ['No', 'no'] gold 9.66 dollars\n"
     ]
    },
    {
     "name": "stderr",
     "output_type": "stream",
     "text": [
      " 97%|████████████████████████████████████████████████████████████████████████████████████████████████████████████▎   | 870/900 [01:20<00:02, 10.77it/s]"
     ]
    },
    {
     "name": "stdout",
     "output_type": "stream",
     "text": [
      "Yes ['No', 'no'] gold 9.67 dollars\n",
      "No ['No', 'no'] gold 9.68 dollars\n",
      "No ['No', 'no'] gold 9.69 dollars\n"
     ]
    },
    {
     "name": "stderr",
     "output_type": "stream",
     "text": [
      "\r",
      " 97%|████████████████████████████████████████████████████████████████████████████████████████████████████████████▌   | 872/900 [01:21<00:02, 10.78it/s]"
     ]
    },
    {
     "name": "stdout",
     "output_type": "stream",
     "text": [
      "No ['No', 'no'] gold 9.70 dollars\n",
      "No ['No', 'no'] gold 9.71 dollars\n",
      "Yes ['No', 'no'] gold 9.72 dollars\n"
     ]
    },
    {
     "name": "stderr",
     "output_type": "stream",
     "text": [
      " 97%|█████████████████████████████████████████████████████████████████████████████████████████████████████████████   | 876/900 [01:21<00:02, 10.80it/s]"
     ]
    },
    {
     "name": "stdout",
     "output_type": "stream",
     "text": [
      "Yes ['No', 'no'] gold 9.73 dollars\n",
      "No ['No', 'no'] gold 9.74 dollars\n",
      "Yes ['No', 'no'] gold 9.75 dollars\n"
     ]
    },
    {
     "name": "stderr",
     "output_type": "stream",
     "text": [
      "\r",
      " 98%|█████████████████████████████████████████████████████████████████████████████████████████████████████████████▎  | 878/900 [01:21<00:02, 10.74it/s]"
     ]
    },
    {
     "name": "stdout",
     "output_type": "stream",
     "text": [
      "No ['No', 'no'] gold 9.76 dollars\n",
      "Yes ['No', 'no'] gold 9.77 dollars\n",
      "Yes ['No', 'no'] gold 9.78 dollars\n"
     ]
    },
    {
     "name": "stderr",
     "output_type": "stream",
     "text": [
      "\r",
      " 98%|█████████████████████████████████████████████████████████████████████████████████████████████████████████████▌  | 880/900 [01:21<00:01, 10.64it/s]"
     ]
    },
    {
     "name": "stdout",
     "output_type": "stream",
     "text": [
      "No ['No', 'no'] gold 9.79 dollars\n",
      "Yes ['No', 'no'] gold 9.80 dollars\n"
     ]
    },
    {
     "name": "stderr",
     "output_type": "stream",
     "text": [
      " 98%|██████████████████████████████████████████████████████████████████████████████████████████████████████████████  | 884/900 [01:22<00:01, 10.24it/s]"
     ]
    },
    {
     "name": "stdout",
     "output_type": "stream",
     "text": [
      "Yes ['No', 'no'] gold 9.81 dollars\n",
      "Yes ['No', 'no'] gold 9.82 dollars\n",
      "Yes ['No', 'no'] gold 9.83 dollars\n"
     ]
    },
    {
     "name": "stderr",
     "output_type": "stream",
     "text": [
      "\r",
      " 98%|██████████████████████████████████████████████████████████████████████████████████████████████████████████████▎ | 886/900 [01:22<00:01, 10.39it/s]"
     ]
    },
    {
     "name": "stdout",
     "output_type": "stream",
     "text": [
      "Yes ['No', 'no'] gold 9.84 dollars\n",
      "Yes ['No', 'no'] gold 9.85 dollars\n",
      "No ['No', 'no'] gold 9.86 dollars\n"
     ]
    },
    {
     "name": "stderr",
     "output_type": "stream",
     "text": [
      " 99%|██████████████████████████████████████████████████████████████████████████████████████████████████████████████▊ | 890/900 [01:22<00:00, 10.60it/s]"
     ]
    },
    {
     "name": "stdout",
     "output_type": "stream",
     "text": [
      "Yes ['No', 'no'] gold 9.87 dollars\n",
      "Yes ['No', 'no'] gold 9.88 dollars\n",
      "No ['No', 'no'] gold 9.89 dollars\n"
     ]
    },
    {
     "name": "stderr",
     "output_type": "stream",
     "text": [
      "\r",
      " 99%|███████████████████████████████████████████████████████████████████████████████████████████████████████████████ | 892/900 [01:22<00:00, 10.67it/s]"
     ]
    },
    {
     "name": "stdout",
     "output_type": "stream",
     "text": [
      "No ['No', 'no'] gold 9.90 dollars\n",
      "No ['No', 'no'] gold 9.91 dollars\n",
      "Yes ['No', 'no'] gold 9.92 dollars\n"
     ]
    },
    {
     "name": "stderr",
     "output_type": "stream",
     "text": [
      "100%|███████████████████████████████████████████████████████████████████████████████████████████████████████████████▌| 896/900 [01:23<00:00, 10.74it/s]"
     ]
    },
    {
     "name": "stdout",
     "output_type": "stream",
     "text": [
      "Yes ['No', 'no'] gold 9.93 dollars\n",
      "Yes ['No', 'no'] gold 9.94 dollars\n",
      "Yes ['No', 'no'] gold 9.95 dollars\n"
     ]
    },
    {
     "name": "stderr",
     "output_type": "stream",
     "text": [
      "\r",
      "100%|███████████████████████████████████████████████████████████████████████████████████████████████████████████████▊| 898/900 [01:23<00:00, 10.77it/s]"
     ]
    },
    {
     "name": "stdout",
     "output_type": "stream",
     "text": [
      "No ['No', 'no'] gold 9.96 dollars\n",
      "No ['No', 'no'] gold 9.97 dollars\n",
      "No ['No', 'no'] gold 9.98 dollars\n"
     ]
    },
    {
     "name": "stderr",
     "output_type": "stream",
     "text": [
      "100%|████████████████████████████████████████████████████████████████████████████████████████████████████████████████| 900/900 [01:23<00:00, 10.75it/s]"
     ]
    },
    {
     "name": "stdout",
     "output_type": "stream",
     "text": [
      "No ['No', 'no'] gold 9.99 dollars\n"
     ]
    },
    {
     "name": "stderr",
     "output_type": "stream",
     "text": [
      "\n"
     ]
    }
   ],
   "source": [
    "n_correct = 0\n",
    "model.eval()\n",
    "pred_labels = []\n",
    "with torch.no_grad():\n",
    "    for example in tqdm(examples):\n",
    "        inputs = example['a']\n",
    "        alpaca_prompt = alpaca_prompt_template % (instruction, inputs)\n",
    "\n",
    "        input_ids = tokenizer(alpaca_prompt, return_tensors=\"pt\").input_ids.to(\"cuda\")\n",
    "        generated_ids = model.generate(\n",
    "            input_ids, do_sample=True, \n",
    "            temperature=0.01, max_length=input_ids[0].shape[0]+3,\n",
    "        )\n",
    "        generated_tokens = tokenizer.decode(generated_ids[0])\n",
    "        pred_label = generated_tokens.split(\"</s>\")[0].strip(\".\\n\").split(\"\\n\")[-1].strip()\n",
    "        correct_label = example['output']\n",
    "        if pred_label in correct_label:\n",
    "            n_correct += 1\n",
    "        print(pred_label, correct_label, inputs)\n",
    "        pred_labels += [pred_label]\n",
    "        "
   ]
  },
  {
   "cell_type": "code",
   "execution_count": 589,
   "id": "1b642599",
   "metadata": {},
   "outputs": [
    {
     "data": {
      "text/plain": [
       "0.79"
      ]
     },
     "execution_count": 589,
     "metadata": {},
     "output_type": "execute_result"
    }
   ],
   "source": [
    "n_correct/len(examples)"
   ]
  },
  {
   "cell_type": "code",
   "execution_count": 590,
   "id": "92d6f145",
   "metadata": {},
   "outputs": [],
   "source": [
    "plot_data_x = []\n",
    "plot_data_y = []\n",
    "for i in range(len(pred_labels)):\n",
    "    plot_data_x += [round((i+100)/100.0, 2)]\n",
    "    plot_data_y += [0 if pred_labels[i] in ['No', 'no'] else 1]"
   ]
  },
  {
   "cell_type": "code",
   "execution_count": 591,
   "id": "b824a39c",
   "metadata": {},
   "outputs": [
    {
     "data": {
      "image/png": "[encoded data removed]",
      "text/plain": [
       "<Figure size 720x72 with 1 Axes>"
      ]
     },
     "metadata": {
      "needs_background": "light"
     },
     "output_type": "display_data"
    }
   ],
   "source": [
    "plt.figure(figsize=(10,1))\n",
    "plt.plot(plot_data_x, plot_data_y, '-')\n",
    "plt.show()"
   ]
  },
  {
   "cell_type": "markdown",
   "id": "803fdf67",
   "metadata": {},
   "source": [
    "#### Other stuffs"
   ]
  },
  {
   "cell_type": "code",
   "execution_count": 725,
   "id": "2ca0e724",
   "metadata": {},
   "outputs": [
    {
     "data": {
      "text/plain": [
       "'Yes'"
      ]
     },
     "execution_count": 725,
     "metadata": {},
     "output_type": "execute_result"
    }
   ],
   "source": [
    "instruction = \"\"\"Say yes only if the first two elements are the same.\"\"\"\n",
    "alpaca_prompt_template = f\"\"\"Below is an instruction that describes a task, paired with an input that provides further context. Write a response that appropriately completes the request.\n",
    "\n",
    "### Instruction:\n",
    "%s\n",
    "\n",
    "### Input:\n",
    "%s\n",
    "\n",
    "### Response:\n",
    "\"\"\"\n",
    "alpaca_prompt = alpaca_prompt_template % (instruction, \"[apple orange orange]\")\n",
    "\n",
    "input_ids = tokenizer(alpaca_prompt, return_tensors=\"pt\").input_ids.to(\"cuda\")\n",
    "generated_ids = model.generate(\n",
    "    input_ids, do_sample=True, \n",
    "    temperature=0.01, max_length=input_ids[0].shape[0]+30,\n",
    ")\n",
    "generated_tokens = tokenizer.decode(generated_ids[0])\n",
    "generated_tokens.split(\"</s>\")[0].strip(\".\\n\").split(\"\\n\")[-1]"
   ]
  },
  {
   "cell_type": "code",
   "execution_count": 276,
   "id": "89805859",
   "metadata": {},
   "outputs": [
    {
     "data": {
      "text/plain": [
       "'No'"
      ]
     },
     "execution_count": 276,
     "metadata": {},
     "output_type": "execute_result"
    }
   ],
   "source": [
    "instruction = \"\"\"Please answer yes only if the numeric value is between 3.00 and 5.00, otherwise no.\"\"\"\n",
    "alpaca_prompt_template = f\"\"\"Below is an instruction that describes a task, paired with an input that provides further context. Write a response that appropriately completes the request.\n",
    "\n",
    "### Instruction:\n",
    "%s\n",
    "\n",
    "### Input:\n",
    "%s\n",
    "\n",
    "### Response:\n",
    "\"\"\"\n",
    "alpaca_prompt = alpaca_prompt_template % (instruction, \"6.00 minus 3.60\")\n",
    "\n",
    "input_ids = tokenizer(alpaca_prompt, return_tensors=\"pt\").input_ids.to(\"cuda\")\n",
    "generated_ids = model.generate(\n",
    "    input_ids, do_sample=True, \n",
    "    temperature=0.1, max_length=input_ids[0].shape[0]+30,\n",
    ")\n",
    "generated_tokens = tokenizer.decode(generated_ids[0])\n",
    "generated_tokens.split(\"</s>\")[0].strip(\".\\n\").split(\"\\n\")[-1]"
   ]
  },
  {
   "cell_type": "code",
   "execution_count": 251,
   "id": "eb7ba5bd",
   "metadata": {},
   "outputs": [
    {
     "ename": "NameError",
     "evalue": "name 'prompt' is not defined",
     "output_type": "error",
     "traceback": [
      "\u001b[0;31m---------------------------------------------------------------------------\u001b[0m",
      "\u001b[0;31mNameError\u001b[0m                                 Traceback (most recent call last)",
      "\u001b[0;32m/tmp/wuzhengx/ipykernel_1120250/3613271367.py\u001b[0m in \u001b[0;36m<module>\u001b[0;34m\u001b[0m\n\u001b[1;32m     43\u001b[0m \u001b[0;31m# (7, 3), (9, 1) = \"\"\"\u001b[0m\u001b[0;34m\u001b[0m\u001b[0;34m\u001b[0m\u001b[0;34m\u001b[0m\u001b[0m\n\u001b[1;32m     44\u001b[0m \u001b[0;34m\u001b[0m\u001b[0m\n\u001b[0;32m---> 45\u001b[0;31m \u001b[0minput_ids\u001b[0m \u001b[0;34m=\u001b[0m \u001b[0mtokenizer\u001b[0m\u001b[0;34m(\u001b[0m\u001b[0mprompt\u001b[0m\u001b[0;34m,\u001b[0m \u001b[0mreturn_tensors\u001b[0m\u001b[0;34m=\u001b[0m\u001b[0;34m\"pt\"\u001b[0m\u001b[0;34m)\u001b[0m\u001b[0;34m.\u001b[0m\u001b[0minput_ids\u001b[0m\u001b[0;34m.\u001b[0m\u001b[0mto\u001b[0m\u001b[0;34m(\u001b[0m\u001b[0;34m\"cuda\"\u001b[0m\u001b[0;34m)\u001b[0m\u001b[0;34m\u001b[0m\u001b[0;34m\u001b[0m\u001b[0m\n\u001b[0m\u001b[1;32m     46\u001b[0m generated_ids = model.generate(\n\u001b[1;32m     47\u001b[0m     \u001b[0minput_ids\u001b[0m\u001b[0;34m,\u001b[0m \u001b[0mdo_sample\u001b[0m\u001b[0;34m=\u001b[0m\u001b[0;32mTrue\u001b[0m\u001b[0;34m,\u001b[0m\u001b[0;34m\u001b[0m\u001b[0;34m\u001b[0m\u001b[0m\n",
      "\u001b[0;31mNameError\u001b[0m: name 'prompt' is not defined"
     ]
    }
   ],
   "source": [
    "# Task Candidate 1 - Number Games\n",
    "# prompt = \"\"\"Please add the first two numbers together, and subtract the thrid one.\n",
    "# 1, 4, 2 => 3\n",
    "# ###\n",
    "# 13, 5, 8 => 10\n",
    "# ###\n",
    "# 8, 9, 7 => \"\"\"\n",
    "\n",
    "# Task Candidate 2 - Operator Games\n",
    "# prompt = \"\"\"op i is either adding 1 to i when i is even, or adding 2 to i when i is odd.\n",
    "# ###\n",
    "# op 18 = 19\n",
    "# ###\n",
    "# op 17 = 16\n",
    "# ###\n",
    "# op 7 = 6\n",
    "# ###\n",
    "# op 3 = 2\n",
    "# ###\n",
    "# op 8 = 9\n",
    "# ###\n",
    "# op 19 =\"\"\"\n",
    "\n",
    "# Task Candidate 3 - Semantic Related Games\n",
    "# prompt = \"\"\"if the first two words are synonyms add the following two numbers, if the first two words are antonyms return the first number\n",
    "# ###\n",
    "# Light Dark 1 1 => 1\n",
    "# ###\n",
    "# Happy Joyful 6 2 => 8\n",
    "# ###\n",
    "# Fast Slow 2 8 => 2\n",
    "# ###\n",
    "# Beautiful Attractive 1 9 => 10\n",
    "# ###\n",
    "# Happy Sad 3 2 =>\"\"\"\n",
    "\n",
    "# More number games with substructures.\n",
    "# prompt = \"\"\"True if the sum of the left pair of numbers is equal to the sum of the left pair of numbers otherwise False.\n",
    "# (3, 5), (3, 7) = False\n",
    "# ###\n",
    "# (2, 7), (5, 4) = True\n",
    "# ###\n",
    "# (7, 3), (9, 1) = \"\"\"\n",
    "\n",
    "input_ids = tokenizer(prompt, return_tensors=\"pt\").input_ids.to(\"cuda\")\n",
    "generated_ids = model.generate(\n",
    "    input_ids, do_sample=True, \n",
    "    temperature=0.01, max_length=input_ids[0].shape[0]+5,\n",
    ")\n",
    "predicted_tokens = tokenizer.decode(generated_ids[0])\n",
    "int(predicted_tokens.strip(\"#\\n\").split()[-1])"
   ]
  },
  {
   "cell_type": "code",
   "execution_count": null,
   "id": "18bf59de",
   "metadata": {},
   "outputs": [],
   "source": [
    "clauses = \"( c == a ) or ( a == b )\"\n",
    "n_shots = 20\n",
    "\n",
    "pred_labels = []\n",
    "correct_labels = []\n",
    "\n",
    "for _ in tqdm(range(0, 500)):\n",
    "    demo_set = sample_demonstrations_for_clauses_forward(\n",
    "        clauses,\n",
    "        n_shots\n",
    "    )\n",
    "    test_example =  sample_demonstrations_for_clauses_forward(\n",
    "        clauses,\n",
    "        1\n",
    "    )\n",
    "    prompt = \"The hidden rule involves conducting equality analyses over numbers.\\n\"\n",
    "    for i in range(0, len(demo_set)):\n",
    "        prompt += f\"Input: {demo_set[i]['a']} {demo_set[i]['b']} {demo_set[i]['c']}\\nOutput: {demo_set[i]['output']}\\n\"\n",
    "    prompt += f\"Input: {test_example[0]['a']} {test_example[0]['b']} {test_example[0]['c']}\\nOutput:\"\n",
    "    correct_labels += [test_example[0]['output']]\n",
    "    input_ids = tokenizer(prompt, return_tensors=\"pt\").input_ids.to(\"cuda\")\n",
    "    generated_ids = model.generate(\n",
    "        input_ids, do_sample=True, \n",
    "        temperature=0.01, max_length=input_ids[0].shape[0],\n",
    "    )\n",
    "    generated_text = tokenizer.decode(generated_ids[0])\n",
    "    if generated_text.strip().split()[-1] == \"True\":\n",
    "        pred_labels += [True]\n",
    "    elif generated_text.strip().split()[-1] == \"False\":\n",
    "        pred_labels += [False]"
   ]
  },
  {
   "cell_type": "code",
   "execution_count": null,
   "id": "c2fa6059",
   "metadata": {},
   "outputs": [],
   "source": [
    "print(classification_report(correct_labels, pred_labels)) # k=5"
   ]
  },
  {
   "cell_type": "code",
   "execution_count": null,
   "id": "bec9bdaa",
   "metadata": {},
   "outputs": [],
   "source": [
    "generated_ids"
   ]
  },
  {
   "cell_type": "markdown",
   "id": "f8ae070d",
   "metadata": {},
   "source": [
    "### gpt-neo-2.7B"
   ]
  },
  {
   "cell_type": "code",
   "execution_count": null,
   "id": "5b41dcc3",
   "metadata": {},
   "outputs": [],
   "source": [
    "model = GPTNeoForCausalLM.from_pretrained(\n",
    "    \"EleutherAI/gpt-neo-2.7B\",\n",
    "    cache_dir=CACHE_DIR\n",
    ")\n",
    "tokenizer = GPT2Tokenizer.from_pretrained(\n",
    "    \"EleutherAI/gpt-neo-2.7B\",\n",
    "    cache_dir=CACHE_DIR\n",
    ")"
   ]
  },
  {
   "cell_type": "code",
   "execution_count": null,
   "id": "3a7ff8de",
   "metadata": {},
   "outputs": [],
   "source": [
    "sum(p.numel() for p in model.parameters())"
   ]
  },
  {
   "cell_type": "code",
   "execution_count": null,
   "id": "1ba7b9e7",
   "metadata": {},
   "outputs": [],
   "source": [
    "model.to(\"cuda\")"
   ]
  },
  {
   "cell_type": "code",
   "execution_count": 4,
   "id": "c1954766",
   "metadata": {},
   "outputs": [
    {
     "name": "stdout",
     "output_type": "stream",
     "text": [
      "Mon Apr 10 15:41:01 2023       \r\n",
      "+-----------------------------------------------------------------------------+\r\n",
      "| NVIDIA-SMI 515.43.04    Driver Version: 515.43.04    CUDA Version: 11.7     |\r\n",
      "|-------------------------------+----------------------+----------------------+\r\n",
      "| GPU  Name        Persistence-M| Bus-Id        Disp.A | Volatile Uncorr. ECC |\r\n",
      "| Fan  Temp  Perf  Pwr:Usage/Cap|         Memory-Usage | GPU-Util  Compute M. |\r\n",
      "|                               |                      |               MIG M. |\r\n",
      "|===============================+======================+======================|\r\n",
      "|   0  NVIDIA RTX A6000    On   | 00000000:E1:00.0 Off |                  Off |\r\n",
      "| 42%   72C    P2   296W / 300W |  36656MiB / 49140MiB |     98%      Default |\r\n",
      "|                               |                      |                  N/A |\r\n",
      "+-------------------------------+----------------------+----------------------+\r\n",
      "                                                                               \r\n",
      "+-----------------------------------------------------------------------------+\r\n",
      "| Processes:                                                                  |\r\n",
      "|  GPU   GI   CI        PID   Type   Process name                  GPU Memory |\r\n",
      "|        ID   ID                                                   Usage      |\r\n",
      "|=============================================================================|\r\n",
      "|    0   N/A  N/A   3592577      C   ...hengx-bootleg/bin/python3    36653MiB |\r\n",
      "+-----------------------------------------------------------------------------+\r\n"
     ]
    }
   ],
   "source": [
    "!nvidia-smi"
   ]
  },
  {
   "cell_type": "markdown",
   "id": "58f6e257",
   "metadata": {},
   "source": [
    "### gpt-j-6B"
   ]
  },
  {
   "cell_type": "code",
   "execution_count": null,
   "id": "8bb25865",
   "metadata": {},
   "outputs": [],
   "source": [
    "model = GPTJForCausalLM.from_pretrained(\n",
    "    \"EleutherAI/gpt-j-6B\", revision=\"float16\", \n",
    "    cache_dir=CACHE_DIR\n",
    ")\n",
    "tokenizer = AutoTokenizer.from_pretrained(\n",
    "    \"EleutherAI/gpt-j-6B\",\n",
    "    cache_dir=CACHE_DIR\n",
    ")"
   ]
  },
  {
   "cell_type": "code",
   "execution_count": null,
   "id": "50672065",
   "metadata": {},
   "outputs": [],
   "source": [
    "sum(p.numel() for p in model.parameters())"
   ]
  },
  {
   "cell_type": "code",
   "execution_count": null,
   "id": "112809cb",
   "metadata": {},
   "outputs": [],
   "source": [
    "model.to(\"cuda\")"
   ]
  },
  {
   "cell_type": "code",
   "execution_count": null,
   "id": "7974a00c",
   "metadata": {},
   "outputs": [],
   "source": [
    "!nvidia-smi"
   ]
  },
  {
   "cell_type": "code",
   "execution_count": null,
   "id": "821fb55c",
   "metadata": {},
   "outputs": [],
   "source": [
    "clauses = \"( c == a ) or ( a == b )\"\n",
    "n_shots = 10\n",
    "\n",
    "pred_labels = []\n",
    "correct_labels = []\n",
    "\n",
    "for _ in tqdm(range(0, 500)):\n",
    "    demo_set = sample_demonstrations_for_clauses_forward(\n",
    "        clauses,\n",
    "        n_shots\n",
    "    )\n",
    "    test_example =  sample_demonstrations_for_clauses_forward(\n",
    "        clauses,\n",
    "        1\n",
    "    )\n",
    "    prompt = \"The hidden rule involves conducting equality analyses over numbers.\\n\"\n",
    "    for i in range(0, len(demo_set)):\n",
    "        prompt += f\"Input: {demo_set[i]['a']} {demo_set[i]['b']} {demo_set[i]['c']}\\nOutput: {demo_set[i]['output']}\\n\"\n",
    "    prompt += f\"Input: {test_example[0]['a']} {test_example[0]['b']} {test_example[0]['c']}\\nOutput:\"\n",
    "    correct_labels += [test_example[0]['output']]\n",
    "    input_ids = tokenizer(prompt, return_tensors=\"pt\").input_ids.to(\"cuda\")\n",
    "    generated_ids = model.generate(\n",
    "        input_ids, do_sample=True, \n",
    "        temperature=0.01, max_length=input_ids[0].shape[0],\n",
    "    )\n",
    "    generated_text = tokenizer.decode(generated_ids[0])\n",
    "    if generated_text.strip().split()[-1] == \"True\":\n",
    "        pred_labels += [True]\n",
    "    elif generated_text.strip().split()[-1] == \"False\":\n",
    "        pred_labels += [False]"
   ]
  },
  {
   "cell_type": "code",
   "execution_count": null,
   "id": "1396b6c5",
   "metadata": {},
   "outputs": [],
   "source": [
    "print(classification_report(correct_labels, pred_labels)) # k=5"
   ]
  },
  {
   "cell_type": "code",
   "execution_count": null,
   "id": "78298087",
   "metadata": {},
   "outputs": [],
   "source": [
    "print(classification_report(correct_labels, pred_labels)) # k=15"
   ]
  },
  {
   "cell_type": "code",
   "execution_count": null,
   "id": "7a916f8e",
   "metadata": {},
   "outputs": [],
   "source": [
    "print(classification_report(correct_labels, pred_labels)) # k=25"
   ]
  },
  {
   "cell_type": "code",
   "execution_count": null,
   "id": "d06893d2",
   "metadata": {},
   "outputs": [],
   "source": [
    "print(classification_report(correct_labels, pred_labels)) # k=35"
   ]
  },
  {
   "cell_type": "code",
   "execution_count": null,
   "id": "3a8c89c8",
   "metadata": {},
   "outputs": [],
   "source": [
    "print(prompt)"
   ]
  },
  {
   "cell_type": "code",
   "execution_count": null,
   "id": "a1722cf3",
   "metadata": {},
   "outputs": [],
   "source": [
    "correct_labels[-1]"
   ]
  },
  {
   "cell_type": "code",
   "execution_count": null,
   "id": "8d6656bb",
   "metadata": {},
   "outputs": [],
   "source": []
  }
 ],
 "metadata": {
  "kernelspec": {
   "display_name": "Python 3 (ipykernel)",
   "language": "python",
   "name": "python3"
  },
  "language_info": {
   "codemirror_mode": {
    "name": "ipython",
    "version": 3
   },
   "file_extension": ".py",
   "mimetype": "text/x-python",
   "name": "python",
   "nbconvert_exporter": "python",
   "pygments_lexer": "ipython3",
   "version": "3.8.12"
  }
 },
 "nbformat": 4,
 "nbformat_minor": 5
}
