{
 "cells": [
  {
   "cell_type": "markdown",
   "id": "c804055e",
   "metadata": {},
   "source": [
    "## Tutorial of Interventions on Non-transformer Model: MLPs"
   ]
  },
  {
   "cell_type": "code",
   "execution_count": 1,
   "id": "40937a8c",
   "metadata": {},
   "outputs": [],
   "source": [
    "__author__ = \"Zhengxuan Wu\"\n",
    "__version__ = \"12/20/2023\""
   ]
  },
  {
   "cell_type": "markdown",
   "id": "065c84f3",
   "metadata": {},
   "source": [
    "### Overview\n",
    "\n",
    "This tutorials show how to use this library on non-transformer models, such as MLPs. The set-ups are pretty much the same as standard transformer-based models."
   ]
  },
  {
   "cell_type": "markdown",
   "id": "2faf23b7",
   "metadata": {},
   "source": [
    "### Set-up"
   ]
  },
  {
   "cell_type": "code",
   "execution_count": 2,
   "id": "1c80bc5f",
   "metadata": {},
   "outputs": [],
   "source": [
    "try:\n",
    "    # This library is our indicator that the required installs\n",
    "    # need to be done.\n",
    "    import transformers\n",
    "    import sys\n",
    "    sys.path.append(\"align-transformers/\")\n",
    "except ModuleNotFoundError:\n",
    "    !git clone https://github.com/frankaging/align-transformers.git\n",
    "    !pip install -r align-transformers/requirements.txt\n",
    "    import sys\n",
    "    sys.path.append(\"align-transformers/\")"
   ]
  },
  {
   "cell_type": "code",
   "execution_count": 3,
   "id": "c4ef0762",
   "metadata": {},
   "outputs": [
    {
     "name": "stdout",
     "output_type": "stream",
     "text": [
      "loaded model\n"
     ]
    }
   ],
   "source": [
    "import sys\n",
    "sys.path.append(\"../..\")\n",
    "\n",
    "import torch\n",
    "import pandas as pd\n",
    "from models.basic_utils import embed_to_distrib, top_vals, format_token\n",
    "from models.configuration_alignable_model import AlignableRepresentationConfig, AlignableConfig\n",
    "from models.alignable_base import AlignableModel\n",
    "from models.interventions import VanillaIntervention, RotatedSpaceIntervention\n",
    "from models.mlp.modelings_mlp import MLPConfig\n",
    "from models.mlp.modelings_alignable_mlp import create_mlp_classifier\n",
    "\n",
    "%config InlineBackend.figure_formats = ['svg']\n",
    "from plotnine import ggplot, geom_tile, aes, facet_wrap, theme, element_text, \\\n",
    "                     geom_bar, geom_hline, scale_y_log10\n",
    "\n",
    "config, tokenizer, mlp =create_mlp_classifier(MLPConfig(h_dim=32))"
   ]
  },
  {
   "cell_type": "markdown",
   "id": "10a4aaa0",
   "metadata": {},
   "source": [
    "### Intervene in middle layer by partitioning representations into subspaces\n",
    "\n",
    "MLP layer may contain only a single \"token\" representation each layer. As a result, we often want to intervene on a subspace of this \"token\" representation to localize a concept."
   ]
  },
  {
   "cell_type": "code",
   "execution_count": 4,
   "id": "d4c1f678",
   "metadata": {},
   "outputs": [
    {
     "name": "stdout",
     "output_type": "stream",
     "text": [
      "base ((tensor([[[-0.0552, -0.1310]]]),), None)\n",
      "source ((tensor([[[-0.0507, -0.1348]]]),), None)\n"
     ]
    }
   ],
   "source": [
    "alignable_config = AlignableConfig(\n",
    "    alignable_model_type=type(mlp),\n",
    "    alignable_representations=[\n",
    "        AlignableRepresentationConfig(\n",
    "            0,\n",
    "            \"block_output\",\n",
    "            \"pos\",                              # mlp layer creates a single token reprs\n",
    "            1,\n",
    "            subspace_partition=[[0,16],[16,32]] # partition into two sets of subspaces\n",
    "        ),\n",
    "    ],\n",
    "    alignable_interventions_type=RotatedSpaceIntervention,\n",
    ")\n",
    "alignable = AlignableModel(alignable_config, mlp)\n",
    "\n",
    "base = {\"inputs_embeds\": torch.rand(1, 1, 32)}\n",
    "source = {\"inputs_embeds\": torch.rand(1, 1, 32)}\n",
    "print(\"base\", alignable(base))\n",
    "print(\"source\", alignable(source))"
   ]
  },
  {
   "cell_type": "code",
   "execution_count": 5,
   "id": "7f546a27",
   "metadata": {},
   "outputs": [],
   "source": [
    "_, counterfactual_outputs = alignable(\n",
    "    base,\n",
    "    [source],\n",
    "    {\"sources->base\": ([[[0]]], [[[0]]])},\n",
    "    subspaces = [[[0, 1]]]\n",
    ")"
   ]
  },
  {
   "cell_type": "code",
   "execution_count": 6,
   "id": "6f7073d1",
   "metadata": {},
   "outputs": [
    {
     "data": {
      "text/plain": [
       "(tensor([[[-0.0507, -0.1348]]], grad_fn=<UnsafeViewBackward0>),)"
      ]
     },
     "execution_count": 6,
     "metadata": {},
     "output_type": "execute_result"
    }
   ],
   "source": [
    "counterfactual_outputs # this should be the same as source."
   ]
  },
  {
   "cell_type": "markdown",
   "id": "da30eaa5",
   "metadata": {},
   "source": [
    "### Intervene the subspace with multiple sources"
   ]
  },
  {
   "cell_type": "code",
   "execution_count": 7,
   "id": "a03d3739",
   "metadata": {},
   "outputs": [
    {
     "name": "stdout",
     "output_type": "stream",
     "text": [
      "base ((tensor([[[-0.0526, -0.1310]]]),), None)\n",
      "source ((tensor([[[-0.0486, -0.1317]]]),), None)\n"
     ]
    }
   ],
   "source": [
    "alignable_config = AlignableConfig(\n",
    "    alignable_model_type=type(mlp),\n",
    "    alignable_representations=[\n",
    "        AlignableRepresentationConfig(\n",
    "            0,\n",
    "            \"block_output\",\n",
    "            \"pos\",                               # mlp layer creates a single token reprs\n",
    "            1,\n",
    "            subspace_partition=[[0,16],[16,32]], # partition into two sets of subspaces\n",
    "            intervention_link_key=0\n",
    "        ),\n",
    "        AlignableRepresentationConfig(\n",
    "            0,\n",
    "            \"block_output\",\n",
    "            \"pos\",                               # mlp layer creates a single token reprs\n",
    "            1,\n",
    "            subspace_partition=[[0,16],[16,32]], # partition into two sets of subspaces\n",
    "            intervention_link_key=0\n",
    "        ),\n",
    "    ],\n",
    "    alignable_interventions_type=RotatedSpaceIntervention,\n",
    ")\n",
    "alignable = AlignableModel(alignable_config, mlp)\n",
    "\n",
    "base = {\"inputs_embeds\": torch.rand(1, 1, 32)}\n",
    "source = {\"inputs_embeds\": torch.rand(1, 1, 32)}\n",
    "print(\"base\", alignable(base))\n",
    "print(\"source\", alignable(source))"
   ]
  },
  {
   "cell_type": "code",
   "execution_count": 8,
   "id": "17caf2a4",
   "metadata": {},
   "outputs": [],
   "source": [
    "_, counterfactual_outputs = alignable(\n",
    "    base,\n",
    "    [source, None],\n",
    "    {\"sources->base\": ([[[0]], None], [[[0]], None])},\n",
    "    subspaces = [[[0]], None]\n",
    ")"
   ]
  },
  {
   "cell_type": "code",
   "execution_count": 9,
   "id": "7839eafd",
   "metadata": {},
   "outputs": [
    {
     "data": {
      "text/plain": [
       "(tensor([[[-0.0504, -0.1265]]], grad_fn=<UnsafeViewBackward0>),)"
      ]
     },
     "execution_count": 9,
     "metadata": {},
     "output_type": "execute_result"
    }
   ],
   "source": [
    "counterfactual_outputs"
   ]
  },
  {
   "cell_type": "code",
   "execution_count": 10,
   "id": "2858d0a6",
   "metadata": {},
   "outputs": [],
   "source": [
    "_, counterfactual_outputs = alignable(\n",
    "    base,\n",
    "    [None, source],\n",
    "    {\"sources->base\": ([None, [[0]]], [None, [[0]]])},\n",
    "    subspaces = [None, [[0]]]\n",
    ")"
   ]
  },
  {
   "cell_type": "code",
   "execution_count": 11,
   "id": "e5edcfd4",
   "metadata": {},
   "outputs": [
    {
     "data": {
      "text/plain": [
       "(tensor([[[-0.0504, -0.1265]]], grad_fn=<UnsafeViewBackward0>),)"
      ]
     },
     "execution_count": 11,
     "metadata": {},
     "output_type": "execute_result"
    }
   ],
   "source": [
    "counterfactual_outputs"
   ]
  },
  {
   "cell_type": "code",
   "execution_count": 12,
   "id": "97f266f1",
   "metadata": {},
   "outputs": [],
   "source": [
    "_, counterfactual_outputs = alignable(\n",
    "    base,\n",
    "    [source, source],\n",
    "    {\"sources->base\": ([[[0]], [[0]]], [[[0]], [[0]]])},\n",
    "    subspaces = [[[0]], [[1]]]\n",
    ")"
   ]
  },
  {
   "cell_type": "code",
   "execution_count": 13,
   "id": "59b5a1f4",
   "metadata": {},
   "outputs": [
    {
     "data": {
      "text/plain": [
       "(tensor([[[-0.0486, -0.1317]]], grad_fn=<UnsafeViewBackward0>),)"
      ]
     },
     "execution_count": 13,
     "metadata": {},
     "output_type": "execute_result"
    }
   ],
   "source": [
    "counterfactual_outputs"
   ]
  }
 ],
 "metadata": {
  "kernelspec": {
   "display_name": "Python 3 (ipykernel)",
   "language": "python",
   "name": "python3"
  },
  "language_info": {
   "codemirror_mode": {
    "name": "ipython",
    "version": 3
   },
   "file_extension": ".py",
   "mimetype": "text/x-python",
   "name": "python",
   "nbconvert_exporter": "python",
   "pygments_lexer": "ipython3",
   "version": "3.10.7"
  }
 },
 "nbformat": 4,
 "nbformat_minor": 5
}
