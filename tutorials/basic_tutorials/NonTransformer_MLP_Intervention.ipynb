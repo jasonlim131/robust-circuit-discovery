{
 "cells": [
  {
   "cell_type": "markdown",
   "id": "c804055e",
   "metadata": {},
   "source": [
    "## Tutorial of Interventions on Non-transformer Model: MLPs"
   ]
  },
  {
   "cell_type": "code",
   "execution_count": 1,
   "id": "40937a8c",
   "metadata": {},
   "outputs": [],
   "source": [
    "__author__ = \"Zhengxuan Wu\"\n",
    "__version__ = \"12/20/2023\""
   ]
  },
  {
   "cell_type": "markdown",
   "id": "065c84f3",
   "metadata": {},
   "source": [
    "### Overview\n",
    "\n",
    "This tutorials show how to use this library on non-transformer models, such as MLPs. The set-ups are pretty much the same as standard transformer-based models."
   ]
  },
  {
   "cell_type": "markdown",
   "id": "2faf23b7",
   "metadata": {},
   "source": [
    "### Set-up"
   ]
  },
  {
   "cell_type": "code",
   "execution_count": 2,
   "id": "1c80bc5f",
   "metadata": {},
   "outputs": [],
   "source": [
    "try:\n",
    "    # This library is our indicator that the required installs\n",
    "    # need to be done.\n",
    "    import pyvene\n",
    "\n",
    "except ModuleNotFoundError:\n",
    "    !pip install git+https://github.com/frankaging/pyvene.git"
   ]
  },
  {
   "cell_type": "code",
   "execution_count": 3,
   "id": "c4ef0762",
   "metadata": {},
   "outputs": [
    {
     "name": "stdout",
     "output_type": "stream",
     "text": [
      "loaded model\n"
     ]
    }
   ],
   "source": [
    "import torch\n",
    "import pandas as pd\n",
    "from pyvene import embed_to_distrib, top_vals, format_token\n",
    "from pyvene import (\n",
    "    IntervenableModel,\n",
    "    VanillaIntervention,\n",
    "    RotatedSpaceIntervention,\n",
    "    LowRankRotatedSpaceIntervention,\n",
    "    IntervenableRepresentationConfig,\n",
    "    IntervenableConfig,\n",
    ")\n",
    "from pyvene.models.mlp.modelings_mlp import MLPConfig\n",
    "from pyvene import create_mlp_classifier\n",
    "\n",
    "%config InlineBackend.figure_formats = ['svg']\n",
    "from plotnine import (\n",
    "    ggplot,\n",
    "    geom_tile,\n",
    "    aes,\n",
    "    facet_wrap,\n",
    "    theme,\n",
    "    element_text,\n",
    "    geom_bar,\n",
    "    geom_hline,\n",
    "    scale_y_log10,\n",
    ")\n",
    "\n",
    "config, tokenizer, mlp = create_mlp_classifier(MLPConfig(h_dim=32, n_layer=1, num_classes=5))"
   ]
  },
  {
   "cell_type": "markdown",
   "id": "10a4aaa0",
   "metadata": {},
   "source": [
    "### Intervene in middle layer by partitioning representations into subspaces\n",
    "\n",
    "MLP layer may contain only a single \"token\" representation each layer. As a result, we often want to intervene on a subspace of this \"token\" representation to localize a concept."
   ]
  },
  {
   "cell_type": "code",
   "execution_count": 5,
   "id": "d4c1f678",
   "metadata": {},
   "outputs": [
    {
     "name": "stdout",
     "output_type": "stream",
     "text": [
      "base ((tensor([[ 0.1161,  0.3125, -0.0301, -0.0866, -0.2650]]),), None)\n",
      "source ((tensor([[-0.0336,  0.2797, -0.1006, -0.1071, -0.1748]]),), None)\n"
     ]
    }
   ],
   "source": [
    "intervenable_config = IntervenableConfig(\n",
    "    intervenable_model_type=type(mlp),\n",
    "    intervenable_representations=[\n",
    "        IntervenableRepresentationConfig(\n",
    "            0,\n",
    "            \"block_output\",\n",
    "            \"pos\",  # mlp layer creates a single token reprs\n",
    "            1,\n",
    "            subspace_partition=[\n",
    "                [0, 16],\n",
    "                [16, 32],\n",
    "            ],  # partition into two sets of subspaces\n",
    "        ),\n",
    "    ],\n",
    "    intervenable_interventions_type=RotatedSpaceIntervention,\n",
    ")\n",
    "intervenable = IntervenableModel(intervenable_config, mlp)\n",
    "\n",
    "base = {\"inputs_embeds\": torch.rand(1, 1, 32)}\n",
    "source = {\"inputs_embeds\": torch.rand(1, 1, 32)}\n",
    "print(\"base\", intervenable(base))\n",
    "print(\"source\", intervenable(source))"
   ]
  },
  {
   "cell_type": "code",
   "execution_count": 6,
   "id": "7f546a27",
   "metadata": {},
   "outputs": [],
   "source": [
    "_, counterfactual_outputs = intervenable(\n",
    "    base, [source], {\"sources->base\": ([[[0]]], [[[0]]])}, subspaces=[[[1, 0]]]\n",
    ")"
   ]
  },
  {
   "cell_type": "code",
   "execution_count": 7,
   "id": "6f7073d1",
   "metadata": {},
   "outputs": [
    {
     "data": {
      "text/plain": [
       "(tensor([[-0.0336,  0.2797, -0.1006, -0.1071, -0.1748]],\n",
       "        grad_fn=<SqueezeBackward1>),)"
      ]
     },
     "execution_count": 7,
     "metadata": {},
     "output_type": "execute_result"
    }
   ],
   "source": [
    "counterfactual_outputs  # this should be the same as source."
   ]
  },
  {
   "cell_type": "markdown",
   "id": "82600bd7",
   "metadata": {},
   "source": [
    "### Intervene the subspace with multiple sources"
   ]
  },
  {
   "cell_type": "code",
   "execution_count": 8,
   "id": "830f00d7",
   "metadata": {},
   "outputs": [
    {
     "name": "stdout",
     "output_type": "stream",
     "text": [
      "base ((tensor([[ 0.0451,  0.2397, -0.0225, -0.1322, -0.1702],\n",
      "        [-0.1273,  0.1582, -0.1209,  0.0013, -0.0770],\n",
      "        [ 0.0576,  0.1957, -0.0486, -0.1787, -0.1354],\n",
      "        [-0.0354,  0.1983, -0.0879, -0.0428, -0.1376],\n",
      "        [ 0.0157,  0.2301,  0.1082, -0.0964, -0.1618],\n",
      "        [ 0.0272,  0.1491, -0.0361, -0.0419, -0.1055],\n",
      "        [ 0.0647,  0.1679, -0.0025, -0.1478, -0.1277],\n",
      "        [ 0.0646,  0.1757,  0.0718, -0.0831, -0.2018],\n",
      "        [-0.0333,  0.1445, -0.0088, -0.0406, -0.1593],\n",
      "        [-0.0250,  0.1420, -0.0297, -0.0605, -0.0992]]),), None)\n",
      "source ((tensor([[ 0.0345,  0.2049,  0.0838, -0.0803, -0.1454],\n",
      "        [-0.0685,  0.0413,  0.0412, -0.0442, -0.1103],\n",
      "        [ 0.0321,  0.1516,  0.0290, -0.1087, -0.1988],\n",
      "        [ 0.0186,  0.2466, -0.0577, -0.0954, -0.1735],\n",
      "        [-0.0058,  0.2023, -0.0193,  0.0034, -0.1716],\n",
      "        [-0.0757,  0.1766,  0.0303, -0.1014, -0.2228],\n",
      "        [ 0.0605,  0.2042, -0.0676, -0.1082, -0.2676],\n",
      "        [ 0.0101,  0.2911, -0.0020,  0.0106, -0.2927],\n",
      "        [ 0.0720,  0.2538, -0.0988, -0.0858, -0.1759],\n",
      "        [ 0.0441,  0.2026,  0.0353,  0.0047, -0.1161]]),), None)\n"
     ]
    }
   ],
   "source": [
    "intervenable_config = IntervenableConfig(\n",
    "    intervenable_model_type=type(mlp),\n",
    "    intervenable_representations=[\n",
    "        IntervenableRepresentationConfig(\n",
    "            0,\n",
    "            \"block_output\",\n",
    "            \"pos\",  # mlp layer creates a single token reprs\n",
    "            1,\n",
    "            intervenable_low_rank_dimension=32,\n",
    "            subspace_partition=[\n",
    "                [0, 16],\n",
    "                [16, 32],\n",
    "            ],  # partition into two sets of subspaces\n",
    "            intervention_link_key=0,  # linked ones target the same subspace\n",
    "        ),\n",
    "        IntervenableRepresentationConfig(\n",
    "            0,\n",
    "            \"block_output\",\n",
    "            \"pos\",  # mlp layer creates a single token reprs\n",
    "            1,\n",
    "            intervenable_low_rank_dimension=32,\n",
    "            subspace_partition=[\n",
    "                [0, 16],\n",
    "                [16, 32],\n",
    "            ],  # partition into two sets of subspaces\n",
    "            intervention_link_key=0,  # linked ones target the same subspace\n",
    "        ),\n",
    "    ],\n",
    "    intervenable_interventions_type=LowRankRotatedSpaceIntervention,\n",
    ")\n",
    "intervenable = IntervenableModel(intervenable_config, mlp)\n",
    "\n",
    "base = {\"inputs_embeds\": torch.rand(10, 1, 32)}\n",
    "source = {\"inputs_embeds\": torch.rand(10, 1, 32)}\n",
    "print(\"base\", intervenable(base))\n",
    "print(\"source\", intervenable(source))"
   ]
  },
  {
   "cell_type": "code",
   "execution_count": 9,
   "id": "045d74f5",
   "metadata": {},
   "outputs": [
    {
     "name": "stdout",
     "output_type": "stream",
     "text": [
      "(tensor([[ 0.0345,  0.2049,  0.0838, -0.0803, -0.1454],\n",
      "        [-0.0685,  0.0413,  0.0412, -0.0442, -0.1103],\n",
      "        [ 0.0321,  0.1516,  0.0290, -0.1087, -0.1988],\n",
      "        [ 0.0186,  0.2466, -0.0577, -0.0954, -0.1735],\n",
      "        [-0.0058,  0.2023, -0.0193,  0.0034, -0.1716],\n",
      "        [-0.0757,  0.1766,  0.0303, -0.1014, -0.2228],\n",
      "        [ 0.0605,  0.2042, -0.0676, -0.1082, -0.2676],\n",
      "        [ 0.0101,  0.2911, -0.0020,  0.0106, -0.2927],\n",
      "        [ 0.0720,  0.2538, -0.0988, -0.0858, -0.1759],\n",
      "        [ 0.0441,  0.2026,  0.0353,  0.0047, -0.1161]],\n",
      "       grad_fn=<SqueezeBackward1>),)\n"
     ]
    }
   ],
   "source": [
    "_, counterfactual_outputs = intervenable(\n",
    "    base,\n",
    "    [source, source],\n",
    "    {\"sources->base\": ([[[0]] * 10, [[0]] * 10], [[[0]] * 10, [[0]] * 10])},\n",
    "    subspaces=[[[1]] * 10, [[0]] * 10],\n",
    ")\n",
    "print(counterfactual_outputs)  # this should be the same as the source output\n",
    "counterfactual_outputs[\n",
    "    0\n",
    "].sum().backward()  # fake call to make sure gradient can be populated"
   ]
  }
 ],
 "metadata": {
  "kernelspec": {
   "display_name": "Python 3 (ipykernel)",
   "language": "python",
   "name": "python3"
  },
  "language_info": {
   "codemirror_mode": {
    "name": "ipython",
    "version": 3
   },
   "file_extension": ".py",
   "mimetype": "text/x-python",
   "name": "python",
   "nbconvert_exporter": "python",
   "pygments_lexer": "ipython3",
   "version": "3.8.12"
  }
 },
 "nbformat": 4,
 "nbformat_minor": 5
}
