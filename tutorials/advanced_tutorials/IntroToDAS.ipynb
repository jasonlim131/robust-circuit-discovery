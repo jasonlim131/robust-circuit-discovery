{
 "cells": [
  {
   "cell_type": "markdown",
   "metadata": {},
   "source": [
    "# Causal Abstraction Analysis with Distributed Alignment Search "
   ]
  },
  {
   "cell_type": "code",
   "execution_count": 1,
   "metadata": {},
   "outputs": [],
   "source": [
    "__author__ = \"Atticus Geiger\""
   ]
  },
  {
   "cell_type": "markdown",
   "metadata": {
    "tags": []
   },
   "source": [
    "## Contents\n",
    "\n",
    "1. [The hierarchical equality task](#The-hierarchical-equality-task)\n",
    "    1. [An Algorithm that Solves the Equality Task](#An-Algorithm-that-Solves-the-Equality-Task)\n",
    "        1. [The algorithm with no intervention](#The-algorithm-with-no-intervention)\n",
    "        1. [The algorithm with an intervention](#The-algorithm-with-an-intervention)\n",
    "        1. [The algorithm with an interchange intervention](#The-algorithm-with-an-interchange-intervention)\n",
    "    1. [Hand Crafting an MLP to Solve Hierarchical Equality](#Hand-Crafting-an-MLP-to-Solve-Hierarchical-Equality)        \n",
    "    1. [Training an MLP to Solve Hierarchical Equality](#Training-an-MLP-to-Solve-Hierarchical-Equality)\n",
    "1. [Causal abstraction Analysis](#Causal-abstraction)\n",
    "    1. [Basic intervention: zeroing out part of a hidden layer](#Basic-intervention:-zeroing-out-part-of-a-hidden-layer)\n",
    "    1. [An interchange intervention](#An-interchange-intervention)\n",
    "    1. [Alignment](#Alignment)\n",
    "    1. [Evaluating an Alignment](#Evaluation)\n",
    "1. [Interchange Intervention Training (IIT)](#Interchange-Intervention-Training-(IIT))\n",
    "1. [Distributed Alignment Search (DAS)](#Distributed-Alignment-Search-(DAS))"
   ]
  },
  {
   "cell_type": "markdown",
   "metadata": {},
   "source": [
    "## Set-up\n",
    "\n",
    "This notebook is a hands-on introduction to __causal abstraction analysis__ using __distributed alignment search__ with neural networks.\n",
    "\n",
    "In causal abstraction analysis, we assess whether trained models conform to high-level causal models that we specify, not just in terms of their input–output behavior, but also in terms of their internal dynamics. The core technique is the __interchange intervention__, in which a causal model is provided an input and then intermediate variables are fixed to take on the values they would have for a second input.\n",
    "\n",
    "To motivate and illustrate these concepts, we're going to focus on a hierarchical equality task, building on work by [Geiger, Carstensen, Frank, and Potts (2020)](https://arxiv.org/abs/2006.07968)."
   ]
  },
  {
   "cell_type": "code",
   "execution_count": 2,
   "metadata": {},
   "outputs": [],
   "source": [
    "import sys, os\n",
    "sys.path.append(os.path.join('..', '..'))"
   ]
  },
  {
   "cell_type": "code",
   "execution_count": 3,
   "metadata": {},
   "outputs": [
    {
     "name": "stderr",
     "output_type": "stream",
     "text": [
      "C:\\Users\\attic\\anaconda3\\envs\\bigkid\\lib\\site-packages\\scipy\\__init__.py:146: UserWarning: A NumPy version >=1.16.5 and <1.23.0 is required for this version of SciPy (detected version 1.23.4\n",
      "  warnings.warn(f\"A NumPy version >={np_minversion} and <{np_maxversion}\"\n"
     ]
    }
   ],
   "source": [
    "import torch\n",
    "from torch.utils.data import DataLoader\n",
    "from datasets import Dataset\n",
    "import random\n",
    "import copy\n",
    "import itertools\n",
    "import numpy as np\n",
    "from tqdm import tqdm, trange\n",
    "from highlevel_models.causal_model import CausalModel\n",
    "from sklearn.metrics import classification_report\n",
    "from transformers import get_linear_schedule_with_warmup\n",
    "from models.mlp.modelings_mlp import MLPConfig\n",
    "from models.mlp.modelings_alignable_mlp import create_mlp_classifier\n",
    "from models.configuration_alignable_model import AlignableRepresentationConfig, AlignableConfig\n",
    "from models.interventions import VanillaIntervention, RotatedSpaceIntervention, LowRankRotatedSpaceIntervention\n",
    "from models.alignable_base import AlignableModel"
   ]
  },
  {
   "cell_type": "code",
   "execution_count": 4,
   "metadata": {},
   "outputs": [
    {
     "data": {
      "text/plain": [
       "<torch._C.Generator at 0x2dc353cc2f0>"
      ]
     },
     "execution_count": 4,
     "metadata": {},
     "output_type": "execute_result"
    }
   ],
   "source": [
    "seed = 42\n",
    "np.random.seed(seed)\n",
    "random.seed(seed)\n",
    "torch.manual_seed(seed)"
   ]
  },
  {
   "cell_type": "markdown",
   "metadata": {},
   "source": [
    "## The hierarchical equality task\n",
    "\n",
    "This section builds on results presented in [Geiger, Carstensen, Frank, and Potts (2020)](https://arxiv.org/abs/2006.07968). We will use a hierarchical equality task ([Premack 1983](https://www.cambridge.org/core/services/aop-cambridge-core/content/view/7DF6F2D22838F7546AF7279679F3571D/S0140525X00015077a.pdf/div-class-title-the-codes-of-man-and-beasts-div.pdf)) to present interchange intervention training (IIT). \n",
    "\n",
    "We define the hierarchical equality task as follows: The input is two pairs of objects and the output is **True** if both pairs contain the same object or if both pairs contain different objects and **False** otherwise.  For example, `AABB` and `ABCD` are both labeled **True**, while `ABCC` and `BBCD` are both labeled **False**. "
   ]
  },
  {
   "cell_type": "markdown",
   "metadata": {},
   "source": [
    "## An Algorithm that Solves the Equality Task\n",
    "\n",
    "Let $\\mathcal{A}$ be the simple tree-structured algorithm that solves this task by applying a simple equality relation three times: Compute whether the first two inputs are equal, compute whether the second two inputs are equal, then compute whether the truth-valued outputs of these first two computations are equal. "
   ]
  },
  {
   "cell_type": "markdown",
   "metadata": {},
   "source": [
    "And here's a Python implementation of $\\mathcal{A}$ that supports the interventions we'll want to do:"
   ]
  },
  {
   "cell_type": "code",
   "execution_count": 5,
   "metadata": {},
   "outputs": [],
   "source": [
    "\n",
    "def randvec(n=50, lower=-1, upper=1):\n",
    "    return np.array([round(random.uniform(lower, upper), 2) for i in range(n)])\n",
    "\n",
    "embedding_dim = 2\n",
    "number_of_entities = 1000\n",
    "\n",
    "variables =  [\"W\", \"X\", \"Y\", \"Z\", \"WX\", \"YZ\", \"O\"]\n",
    "\n",
    "reps = [randvec(embedding_dim, lower=-1, upper=1) for _ in range(number_of_entities)]\n",
    "values = {variable:reps for variable in [\"W\",\"X\", \"Y\", \"Z\"]}\n",
    "values[\"WX\"] = [True, False]\n",
    "values[\"YZ\"] = [True, False]\n",
    "values[\"O\"] = [True, False]\n",
    "\n",
    "parents = {\"W\":[],\"X\":[], \"Y\":[], \"Z\":[], \n",
    "           \"WX\":[\"W\", \"X\"], \"YZ\":[\"Y\", \"Z\"], \n",
    "           \"O\":[\"WX\", \"YZ\"]}\n",
    "\n",
    "def FILLER():\n",
    "    return reps[0]\n",
    "\n",
    "functions = {\"W\":FILLER,\"X\":FILLER, \"Y\":FILLER, \"Z\":FILLER, \n",
    "             \"WX\": lambda x,y: np.array_equal(x,y), \n",
    "             \"YZ\":lambda x,y: np.array_equal(x,y), \n",
    "             \"O\": lambda x,y: x==y}\n",
    "\n",
    "pos = {\"W\":(0.2,0),\"X\":(1,0.1), \"Y\":(2,0.2), \"Z\":(2.8,0), \n",
    "           \"WX\":(1,2), \"YZ\":(2,2), \n",
    "           \"O\":(1.5,3)}\n",
    "\n",
    "equiv_classes = {}\n",
    "\n",
    "equality_model = CausalModel(variables, values, parents, functions, pos = pos)"
   ]
  },
  {
   "cell_type": "markdown",
   "metadata": {},
   "source": [
    "Here's a visual depiction of the algorithm:"
   ]
  },
  {
   "cell_type": "code",
   "execution_count": 6,
   "metadata": {},
   "outputs": [
    {
     "data": {
      "image/png": "[encoded data removed]",
      "text/plain": [
       "<Figure size 720x720 with 1 Axes>"
      ]
     },
     "metadata": {},
     "output_type": "display_data"
    },
    {
     "name": "stdout",
     "output_type": "stream",
     "text": [
      "Timesteps: {'W': 0, 'X': 0, 'Y': 0, 'Z': 0, 'WX': 1, 'YZ': 1, 'O': 3}\n"
     ]
    }
   ],
   "source": [
    "equality_model.print_structure()\n",
    "print(\"Timesteps:\", equality_model.timesteps)"
   ]
  },
  {
   "cell_type": "markdown",
   "metadata": {},
   "source": [
    "### The algorithm with no intervention\n",
    "\n",
    "Let's first observe the behavior of the algorithm when we provide the input `BBCD` with no interventions. Here is a visual depiction:"
   ]
  },
  {
   "cell_type": "code",
   "execution_count": 7,
   "metadata": {},
   "outputs": [
    {
     "name": "stdout",
     "output_type": "stream",
     "text": [
      "No intervention:\n",
      " defaultdict(None, {'W': array([ 0.28, -0.95]), 'X': array([ 0.28, -0.95]), 'Y': array([-0.45, -0.55]), 'Z': array([ 0.78, -0.83]), 'WX': True, 'YZ': False, 'O': False}) \n",
      "\n"
     ]
    },
    {
     "data": {
      "image/png": "[encoded data removed]",
      "text/plain": [
       "<Figure size 720x720 with 1 Axes>"
      ]
     },
     "metadata": {},
     "output_type": "display_data"
    }
   ],
   "source": [
    "setting = equality_model.run_forward({\"W\":reps[0], \"X\":reps[0], \"Y\":reps[1], \"Z\":reps[3]})\n",
    "print(\"No intervention:\\n\", setting, \"\\n\")\n",
    "equality_model.print_setting(setting)"
   ]
  },
  {
   "cell_type": "markdown",
   "metadata": {},
   "source": [
    "### The algorithm with an intervention\n",
    "\n",
    "Let's now see the behavior of the algorithm when we provide the input `BBCD` with an intervention setting **WX** to **False**. First, a visual depiction:\n",
    "\n",
    "<img src=\"fig/IIT/PremackIntervention.png\" width=\"500\"/>\n",
    "\n",
    "And then the same computation with `compute_A`:"
   ]
  },
  {
   "cell_type": "code",
   "execution_count": 8,
   "metadata": {},
   "outputs": [
    {
     "name": "stdout",
     "output_type": "stream",
     "text": [
      "Intervention setting WX to TRUE:\n",
      "\n"
     ]
    },
    {
     "data": {
      "image/png": "[encoded data removed]",
      "text/plain": [
       "<Figure size 720x720 with 1 Axes>"
      ]
     },
     "metadata": {},
     "output_type": "display_data"
    }
   ],
   "source": [
    "print(\"Intervention setting WX to TRUE:\\n\", )\n",
    "equality_model.print_setting(equality_model.run_forward({\"W\":reps[0], \"X\":reps[0], \"Y\":reps[1], \"Z\":reps[3], \"WX\":False}))"
   ]
  },
  {
   "cell_type": "markdown",
   "metadata": {},
   "source": [
    "Notice that, in this example, even though the left two inputs are not the same, the intervention has changed the intermediate prediction for those two inputs from **False** to **True**, and thus the algorithm outputs **True**, since its output is determined by **WX** and **YZ**."
   ]
  },
  {
   "cell_type": "markdown",
   "metadata": {},
   "source": [
    "### The algorithm with an interchange intervention\n",
    "\n",
    "Finally, let's observe the behavior of the algorithm when we provide the base input `BBCD` with an intervention setting **WX** to be the value it would be for the source input `ABCC`."
   ]
  },
  {
   "cell_type": "code",
   "execution_count": 9,
   "metadata": {},
   "outputs": [
    {
     "data": {
      "image/png": "[encoded data removed]",
      "text/plain": [
       "<Figure size 720x720 with 1 Axes>"
      ]
     },
     "metadata": {},
     "output_type": "display_data"
    }
   ],
   "source": [
    "base = {\"W\":reps[0], \"X\":reps[0], \"Y\":reps[1], \"Z\":reps[3]}\n",
    "source = {\"W\":reps[0], \"X\":reps[1], \"Y\":reps[2], \"Z\":reps[2]}\n",
    "setting = equality_model.run_interchange(base, {\"WX\":source})\n",
    "equality_model.print_setting(setting)"
   ]
  },
  {
   "cell_type": "markdown",
   "metadata": {},
   "source": [
    "# Hand Crafting an MLP to Solve Hierarchical Equality"
   ]
  },
  {
   "cell_type": "code",
   "execution_count": 10,
   "metadata": {},
   "outputs": [],
   "source": [
    "n_examples = 2048\n",
    "\n",
    "X, y = equality_model.generate_factual_dataset(n_examples,equality_model.sample_input_tree_balanced)\n",
    "\n",
    "X = X.unsqueeze(1)"
   ]
  },
  {
   "cell_type": "code",
   "execution_count": 11,
   "metadata": {},
   "outputs": [],
   "source": [
    "config = MLPConfig(h_dim=embedding_dim*4,\n",
    "          activation_function = \"relu\",\n",
    "          n_layer = 2,\n",
    "          n_labels = 2,\n",
    "          pdrop = 0.0)"
   ]
  },
  {
   "cell_type": "code",
   "execution_count": 12,
   "metadata": {},
   "outputs": [
    {
     "name": "stdout",
     "output_type": "stream",
     "text": [
      "loaded model\n"
     ]
    }
   ],
   "source": [
    "config, tokenizer, handcrafted = create_mlp_classifier(config)"
   ]
  },
  {
   "cell_type": "markdown",
   "metadata": {},
   "source": [
    "The first layer of our handcrafted model computes:\n",
    "\n",
    "$ReLU(W_1[\\mathbf{a}, \\mathbf{b}, \\mathbf{c}, \\mathbf{d}]) = [max(\\mathbf{a}-\\mathbf{b}, 0), max(\\mathbf{b}-\\mathbf{a}, 0), max(\\mathbf{c}-\\mathbf{d}, 0), max(\\mathbf{d}-\\mathbf{c}, 0)]$\n"
   ]
  },
  {
   "cell_type": "code",
   "execution_count": 13,
   "metadata": {},
   "outputs": [],
   "source": [
    "W1 = [[ 1,  0, -1,  0,  0,  0,  0,  0],\n",
    "      [ 0,  1,  0, -1,  0,  0,  0,  0],\n",
    "      [-1,  0,  1,  0,  0,  0,  0,  0],\n",
    "      [ 0, -1,  0,  1,  0,  0,  0,  0],\n",
    "      [ 0,  0,  0,  0,  1,  0, -1,  0],\n",
    "      [ 0,  0,  0,  0,  0,  1,  0, -1],\n",
    "      [ 0,  0,  0,  0, -1,  0,  1,  0],\n",
    "      [ 0,  0,  0,  0,  0, -1,  0,  1]]\n",
    "handcrafted.mlp.h[0].ff1.weight = torch.nn.Parameter(torch.FloatTensor(W1))\n",
    "handcrafted.mlp.h[0].ff1.bias = torch.nn.Parameter(torch.FloatTensor([0,0,0,0,0,0,0,0]))\n",
    "handcrafted.mlp.h[0].ff2.weight = torch.nn.Parameter(torch.eye(embedding_dim*4))\n",
    "handcrafted.mlp.h[0].ff2.bias = torch.nn.Parameter(torch.FloatTensor([0,0,0,0,0,0,0,0]))"
   ]
  },
  {
   "cell_type": "markdown",
   "metadata": {},
   "source": [
    "The second layer of our handcrafted model computes:\n",
    "\n",
    "$ReLU(W_2ReLU(W_1[\\mathbf{a}, \\mathbf{b}, \\mathbf{c}, \\mathbf{d}])) = [|\\mathbf{a}-\\mathbf{b}| - |\\mathbf{c}-\\mathbf{d}|, |\\mathbf{c}-\\mathbf{d}|-|\\mathbf{a}-\\mathbf{b}|, |\\mathbf{a}-\\mathbf{b}|, |\\mathbf{c}-\\mathbf{d}|,0,0,0,0]$\n"
   ]
  },
  {
   "cell_type": "code",
   "execution_count": 14,
   "metadata": {},
   "outputs": [],
   "source": [
    "W2 = [[ 1,-1, 0, 1, 0, 0, 0, 0],\n",
    "      [ 1,-1, 0, 1, 0, 0, 0, 0],\n",
    "      [ 1,-1, 0, 1, 0, 0, 0, 0],\n",
    "      [ 1,-1, 0, 1, 0, 0, 0, 0],\n",
    "      [-1, 1, 1, 0, 0, 0, 0, 0],\n",
    "      [-1, 1, 1, 0, 0, 0, 0, 0],\n",
    "      [-1, 1, 1, 0, 0, 0, 0, 0],\n",
    "      [-1, 1, 1, 0, 0, 0, 0, 0]]\n",
    "handcrafted.mlp.h[1].ff1.weight = torch.nn.Parameter(torch.FloatTensor(W2).transpose(0,1))\n",
    "handcrafted.mlp.h[1].ff1.bias = torch.nn.Parameter(torch.FloatTensor([0,0,0,0,0,0,0,0]))\n",
    "handcrafted.mlp.h[1].ff2.weight = torch.nn.Parameter(torch.eye(embedding_dim*4))\n",
    "handcrafted.mlp.h[1].ff2.bias = torch.nn.Parameter(torch.FloatTensor([0,0,0,0,0,0,0,0]))"
   ]
  },
  {
   "cell_type": "markdown",
   "metadata": {},
   "source": [
    "The third layer of our handcrafted model computes the logits:\n",
    "\n",
    "$W_3 ReLU(W_2ReLU(W_1[\\mathbf{a}, \\mathbf{b}, \\mathbf{c}, \\mathbf{d}])) = [||\\mathbf{a}-\\mathbf{b}| - |\\mathbf{c}-\\mathbf{d}|| -0.999999|\\mathbf{a}-\\mathbf{b}|-0.999999|\\mathbf{c}-\\mathbf{d}|, 0]$"
   ]
  },
  {
   "cell_type": "code",
   "execution_count": 15,
   "metadata": {},
   "outputs": [],
   "source": [
    "W3 = [[        1, 0],\n",
    "      [        1, 0],\n",
    "      [-0.999999, 0],\n",
    "      [-0.999999, 0],\n",
    "      [        0, 0],\n",
    "      [        0, 0],\n",
    "      [        0, 0],\n",
    "      [        0, 0]]\n",
    "handcrafted.score.weight = torch.nn.Parameter(torch.FloatTensor(W3).transpose(0,1))\n",
    "handcrafted.score.bias = torch.nn.Parameter(torch.FloatTensor([0,0.00000000000001]))"
   ]
  },
  {
   "cell_type": "code",
   "execution_count": 16,
   "metadata": {},
   "outputs": [
    {
     "name": "stdout",
     "output_type": "stream",
     "text": [
      "Train Results\n",
      "              precision    recall  f1-score   support\n",
      "\n",
      "         0.0       1.00      1.00      1.00      1037\n",
      "         1.0       1.00      1.00      1.00      1011\n",
      "\n",
      "    accuracy                           1.00      2048\n",
      "   macro avg       1.00      1.00      1.00      2048\n",
      "weighted avg       1.00      1.00      1.00      2048\n",
      "\n"
     ]
    }
   ],
   "source": [
    "preds = handcrafted.forward(inputs_embeds=X)\n",
    "\n",
    "print(\"Train Results\")\n",
    "print(classification_report(y, preds[0].argmax(1)))"
   ]
  },
  {
   "cell_type": "markdown",
   "metadata": {},
   "source": [
    "# Causal abstraction\n",
    "\n",
    "The formal theory of **causal abstraction** describes the conditions that must hold for the high-level tree structured algorithm to be a **simplified and faithful description** of the neural network. \n",
    "\n",
    "In essence: an high-level model is a causal abstraction of a neural network if and only if for all base and source inputs, the algorithm and network provides the same output, for some alignment between these two models.\n",
    "\n",
    "Below, we define an alignment between the neural network and the algorithm and a function to compute the **interchange intervention accuracy** (II accuracy) for a high-level variable: the percentage of aligned interchange interventions that the network and algorithm produce the same output on. When the II accuracy is 100%, the causal abstraction relation holds between the network and a simplified version of the algorithm where only one high-level variable exists."
   ]
  },
  {
   "cell_type": "code",
   "execution_count": 17,
   "metadata": {},
   "outputs": [],
   "source": [
    "alignable_config = AlignableConfig(\n",
    "        alignable_model_type=type(handcrafted),\n",
    "        alignable_representations=[\n",
    "            AlignableRepresentationConfig(\n",
    "                0,             # layer\n",
    "                \"block_output\", # intervention type\n",
    "                \"pos\",             # intervention unit\n",
    "                1,                  # max number of unit\n",
    "                subspace_partition = [[0,4],[4,8]],\n",
    "             intervention_link_key=0 # create sym link across interventions\n",
    "            ),\n",
    "            AlignableRepresentationConfig(\n",
    "                0,             # layer\n",
    "                \"block_output\", # intervention type\n",
    "                \"pos\",             # intervention unit\n",
    "                1,                  # max number of unit\n",
    "                subspace_partition = [[0,4],[4,8]],\n",
    "             intervention_link_key=0 # create sym link across interventions\n",
    "            ),\n",
    "        ],\n",
    "        alignable_interventions_type=VanillaIntervention,\n",
    "    )\n",
    "alignable_handcrafted = AlignableModel(alignable_config, handcrafted)"
   ]
  },
  {
   "cell_type": "markdown",
   "metadata": {},
   "source": [
    "Next we create a counterfactual equality dataset that includes interchange intervention examples:"
   ]
  },
  {
   "cell_type": "code",
   "execution_count": 18,
   "metadata": {},
   "outputs": [],
   "source": [
    "def intervention_id(intervention):\n",
    "    if \"WX\" in intervention and \"YZ\" in intervention:\n",
    "        return 2\n",
    "    if \"WX\" in intervention:\n",
    "        return 0\n",
    "    if \"YZ\" in intervention:\n",
    "        return 1"
   ]
  },
  {
   "cell_type": "code",
   "execution_count": 19,
   "metadata": {},
   "outputs": [],
   "source": [
    "data_size = 2048\n",
    "batch_size = 16\n",
    "dataset = equality_model.generate_counterfactual_dataset(data_size,\n",
    "                                                        intervention_id,\n",
    "                                                        batch_size,\n",
    "                                                        device = \"cuda:0\",\n",
    "                                                        sampler=equality_model.sample_input_tree_balanced)"
   ]
  },
  {
   "cell_type": "code",
   "execution_count": 20,
   "metadata": {
    "scrolled": true
   },
   "outputs": [
    {
     "name": "stdout",
     "output_type": "stream",
     "text": [
      "tensor([-0.1600, -0.9400,  0.9900, -0.2400, -0.8000,  0.5400, -0.8000,  0.5400],\n",
      "       device='cuda:0')\n",
      "tensor([[ 0.3600, -0.9400,  0.6300, -0.5300,  0.3400,  0.7200,  0.3400,  0.7200],\n",
      "        [-0.7900,  0.1100, -0.7900,  0.1100, -0.3800, -0.1000, -0.3800, -0.1000]],\n",
      "       device='cuda:0')\n",
      "tensor([0.], device='cuda:0')\n",
      "tensor([0.], device='cuda:0')\n",
      "tensor([2], device='cuda:0')\n"
     ]
    }
   ],
   "source": [
    "print(dataset[0][\"input_ids\"])\n",
    "print(dataset[0][\"source_input_ids\"])\n",
    "print(dataset[0][\"labels\"])\n",
    "print(dataset[0][\"base_labels\"])\n",
    "print(dataset[0][\"intervention_id\"])"
   ]
  },
  {
   "cell_type": "code",
   "execution_count": 21,
   "metadata": {},
   "outputs": [
    {
     "name": "stdout",
     "output_type": "stream",
     "text": [
      "tensor([-0.7900, -0.1500,  0.3600,  0.0700, -0.8000,  0.2700, -0.7800,  0.0100],\n",
      "       device='cuda:0')\n",
      "tensor([[ 0.8400,  0.0200,  0.9600,  0.1700, -0.4000, -0.4200,  0.0600,  0.8300],\n",
      "        [-0.3600, -0.0500, -0.6300,  0.4700,  0.1100,  0.5800,  0.1100,  0.5800]],\n",
      "       device='cuda:0')\n",
      "tensor([0.], device='cuda:0')\n",
      "tensor([1.], device='cuda:0')\n",
      "tensor([2], device='cuda:0')\n"
     ]
    }
   ],
   "source": [
    "print(dataset[1][\"input_ids\"])\n",
    "print(dataset[1][\"source_input_ids\"])\n",
    "print(dataset[1][\"labels\"])\n",
    "print(dataset[1][\"base_labels\"])\n",
    "print(dataset[1][\"intervention_id\"])"
   ]
  },
  {
   "cell_type": "markdown",
   "metadata": {},
   "source": [
    "This dataset has the following components:\n",
    "\n",
    "* `X_base_train`: a regular set of train examples\n",
    "* `y_base_train`: a regular set of train labels\n",
    "* `X_sources_train`: a list additional train sets (here, a singleton list of them) for counterfactuals\n",
    "* `y_IIT_train`: a list of labels for the examples in `X_sources_train`.\n",
    "* `interventions`: a list of intervention sites (here, all `0` corresponding to our key for \"V1\")"
   ]
  },
  {
   "cell_type": "code",
   "execution_count": 22,
   "metadata": {},
   "outputs": [],
   "source": [
    "handcrafted.to(\"cuda:0\")\n",
    "for parameter in alignable_handcrafted.get_trainable_parameters():\n",
    "    parameter.to(\"cuda:0\")\n",
    "preds = []\n",
    "for batch in DataLoader(dataset, batch_size):\n",
    "    batch[\"input_ids\"] = batch[\"input_ids\"].unsqueeze(1)    \n",
    "    batch[\"source_input_ids\"] = batch[\"source_input_ids\"].unsqueeze(2)    \n",
    "    if batch[\"intervention_id\"][0] == 2:\n",
    "        _, counterfactual_outputs = alignable_handcrafted(\n",
    "                {\"inputs_embeds\":batch[\"input_ids\"]},\n",
    "                [{\"inputs_embeds\":batch[\"source_input_ids\"][:, 0]}, \n",
    "                 {\"inputs_embeds\":batch[\"source_input_ids\"][:,1]}],\n",
    "                {\"sources->base\": ([[[0]]*batch_size, [[0]]*batch_size], [[[0]]*batch_size, [[0]]*batch_size])},\n",
    "            subspaces=[[[0]]*batch_size, [[1]]*batch_size]\n",
    "            )\n",
    "    elif batch[\"intervention_id\"][0] == 0:\n",
    "        _, counterfactual_outputs = alignable_handcrafted(\n",
    "                {\"inputs_embeds\":batch[\"input_ids\"]},\n",
    "                [{\"inputs_embeds\":batch[\"source_input_ids\"][:,0]}, None],\n",
    "                {\"sources->base\": ([[[0]]*batch_size, None], [[[0]]*batch_size, None])},\n",
    "                subspaces=[[[0]]*batch_size, None]\n",
    "            )\n",
    "    elif batch[\"intervention_id\"][0] == 1:\n",
    "        _, counterfactual_outputs = alignable_handcrafted(\n",
    "                {\"inputs_embeds\":batch[\"input_ids\"]},\n",
    "                [None, {\"inputs_embeds\":batch[\"source_input_ids\"][:,0]}],\n",
    "                {\"sources->base\": ([None, [[0]]*batch_size], [None, [[0]]*batch_size])},\n",
    "                subspaces=[None, [[1]]*batch_size]\n",
    "            )\n",
    "    preds.append(counterfactual_outputs[0])"
   ]
  },
  {
   "cell_type": "code",
   "execution_count": 23,
   "metadata": {},
   "outputs": [],
   "source": [
    "preds = torch.cat(preds)"
   ]
  },
  {
   "cell_type": "code",
   "execution_count": 24,
   "metadata": {},
   "outputs": [
    {
     "name": "stdout",
     "output_type": "stream",
     "text": [
      "              precision    recall  f1-score   support\n",
      "\n",
      "         0.0       1.00      1.00      1.00      1021\n",
      "         1.0       1.00      1.00      1.00      1027\n",
      "\n",
      "    accuracy                           1.00      2048\n",
      "   macro avg       1.00      1.00      1.00      2048\n",
      "weighted avg       1.00      1.00      1.00      2048\n",
      "\n"
     ]
    }
   ],
   "source": [
    "print(classification_report(torch.tensor([x[\"labels\"] for x in dataset]).cpu(), preds.argmax(1).cpu()))"
   ]
  },
  {
   "cell_type": "markdown",
   "metadata": {},
   "source": [
    "# Training an MLP to Solve Hierarchical Equality\n",
    "\n",
    "We've now seen how interventions work in our high-level causal model. We turn now to doing parallel work in our neural network, which will be a fully-connected feed-forward neural network with three hidden layers. The following code simply extends `TorchDeepNeuralClassifier` with a method `retrieve_activations` that supports interventions on PyTorch computation graphs:"
   ]
  },
  {
   "cell_type": "markdown",
   "metadata": {},
   "source": [
    "The module `iit` provides some dataset functions for equality learning. Here we define a simple an equality dataset:"
   ]
  },
  {
   "cell_type": "code",
   "execution_count": 25,
   "metadata": {},
   "outputs": [],
   "source": [
    "\n",
    "def randvec(n=50, lower=-1, upper=1):\n",
    "    return np.array([random.uniform(lower, upper) for i in range(n)])\n",
    "embedding_dim = 4\n",
    "number_of_entities = 1000\n",
    "\n",
    "variables =  [\"W\", \"X\", \"Y\", \"Z\", \"WX\", \"YZ\", \"O\"]\n",
    "\n",
    "reps = [randvec(embedding_dim, lower=-1, upper=1) for _ in range(number_of_entities)]\n",
    "values = {variable:reps for variable in [\"W\",\"X\", \"Y\", \"Z\"]}\n",
    "values[\"WX\"] = [True, False]\n",
    "values[\"YZ\"] = [True, False]\n",
    "values[\"O\"] = [True, False]\n",
    "\n",
    "parents = {\"W\":[],\"X\":[], \"Y\":[], \"Z\":[], \n",
    "           \"WX\":[\"W\", \"X\"], \"YZ\":[\"Y\", \"Z\"], \n",
    "           \"O\":[\"WX\", \"YZ\"]}\n",
    "\n",
    "def FILLER():\n",
    "    return reps[0]\n",
    "\n",
    "functions = {\"W\":FILLER,\"X\":FILLER, \"Y\":FILLER, \"Z\":FILLER, \n",
    "             \"WX\": lambda x,y: np.array_equal(x,y), \n",
    "             \"YZ\":lambda x,y: np.array_equal(x,y), \n",
    "             \"O\": lambda x,y: x==y}\n",
    "\n",
    "pos = {\"W\":(0.2,0),\"X\":(1,0.1), \"Y\":(2,0.2), \"Z\":(2.8,0), \n",
    "           \"WX\":(1,2), \"YZ\":(2,2), \n",
    "           \"O\":(1.5,3)}\n",
    "\n",
    "equiv_classes = {}\n",
    "\n",
    "equality_model = CausalModel(variables, values, parents, functions, pos = pos)"
   ]
  },
  {
   "cell_type": "code",
   "execution_count": 26,
   "metadata": {},
   "outputs": [],
   "source": [
    "n_examples = 1048576\n",
    "batch_size = 1024\n",
    "\n",
    "X, y = equality_model.generate_factual_dataset(n_examples,equality_model.sample_input_tree_balanced)\n",
    "\n",
    "X = X.unsqueeze(1)"
   ]
  },
  {
   "cell_type": "markdown",
   "metadata": {},
   "source": [
    "The examples in this dataset are 8-dimensional vectors: the concatenation of 4 2-dimensional vectors. Here's the first example with its label:"
   ]
  },
  {
   "cell_type": "code",
   "execution_count": 27,
   "metadata": {},
   "outputs": [
    {
     "data": {
      "text/plain": [
       "(tensor([[ 0.5750, -0.4304, -0.5277, -0.0286,  0.5750, -0.4304, -0.5277, -0.0286,\n",
       "          -0.9404,  0.4808,  0.4881, -0.3107, -0.9404,  0.4808,  0.4881, -0.3107]]),\n",
       " tensor([1.]))"
      ]
     },
     "execution_count": 27,
     "metadata": {},
     "output_type": "execute_result"
    }
   ],
   "source": [
    "X[0], y[0]"
   ]
  },
  {
   "cell_type": "markdown",
   "metadata": {},
   "source": [
    "The label for this example is determined by whether the equality value for the first two inputs matches the equality value for the second two inputs:"
   ]
  },
  {
   "cell_type": "code",
   "execution_count": 28,
   "metadata": {},
   "outputs": [
    {
     "data": {
      "text/plain": [
       "False"
      ]
     },
     "execution_count": 28,
     "metadata": {},
     "output_type": "execute_result"
    }
   ],
   "source": [
    "left = torch.equal(\n",
    "    X[0][: embedding_dim],\n",
    "    X[0][embedding_dim: embedding_dim*2])\n",
    "\n",
    "left"
   ]
  },
  {
   "cell_type": "code",
   "execution_count": 29,
   "metadata": {},
   "outputs": [
    {
     "data": {
      "text/plain": [
       "True"
      ]
     },
     "execution_count": 29,
     "metadata": {},
     "output_type": "execute_result"
    }
   ],
   "source": [
    "right = torch.equal(\n",
    "    X[0][embedding_dim*2: embedding_dim*3],\n",
    "    X[0][embedding_dim*3: ])\n",
    "\n",
    "right"
   ]
  },
  {
   "cell_type": "code",
   "execution_count": 30,
   "metadata": {},
   "outputs": [
    {
     "data": {
      "text/plain": [
       "0"
      ]
     },
     "execution_count": 30,
     "metadata": {},
     "output_type": "execute_result"
    }
   ],
   "source": [
    "int(left == right)"
   ]
  },
  {
   "cell_type": "markdown",
   "metadata": {},
   "source": [
    "Let's see how our model does out-of-the-box on this task:"
   ]
  },
  {
   "cell_type": "code",
   "execution_count": 31,
   "metadata": {
    "scrolled": true
   },
   "outputs": [],
   "source": [
    "config = MLPConfig(h_dim=embedding_dim*4,\n",
    "          activation_function = \"relu\",\n",
    "          n_layer = 3,\n",
    "          n_labels = 2,\n",
    "          pdrop = 0.0\n",
    "         )"
   ]
  },
  {
   "cell_type": "code",
   "execution_count": 32,
   "metadata": {},
   "outputs": [
    {
     "name": "stdout",
     "output_type": "stream",
     "text": [
      "loaded model\n"
     ]
    }
   ],
   "source": [
    "config, tokenizer, trained = create_mlp_classifier(config)"
   ]
  },
  {
   "cell_type": "code",
   "execution_count": 33,
   "metadata": {},
   "outputs": [
    {
     "data": {
      "text/plain": [
       "MLPForClassification(\n",
       "  (mlp): MLPModel(\n",
       "    (dropout): Dropout(p=0.0, inplace=False)\n",
       "    (h): ModuleList(\n",
       "      (0-2): 3 x MLPBlock(\n",
       "        (ff1): Linear(in_features=16, out_features=16, bias=True)\n",
       "        (act): ReLU()\n",
       "        (ff2): Linear(in_features=16, out_features=16, bias=True)\n",
       "        (dropout): Dropout(p=0.0, inplace=False)\n",
       "      )\n",
       "    )\n",
       "  )\n",
       "  (score): Linear(in_features=16, out_features=2, bias=True)\n",
       ")"
      ]
     },
     "execution_count": 33,
     "metadata": {},
     "output_type": "execute_result"
    }
   ],
   "source": [
    "trained.train()"
   ]
  },
  {
   "cell_type": "code",
   "execution_count": 34,
   "metadata": {},
   "outputs": [],
   "source": [
    "train_ds = Dataset.from_dict({\n",
    "    \"labels\":[torch.FloatTensor([0,1]) if i == 1 else torch.FloatTensor([1,0]) for i in y],\n",
    "    \"inputs_embeds\":X})"
   ]
  },
  {
   "cell_type": "code",
   "execution_count": 35,
   "metadata": {},
   "outputs": [],
   "source": [
    "from transformers import TrainingArguments, Trainer\n",
    "\n",
    "training_args = TrainingArguments(\n",
    "                output_dir=\"test_trainer\", \n",
    "                evaluation_strategy=\"epoch\",\n",
    "                learning_rate=0.0001,\n",
    "                num_train_epochs=24,\n",
    "                per_device_train_batch_size=batch_size,\n",
    "                per_device_eval_batch_size=batch_size\n",
    "                )\n",
    "\n",
    "trainer = Trainer(\n",
    "    model=trained,\n",
    "    args=training_args,\n",
    "    train_dataset=train_ds,\n",
    "    eval_dataset=train_ds,\n",
    "    compute_metrics=lambda x: {\"accuracy\":classification_report(x[0].argmax(1),x[1].argmax(1), output_dict=True)[\"accuracy\"]},\n",
    ")"
   ]
  },
  {
   "cell_type": "code",
   "execution_count": 36,
   "metadata": {},
   "outputs": [
    {
     "name": "stderr",
     "output_type": "stream",
     "text": [
      "Could not estimate the number of tokens of the input, floating-point operations will not be computed\n"
     ]
    },
    {
     "data": {
      "text/html": [
       "\n",
       "    <div>\n",
       "      \n",
       "      <progress value='24576' max='24576' style='width:300px; height:20px; vertical-align: middle;'></progress>\n",
       "      [24576/24576 1:00:58, Epoch 24/24]\n",
       "    </div>\n",
       "    <table border=\"1\" class=\"dataframe\">\n",
       "  <thead>\n",
       " <tr style=\"text-align: left;\">\n",
       "      <th>Epoch</th>\n",
       "      <th>Training Loss</th>\n",
       "      <th>Validation Loss</th>\n",
       "      <th>Accuracy</th>\n",
       "    </tr>\n",
       "  </thead>\n",
       "  <tbody>\n",
       "    <tr>\n",
       "      <td>1</td>\n",
       "      <td>0.693100</td>\n",
       "      <td>0.693104</td>\n",
       "      <td>0.512734</td>\n",
       "    </tr>\n",
       "    <tr>\n",
       "      <td>2</td>\n",
       "      <td>0.674700</td>\n",
       "      <td>0.622937</td>\n",
       "      <td>0.678976</td>\n",
       "    </tr>\n",
       "    <tr>\n",
       "      <td>3</td>\n",
       "      <td>0.428500</td>\n",
       "      <td>0.378837</td>\n",
       "      <td>0.829169</td>\n",
       "    </tr>\n",
       "    <tr>\n",
       "      <td>4</td>\n",
       "      <td>0.248600</td>\n",
       "      <td>0.171913</td>\n",
       "      <td>0.935514</td>\n",
       "    </tr>\n",
       "    <tr>\n",
       "      <td>5</td>\n",
       "      <td>0.052300</td>\n",
       "      <td>0.027131</td>\n",
       "      <td>0.992693</td>\n",
       "    </tr>\n",
       "    <tr>\n",
       "      <td>6</td>\n",
       "      <td>0.012900</td>\n",
       "      <td>0.009009</td>\n",
       "      <td>0.997626</td>\n",
       "    </tr>\n",
       "    <tr>\n",
       "      <td>7</td>\n",
       "      <td>0.006100</td>\n",
       "      <td>0.004950</td>\n",
       "      <td>0.998678</td>\n",
       "    </tr>\n",
       "    <tr>\n",
       "      <td>8</td>\n",
       "      <td>0.003800</td>\n",
       "      <td>0.003151</td>\n",
       "      <td>0.999101</td>\n",
       "    </tr>\n",
       "    <tr>\n",
       "      <td>9</td>\n",
       "      <td>0.002500</td>\n",
       "      <td>0.002175</td>\n",
       "      <td>0.999506</td>\n",
       "    </tr>\n",
       "    <tr>\n",
       "      <td>10</td>\n",
       "      <td>0.001900</td>\n",
       "      <td>0.001529</td>\n",
       "      <td>0.999600</td>\n",
       "    </tr>\n",
       "    <tr>\n",
       "      <td>11</td>\n",
       "      <td>0.001300</td>\n",
       "      <td>0.001365</td>\n",
       "      <td>0.999761</td>\n",
       "    </tr>\n",
       "    <tr>\n",
       "      <td>12</td>\n",
       "      <td>0.001100</td>\n",
       "      <td>0.000917</td>\n",
       "      <td>0.999758</td>\n",
       "    </tr>\n",
       "    <tr>\n",
       "      <td>13</td>\n",
       "      <td>0.000900</td>\n",
       "      <td>0.000774</td>\n",
       "      <td>0.999769</td>\n",
       "    </tr>\n",
       "    <tr>\n",
       "      <td>14</td>\n",
       "      <td>0.000700</td>\n",
       "      <td>0.000645</td>\n",
       "      <td>0.999811</td>\n",
       "    </tr>\n",
       "    <tr>\n",
       "      <td>15</td>\n",
       "      <td>0.000600</td>\n",
       "      <td>0.000541</td>\n",
       "      <td>0.999849</td>\n",
       "    </tr>\n",
       "    <tr>\n",
       "      <td>16</td>\n",
       "      <td>0.000500</td>\n",
       "      <td>0.000478</td>\n",
       "      <td>0.999868</td>\n",
       "    </tr>\n",
       "    <tr>\n",
       "      <td>17</td>\n",
       "      <td>0.000400</td>\n",
       "      <td>0.000409</td>\n",
       "      <td>0.999889</td>\n",
       "    </tr>\n",
       "    <tr>\n",
       "      <td>18</td>\n",
       "      <td>0.000400</td>\n",
       "      <td>0.000370</td>\n",
       "      <td>0.999907</td>\n",
       "    </tr>\n",
       "    <tr>\n",
       "      <td>19</td>\n",
       "      <td>0.000400</td>\n",
       "      <td>0.000364</td>\n",
       "      <td>0.999895</td>\n",
       "    </tr>\n",
       "    <tr>\n",
       "      <td>20</td>\n",
       "      <td>0.000300</td>\n",
       "      <td>0.000319</td>\n",
       "      <td>0.999929</td>\n",
       "    </tr>\n",
       "    <tr>\n",
       "      <td>21</td>\n",
       "      <td>0.000300</td>\n",
       "      <td>0.000300</td>\n",
       "      <td>0.999927</td>\n",
       "    </tr>\n",
       "    <tr>\n",
       "      <td>22</td>\n",
       "      <td>0.000300</td>\n",
       "      <td>0.000290</td>\n",
       "      <td>0.999925</td>\n",
       "    </tr>\n",
       "    <tr>\n",
       "      <td>23</td>\n",
       "      <td>0.000300</td>\n",
       "      <td>0.000273</td>\n",
       "      <td>0.999929</td>\n",
       "    </tr>\n",
       "    <tr>\n",
       "      <td>24</td>\n",
       "      <td>0.000300</td>\n",
       "      <td>0.000270</td>\n",
       "      <td>0.999931</td>\n",
       "    </tr>\n",
       "  </tbody>\n",
       "</table><p>"
      ],
      "text/plain": [
       "<IPython.core.display.HTML object>"
      ]
     },
     "metadata": {},
     "output_type": "display_data"
    }
   ],
   "source": [
    "\n",
    "_ = trainer.train()"
   ]
  },
  {
   "cell_type": "markdown",
   "metadata": {},
   "source": [
    "This neural network achieves near perfect performance on its train set:"
   ]
  },
  {
   "cell_type": "markdown",
   "metadata": {},
   "source": [
    "And it generalizes perfectly to a test set consisting of distinct vectors:"
   ]
  },
  {
   "cell_type": "code",
   "execution_count": 37,
   "metadata": {},
   "outputs": [],
   "source": [
    "variables =  [\"W\", \"X\", \"Y\", \"Z\", \"WX\", \"YZ\", \"O\"]\n",
    "\n",
    "number_of_test_entities = 1000\n",
    "\n",
    "reps = [randvec(embedding_dim)  for _ in range(number_of_test_entities)]\n",
    "values = {variable:reps for variable in [\"W\",\"X\", \"Y\", \"Z\"]}\n",
    "values[\"WX\"] = [True, False]\n",
    "values[\"YZ\"] = [True, False]\n",
    "values[\"O\"] = [True, False]\n",
    "\n",
    "parents = {\"W\":[],\"X\":[], \"Y\":[], \"Z\":[], \n",
    "           \"WX\":[\"W\", \"X\"], \"YZ\":[\"Y\", \"Z\"], \n",
    "           \"O\":[\"WX\", \"YZ\"]}\n",
    "\n",
    "def FILLER():\n",
    "    return reps[0]\n",
    "\n",
    "functions = {\"W\":FILLER,\"X\":FILLER, \"Y\":FILLER, \"Z\":FILLER, \n",
    "             \"WX\": lambda x,y: np.array_equal(x,y), \"YZ\":lambda x,y: np.array_equal(x,y), \n",
    "             \"O\": lambda x,y: x==y}\n",
    "\n",
    "pos = {\"W\":(0,0),\"X\":(1,0.1), \"Y\":(2,0.2), \"Z\":(3,0), \n",
    "           \"WX\":(1,2), \"YZ\":(2,2), \n",
    "           \"O\":(1.5,3)}\n",
    "\n",
    "test_equality_model = CausalModel(variables, values, parents, functions, pos = pos)"
   ]
  },
  {
   "cell_type": "code",
   "execution_count": 38,
   "metadata": {},
   "outputs": [
    {
     "name": "stdout",
     "output_type": "stream",
     "text": [
      "Test Results\n"
     ]
    },
    {
     "data": {
      "text/html": [],
      "text/plain": [
       "<IPython.core.display.HTML object>"
      ]
     },
     "metadata": {},
     "output_type": "display_data"
    },
    {
     "name": "stdout",
     "output_type": "stream",
     "text": [
      "              precision    recall  f1-score   support\n",
      "\n",
      "         0.0       1.00      1.00      1.00      4925\n",
      "         1.0       1.00      1.00      1.00      5075\n",
      "\n",
      "    accuracy                           1.00     10000\n",
      "   macro avg       1.00      1.00      1.00     10000\n",
      "weighted avg       1.00      1.00      1.00     10000\n",
      "\n"
     ]
    }
   ],
   "source": [
    "X_test, y_test = test_equality_model.generate_factual_dataset(10000,equality_model.sample_input_tree_balanced)\n",
    "print(\"Test Results\")\n",
    "\n",
    "test_ds = Dataset.from_dict({\n",
    "    \"labels\":[torch.FloatTensor([0,1]) if i == 1 else torch.FloatTensor([1,0]) for i in y_test],\n",
    "    \"inputs_embeds\":X_test})\n",
    "\n",
    "test_preds = trainer.predict(test_ds)\n",
    "\n",
    "print(classification_report(y_test, test_preds[0].argmax(1)))"
   ]
  },
  {
   "cell_type": "markdown",
   "metadata": {},
   "source": [
    "Does it implement our high-level model of the problem, though?"
   ]
  },
  {
   "cell_type": "markdown",
   "metadata": {},
   "source": [
    "# Distributed Alignment Search\n",
    "\n",
    "Interchange Intervention Training (IIT) is a method for training a neural network to conform to the causal structure of a high-level algorithm. Conceptually, it is a direct extension of the causal abstraction analysis we just performed, except instead of **evaluating** whether the neural network and algorithm produce the same outputs under aligned interchange interventions, we are now **training** the neural network to produce the output of the algorithm under aligned interchange interventions.\n",
    "\n",
    "IIT was developed by [Geiger\\*, Wu\\*, Lu\\*, Rozner, Kreiss, Icard, Goodman, and Potts (2021)](https://arxiv.org/abs/2112.00826), and it is used for model distillation [ Wu\\*, Geiger\\*, Rozner, Kreiss, Lu, Icard, Goodman, and Potts (2022)](https://arxiv.org/abs/2112.02505)."
   ]
  },
  {
   "cell_type": "code",
   "execution_count": 56,
   "metadata": {},
   "outputs": [],
   "source": [
    "n_examples = 65536\n",
    "batch_size = 128\n",
    "train_dataset = equality_model.generate_counterfactual_dataset(n_examples,\n",
    "                                                        intervention_id,\n",
    "                                                        batch_size,\n",
    "                                                        device = \"cuda:0\",\n",
    "                                                        sampler=equality_model.sample_input_tree_balanced)"
   ]
  },
  {
   "cell_type": "code",
   "execution_count": 57,
   "metadata": {},
   "outputs": [
    {
     "name": "stdout",
     "output_type": "stream",
     "text": [
      "[{'labels': tensor([0.], device='cuda:0'), 'base_labels': tensor([0.], device='cuda:0'), 'input_ids': tensor([ 0.4828, -0.4722,  0.3882, -0.4879,  0.9582, -0.8393, -0.9402, -0.5453,\n",
      "        -0.2686, -0.9629,  0.2725,  0.1740, -0.2686, -0.9629,  0.2725,  0.1740],\n",
      "       device='cuda:0'), 'source_input_ids': tensor([[ 0.5717, -0.5659, -0.2711,  0.0444,  0.1037, -0.9995, -0.0701,  0.1948,\n",
      "         -0.6922,  0.9059, -0.0628, -0.3249, -0.6922,  0.9059, -0.0628, -0.3249],\n",
      "        [ 0.0000,  0.0000,  0.0000,  0.0000,  0.0000,  0.0000,  0.0000,  0.0000,\n",
      "          0.0000,  0.0000,  0.0000,  0.0000,  0.0000,  0.0000,  0.0000,  0.0000]],\n",
      "       device='cuda:0'), 'intervention_id': tensor([0], device='cuda:0')}, {'labels': tensor([0.], device='cuda:0'), 'base_labels': tensor([1.], device='cuda:0'), 'input_ids': tensor([-0.3343, -0.9534,  0.3862,  0.3358, -0.3343, -0.9534,  0.3862,  0.3358,\n",
      "         0.5543, -0.1346,  0.1105,  0.3050,  0.5543, -0.1346,  0.1105,  0.3050],\n",
      "       device='cuda:0'), 'source_input_ids': tensor([[ 0.9483,  0.3016,  0.3132,  0.4792, -0.2044, -0.3629,  0.6579, -0.0711,\n",
      "         -0.9242, -0.9800,  0.7218,  0.6196, -0.3109,  0.3694,  0.7170, -0.5398],\n",
      "        [ 0.0000,  0.0000,  0.0000,  0.0000,  0.0000,  0.0000,  0.0000,  0.0000,\n",
      "          0.0000,  0.0000,  0.0000,  0.0000,  0.0000,  0.0000,  0.0000,  0.0000]],\n",
      "       device='cuda:0'), 'intervention_id': tensor([0], device='cuda:0')}, {'labels': tensor([1.], device='cuda:0'), 'base_labels': tensor([0.], device='cuda:0'), 'input_ids': tensor([-0.4536, -0.8236,  0.7389, -0.3654,  0.2736,  0.0812,  0.2897, -0.4613,\n",
      "        -0.6323, -0.1039,  0.9100, -0.8072, -0.6323, -0.1039,  0.9100, -0.8072],\n",
      "       device='cuda:0'), 'source_input_ids': tensor([[ 0.7496,  0.0203, -0.7769, -0.9101,  0.7496,  0.0203, -0.7769, -0.9101,\n",
      "          0.4023,  0.7950, -0.4371,  0.4955,  0.1600,  0.3864, -0.5965, -0.7428],\n",
      "        [ 0.0000,  0.0000,  0.0000,  0.0000,  0.0000,  0.0000,  0.0000,  0.0000,\n",
      "          0.0000,  0.0000,  0.0000,  0.0000,  0.0000,  0.0000,  0.0000,  0.0000]],\n",
      "       device='cuda:0'), 'intervention_id': tensor([0], device='cuda:0')}, {'labels': tensor([1.], device='cuda:0'), 'base_labels': tensor([0.], device='cuda:0'), 'input_ids': tensor([-0.3595, -0.6432, -0.1719,  0.9751, -0.3595, -0.6432, -0.1719,  0.9751,\n",
      "         0.8359, -0.7907,  0.2066,  0.1546,  0.9302,  0.5631, -0.5497, -0.4887],\n",
      "       device='cuda:0'), 'source_input_ids': tensor([[ 0.8875, -0.8597, -0.6733,  0.5822,  0.4952, -0.3987, -0.9600,  0.0351,\n",
      "          0.3904, -0.7092, -0.1537, -0.1655,  0.3904, -0.7092, -0.1537, -0.1655],\n",
      "        [ 0.0000,  0.0000,  0.0000,  0.0000,  0.0000,  0.0000,  0.0000,  0.0000,\n",
      "          0.0000,  0.0000,  0.0000,  0.0000,  0.0000,  0.0000,  0.0000,  0.0000]],\n",
      "       device='cuda:0'), 'intervention_id': tensor([0], device='cuda:0')}, {'labels': tensor([0.], device='cuda:0'), 'base_labels': tensor([1.], device='cuda:0'), 'input_ids': tensor([-0.3752, -0.0807, -0.4038, -0.5483, -0.3752, -0.0807, -0.4038, -0.5483,\n",
      "         0.3260, -0.7463, -0.4958,  0.5863,  0.3260, -0.7463, -0.4958,  0.5863],\n",
      "       device='cuda:0'), 'source_input_ids': tensor([[ 0.8504, -0.6588, -0.1095, -0.4893, -0.5054,  0.9556,  0.2281, -0.2980,\n",
      "          0.0830, -0.1812,  0.6658, -0.7644,  0.0914,  0.5251,  0.4304, -0.5850],\n",
      "        [ 0.0000,  0.0000,  0.0000,  0.0000,  0.0000,  0.0000,  0.0000,  0.0000,\n",
      "          0.0000,  0.0000,  0.0000,  0.0000,  0.0000,  0.0000,  0.0000,  0.0000]],\n",
      "       device='cuda:0'), 'intervention_id': tensor([0], device='cuda:0')}, {'labels': tensor([1.], device='cuda:0'), 'base_labels': tensor([1.], device='cuda:0'), 'input_ids': tensor([ 0.9439,  0.9872, -0.2534, -0.9598,  0.9439,  0.9872, -0.2534, -0.9598,\n",
      "         0.8879,  0.0629, -0.3334, -0.7359,  0.8879,  0.0629, -0.3334, -0.7359],\n",
      "       device='cuda:0'), 'source_input_ids': tensor([[ 0.3610,  0.2975,  0.9975,  0.8853,  0.3610,  0.2975,  0.9975,  0.8853,\n",
      "         -0.7398, -0.8820, -0.9198,  0.6948, -0.7398, -0.8820, -0.9198,  0.6948],\n",
      "        [ 0.0000,  0.0000,  0.0000,  0.0000,  0.0000,  0.0000,  0.0000,  0.0000,\n",
      "          0.0000,  0.0000,  0.0000,  0.0000,  0.0000,  0.0000,  0.0000,  0.0000]],\n",
      "       device='cuda:0'), 'intervention_id': tensor([0], device='cuda:0')}, {'labels': tensor([1.], device='cuda:0'), 'base_labels': tensor([1.], device='cuda:0'), 'input_ids': tensor([ 0.3618, -0.9720, -0.0359,  0.1191,  0.3618, -0.9720, -0.0359,  0.1191,\n",
      "         0.5997, -0.4282,  0.7992,  0.0747,  0.5997, -0.4282,  0.7992,  0.0747],\n",
      "       device='cuda:0'), 'source_input_ids': tensor([[ 0.4422,  0.7517, -0.4620,  0.2797,  0.4422,  0.7517, -0.4620,  0.2797,\n",
      "         -0.0308, -0.6813, -0.4255, -0.0416,  0.4259, -0.1715, -0.8868, -0.4702],\n",
      "        [ 0.0000,  0.0000,  0.0000,  0.0000,  0.0000,  0.0000,  0.0000,  0.0000,\n",
      "          0.0000,  0.0000,  0.0000,  0.0000,  0.0000,  0.0000,  0.0000,  0.0000]],\n",
      "       device='cuda:0'), 'intervention_id': tensor([0], device='cuda:0')}, {'labels': tensor([1.], device='cuda:0'), 'base_labels': tensor([1.], device='cuda:0'), 'input_ids': tensor([ 0.7685,  0.6825,  0.8279,  0.5427,  0.7685,  0.6825,  0.8279,  0.5427,\n",
      "        -0.4471, -0.8007,  0.9312,  0.7402, -0.4471, -0.8007,  0.9312,  0.7402],\n",
      "       device='cuda:0'), 'source_input_ids': tensor([[-0.4893, -0.0178, -0.0375,  0.2430, -0.4893, -0.0178, -0.0375,  0.2430,\n",
      "          0.5576,  0.4927,  0.8562,  0.6561,  0.5576,  0.4927,  0.8562,  0.6561],\n",
      "        [ 0.0000,  0.0000,  0.0000,  0.0000,  0.0000,  0.0000,  0.0000,  0.0000,\n",
      "          0.0000,  0.0000,  0.0000,  0.0000,  0.0000,  0.0000,  0.0000,  0.0000]],\n",
      "       device='cuda:0'), 'intervention_id': tensor([0], device='cuda:0')}, {'labels': tensor([0.], device='cuda:0'), 'base_labels': tensor([0.], device='cuda:0'), 'input_ids': tensor([-0.4611,  0.4248, -0.8438, -0.8811,  0.4990,  0.3116, -0.4610, -0.3477,\n",
      "         0.2673, -0.0635, -0.4721,  0.9194,  0.2673, -0.0635, -0.4721,  0.9194],\n",
      "       device='cuda:0'), 'source_input_ids': tensor([[-0.3167, -0.2667,  0.9773,  0.4145,  0.1539,  0.6387, -0.5294,  0.6100,\n",
      "          0.7958,  0.3182, -0.8510, -0.9356,  0.9925,  0.0446, -0.1141,  0.2580],\n",
      "        [ 0.0000,  0.0000,  0.0000,  0.0000,  0.0000,  0.0000,  0.0000,  0.0000,\n",
      "          0.0000,  0.0000,  0.0000,  0.0000,  0.0000,  0.0000,  0.0000,  0.0000]],\n",
      "       device='cuda:0'), 'intervention_id': tensor([0], device='cuda:0')}, {'labels': tensor([1.], device='cuda:0'), 'base_labels': tensor([1.], device='cuda:0'), 'input_ids': tensor([-0.0419, -0.6795,  0.4491,  0.6940,  0.5966,  0.8802, -0.7704,  0.1854,\n",
      "        -0.9363,  0.2959, -0.3876,  0.6274,  0.6111, -0.5502,  0.2569,  0.7414],\n",
      "       device='cuda:0'), 'source_input_ids': tensor([[-0.0437,  0.5431,  0.5464,  0.6198,  0.5251, -0.7556,  0.6784,  0.5833,\n",
      "         -0.5546, -0.9620, -0.1594, -0.4819, -0.6942,  0.9156, -0.0079,  0.0506],\n",
      "        [ 0.0000,  0.0000,  0.0000,  0.0000,  0.0000,  0.0000,  0.0000,  0.0000,\n",
      "          0.0000,  0.0000,  0.0000,  0.0000,  0.0000,  0.0000,  0.0000,  0.0000]],\n",
      "       device='cuda:0'), 'intervention_id': tensor([0], device='cuda:0')}, {'labels': tensor([1.], device='cuda:0'), 'base_labels': tensor([0.], device='cuda:0'), 'input_ids': tensor([-0.2239,  0.8010, -0.9320,  0.4503, -0.8321,  0.7376,  0.4346,  0.8893,\n",
      "        -0.1838,  0.3033, -0.5113, -0.3782, -0.1838,  0.3033, -0.5113, -0.3782],\n",
      "       device='cuda:0'), 'source_input_ids': tensor([[ 0.9582, -0.8393, -0.9402, -0.5453,  0.9582, -0.8393, -0.9402, -0.5453,\n",
      "         -0.4716,  0.2518,  0.5920,  0.4920, -0.4716,  0.2518,  0.5920,  0.4920],\n",
      "        [ 0.0000,  0.0000,  0.0000,  0.0000,  0.0000,  0.0000,  0.0000,  0.0000,\n",
      "          0.0000,  0.0000,  0.0000,  0.0000,  0.0000,  0.0000,  0.0000,  0.0000]],\n",
      "       device='cuda:0'), 'intervention_id': tensor([0], device='cuda:0')}, {'labels': tensor([0.], device='cuda:0'), 'base_labels': tensor([0.], device='cuda:0'), 'input_ids': tensor([ 0.3098,  0.1502,  0.5643,  0.6663, -0.8581, -0.3230, -0.9394,  0.1753,\n",
      "         0.4780, -0.5075,  0.5176, -0.3202,  0.4780, -0.5075,  0.5176, -0.3202],\n",
      "       device='cuda:0'), 'source_input_ids': tensor([[-0.9701,  0.3415, -0.5500, -0.8938,  0.1976, -0.3203, -0.9261, -0.2313,\n",
      "         -0.5550, -0.5528,  0.3010, -0.0247, -0.8925, -0.3132, -0.4776,  0.2821],\n",
      "        [ 0.0000,  0.0000,  0.0000,  0.0000,  0.0000,  0.0000,  0.0000,  0.0000,\n",
      "          0.0000,  0.0000,  0.0000,  0.0000,  0.0000,  0.0000,  0.0000,  0.0000]],\n",
      "       device='cuda:0'), 'intervention_id': tensor([0], device='cuda:0')}, {'labels': tensor([1.], device='cuda:0'), 'base_labels': tensor([1.], device='cuda:0'), 'input_ids': tensor([ 0.4197,  0.2507,  0.7085,  0.6797,  0.4918,  0.8283, -0.6044, -0.6260,\n",
      "         0.4952, -0.3987, -0.9600,  0.0351, -0.7088, -0.3575,  0.1964,  0.0904],\n",
      "       device='cuda:0'), 'source_input_ids': tensor([[-0.7389, -0.4660, -0.9913, -0.2972,  0.9100, -0.6467,  0.7011,  0.3053,\n",
      "          0.7941,  0.0165,  0.2416,  0.5021, -0.9447,  0.1052, -0.7961, -0.7168],\n",
      "        [ 0.0000,  0.0000,  0.0000,  0.0000,  0.0000,  0.0000,  0.0000,  0.0000,\n",
      "          0.0000,  0.0000,  0.0000,  0.0000,  0.0000,  0.0000,  0.0000,  0.0000]],\n",
      "       device='cuda:0'), 'intervention_id': tensor([0], device='cuda:0')}, {'labels': tensor([0.], device='cuda:0'), 'base_labels': tensor([0.], device='cuda:0'), 'input_ids': tensor([ 0.6978, -0.6006,  0.4409,  0.2327,  0.6978, -0.6006,  0.4409,  0.2327,\n",
      "         0.5144,  0.8422, -0.4313, -0.7101, -0.9129,  0.4604,  0.5886, -0.3760],\n",
      "       device='cuda:0'), 'source_input_ids': tensor([[ 0.7683,  0.0293, -0.7604, -0.7115,  0.7683,  0.0293, -0.7604, -0.7115,\n",
      "          0.0715, -0.5303, -0.2997, -0.4277,  0.0715, -0.5303, -0.2997, -0.4277],\n",
      "        [ 0.0000,  0.0000,  0.0000,  0.0000,  0.0000,  0.0000,  0.0000,  0.0000,\n",
      "          0.0000,  0.0000,  0.0000,  0.0000,  0.0000,  0.0000,  0.0000,  0.0000]],\n",
      "       device='cuda:0'), 'intervention_id': tensor([0], device='cuda:0')}, {'labels': tensor([0.], device='cuda:0'), 'base_labels': tensor([1.], device='cuda:0'), 'input_ids': tensor([ 0.9432, -0.8963, -0.8835,  0.7115, -0.3555,  0.4324, -0.5044,  0.1179,\n",
      "         0.1094, -0.9967, -0.5213, -0.9461, -0.4893, -0.0178, -0.0375,  0.2430],\n",
      "       device='cuda:0'), 'source_input_ids': tensor([[-0.6189,  0.5496, -0.6387, -0.9572, -0.6189,  0.5496, -0.6387, -0.9572,\n",
      "          0.1997, -0.2997,  0.9201,  0.1102,  0.1997, -0.2997,  0.9201,  0.1102],\n",
      "        [ 0.0000,  0.0000,  0.0000,  0.0000,  0.0000,  0.0000,  0.0000,  0.0000,\n",
      "          0.0000,  0.0000,  0.0000,  0.0000,  0.0000,  0.0000,  0.0000,  0.0000]],\n",
      "       device='cuda:0'), 'intervention_id': tensor([0], device='cuda:0')}, {'labels': tensor([0.], device='cuda:0'), 'base_labels': tensor([0.], device='cuda:0'), 'input_ids': tensor([-0.1728, -0.3525, -0.2317,  0.0812, -0.1728, -0.3525, -0.2317,  0.0812,\n",
      "        -0.8013, -0.4834,  0.3689,  0.1469, -0.4093, -0.4950,  0.5704,  0.4452],\n",
      "       device='cuda:0'), 'source_input_ids': tensor([[ 0.3854, -0.3529, -0.9237,  0.4497,  0.3854, -0.3529, -0.9237,  0.4497,\n",
      "          0.2663,  0.9708,  0.7345, -0.2785,  0.2663,  0.9708,  0.7345, -0.2785],\n",
      "        [ 0.0000,  0.0000,  0.0000,  0.0000,  0.0000,  0.0000,  0.0000,  0.0000,\n",
      "          0.0000,  0.0000,  0.0000,  0.0000,  0.0000,  0.0000,  0.0000,  0.0000]],\n",
      "       device='cuda:0'), 'intervention_id': tensor([0], device='cuda:0')}, {'labels': tensor([0.], device='cuda:0'), 'base_labels': tensor([0.], device='cuda:0'), 'input_ids': tensor([-0.9944,  0.8007,  0.7742,  0.6694, -0.9944,  0.8007,  0.7742,  0.6694,\n",
      "         0.6129, -0.3356, -0.6829, -0.3446,  0.4518,  0.3710,  0.0278,  0.5156],\n",
      "       device='cuda:0'), 'source_input_ids': tensor([[-0.3812,  0.0197,  0.5970, -0.0584, -0.3812,  0.0197,  0.5970, -0.0584,\n",
      "          0.6645, -0.3828,  0.2183,  0.6597,  0.6645, -0.3828,  0.2183,  0.6597],\n",
      "        [ 0.0000,  0.0000,  0.0000,  0.0000,  0.0000,  0.0000,  0.0000,  0.0000,\n",
      "          0.0000,  0.0000,  0.0000,  0.0000,  0.0000,  0.0000,  0.0000,  0.0000]],\n",
      "       device='cuda:0'), 'intervention_id': tensor([0], device='cuda:0')}, {'labels': tensor([1.], device='cuda:0'), 'base_labels': tensor([1.], device='cuda:0'), 'input_ids': tensor([-0.6681,  0.8570, -0.1073,  0.6019, -0.0185,  0.0564,  0.2699,  0.6643,\n",
      "        -0.0084, -0.1666,  0.7280,  0.5627,  0.3035,  0.2406,  0.2434,  0.6716],\n",
      "       device='cuda:0'), 'source_input_ids': tensor([[-0.5546, -0.9620, -0.1594, -0.4819, -0.2133, -0.1951, -0.4681, -0.4878,\n",
      "         -0.4609,  0.4315, -0.7368, -0.4249, -0.4609,  0.4315, -0.7368, -0.4249],\n",
      "        [ 0.0000,  0.0000,  0.0000,  0.0000,  0.0000,  0.0000,  0.0000,  0.0000,\n",
      "          0.0000,  0.0000,  0.0000,  0.0000,  0.0000,  0.0000,  0.0000,  0.0000]],\n",
      "       device='cuda:0'), 'intervention_id': tensor([0], device='cuda:0')}, {'labels': tensor([1.], device='cuda:0'), 'base_labels': tensor([0.], device='cuda:0'), 'input_ids': tensor([ 0.4860, -0.2711,  0.3922,  0.1428,  0.4860, -0.2711,  0.3922,  0.1428,\n",
      "         0.6225, -0.5578,  0.6593, -0.2521, -0.6276,  0.2455,  0.7599, -0.7156],\n",
      "       device='cuda:0'), 'source_input_ids': tensor([[-0.6778,  0.3246, -0.3342,  0.2814,  0.3892,  0.7728, -0.6180,  0.5239,\n",
      "          0.8823, -0.3031,  0.7270,  0.9504,  0.8823, -0.3031,  0.7270,  0.9504],\n",
      "        [ 0.0000,  0.0000,  0.0000,  0.0000,  0.0000,  0.0000,  0.0000,  0.0000,\n",
      "          0.0000,  0.0000,  0.0000,  0.0000,  0.0000,  0.0000,  0.0000,  0.0000]],\n",
      "       device='cuda:0'), 'intervention_id': tensor([0], device='cuda:0')}, {'labels': tensor([1.], device='cuda:0'), 'base_labels': tensor([1.], device='cuda:0'), 'input_ids': tensor([-0.6742, -0.9624, -0.5078, -0.2294, -0.6742, -0.9624, -0.5078, -0.2294,\n",
      "        -0.6514, -0.6323,  0.8226,  0.0335, -0.6514, -0.6323,  0.8226,  0.0335],\n",
      "       device='cuda:0'), 'source_input_ids': tensor([[ 0.0440, -0.4739, -0.5999,  0.6313,  0.0440, -0.4739, -0.5999,  0.6313,\n",
      "         -0.3287,  0.8161, -0.5957,  0.3168, -0.0586, -0.0991, -0.0902,  0.0878],\n",
      "        [ 0.0000,  0.0000,  0.0000,  0.0000,  0.0000,  0.0000,  0.0000,  0.0000,\n",
      "          0.0000,  0.0000,  0.0000,  0.0000,  0.0000,  0.0000,  0.0000,  0.0000]],\n",
      "       device='cuda:0'), 'intervention_id': tensor([0], device='cuda:0')}]\n"
     ]
    }
   ],
   "source": [
    "print(train_dataset[0:20])"
   ]
  },
  {
   "cell_type": "code",
   "execution_count": 58,
   "metadata": {},
   "outputs": [],
   "source": [
    "from models.interventions import VanillaIntervention, RotatedSpaceIntervention, LowRankRotatedSpaceIntervention"
   ]
  },
  {
   "cell_type": "code",
   "execution_count": 59,
   "metadata": {
    "scrolled": true
   },
   "outputs": [],
   "source": [
    "alignable_config = AlignableConfig(\n",
    "    alignable_model_type=type(trained),\n",
    "    alignable_representations=[\n",
    "        AlignableRepresentationConfig(\n",
    "            0,             # layer\n",
    "            \"block_output\", # intervention type\n",
    "            \"pos\",    # intervention unit is now aligne with tokens\n",
    "            1,                 # max number of unit\n",
    "            subspace_partition=[[0,2 * embedding_dim],[2 * embedding_dim,4 * embedding_dim]],      # binary partition with equal sizes\n",
    "            intervention_link_key=0        \n",
    "        ),\n",
    "        AlignableRepresentationConfig(\n",
    "            0,             # layer\n",
    "            \"block_output\", # intervention type\n",
    "            \"pos\",    # intervention unit is now aligne with tokens\n",
    "            1,                 # max number of unit\n",
    "            subspace_partition=[[0,2 * embedding_dim],[2 * embedding_dim,4 * embedding_dim]],# binary partition with equal sizes,\n",
    "            intervention_link_key=0\n",
    "        ),\n",
    "    ],\n",
    "    alignable_interventions_type= RotatedSpaceIntervention,\n",
    ")"
   ]
  },
  {
   "cell_type": "code",
   "execution_count": 60,
   "metadata": {},
   "outputs": [],
   "source": [
    "alignable = AlignableModel(alignable_config, trained)\n",
    "alignable.set_device(\"cuda\")\n",
    "alignable.disable_model_gradients()"
   ]
  },
  {
   "cell_type": "code",
   "execution_count": 61,
   "metadata": {},
   "outputs": [],
   "source": [
    "epochs = 24\n",
    "gradient_accumulation_steps = 1\n",
    "total_step = 0\n",
    "target_total_step = len(dataset) * epochs\n",
    "\n",
    "t_total = int(len(dataset) * epochs)\n",
    "optimizer_params = []\n",
    "for k, v in alignable.interventions.items():\n",
    "    optimizer_params += [{'params': v[0].rotate_layer.parameters()}]\n",
    "    break\n",
    "optimizer = torch.optim.Adam(\n",
    "    optimizer_params,\n",
    "    lr=0.01\n",
    ")\n",
    "\n",
    "def compute_metrics(eval_preds, eval_labels):\n",
    "    total_count = 0\n",
    "    correct_count = 0\n",
    "    for eval_pred, eval_label in zip(eval_preds, eval_labels):\n",
    "        total_count += 1\n",
    "        correct_count += (eval_pred== eval_label)\n",
    "    accuracy = float(correct_count)/float(total_count)\n",
    "    return {\"accuracy\" : accuracy}\n",
    "\n",
    "def compute_loss(outputs, labels):\n",
    "    CE = torch.nn.CrossEntropyLoss()\n",
    "    return CE(outputs, labels)\n",
    "\n",
    "def batched_random_sampler(data):\n",
    "    batch_indices = [ _ for _ in range(int(len(train_dataset)/batch_size))]\n",
    "    random.shuffle(batch_indices)\n",
    "    for b_i in batch_indices:\n",
    "        for i in range(b_i*batch_size, (b_i + 1)*batch_size):\n",
    "            yield i"
   ]
  },
  {
   "cell_type": "code",
   "execution_count": null,
   "metadata": {
    "scrolled": true
   },
   "outputs": [
    {
     "name": "stdout",
     "output_type": "stream",
     "text": [
      "intervention trainable parameters:  512\n"
     ]
    },
    {
     "name": "stderr",
     "output_type": "stream",
     "text": [
      "Epoch: 0: 200it [07:56,  8.48s/it, loss=tensor(5.5539, device='cuda:0', grad_fn=<NllLossBackward0>), acc=0.742], ?it/s]"
     ]
    },
    {
     "name": "stdout",
     "output_type": "stream",
     "text": [
      "              precision    recall  f1-score   support\n",
      "\n",
      "         0.0       0.78      0.73      0.75     32629\n",
      "         1.0       0.75      0.80      0.77     32907\n",
      "\n",
      "    accuracy                           0.76     65536\n",
      "   macro avg       0.76      0.76      0.76     65536\n",
      "weighted avg       0.76      0.76      0.76     65536\n",
      "\n"
     ]
    },
    {
     "name": "stderr",
     "output_type": "stream",
     "text": [
      "Epoch: 0: 400it [15:47,  8.52s/it, loss=tensor(5.5606, device='cuda:0', grad_fn=<NllLossBackward0>), acc=0.734]"
     ]
    },
    {
     "name": "stdout",
     "output_type": "stream",
     "text": [
      "              precision    recall  f1-score   support\n",
      "\n",
      "         0.0       0.80      0.74      0.77     32629\n",
      "         1.0       0.76      0.82      0.79     32907\n",
      "\n",
      "    accuracy                           0.78     65536\n",
      "   macro avg       0.78      0.78      0.78     65536\n",
      "weighted avg       0.78      0.78      0.78     65536\n",
      "\n"
     ]
    },
    {
     "name": "stderr",
     "output_type": "stream",
     "text": [
      "Epoch: 0: 512it [19:48,  2.32s/it, loss=tensor(6.0325, device='cuda:0', grad_fn=<NllLossBackward0>), acc=0.797]\n",
      "Epoch: 1: 88it [03:37,  8.89s/it, loss=tensor(6.3682, device='cuda:0', grad_fn=<NllLossBackward0>), acc=0.734]8.04s/it]"
     ]
    },
    {
     "name": "stdout",
     "output_type": "stream",
     "text": [
      "              precision    recall  f1-score   support\n",
      "\n",
      "         0.0       0.80      0.69      0.74     32629\n",
      "         1.0       0.73      0.83      0.78     32907\n",
      "\n",
      "    accuracy                           0.76     65536\n",
      "   macro avg       0.76      0.76      0.76     65536\n",
      "weighted avg       0.76      0.76      0.76     65536\n",
      "\n"
     ]
    },
    {
     "name": "stderr",
     "output_type": "stream",
     "text": [
      "Epoch: 1: 288it [11:51,  9.02s/it, loss=tensor(6.7773, device='cuda:0', grad_fn=<NllLossBackward0>), acc=0.727]"
     ]
    },
    {
     "name": "stdout",
     "output_type": "stream",
     "text": [
      "              precision    recall  f1-score   support\n",
      "\n",
      "         0.0       0.80      0.69      0.74     32629\n",
      "         1.0       0.73      0.82      0.77     32907\n",
      "\n",
      "    accuracy                           0.76     65536\n",
      "   macro avg       0.76      0.76      0.76     65536\n",
      "weighted avg       0.76      0.76      0.76     65536\n",
      "\n"
     ]
    },
    {
     "name": "stderr",
     "output_type": "stream",
     "text": [
      "Epoch: 1: 488it [19:59,  8.30s/it, loss=tensor(5.3218, device='cuda:0', grad_fn=<NllLossBackward0>), acc=0.781]"
     ]
    },
    {
     "name": "stdout",
     "output_type": "stream",
     "text": [
      "              precision    recall  f1-score   support\n",
      "\n",
      "         0.0       0.81      0.74      0.78     32629\n",
      "         1.0       0.77      0.83      0.80     32907\n",
      "\n",
      "    accuracy                           0.79     65536\n",
      "   macro avg       0.79      0.79      0.79     65536\n",
      "weighted avg       0.79      0.79      0.79     65536\n",
      "\n"
     ]
    },
    {
     "name": "stderr",
     "output_type": "stream",
     "text": [
      "Epoch: 1: 512it [20:51,  2.45s/it, loss=tensor(5.0007, device='cuda:0', grad_fn=<NllLossBackward0>), acc=0.797]\n",
      "Epoch: 2: 176it [07:13,  8.89s/it, loss=tensor(6.3373, device='cuda:0', grad_fn=<NllLossBackward0>), acc=0.75] .62s/it]"
     ]
    },
    {
     "name": "stdout",
     "output_type": "stream",
     "text": [
      "              precision    recall  f1-score   support\n",
      "\n",
      "         0.0       0.81      0.71      0.76     32629\n",
      "         1.0       0.75      0.84      0.79     32907\n",
      "\n",
      "    accuracy                           0.78     65536\n",
      "   macro avg       0.78      0.78      0.78     65536\n",
      "weighted avg       0.78      0.78      0.78     65536\n",
      "\n"
     ]
    },
    {
     "name": "stderr",
     "output_type": "stream",
     "text": [
      "Epoch: 2: 376it [15:31,  9.01s/it, loss=tensor(4.1417, device='cuda:0', grad_fn=<NllLossBackward0>), acc=0.836]"
     ]
    },
    {
     "name": "stdout",
     "output_type": "stream",
     "text": [
      "              precision    recall  f1-score   support\n",
      "\n",
      "         0.0       0.82      0.72      0.77     32629\n",
      "         1.0       0.75      0.84      0.80     32907\n",
      "\n",
      "    accuracy                           0.78     65536\n",
      "   macro avg       0.79      0.78      0.78     65536\n",
      "weighted avg       0.79      0.78      0.78     65536\n",
      "\n"
     ]
    },
    {
     "name": "stderr",
     "output_type": "stream",
     "text": [
      "Epoch: 2: 512it [20:32,  2.41s/it, loss=tensor(6.6379, device='cuda:0', grad_fn=<NllLossBackward0>), acc=0.656]\n",
      "Epoch: 3: 64it [02:43,  8.56s/it, loss=tensor(3.4267, device='cuda:0', grad_fn=<NllLossBackward0>), acc=0.867]8.91s/it]"
     ]
    },
    {
     "name": "stdout",
     "output_type": "stream",
     "text": [
      "              precision    recall  f1-score   support\n",
      "\n",
      "         0.0       0.83      0.71      0.76     32629\n",
      "         1.0       0.75      0.85      0.80     32907\n",
      "\n",
      "    accuracy                           0.78     65536\n",
      "   macro avg       0.79      0.78      0.78     65536\n",
      "weighted avg       0.79      0.78      0.78     65536\n",
      "\n"
     ]
    },
    {
     "name": "stderr",
     "output_type": "stream",
     "text": [
      "Epoch: 3: 264it [10:31,  8.10s/it, loss=tensor(5.4601, device='cuda:0', grad_fn=<NllLossBackward0>), acc=0.758]"
     ]
    },
    {
     "name": "stdout",
     "output_type": "stream",
     "text": [
      "              precision    recall  f1-score   support\n",
      "\n",
      "         0.0       0.79      0.71      0.75     32629\n",
      "         1.0       0.74      0.82      0.78     32907\n",
      "\n",
      "    accuracy                           0.76     65536\n",
      "   macro avg       0.77      0.76      0.76     65536\n",
      "weighted avg       0.77      0.76      0.76     65536\n",
      "\n"
     ]
    },
    {
     "name": "stderr",
     "output_type": "stream",
     "text": [
      "Epoch: 3: 464it [18:18,  8.26s/it, loss=tensor(7.3364, device='cuda:0', grad_fn=<NllLossBackward0>), acc=0.688]"
     ]
    },
    {
     "name": "stdout",
     "output_type": "stream",
     "text": [
      "              precision    recall  f1-score   support\n",
      "\n",
      "         0.0       0.79      0.73      0.76     32629\n",
      "         1.0       0.75      0.81      0.78     32907\n",
      "\n",
      "    accuracy                           0.77     65536\n",
      "   macro avg       0.77      0.77      0.77     65536\n",
      "weighted avg       0.77      0.77      0.77     65536\n",
      "\n"
     ]
    },
    {
     "name": "stderr",
     "output_type": "stream",
     "text": [
      "Epoch: 3: 512it [20:09,  2.36s/it, loss=tensor(2.6007, device='cuda:0', grad_fn=<NllLossBackward0>), acc=0.867]\n",
      "Epoch: 4: 152it [06:03,  8.73s/it, loss=tensor(6.2083, device='cuda:0', grad_fn=<NllLossBackward0>), acc=0.758].11s/it]"
     ]
    },
    {
     "name": "stdout",
     "output_type": "stream",
     "text": [
      "              precision    recall  f1-score   support\n",
      "\n",
      "         0.0       0.83      0.72      0.77     32629\n",
      "         1.0       0.76      0.85      0.80     32907\n",
      "\n",
      "    accuracy                           0.79     65536\n",
      "   macro avg       0.79      0.79      0.79     65536\n",
      "weighted avg       0.79      0.79      0.79     65536\n",
      "\n"
     ]
    },
    {
     "name": "stderr",
     "output_type": "stream",
     "text": [
      "Epoch: 4: 352it [13:51,  7.47s/it, loss=tensor(4.4998, device='cuda:0', grad_fn=<NllLossBackward0>), acc=0.828]"
     ]
    },
    {
     "name": "stdout",
     "output_type": "stream",
     "text": [
      "              precision    recall  f1-score   support\n",
      "\n",
      "         0.0       0.81      0.72      0.76     32629\n",
      "         1.0       0.75      0.84      0.79     32907\n",
      "\n",
      "    accuracy                           0.78     65536\n",
      "   macro avg       0.78      0.78      0.78     65536\n",
      "weighted avg       0.78      0.78      0.78     65536\n",
      "\n"
     ]
    },
    {
     "name": "stderr",
     "output_type": "stream",
     "text": [
      "Epoch: 4: 420it [16:31,  2.21s/it, loss=tensor(4.1269, device='cuda:0', grad_fn=<NllLossBackward0>), acc=0.828]"
     ]
    }
   ],
   "source": [
    "eval_step = 200\n",
    "alignable.model.train() # train enables drop-off but no grads\n",
    "print(\"intervention trainable parameters: \", alignable.count_parameters())\n",
    "train_iterator = trange(\n",
    "    0, int(epochs), desc=\"Epoch\"\n",
    ")\n",
    "\n",
    "for epoch in train_iterator:\n",
    "    epoch_iterator = tqdm(\n",
    "        DataLoader(train_dataset,\n",
    "                   batch_size=batch_size,\n",
    "                  sampler=batched_random_sampler(train_dataset)),\n",
    "        desc=f\"Epoch: {epoch}\", \n",
    "        position=0, \n",
    "        leave=True\n",
    "    )\n",
    "    for batch in epoch_iterator:\n",
    "        batch[\"input_ids\"] = batch[\"input_ids\"].unsqueeze(1)    \n",
    "        batch[\"source_input_ids\"] = batch[\"source_input_ids\"].unsqueeze(2) \n",
    "        batch_size = batch[\"input_ids\"].shape[0]\n",
    "        if batch[\"intervention_id\"][0] == 2:\n",
    "            _, counterfactual_outputs = alignable(\n",
    "                    {\"inputs_embeds\":batch[\"input_ids\"]},\n",
    "                    [{\"inputs_embeds\":batch[\"source_input_ids\"][:, 0]}, \n",
    "                     {\"inputs_embeds\":batch[\"source_input_ids\"][:,1]}],\n",
    "                    {\"sources->base\": ([[[0]]*batch_size, [[0]]*batch_size], [[[0]]*batch_size, [[0]]*batch_size])},\n",
    "                subspaces=[[[0]]*batch_size, [[1]]*batch_size]\n",
    "                )\n",
    "        elif batch[\"intervention_id\"][0] == 0:\n",
    "            _, counterfactual_outputs = alignable(\n",
    "                    {\"inputs_embeds\":batch[\"input_ids\"]},\n",
    "                    [{\"inputs_embeds\":batch[\"source_input_ids\"][:,0]}, None],\n",
    "                    {\"sources->base\": ([[[0]]*batch_size, None], [[[0]]*batch_size, None])},\n",
    "                    subspaces=[[[0]]*batch_size, None]\n",
    "                )\n",
    "        elif batch[\"intervention_id\"][0] == 1:\n",
    "            _, counterfactual_outputs = alignable(\n",
    "                    {\"inputs_embeds\":batch[\"input_ids\"]},\n",
    "                    [None, {\"inputs_embeds\":batch[\"source_input_ids\"][:,0]}],\n",
    "                    {\"sources->base\": ([None, [[0]]*batch_size], [None, [[0]]*batch_size])},\n",
    "                    subspaces=[None, [[1]]*batch_size]\n",
    "                )\n",
    "        eval_metrics=compute_metrics(counterfactual_outputs[0].argmax(1), batch['labels'].squeeze())\n",
    "\n",
    "        # loss and backprop\n",
    "        loss = compute_loss(\n",
    "            counterfactual_outputs[0], batch[\"labels\"].squeeze().to(torch.long)\n",
    "        )\n",
    "\n",
    "        epoch_iterator.set_postfix({'loss': loss, 'acc': eval_metrics[\"accuracy\"]})\n",
    "        \n",
    "        if gradient_accumulation_steps > 1:\n",
    "            loss = loss / gradient_accumulation_steps\n",
    "        if total_step % gradient_accumulation_steps == 0:\n",
    "                loss.backward()\n",
    "                optimizer.step()\n",
    "                alignable.set_zero_grad()\n",
    "        total_step += 1\n",
    "        \n",
    "        if total_step % eval_step == 0:\n",
    "            eval_labels = []\n",
    "            eval_preds = []\n",
    "            with torch.no_grad():\n",
    "                for batch in DataLoader(train_dataset[:4096*16], batch_size):\n",
    "                    batch[\"input_ids\"] = batch[\"input_ids\"].unsqueeze(1)    \n",
    "                    batch[\"source_input_ids\"] = batch[\"source_input_ids\"].unsqueeze(2)    \n",
    "                    if batch[\"intervention_id\"][0] == 2:\n",
    "                        _, counterfactual_outputs = alignable(\n",
    "                                {\"inputs_embeds\":batch[\"input_ids\"]},\n",
    "                                [{\"inputs_embeds\":batch[\"source_input_ids\"][:, 0]}, \n",
    "                                 {\"inputs_embeds\":batch[\"source_input_ids\"][:,1]}],\n",
    "                                {\"sources->base\": ([[[0]]*batch_size, [[0]]*batch_size], [[[0]]*batch_size, [[0]]*batch_size])},\n",
    "                            subspaces=[[[0]]*batch_size, [[1]]*batch_size]\n",
    "                            )\n",
    "                    elif batch[\"intervention_id\"][0] == 0:\n",
    "                        _, counterfactual_outputs = alignable(\n",
    "                                {\"inputs_embeds\":batch[\"input_ids\"]},\n",
    "                                [{\"inputs_embeds\":batch[\"source_input_ids\"][:,0]}, None],\n",
    "                                {\"sources->base\": ([[[0]]*batch_size, None], [[[0]]*batch_size, None])},\n",
    "                                subspaces=[[[0]]*batch_size, None]\n",
    "                            )\n",
    "                    elif batch[\"intervention_id\"][0] == 1:\n",
    "                        _, counterfactual_outputs = alignable(\n",
    "                                {\"inputs_embeds\":batch[\"input_ids\"]},\n",
    "                                [None, {\"inputs_embeds\":batch[\"source_input_ids\"][:,0]}],\n",
    "                                {\"sources->base\": ([None, [[0]]*batch_size], [None, [[0]]*batch_size])},\n",
    "                                subspaces=[None, [[1]]*batch_size]\n",
    "                            )\n",
    "                    eval_labels += [batch['labels'].squeeze()]\n",
    "                    eval_preds += [torch.argmax(counterfactual_outputs[0],dim=1)]\n",
    "            print(classification_report(torch.cat(eval_labels).cpu(), torch.cat(eval_preds).cpu()))    "
   ]
  },
  {
   "cell_type": "code",
   "execution_count": null,
   "metadata": {},
   "outputs": [],
   "source": [
    "test_dataset = test_equality_model.generate_counterfactual_dataset(n_examples,\n",
    "                                                        intervention_id,\n",
    "                                                        16,\n",
    "                                                        device = \"cuda:0\",\n",
    "                                                        sampler=equality_model.sample_input_tree_balanced)"
   ]
  },
  {
   "cell_type": "code",
   "execution_count": null,
   "metadata": {},
   "outputs": [],
   "source": [
    "eval_labels = []\n",
    "eval_preds = []\n",
    "with torch.no_grad():\n",
    "    epoch_iterator = tqdm(DataLoader(test_dataset, batch_size), desc=f\"Test\")\n",
    "    for step, batch in enumerate(epoch_iterator):\n",
    "        for k, v in batch.items():\n",
    "            if v is not None and isinstance(v, torch.Tensor):\n",
    "                batch[k] = v.to(\"cuda\")\n",
    "        batch[\"input_ids\"] = batch[\"input_ids\"].unsqueeze(1)    \n",
    "        batch[\"source_input_ids\"] = batch[\"source_input_ids\"].unsqueeze(2)    \n",
    "        if batch[\"intervention_id\"][0] == 2:\n",
    "            _, counterfactual_outputs = alignable(\n",
    "                    {\"inputs_embeds\":batch[\"input_ids\"]},\n",
    "                    [{\"inputs_embeds\":batch[\"source_input_ids\"][:, 0]}, \n",
    "                     {\"inputs_embeds\":batch[\"source_input_ids\"][:,1]}],\n",
    "                    {\"sources->base\": ([[[0]]*batch_size, [[0]]*batch_size], [[[0]]*batch_size, [[0]]*batch_size])},\n",
    "                subspaces=[[[0]]*batch_size, [[1]]*batch_size]\n",
    "                )\n",
    "        elif batch[\"intervention_id\"][0] == 0:\n",
    "            _, counterfactual_outputs = alignable(\n",
    "                    {\"inputs_embeds\":batch[\"input_ids\"]},\n",
    "                    [{\"inputs_embeds\":batch[\"source_input_ids\"][:,0]}, None],\n",
    "                    {\"sources->base\": ([[[0]]*batch_size, None], [[[0]]*batch_size, None])},\n",
    "                    subspaces=[[[0]]*batch_size, None]\n",
    "                )\n",
    "        elif batch[\"intervention_id\"][0] == 1:\n",
    "            _, counterfactual_outputs = alignable(\n",
    "                    {\"inputs_embeds\":batch[\"input_ids\"]},\n",
    "                    [None, {\"inputs_embeds\":batch[\"source_input_ids\"][:,0]}],\n",
    "                    {\"sources->base\": ([None, [[0]]*batch_size], [None, [[0]]*batch_size])},\n",
    "                    subspaces=[None, [[1]]*batch_size]\n",
    "                )\n",
    "        eval_labels += [batch['labels']]\n",
    "        eval_preds += [torch.argmax(counterfactual_outputs[0],dim=1)]\n",
    "print(classification_report(torch.cat(eval_labels).cpu(), torch.cat(eval_preds).cpu()))"
   ]
  },
  {
   "cell_type": "markdown",
   "metadata": {},
   "source": [
    "# The experiment using find_alingment()"
   ]
  },
  {
   "cell_type": "code",
   "execution_count": null,
   "metadata": {},
   "outputs": [],
   "source": [
    "def add_locations(example):\n",
    "    example[\"source_0->base.0.pos\"] = [0,1,2,3] # target the whole layer\n",
    "    example[\"source_0->base.1.pos\"] = [0,1,2,3] \n",
    "    example[\"source_1->base.0.pos\"] = [0,1,2,3] # target the whole layer\n",
    "    example[\"source_1->base.1.pos\"] = [0,1,2,3] \n",
    "    if example[\"intervention_id\"] == 0:\n",
    "        example[\"source_0->subspaces\"] = [[0]]\n",
    "    if example[\"intervention_id\"] == 1:\n",
    "        example[\"source_0->subspaces\"] = [[1]]   \n",
    "    if example[\"intervention_id\"] == 2:\n",
    "        example[\"source_0->subspaces\"] = [[0]]\n",
    "        example[\"source_1->subspaces\"] = [[1]] \n",
    "    return example\n",
    "\n",
    "for example in dataset:\n",
    "    add_locations(example)\n",
    "\n"
   ]
  },
  {
   "cell_type": "code",
   "execution_count": null,
   "metadata": {},
   "outputs": [],
   "source": [
    "def inputs_collator(inputs):\n",
    "    for k, v in inputs.items():\n",
    "        if \"subspace\" in k:\n",
    "            inputs[k] = [v]\n",
    "        elif v is not None and isinstance(v, torch.Tensor):\n",
    "            inputs[k] = v.to(\"cuda\")\n",
    "    return inputs"
   ]
  },
  {
   "cell_type": "code",
   "execution_count": null,
   "metadata": {},
   "outputs": [],
   "source": [
    "alignable.find_alignment(\n",
    "    train_dataloader=DataLoader(dataset, batch_size),\n",
    "    compute_loss=alignable.model.loss,\n",
    "    compute_metrics=classification_report,\n",
    "    inputs_collator=None\n",
    ")"
   ]
  },
  {
   "cell_type": "markdown",
   "metadata": {},
   "source": [
    "To evaluate this model, we create a fresh IIT equality dataset consisting of 100 examples:"
   ]
  },
  {
   "cell_type": "code",
   "execution_count": null,
   "metadata": {},
   "outputs": [],
   "source": [
    "data_size = 10000\n",
    "\n",
    "data = test_equality_model.generate_counterfactual_dataset(10000,\n",
    "                                                           intervention_id,\n",
    "                                                           64,\n",
    "                                                           equality_model.sample_input_tree_balanced)\n",
    "X_base_test, y_base_test, X_sources_test, y_II_test, interventions_test = data\n",
    "\n",
    "print(X_base_test.shape)\n",
    "print(y_base_test.shape)\n",
    "print(X_sources_test.shape)\n",
    "print(y_II_test.shape)\n",
    "print(interventions_test.shape)"
   ]
  },
  {
   "cell_type": "code",
   "execution_count": null,
   "metadata": {},
   "outputs": [],
   "source": [
    "base_preds_test = LIM_trainer.predict(X_base_test.cpu(),device=\"cpu\")\n",
    "\n",
    "II_preds_test = LIM_trainer.iit_predict(X_base_test.cpu(),\n",
    "                                    X_sources_test.cpu(),\n",
    "                                    interventions_test.cpu(),\n",
    "                                    id_to_coords,\n",
    "                                    device=\"cpu\")"
   ]
  },
  {
   "cell_type": "markdown",
   "metadata": {},
   "source": [
    "This IIT-trained model does well in terms of a standard behavioral tests:"
   ]
  },
  {
   "cell_type": "code",
   "execution_count": null,
   "metadata": {},
   "outputs": [],
   "source": [
    "print(classification_report(y_base_test, base_preds_test.cpu()))"
   ]
  },
  {
   "cell_type": "markdown",
   "metadata": {},
   "source": [
    "Importantly, it _also_ performs perfectly on counterfactual examples – certainly a marked improvement over the model we studied above that did no IIT:"
   ]
  },
  {
   "cell_type": "code",
   "execution_count": null,
   "metadata": {},
   "outputs": [],
   "source": [
    "print(classification_report(y_II_test, II_preds_test.cpu()))"
   ]
  },
  {
   "cell_type": "code",
   "execution_count": null,
   "metadata": {},
   "outputs": [],
   "source": []
  }
 ],
 "metadata": {
  "interpreter": {
   "hash": "933b0a94e0d88ac80a17cb26ca3d8d36930c12815b02a2885c1925c2b1ae3c33"
  },
  "kernelspec": {
   "display_name": "Python 3 (ipykernel)",
   "language": "python",
   "name": "python3"
  },
  "language_info": {
   "codemirror_mode": {
    "name": "ipython",
    "version": 3
   },
   "file_extension": ".py",
   "mimetype": "text/x-python",
   "name": "python",
   "nbconvert_exporter": "python",
   "pygments_lexer": "ipython3",
   "version": "3.9.6"
  }
 },
 "nbformat": 4,
 "nbformat_minor": 4
}
